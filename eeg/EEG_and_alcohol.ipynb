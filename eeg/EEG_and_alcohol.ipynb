{
  "nbformat": 4,
  "nbformat_minor": 0,
  "metadata": {
    "colab": {
      "provenance": [],
      "include_colab_link": true
    },
    "kernelspec": {
      "name": "python3",
      "display_name": "Python 3"
    },
    "language_info": {
      "name": "python"
    }
  },
  "cells": [
    {
      "cell_type": "markdown",
      "metadata": {
        "id": "view-in-github",
        "colab_type": "text"
      },
      "source": [
        "<a href=\"https://colab.research.google.com/github/Ekliipce/Machine-Learning-for-Biomedical/blob/pre-processing/eeg/EEG_and_alcohol.ipynb\" target=\"_parent\"><img src=\"https://colab.research.google.com/assets/colab-badge.svg\" alt=\"Open In Colab\"/></a>"
      ]
    },
    {
      "cell_type": "markdown",
      "source": [
        "# Electroencephalogram (EEG) and alcohol\n",
        "\n",
        "\n",
        "## **EEG**\n",
        "#### **What is EEG ?**\n",
        "An electroencephalogram (EEG) is a test that records the brain's electrical activity noninvasively through electrodes placed on the scalp. The procedure involves placing these electrodes that are connected by wires to a computer, which then records and analyzes the electrical impulses in the brain. EEG is used for diagnosing and managing brain-related disorders like epilepsy, monitoring brain activity during surgeries, and conducting neuroscience research.\n",
        "\n",
        "EEG patterns, consisting of different waves, are analyzed to understand normal or abnormal brain function. The procedure is safe, though preparation is required, and it might be slightly uncomfortable. EEG primarily detects activity in the brain's cortex with limited spatial resolution and can be affected by various factors like age and medication. Unlike MRI and CT scans that visualize brain structure, EEG captures real-time activity, making it a valuable tool in neuroscience and medicine.\n",
        "<br><br>\n",
        "#### **What does an EEG help diagnose?**\n",
        "\n",
        "EEG is used primarily to diagnose conditions that affect brain activity. It’s particularly useful in identifying epilepsy and other seizure disorders by capturing the electrical activity of the brain. Besides, EEG can also help diagnose or manage other conditions like sleep disorders, depth of anesthesia, coma, encephalopathies, brain death, and certain psychiatric disorders. It is often used in conjunction with other diagnostic tools to provide comprehensive insights into brain health and function.\n",
        "<br><br>\n",
        "\n",
        "#### **What factors can influence the results of an EEG?**\n",
        "\n",
        "Various factors can influence EEG results. Medications (such as sedatives, anti-epileptic drugs) can alter electrical activity in the brain, affecting the test's findings. The patient's age and overall brain development can also play a role in the results. The physical and mental state of the patient during the test, like being stressed, relaxed, asleep, or awake, can also influence the brain's electrical activity. External interference from electronic devices and not following preparatory instructions (like washing hair to ensure good electrode contact) can also impact the data quality and test outcomes.\n",
        "<br><br>\n",
        "#### **How reliable is EEG in diagnosing various brain disorders?**\n",
        "\n",
        "EEG is a reliable tool for diagnosing disorders related to abnormal brain activity, like epilepsy. However, its reliability can be influenced by the technician's skill, the patient's cooperation, and the above-mentioned factors that might affect the results. While EEG provides valuable real-time data on brain function, it might not catch intermittent or infrequent abnormalities in brain activity if they don't occur during the test. Therefore, it's often used alongside other diagnostic methods, like MRI or CT scans, to provide a more complete picture of brain health and accurate diagnosis.\n",
        "\n",
        "\n",
        "## **Brain and Alcohol**\n",
        "https://www.ncbi.nlm.nih.gov/pmc/articles/PMC6668890/ searched deeper for Alcoholism and Human Electrophysiology.\n",
        "\n",
        "Interestingly, the article suggests that the observed electrical abnormalities in the brains of alcoholics might not be a result of alcohol consumption per se, but rather a pre-existing condition, possibly serving as a risk marker for alcoholism. Some of these electrical characteristics, such as increased resting beta power and decreased active theta oscillations during cognitive tasks, have also been identified in individuals at high risk for developing alcoholism, even before any exposure to alcohol. Therefore, the text proposes that an inherent imbalance in CNS excitation and inhibition might predispose individuals to alcoholism. This imbalance is suggested to not only contribute to the risk of developing alcoholism but might also offer insights into the neurobiology of craving and relapse in alcoholism"
      ],
      "metadata": {
        "id": "6tm0yL_-1ejp"
      }
    },
    {
      "cell_type": "markdown",
      "source": [
        "## Dataset"
      ],
      "metadata": {
        "id": "_XVE5f16DIHp"
      }
    },
    {
      "cell_type": "code",
      "source": [
        "%%shell\n",
        "wget https://archive.ics.uci.edu/static/public/121/eeg+database.zip\n",
        "unzip -q eeg+database.zip\n",
        "gunzip -k eeg_full/*.gz\n",
        "for file in eeg_full/*.tar; do tar -xf $file -C eeg_full; done\n",
        "gunzip -k eeg_full/*/*.gz\n",
        "rm eeg_full/*.tar.gz eeg_full/*.tar eeg_full/*/*.gz\n",
        "mkdir train\n",
        "mkdir test"
      ],
      "metadata": {
        "id": "3LxuHT89TyvA",
        "outputId": "644ee3b8-438e-478e-9bc7-d1945e15d690",
        "colab": {
          "base_uri": "https://localhost:8080/"
        }
      },
      "execution_count": 1,
      "outputs": [
        {
          "output_type": "stream",
          "name": "stdout",
          "text": [
            "--2023-10-12 15:23:48--  https://archive.ics.uci.edu/static/public/121/eeg+database.zip\n",
            "Resolving archive.ics.uci.edu (archive.ics.uci.edu)... 128.195.10.252\n",
            "Connecting to archive.ics.uci.edu (archive.ics.uci.edu)|128.195.10.252|:443... connected.\n",
            "HTTP request sent, awaiting response... 200 OK\n",
            "Length: unspecified\n",
            "Saving to: ‘eeg+database.zip’\n",
            "\n",
            "eeg+database.zip        [            <=>     ] 762.44M  49.9MB/s    in 17s     \n",
            "\n",
            "2023-10-12 15:24:05 (44.9 MB/s) - ‘eeg+database.zip’ saved [799481741]\n",
            "\n"
          ]
        },
        {
          "output_type": "execute_result",
          "data": {
            "text/plain": []
          },
          "metadata": {},
          "execution_count": 1
        }
      ]
    },
    {
      "cell_type": "code",
      "source": [
        "!pip install -q -U mne"
      ],
      "metadata": {
        "id": "bB2LPGMs3D_Y",
        "outputId": "51fd6fa2-c6ff-4d99-8e1a-29fe84599d26",
        "colab": {
          "base_uri": "https://localhost:8080/"
        }
      },
      "execution_count": 2,
      "outputs": [
        {
          "output_type": "stream",
          "name": "stdout",
          "text": [
            "\u001b[2K     \u001b[90m━━━━━━━━━━━━━━━━━━━━━━━━━━━━━━━━━━━━━━━━\u001b[0m \u001b[32m7.7/7.7 MB\u001b[0m \u001b[31m42.2 MB/s\u001b[0m eta \u001b[36m0:00:00\u001b[0m\n",
            "\u001b[?25h"
          ]
        }
      ]
    },
    {
      "cell_type": "code",
      "source": [
        "import numpy as np\n",
        "import pandas as pd\n",
        "import matplotlib.pyplot as plt\n",
        "import re\n",
        "import mne\n",
        "import os\n",
        "\n",
        "from tqdm import tqdm\n",
        "\n",
        "\n"
      ],
      "metadata": {
        "id": "LiHjCsmKc7aN"
      },
      "execution_count": 3,
      "outputs": []
    },
    {
      "cell_type": "code",
      "source": [
        "def extract_raw_data(file):\n",
        "  with open(file) as f:\n",
        "    lines = f.readlines()\n",
        "\n",
        "    data = []\n",
        "    channel_names = []\n",
        "    is_Alcolic = lines[0][5] == 'a'\n",
        "    id_patient = int(lines[0][6:13])\n",
        "\n",
        "\n",
        "    if(len(lines)<=3):\n",
        "      return None,None,None\n",
        "\n",
        "    l3 = lines[3].split()\n",
        "    obj = l3[1]\n",
        "    trial = int(lines[4].split()[-1])\n",
        "\n",
        "\n",
        "    for line in lines[4:]:\n",
        "      line_split = line.split()\n",
        "\n",
        "      if (not line.startswith('#')):\n",
        "        values = line_split[-1]\n",
        "        data.append(values)\n",
        "      else :\n",
        "        ch_name = line_split[1]\n",
        "        channel_names.append(ch_name)\n",
        "\n",
        "    data = np.array(data, dtype=\"float\").reshape((64, -1)) * 1e-6\n",
        "    info = {\"his_id\" : id_patient,  \"is_Alcolic\" : is_Alcolic,'id': id_patient,\n",
        "            \"trial\": trial, \"obj\": obj}\n",
        "    return data, channel_names, info\n"
      ],
      "metadata": {
        "id": "ibzhKdbAc9S-"
      },
      "execution_count": 17,
      "outputs": []
    },
    {
      "cell_type": "code",
      "source": [
        "! cat /content/eeg_full/co2c1000367/co2c1000367.rd.089"
      ],
      "metadata": {
        "id": "cT6Usj_Vo6m4",
        "outputId": "99c02bf2-c826-4b3a-bc42-69eec3c74dac",
        "colab": {
          "base_uri": "https://localhost:8080/"
        }
      },
      "execution_count": 14,
      "outputs": [
        {
          "output_type": "stream",
          "name": "stdout",
          "text": [
            "# co2c1000367.rd\n",
            "# 120 trials, 64 chans, 416 samples 368 post_stim samples\n",
            "# 3.906000 msecs uV\n"
          ]
        }
      ]
    },
    {
      "cell_type": "code",
      "source": [
        "extract_raw_data('/content/eeg_full/co2c1000367/co2c1000367.rd.089')"
      ],
      "metadata": {
        "id": "mHtqlJoCoX2n",
        "outputId": "0107b6ac-d55e-4c30-d77b-0d4857ceaa06",
        "colab": {
          "base_uri": "https://localhost:8080/"
        }
      },
      "execution_count": 16,
      "outputs": [
        {
          "output_type": "stream",
          "name": "stdout",
          "text": [
            "/content/eeg_full/co2c1000367/co2c1000367.rd.089\n",
            "/content/eeg_full/co2c1000367/co2c1000367.rd.089 seems to be emmpty\n"
          ]
        },
        {
          "output_type": "execute_result",
          "data": {
            "text/plain": [
              "(None, None, None)"
            ]
          },
          "metadata": {},
          "execution_count": 16
        }
      ]
    },
    {
      "cell_type": "code",
      "source": [
        "def save_raw_files(file, save=False, train=True):\n",
        "  file_name = file.split(\"/\")[-1].replace(\".\", \"_\") + \"_eeg\"\n",
        "\n",
        "  data, ch_names, info_patient = extract_raw_data(file)\n",
        "  if(data is None):\n",
        "    return None\n",
        "  info = mne.create_info(ch_names=ch_names, sfreq=256, ch_types='eeg')\n",
        "\n",
        "  raw = mne.io.RawArray(data=data, info=info, verbose=False)\n",
        "  raw.info['subject_info'] = info_patient\n",
        "\n",
        "\n",
        "  if (save):\n",
        "    dir = \"train\" if train else \"test\"\n",
        "    raw.save(f\"{dir}/{file_name}.fif\", overwrite=True, verbose=False)\n",
        "  return raw\n",
        "\n"
      ],
      "metadata": {
        "id": "i_smK-Rh6GA6"
      },
      "execution_count": 18,
      "outputs": []
    },
    {
      "cell_type": "code",
      "source": [
        "for dir_name, subdirs, files in tqdm(list(os.walk('/content/'))):\n",
        "    for file_name in files[1:]:\n",
        "      if ((\".rd.\") in file_name):\n",
        "        current_file = os.path.join(dir_name, file_name)\n",
        "        #train = \"TRAIN\" in current_file\n",
        "        save_raw_files(current_file, save=True)\n"
      ],
      "metadata": {
        "id": "4q_y4TYH3lVi",
        "outputId": "1bd6f6f7-6f64-4cc6-aba3-b844bf55929c",
        "colab": {
          "base_uri": "https://localhost:8080/"
        }
      },
      "execution_count": 19,
      "outputs": [
        {
          "output_type": "stream",
          "name": "stderr",
          "text": [
            " 55%|█████▍    | 72/131 [04:10<03:45,  3.83s/it]"
          ]
        },
        {
          "output_type": "stream",
          "name": "stdout",
          "text": [
            "/content/eeg_full/co2c1000367/co2c1000367.rd.089 seems to be emmpty\n",
            "/content/eeg_full/co2c1000367/co2c1000367.rd.005 seems to be emmpty\n",
            "/content/eeg_full/co2c1000367/co2c1000367.rd.113 seems to be emmpty\n",
            "/content/eeg_full/co2c1000367/co2c1000367.rd.023 seems to be emmpty\n",
            "/content/eeg_full/co2c1000367/co2c1000367.rd.042 seems to be emmpty\n",
            "/content/eeg_full/co2c1000367/co2c1000367.rd.053 seems to be emmpty\n",
            "/content/eeg_full/co2c1000367/co2c1000367.rd.090 seems to be emmpty\n",
            "/content/eeg_full/co2c1000367/co2c1000367.rd.114 seems to be emmpty\n",
            "/content/eeg_full/co2c1000367/co2c1000367.rd.004 seems to be emmpty\n",
            "/content/eeg_full/co2c1000367/co2c1000367.rd.006 seems to be emmpty\n",
            "/content/eeg_full/co2c1000367/co2c1000367.rd.117 seems to be emmpty\n",
            "/content/eeg_full/co2c1000367/co2c1000367.rd.105 seems to be emmpty\n",
            "/content/eeg_full/co2c1000367/co2c1000367.rd.037 seems to be emmpty\n",
            "/content/eeg_full/co2c1000367/co2c1000367.rd.029 seems to be emmpty\n",
            "/content/eeg_full/co2c1000367/co2c1000367.rd.065 seems to be emmpty\n",
            "/content/eeg_full/co2c1000367/co2c1000367.rd.116 seems to be emmpty\n"
          ]
        },
        {
          "output_type": "stream",
          "name": "stderr",
          "text": [
            "\r 56%|█████▌    | 73/131 [04:14<03:44,  3.87s/it]"
          ]
        },
        {
          "output_type": "stream",
          "name": "stdout",
          "text": [
            "/content/eeg_full/co2c1000367/co2c1000367.rd.054 seems to be emmpty\n"
          ]
        },
        {
          "output_type": "stream",
          "name": "stderr",
          "text": [
            "100%|██████████| 131/131 [07:41<00:00,  3.52s/it]\n"
          ]
        }
      ]
    },
    {
      "cell_type": "markdown",
      "source": [
        "Create two directroies which which will contain data as csv."
      ],
      "metadata": {
        "id": "swONcjwk1onq"
      }
    },
    {
      "cell_type": "code",
      "source": [
        "! [ -e train_csv ] || mkdir train_csv\n",
        "! [ -e test_csv ] || mkdir test_csv"
      ],
      "metadata": {
        "id": "Y1bqjbbQ12XC"
      },
      "execution_count": 22,
      "outputs": []
    },
    {
      "cell_type": "markdown",
      "source": [
        "Generate a dataframe from an eeg file."
      ],
      "metadata": {
        "id": "WsoEx1xL38jF"
      }
    },
    {
      "cell_type": "code",
      "source": [
        "\n",
        "def generate_df(file,save=False,train=True,verbose=False,frequency = 256):\n",
        "  df = pd.DataFrame()\n",
        "  data, channel_names, info = extract_raw_data(file)\n",
        "  file_name = file.split(\"/\")[-1]\n",
        "  for time_series,channel in zip(data, channel_names):\n",
        "    time = np.arange(0,time_series.shape[-1])*1/time_series.shape[-1]\n",
        "    cur_df = pd.DataFrame({'value':time_series,'channel':channel,**info,'time':time})\n",
        "    if(df is None):\n",
        "      df = cur_df\n",
        "    else:\n",
        "      df = pd.concat([df,cur_df],ignore_index=True)\n",
        "  if(save):\n",
        "    dir = \"train\" if train else \"test\"\n",
        "    saving_path = f'{dir}_csv/{file_name}.csv'\n",
        "    df.to_csv(saving_path)\n",
        "  return df\n",
        "\n"
      ],
      "metadata": {
        "id": "Www8YbeZiTDk"
      },
      "execution_count": 23,
      "outputs": []
    },
    {
      "cell_type": "code",
      "source": [
        "df = generate_df('/content/SMNI_CMI_TRAIN/co2c0000338/co2c0000338.rd.014')\n",
        "df.head()"
      ],
      "metadata": {
        "id": "Usly7aDp48iq"
      },
      "execution_count": null,
      "outputs": []
    },
    {
      "cell_type": "code",
      "source": [
        "df[df['channel'] == 'Y'].plot(x='time',y='value')"
      ],
      "metadata": {
        "id": "LCkFPmv45LZC"
      },
      "execution_count": null,
      "outputs": []
    },
    {
      "cell_type": "code",
      "source": [
        "def generated_csv(content_dir:str='/content/',train=True):\n",
        "  for dir_name, subdirs, files in tqdm(list(os.walk(content_dir))):\n",
        "\n",
        "    for file_name in (files):\n",
        "      current_file = os.path.join(dir_name, file_name)\n",
        "      regex = r'.+\\.rd\\.\\d+$'\n",
        "\n",
        "      if (re.match(regex,file_name)):\n",
        "        generate_df(current_file,save=True,train=train)\n"
      ],
      "metadata": {
        "id": "VPi7F9gCrGYm"
      },
      "execution_count": null,
      "outputs": []
    },
    {
      "cell_type": "code",
      "source": [
        "for data_dir,train in zip(['SMNI_CMI_TRAIN','SMNI_CMI_TEST'],[True,False]):\n",
        "  generated_csv(data_dir,train)"
      ],
      "metadata": {
        "id": "lcox36xXzQQP"
      },
      "execution_count": null,
      "outputs": []
    },
    {
      "cell_type": "code",
      "source": [
        "content = list(os.walk('train'))\n",
        "raw = mne.io.read_raw(f\"{content[0][0]}/{content[0][2][0]}\")\n",
        "raw.plot()"
      ],
      "metadata": {
        "id": "Qvmg62-q-FrQ"
      },
      "execution_count": null,
      "outputs": []
    },
    {
      "cell_type": "code",
      "source": [
        "raw.get_data()"
      ],
      "metadata": {
        "id": "aWa-KNtHB23W"
      },
      "execution_count": null,
      "outputs": []
    },
    {
      "cell_type": "code",
      "source": [
        "from scipy.stats import skew, kurtosis\n",
        "\n",
        "def extract_features(data):\n",
        "  features_names = []\n",
        "  features = []\n",
        "  for i, channel_data in enumerate(data):\n",
        "      mean = np.mean(channel_data)\n",
        "      var = np.var(channel_data)\n",
        "      skewness = skew(channel_data)\n",
        "      kurt = kurtosis(channel_data)\n",
        "      channel_features = [mean, var, skewness, kurt]\n",
        "      channel_names = ['mean', 'var', 'skewness', 'kurt']\n",
        "\n",
        "      features.extend(channel_features)\n",
        "      features_names.extend(list(map(lambda x : x + f\"_{i}\", channel_names)))\n",
        "\n",
        "  return features, features_names\n"
      ],
      "metadata": {
        "id": "-SQPNs3ICvFY"
      },
      "execution_count": 24,
      "outputs": []
    },
    {
      "cell_type": "code",
      "source": [
        "def create_df(dir):\n",
        "  df_data = []\n",
        "  for dir, subdir, files in tqdm(list(os.walk(dir))):\n",
        "    for f in files[1:]:\n",
        "      data, ch_names, info= extract_raw_data(f\"/content/{dir}/{f}\")\n",
        "      features, features_names = extract_features(data)\n",
        "      features.extend([info['obj'], info['is_Alcolic']])\n",
        "      df_data.append(features)\n",
        "  features_names.extend(['obj', 'alcoholic'])\n",
        "  return pd.DataFrame(df_data, columns=features_names)\n",
        "\n",
        "df_train = create_df(\"eeg_full\")\n",
        "#df_test = create_df(\"SMNI_CMI_TEST\")\n",
        "df_train.head()"
      ],
      "metadata": {
        "colab": {
          "base_uri": "https://localhost:8080/",
          "height": 414
        },
        "id": "BofcE9rUX8xj",
        "outputId": "ce19d47d-4f73-4f76-b74a-90a0bbed3661"
      },
      "execution_count": 26,
      "outputs": [
        {
          "output_type": "stream",
          "name": "stderr",
          "text": [
            " 35%|███▍      | 43/123 [07:30<13:58, 10.48s/it]\n"
          ]
        },
        {
          "output_type": "error",
          "ename": "KeyboardInterrupt",
          "evalue": "ignored",
          "traceback": [
            "\u001b[0;31m---------------------------------------------------------------------------\u001b[0m",
            "\u001b[0;31mKeyboardInterrupt\u001b[0m                         Traceback (most recent call last)",
            "\u001b[0;32m<ipython-input-26-da10f27816b4>\u001b[0m in \u001b[0;36m<cell line: 12>\u001b[0;34m()\u001b[0m\n\u001b[1;32m     10\u001b[0m   \u001b[0;32mreturn\u001b[0m \u001b[0mpd\u001b[0m\u001b[0;34m.\u001b[0m\u001b[0mDataFrame\u001b[0m\u001b[0;34m(\u001b[0m\u001b[0mdf_data\u001b[0m\u001b[0;34m,\u001b[0m \u001b[0mcolumns\u001b[0m\u001b[0;34m=\u001b[0m\u001b[0mfeatures_names\u001b[0m\u001b[0;34m)\u001b[0m\u001b[0;34m\u001b[0m\u001b[0;34m\u001b[0m\u001b[0m\n\u001b[1;32m     11\u001b[0m \u001b[0;34m\u001b[0m\u001b[0m\n\u001b[0;32m---> 12\u001b[0;31m \u001b[0mdf_train\u001b[0m \u001b[0;34m=\u001b[0m \u001b[0mcreate_df\u001b[0m\u001b[0;34m(\u001b[0m\u001b[0;34m\"eeg_full\"\u001b[0m\u001b[0;34m)\u001b[0m\u001b[0;34m\u001b[0m\u001b[0;34m\u001b[0m\u001b[0m\n\u001b[0m\u001b[1;32m     13\u001b[0m \u001b[0;31m#df_test = create_df(\"SMNI_CMI_TEST\")\u001b[0m\u001b[0;34m\u001b[0m\u001b[0;34m\u001b[0m\u001b[0m\n\u001b[1;32m     14\u001b[0m \u001b[0mdf_train\u001b[0m\u001b[0;34m.\u001b[0m\u001b[0mhead\u001b[0m\u001b[0;34m(\u001b[0m\u001b[0;34m)\u001b[0m\u001b[0;34m\u001b[0m\u001b[0;34m\u001b[0m\u001b[0m\n",
            "\u001b[0;32m<ipython-input-26-da10f27816b4>\u001b[0m in \u001b[0;36mcreate_df\u001b[0;34m(dir)\u001b[0m\n\u001b[1;32m      4\u001b[0m     \u001b[0;32mfor\u001b[0m \u001b[0mf\u001b[0m \u001b[0;32min\u001b[0m \u001b[0mfiles\u001b[0m\u001b[0;34m[\u001b[0m\u001b[0;36m1\u001b[0m\u001b[0;34m:\u001b[0m\u001b[0;34m]\u001b[0m\u001b[0;34m:\u001b[0m\u001b[0;34m\u001b[0m\u001b[0;34m\u001b[0m\u001b[0m\n\u001b[1;32m      5\u001b[0m       \u001b[0mdata\u001b[0m\u001b[0;34m,\u001b[0m \u001b[0mch_names\u001b[0m\u001b[0;34m,\u001b[0m \u001b[0minfo\u001b[0m\u001b[0;34m=\u001b[0m \u001b[0mextract_raw_data\u001b[0m\u001b[0;34m(\u001b[0m\u001b[0;34mf\"/content/{dir}/{f}\"\u001b[0m\u001b[0;34m)\u001b[0m\u001b[0;34m\u001b[0m\u001b[0;34m\u001b[0m\u001b[0m\n\u001b[0;32m----> 6\u001b[0;31m       \u001b[0mfeatures\u001b[0m\u001b[0;34m,\u001b[0m \u001b[0mfeatures_names\u001b[0m \u001b[0;34m=\u001b[0m \u001b[0mextract_features\u001b[0m\u001b[0;34m(\u001b[0m\u001b[0mdata\u001b[0m\u001b[0;34m)\u001b[0m\u001b[0;34m\u001b[0m\u001b[0;34m\u001b[0m\u001b[0m\n\u001b[0m\u001b[1;32m      7\u001b[0m       \u001b[0mfeatures\u001b[0m\u001b[0;34m.\u001b[0m\u001b[0mextend\u001b[0m\u001b[0;34m(\u001b[0m\u001b[0;34m[\u001b[0m\u001b[0minfo\u001b[0m\u001b[0;34m[\u001b[0m\u001b[0;34m'obj'\u001b[0m\u001b[0;34m]\u001b[0m\u001b[0;34m,\u001b[0m \u001b[0minfo\u001b[0m\u001b[0;34m[\u001b[0m\u001b[0;34m'is_Alcolic'\u001b[0m\u001b[0;34m]\u001b[0m\u001b[0;34m]\u001b[0m\u001b[0;34m)\u001b[0m\u001b[0;34m\u001b[0m\u001b[0;34m\u001b[0m\u001b[0m\n\u001b[1;32m      8\u001b[0m       \u001b[0mdf_data\u001b[0m\u001b[0;34m.\u001b[0m\u001b[0mappend\u001b[0m\u001b[0;34m(\u001b[0m\u001b[0mfeatures\u001b[0m\u001b[0;34m)\u001b[0m\u001b[0;34m\u001b[0m\u001b[0;34m\u001b[0m\u001b[0m\n",
            "\u001b[0;32m<ipython-input-24-3f0cf2f35f64>\u001b[0m in \u001b[0;36mextract_features\u001b[0;34m(data)\u001b[0m\n\u001b[1;32m      8\u001b[0m       \u001b[0mvar\u001b[0m \u001b[0;34m=\u001b[0m \u001b[0mnp\u001b[0m\u001b[0;34m.\u001b[0m\u001b[0mvar\u001b[0m\u001b[0;34m(\u001b[0m\u001b[0mchannel_data\u001b[0m\u001b[0;34m)\u001b[0m\u001b[0;34m\u001b[0m\u001b[0;34m\u001b[0m\u001b[0m\n\u001b[1;32m      9\u001b[0m       \u001b[0mskewness\u001b[0m \u001b[0;34m=\u001b[0m \u001b[0mskew\u001b[0m\u001b[0;34m(\u001b[0m\u001b[0mchannel_data\u001b[0m\u001b[0;34m)\u001b[0m\u001b[0;34m\u001b[0m\u001b[0;34m\u001b[0m\u001b[0m\n\u001b[0;32m---> 10\u001b[0;31m       \u001b[0mkurt\u001b[0m \u001b[0;34m=\u001b[0m \u001b[0mkurtosis\u001b[0m\u001b[0;34m(\u001b[0m\u001b[0mchannel_data\u001b[0m\u001b[0;34m)\u001b[0m\u001b[0;34m\u001b[0m\u001b[0;34m\u001b[0m\u001b[0m\n\u001b[0m\u001b[1;32m     11\u001b[0m       \u001b[0mchannel_features\u001b[0m \u001b[0;34m=\u001b[0m \u001b[0;34m[\u001b[0m\u001b[0mmean\u001b[0m\u001b[0;34m,\u001b[0m \u001b[0mvar\u001b[0m\u001b[0;34m,\u001b[0m \u001b[0mskewness\u001b[0m\u001b[0;34m,\u001b[0m \u001b[0mkurt\u001b[0m\u001b[0;34m]\u001b[0m\u001b[0;34m\u001b[0m\u001b[0;34m\u001b[0m\u001b[0m\n\u001b[1;32m     12\u001b[0m       \u001b[0mchannel_names\u001b[0m \u001b[0;34m=\u001b[0m \u001b[0;34m[\u001b[0m\u001b[0;34m'mean'\u001b[0m\u001b[0;34m,\u001b[0m \u001b[0;34m'var'\u001b[0m\u001b[0;34m,\u001b[0m \u001b[0;34m'skewness'\u001b[0m\u001b[0;34m,\u001b[0m \u001b[0;34m'kurt'\u001b[0m\u001b[0;34m]\u001b[0m\u001b[0;34m\u001b[0m\u001b[0;34m\u001b[0m\u001b[0m\n",
            "\u001b[0;32m/usr/local/lib/python3.10/dist-packages/scipy/stats/_axis_nan_policy.py\u001b[0m in \u001b[0;36maxis_nan_policy_wrapper\u001b[0;34m(***failed resolving arguments***)\u001b[0m\n\u001b[1;32m    474\u001b[0m                 \u001b[0msamples\u001b[0m \u001b[0;34m=\u001b[0m \u001b[0;34m[\u001b[0m\u001b[0mnp\u001b[0m\u001b[0;34m.\u001b[0m\u001b[0masarray\u001b[0m\u001b[0;34m(\u001b[0m\u001b[0msample\u001b[0m\u001b[0;34m.\u001b[0m\u001b[0mravel\u001b[0m\u001b[0;34m(\u001b[0m\u001b[0;34m)\u001b[0m\u001b[0;34m)\u001b[0m \u001b[0;32mfor\u001b[0m \u001b[0msample\u001b[0m \u001b[0;32min\u001b[0m \u001b[0msamples\u001b[0m\u001b[0;34m]\u001b[0m\u001b[0;34m\u001b[0m\u001b[0;34m\u001b[0m\u001b[0m\n\u001b[1;32m    475\u001b[0m             \u001b[0;32melse\u001b[0m\u001b[0;34m:\u001b[0m\u001b[0;34m\u001b[0m\u001b[0;34m\u001b[0m\u001b[0m\n\u001b[0;32m--> 476\u001b[0;31m                 \u001b[0msamples\u001b[0m \u001b[0;34m=\u001b[0m \u001b[0m_broadcast_arrays\u001b[0m\u001b[0;34m(\u001b[0m\u001b[0msamples\u001b[0m\u001b[0;34m,\u001b[0m \u001b[0maxis\u001b[0m\u001b[0;34m=\u001b[0m\u001b[0maxis\u001b[0m\u001b[0;34m)\u001b[0m\u001b[0;34m\u001b[0m\u001b[0;34m\u001b[0m\u001b[0m\n\u001b[0m\u001b[1;32m    477\u001b[0m                 \u001b[0maxis\u001b[0m \u001b[0;34m=\u001b[0m \u001b[0mnp\u001b[0m\u001b[0;34m.\u001b[0m\u001b[0matleast_1d\u001b[0m\u001b[0;34m(\u001b[0m\u001b[0maxis\u001b[0m\u001b[0;34m)\u001b[0m\u001b[0;34m\u001b[0m\u001b[0;34m\u001b[0m\u001b[0m\n\u001b[1;32m    478\u001b[0m                 \u001b[0mn_axes\u001b[0m \u001b[0;34m=\u001b[0m \u001b[0mlen\u001b[0m\u001b[0;34m(\u001b[0m\u001b[0maxis\u001b[0m\u001b[0;34m)\u001b[0m\u001b[0;34m\u001b[0m\u001b[0;34m\u001b[0m\u001b[0m\n",
            "\u001b[0;32m/usr/local/lib/python3.10/dist-packages/scipy/stats/_axis_nan_policy.py\u001b[0m in \u001b[0;36m_broadcast_arrays\u001b[0;34m(arrays, axis)\u001b[0m\n\u001b[1;32m     16\u001b[0m     \u001b[0mBroadcast\u001b[0m \u001b[0mshapes\u001b[0m \u001b[0mof\u001b[0m \u001b[0marrays\u001b[0m\u001b[0;34m,\u001b[0m \u001b[0mignoring\u001b[0m \u001b[0mincompatibility\u001b[0m \u001b[0mof\u001b[0m \u001b[0mspecified\u001b[0m \u001b[0maxes\u001b[0m\u001b[0;34m\u001b[0m\u001b[0;34m\u001b[0m\u001b[0m\n\u001b[1;32m     17\u001b[0m     \"\"\"\n\u001b[0;32m---> 18\u001b[0;31m     \u001b[0mnew_shapes\u001b[0m \u001b[0;34m=\u001b[0m \u001b[0m_broadcast_array_shapes\u001b[0m\u001b[0;34m(\u001b[0m\u001b[0marrays\u001b[0m\u001b[0;34m,\u001b[0m \u001b[0maxis\u001b[0m\u001b[0;34m=\u001b[0m\u001b[0maxis\u001b[0m\u001b[0;34m)\u001b[0m\u001b[0;34m\u001b[0m\u001b[0;34m\u001b[0m\u001b[0m\n\u001b[0m\u001b[1;32m     19\u001b[0m     \u001b[0;32mif\u001b[0m \u001b[0maxis\u001b[0m \u001b[0;32mis\u001b[0m \u001b[0;32mNone\u001b[0m\u001b[0;34m:\u001b[0m\u001b[0;34m\u001b[0m\u001b[0;34m\u001b[0m\u001b[0m\n\u001b[1;32m     20\u001b[0m         \u001b[0mnew_shapes\u001b[0m \u001b[0;34m=\u001b[0m \u001b[0;34m[\u001b[0m\u001b[0mnew_shapes\u001b[0m\u001b[0;34m]\u001b[0m\u001b[0;34m*\u001b[0m\u001b[0mlen\u001b[0m\u001b[0;34m(\u001b[0m\u001b[0marrays\u001b[0m\u001b[0;34m)\u001b[0m\u001b[0;34m\u001b[0m\u001b[0;34m\u001b[0m\u001b[0m\n",
            "\u001b[0;32m/usr/local/lib/python3.10/dist-packages/scipy/stats/_axis_nan_policy.py\u001b[0m in \u001b[0;36m_broadcast_array_shapes\u001b[0;34m(arrays, axis)\u001b[0m\n\u001b[1;32m     28\u001b[0m     \"\"\"\n\u001b[1;32m     29\u001b[0m     \u001b[0mshapes\u001b[0m \u001b[0;34m=\u001b[0m \u001b[0;34m[\u001b[0m\u001b[0mnp\u001b[0m\u001b[0;34m.\u001b[0m\u001b[0masarray\u001b[0m\u001b[0;34m(\u001b[0m\u001b[0marr\u001b[0m\u001b[0;34m)\u001b[0m\u001b[0;34m.\u001b[0m\u001b[0mshape\u001b[0m \u001b[0;32mfor\u001b[0m \u001b[0marr\u001b[0m \u001b[0;32min\u001b[0m \u001b[0marrays\u001b[0m\u001b[0;34m]\u001b[0m\u001b[0;34m\u001b[0m\u001b[0;34m\u001b[0m\u001b[0m\n\u001b[0;32m---> 30\u001b[0;31m     \u001b[0;32mreturn\u001b[0m \u001b[0m_broadcast_shapes\u001b[0m\u001b[0;34m(\u001b[0m\u001b[0mshapes\u001b[0m\u001b[0;34m,\u001b[0m \u001b[0maxis\u001b[0m\u001b[0;34m)\u001b[0m\u001b[0;34m\u001b[0m\u001b[0;34m\u001b[0m\u001b[0m\n\u001b[0m\u001b[1;32m     31\u001b[0m \u001b[0;34m\u001b[0m\u001b[0m\n\u001b[1;32m     32\u001b[0m \u001b[0;34m\u001b[0m\u001b[0m\n",
            "\u001b[0;32m/usr/local/lib/python3.10/dist-packages/scipy/stats/_axis_nan_policy.py\u001b[0m in \u001b[0;36m_broadcast_shapes\u001b[0;34m(shapes, axis)\u001b[0m\n\u001b[1;32m     84\u001b[0m         \u001b[0;31m# Add back the shape elements that were ignored\u001b[0m\u001b[0;34m\u001b[0m\u001b[0;34m\u001b[0m\u001b[0m\n\u001b[1;32m     85\u001b[0m         \u001b[0mnew_axis\u001b[0m \u001b[0;34m=\u001b[0m \u001b[0maxis\u001b[0m \u001b[0;34m-\u001b[0m \u001b[0mnp\u001b[0m\u001b[0;34m.\u001b[0m\u001b[0marange\u001b[0m\u001b[0;34m(\u001b[0m\u001b[0mlen\u001b[0m\u001b[0;34m(\u001b[0m\u001b[0maxis\u001b[0m\u001b[0;34m)\u001b[0m\u001b[0;34m)\u001b[0m\u001b[0;34m\u001b[0m\u001b[0;34m\u001b[0m\u001b[0m\n\u001b[0;32m---> 86\u001b[0;31m         new_shapes = [tuple(np.insert(new_shape, new_axis, removed_shape))\n\u001b[0m\u001b[1;32m     87\u001b[0m                       for removed_shape in removed_shapes]\n\u001b[1;32m     88\u001b[0m         \u001b[0;32mreturn\u001b[0m \u001b[0mnew_shapes\u001b[0m\u001b[0;34m\u001b[0m\u001b[0;34m\u001b[0m\u001b[0m\n",
            "\u001b[0;32m/usr/local/lib/python3.10/dist-packages/scipy/stats/_axis_nan_policy.py\u001b[0m in \u001b[0;36m<listcomp>\u001b[0;34m(.0)\u001b[0m\n\u001b[1;32m     84\u001b[0m         \u001b[0;31m# Add back the shape elements that were ignored\u001b[0m\u001b[0;34m\u001b[0m\u001b[0;34m\u001b[0m\u001b[0m\n\u001b[1;32m     85\u001b[0m         \u001b[0mnew_axis\u001b[0m \u001b[0;34m=\u001b[0m \u001b[0maxis\u001b[0m \u001b[0;34m-\u001b[0m \u001b[0mnp\u001b[0m\u001b[0;34m.\u001b[0m\u001b[0marange\u001b[0m\u001b[0;34m(\u001b[0m\u001b[0mlen\u001b[0m\u001b[0;34m(\u001b[0m\u001b[0maxis\u001b[0m\u001b[0;34m)\u001b[0m\u001b[0;34m)\u001b[0m\u001b[0;34m\u001b[0m\u001b[0;34m\u001b[0m\u001b[0m\n\u001b[0;32m---> 86\u001b[0;31m         new_shapes = [tuple(np.insert(new_shape, new_axis, removed_shape))\n\u001b[0m\u001b[1;32m     87\u001b[0m                       for removed_shape in removed_shapes]\n\u001b[1;32m     88\u001b[0m         \u001b[0;32mreturn\u001b[0m \u001b[0mnew_shapes\u001b[0m\u001b[0;34m\u001b[0m\u001b[0;34m\u001b[0m\u001b[0m\n",
            "\u001b[0;32m/usr/local/lib/python3.10/dist-packages/numpy/core/overrides.py\u001b[0m in \u001b[0;36minsert\u001b[0;34m(*args, **kwargs)\u001b[0m\n",
            "\u001b[0;32m/usr/local/lib/python3.10/dist-packages/numpy/lib/function_base.py\u001b[0m in \u001b[0;36minsert\u001b[0;34m(arr, obj, values, axis)\u001b[0m\n\u001b[1;32m   5350\u001b[0m         \u001b[0mslobj\u001b[0m\u001b[0;34m[\u001b[0m\u001b[0maxis\u001b[0m\u001b[0;34m]\u001b[0m \u001b[0;34m=\u001b[0m \u001b[0mslice\u001b[0m\u001b[0;34m(\u001b[0m\u001b[0mindex\u001b[0m\u001b[0;34m,\u001b[0m \u001b[0mindex\u001b[0m\u001b[0;34m+\u001b[0m\u001b[0mnumnew\u001b[0m\u001b[0;34m)\u001b[0m\u001b[0;34m\u001b[0m\u001b[0;34m\u001b[0m\u001b[0m\n\u001b[1;32m   5351\u001b[0m         \u001b[0mnew\u001b[0m\u001b[0;34m[\u001b[0m\u001b[0mtuple\u001b[0m\u001b[0;34m(\u001b[0m\u001b[0mslobj\u001b[0m\u001b[0;34m)\u001b[0m\u001b[0;34m]\u001b[0m \u001b[0;34m=\u001b[0m \u001b[0mvalues\u001b[0m\u001b[0;34m\u001b[0m\u001b[0;34m\u001b[0m\u001b[0m\n\u001b[0;32m-> 5352\u001b[0;31m         \u001b[0mslobj\u001b[0m\u001b[0;34m[\u001b[0m\u001b[0maxis\u001b[0m\u001b[0;34m]\u001b[0m \u001b[0;34m=\u001b[0m \u001b[0mslice\u001b[0m\u001b[0;34m(\u001b[0m\u001b[0mindex\u001b[0m\u001b[0;34m+\u001b[0m\u001b[0mnumnew\u001b[0m\u001b[0;34m,\u001b[0m \u001b[0;32mNone\u001b[0m\u001b[0;34m)\u001b[0m\u001b[0;34m\u001b[0m\u001b[0;34m\u001b[0m\u001b[0m\n\u001b[0m\u001b[1;32m   5353\u001b[0m         \u001b[0mslobj2\u001b[0m \u001b[0;34m=\u001b[0m \u001b[0;34m[\u001b[0m\u001b[0mslice\u001b[0m\u001b[0;34m(\u001b[0m\u001b[0;32mNone\u001b[0m\u001b[0;34m)\u001b[0m\u001b[0;34m]\u001b[0m \u001b[0;34m*\u001b[0m \u001b[0mndim\u001b[0m\u001b[0;34m\u001b[0m\u001b[0;34m\u001b[0m\u001b[0m\n\u001b[1;32m   5354\u001b[0m         \u001b[0mslobj2\u001b[0m\u001b[0;34m[\u001b[0m\u001b[0maxis\u001b[0m\u001b[0;34m]\u001b[0m \u001b[0;34m=\u001b[0m \u001b[0mslice\u001b[0m\u001b[0;34m(\u001b[0m\u001b[0mindex\u001b[0m\u001b[0;34m,\u001b[0m \u001b[0;32mNone\u001b[0m\u001b[0;34m)\u001b[0m\u001b[0;34m\u001b[0m\u001b[0;34m\u001b[0m\u001b[0m\n",
            "\u001b[0;31mKeyboardInterrupt\u001b[0m: "
          ]
        }
      ]
    },
    {
      "cell_type": "code",
      "source": [
        "import torch\n",
        "from torch.utils.data import Dataset"
      ],
      "metadata": {
        "id": "8lP_SbMTwpD-"
      },
      "execution_count": 21,
      "outputs": []
    },
    {
      "cell_type": "code",
      "source": [
        "def create_ds(dir):\n",
        "  df_data = []\n",
        "  for dir, subdir, files in tqdm(list(os.walk(dir))):\n",
        "    for f in files[1:]:\n",
        "      data, ch_names, info= extract_raw_data(f\"/content/{dir}/{f}\")\n",
        "      features, features_names = extract_features(data)\n",
        "      features.extend([info['obj'], info['is_Alcolic']])\n",
        "      df_data.append(features)\n",
        "  features_names.extend(['obj', 'alcoholic'])"
      ],
      "metadata": {
        "id": "fM2c-6ykvNwT"
      },
      "execution_count": null,
      "outputs": []
    },
    {
      "cell_type": "code",
      "source": [
        "df_train.shape, df_test.shape"
      ],
      "metadata": {
        "id": "B59F9Ilhihn2"
      },
      "execution_count": null,
      "outputs": []
    },
    {
      "cell_type": "code",
      "source": [
        "def preprocess(df):\n",
        "  dummies = pd.get_dummies(df['obj'])\n",
        "  df = df.drop(columns=\"obj\")\n",
        "  df = pd.concat([df, dummies], axis=1)\n",
        "  df['alcoholic'] = df['alcoholic'].replace({True: 1, False: 0}).astype(int)\n",
        "\n",
        "  return df.dropna()\n",
        "\n",
        "df_train = preprocess(df_train)\n",
        "df_test = preprocess(df_test)\n",
        "df_train.head()"
      ],
      "metadata": {
        "id": "U6lztjq2nlFE"
      },
      "execution_count": null,
      "outputs": []
    },
    {
      "cell_type": "code",
      "source": [
        "plt.hist(df_train['alcoholic'], alpha=0.7, edgecolor=\"k\")\n",
        "plt.title(\"Dataframe histogramme\")\n",
        "plt.ylabel(\"Count\")\n",
        "plt.xticks([0, 1], ['Control', 'Alcoholic'])\n",
        "plt.show()"
      ],
      "metadata": {
        "id": "rI6cCz1OxwcY"
      },
      "execution_count": null,
      "outputs": []
    },
    {
      "cell_type": "code",
      "source": [
        "from sklearn.preprocessing import MinMaxScaler\n",
        "\n",
        "scaler = MinMaxScaler()\n",
        "scaler.fit(df_train)\n",
        "scaled = scaler.transform(df_train)\n",
        "scaled_test = scaler.transform(df_test )\n",
        "\n",
        "df_train_scaled = pd.DataFrame(scaled, columns=df_train.columns)\n",
        "df_test_scaled = pd.DataFrame(scaled, columns=df_train.columns)\n",
        "df_train_scaled.head()"
      ],
      "metadata": {
        "id": "ZYNQJfJQuvyL"
      },
      "execution_count": null,
      "outputs": []
    },
    {
      "cell_type": "code",
      "source": [
        "from sklearn.svm import SVR\n",
        "\n",
        "\n",
        "X_train, y_train = df_train_scaled.loc[:, df_train_scaled.columns != 'alcoholic'], df_train_scaled['alcoholic']\n",
        "X_test, y_test = df_test_scaled.loc[:, df_test_scaled.columns != 'alcoholic'], df_test_scaled['alcoholic']\n",
        "regr = SVR(C=1.0, epsilon=0.2)\n",
        "regr.fit(X_train, y_train)"
      ],
      "metadata": {
        "id": "xwO7PpHF1xpc"
      },
      "execution_count": null,
      "outputs": []
    },
    {
      "cell_type": "code",
      "source": [
        "from sklearn.metrics import accuracy_score\n",
        "\n",
        "accuracy_score(regr.predict(X_test).astype(int), y_test.astype(int))"
      ],
      "metadata": {
        "id": "kMZi5qpr8B3J"
      },
      "execution_count": null,
      "outputs": []
    },
    {
      "cell_type": "code",
      "source": [],
      "metadata": {
        "id": "W9qfuzoC8QYG"
      },
      "execution_count": null,
      "outputs": []
    }
  ]
}