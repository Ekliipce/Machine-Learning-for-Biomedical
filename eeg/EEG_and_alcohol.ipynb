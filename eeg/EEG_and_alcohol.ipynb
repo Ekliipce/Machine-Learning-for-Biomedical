{
  "nbformat": 4,
  "nbformat_minor": 0,
  "metadata": {
    "colab": {
      "provenance": [],
      "authorship_tag": "ABX9TyMSj4g/dT95Rd+XMW8e+a4H",
      "include_colab_link": true
    },
    "kernelspec": {
      "name": "python3",
      "display_name": "Python 3"
    },
    "language_info": {
      "name": "python"
    }
  },
  "cells": [
    {
      "cell_type": "markdown",
      "metadata": {
        "id": "view-in-github",
        "colab_type": "text"
      },
      "source": [
        "<a href=\"https://colab.research.google.com/github/Ekliipce/Machine-Learning-for-Biomedical/blob/main/eeg/EEG_and_alcohol.ipynb\" target=\"_parent\"><img src=\"https://colab.research.google.com/assets/colab-badge.svg\" alt=\"Open In Colab\"/></a>"
      ]
    },
    {
      "cell_type": "markdown",
      "source": [
        "# Electroencephalogram (EEG) and alcohol\n",
        "\n",
        "\n",
        "## **EEG**\n",
        "#### **What is EEG ?**\n",
        "An electroencephalogram (EEG) is a test that records the brain's electrical activity noninvasively through electrodes placed on the scalp. The procedure involves placing these electrodes that are connected by wires to a computer, which then records and analyzes the electrical impulses in the brain. EEG is used for diagnosing and managing brain-related disorders like epilepsy, monitoring brain activity during surgeries, and conducting neuroscience research.\n",
        "\n",
        "EEG patterns, consisting of different waves, are analyzed to understand normal or abnormal brain function. The procedure is safe, though preparation is required, and it might be slightly uncomfortable. EEG primarily detects activity in the brain's cortex with limited spatial resolution and can be affected by various factors like age and medication. Unlike MRI and CT scans that visualize brain structure, EEG captures real-time activity, making it a valuable tool in neuroscience and medicine.\n",
        "<br><br>\n",
        "#### **What does an EEG help diagnose?**\n",
        "\n",
        "EEG is used primarily to diagnose conditions that affect brain activity. It’s particularly useful in identifying epilepsy and other seizure disorders by capturing the electrical activity of the brain. Besides, EEG can also help diagnose or manage other conditions like sleep disorders, depth of anesthesia, coma, encephalopathies, brain death, and certain psychiatric disorders. It is often used in conjunction with other diagnostic tools to provide comprehensive insights into brain health and function.\n",
        "<br><br>\n",
        "\n",
        "#### **What factors can influence the results of an EEG?**\n",
        "\n",
        "Various factors can influence EEG results. Medications (such as sedatives, anti-epileptic drugs) can alter electrical activity in the brain, affecting the test's findings. The patient's age and overall brain development can also play a role in the results. The physical and mental state of the patient during the test, like being stressed, relaxed, asleep, or awake, can also influence the brain's electrical activity. External interference from electronic devices and not following preparatory instructions (like washing hair to ensure good electrode contact) can also impact the data quality and test outcomes.\n",
        "<br><br>\n",
        "#### **How reliable is EEG in diagnosing various brain disorders?**\n",
        "\n",
        "EEG is a reliable tool for diagnosing disorders related to abnormal brain activity, like epilepsy. However, its reliability can be influenced by the technician's skill, the patient's cooperation, and the above-mentioned factors that might affect the results. While EEG provides valuable real-time data on brain function, it might not catch intermittent or infrequent abnormalities in brain activity if they don't occur during the test. Therefore, it's often used alongside other diagnostic methods, like MRI or CT scans, to provide a more complete picture of brain health and accurate diagnosis.\n",
        "\n",
        "\n",
        "## **Brain and Alcohol**\n",
        "https://www.ncbi.nlm.nih.gov/pmc/articles/PMC6668890/ searched deeper for Alcoholism and Human Electrophysiology.\n",
        "\n",
        "Interestingly, the article suggests that the observed electrical abnormalities in the brains of alcoholics might not be a result of alcohol consumption per se, but rather a pre-existing condition, possibly serving as a risk marker for alcoholism. Some of these electrical characteristics, such as increased resting beta power and decreased active theta oscillations during cognitive tasks, have also been identified in individuals at high risk for developing alcoholism, even before any exposure to alcohol. Therefore, the text proposes that an inherent imbalance in CNS excitation and inhibition might predispose individuals to alcoholism. This imbalance is suggested to not only contribute to the risk of developing alcoholism but might also offer insights into the neurobiology of craving and relapse in alcoholism"
      ],
      "metadata": {
        "id": "6tm0yL_-1ejp"
      }
    },
    {
      "cell_type": "markdown",
      "source": [
        "## Dataset"
      ],
      "metadata": {
        "id": "_XVE5f16DIHp"
      }
    },
    {
      "cell_type": "code",
      "source": [
        "!wget https://archive.ics.uci.edu/static/public/121/eeg+database.zip\n",
        "!unzip eeg+database.zip\n",
        "!tar -xf SMNI_CMI_TEST.tar.gz\n",
        "!tar -xf SMNI_CMI_TRAIN.tar.gz\n",
        "!gunzip -k SMNI_CMI_*/*/*.gz\n",
        "!rm SMNI_CMI_*/*/*.gz\n",
        "!mkdir train\n",
        "!mkdir test"
      ],
      "metadata": {
        "id": "ALiEZgpwFTnv",
        "outputId": "dac39f5d-c1aa-46ce-f427-fc290e82a293",
        "colab": {
          "base_uri": "https://localhost:8080/"
        }
      },
      "execution_count": 1,
      "outputs": [
        {
          "output_type": "stream",
          "name": "stdout",
          "text": [
            "--2023-10-06 14:46:54--  https://archive.ics.uci.edu/static/public/121/eeg+database.zip\n",
            "Resolving archive.ics.uci.edu (archive.ics.uci.edu)... 128.195.10.252\n",
            "Connecting to archive.ics.uci.edu (archive.ics.uci.edu)|128.195.10.252|:443... connected.\n",
            "HTTP request sent, awaiting response... 200 OK\n",
            "Length: unspecified\n",
            "Saving to: ‘eeg+database.zip’\n",
            "\n",
            "eeg+database.zip        [    <=>             ] 762.44M  50.0MB/s    in 17s     \n",
            "\n",
            "2023-10-06 14:47:11 (45.5 MB/s) - ‘eeg+database.zip’ saved [799481741]\n",
            "\n",
            "Archive:  eeg+database.zip\n",
            "  inflating: SMNI_CMI_TEST.tar.gz    \n",
            "  inflating: SMNI_CMI_TRAIN.tar.gz   \n",
            "  inflating: alcoholic.gif           \n",
            "  inflating: control.gif             \n",
            "  inflating: eeg.data.html           \n",
            "  inflating: eeg.full.html           \n",
            "  inflating: eeg.html                \n",
            "   creating: eeg_full/\n",
            "  inflating: eeg_full/co2a0000364.tar.gz  \n",
            "  inflating: eeg_full/co2a0000365.tar.gz  \n",
            "  inflating: eeg_full/co2a0000368.tar.gz  \n",
            "  inflating: eeg_full/co2a0000369.tar.gz  \n",
            "  inflating: eeg_full/co2a0000370.tar.gz  \n",
            "  inflating: eeg_full/co2a0000371.tar.gz  \n",
            "  inflating: eeg_full/co2a0000372.tar.gz  \n",
            "  inflating: eeg_full/co2a0000375.tar.gz  \n",
            "  inflating: eeg_full/co2a0000377.tar.gz  \n",
            "  inflating: eeg_full/co2a0000378.tar.gz  \n",
            "  inflating: eeg_full/co2a0000379.tar.gz  \n",
            "  inflating: eeg_full/co2a0000380.tar.gz  \n",
            "  inflating: eeg_full/co2a0000381.tar.gz  \n",
            "  inflating: eeg_full/co2a0000382.tar.gz  \n",
            "  inflating: eeg_full/co2a0000384.tar.gz  \n",
            "  inflating: eeg_full/co2a0000385.tar.gz  \n",
            "  inflating: eeg_full/co2a0000386.tar.gz  \n",
            "  inflating: eeg_full/co2a0000387.tar.gz  \n",
            "  inflating: eeg_full/co2a0000388.tar.gz  \n",
            "  inflating: eeg_full/co2a0000390.tar.gz  \n",
            "  inflating: eeg_full/co2a0000392.tar.gz  \n",
            "  inflating: eeg_full/co2a0000394.tar.gz  \n",
            "  inflating: eeg_full/co2a0000395.tar.gz  \n",
            "  inflating: eeg_full/co2a0000396.tar.gz  \n",
            "  inflating: eeg_full/co2a0000398.tar.gz  \n",
            "  inflating: eeg_full/co2a0000400.tar.gz  \n",
            "  inflating: eeg_full/co2a0000402.tar.gz  \n",
            "  inflating: eeg_full/co2a0000403.tar.gz  \n",
            "  inflating: eeg_full/co2a0000404.tar.gz  \n",
            "  inflating: eeg_full/co2a0000405.tar.gz  \n",
            "  inflating: eeg_full/co2a0000406.tar.gz  \n",
            "  inflating: eeg_full/co2a0000407.tar.gz  \n",
            "  inflating: eeg_full/co2a0000409.tar.gz  \n",
            "  inflating: eeg_full/co2a0000410.tar.gz  \n",
            "  inflating: eeg_full/co2a0000411.tar.gz  \n",
            "  inflating: eeg_full/co2a0000412.tar.gz  \n",
            "  inflating: eeg_full/co2a0000414.tar.gz  \n",
            "  inflating: eeg_full/co2a0000415.tar.gz  \n",
            "  inflating: eeg_full/co2a0000416.tar.gz  \n",
            "  inflating: eeg_full/co2a0000417.tar.gz  \n",
            "  inflating: eeg_full/co2a0000418.tar.gz  \n",
            "  inflating: eeg_full/co2a0000419.tar.gz  \n",
            "  inflating: eeg_full/co2a0000421.tar.gz  \n",
            "  inflating: eeg_full/co2a0000422.tar.gz  \n",
            "  inflating: eeg_full/co2a0000423.tar.gz  \n",
            "  inflating: eeg_full/co2a0000424.tar.gz  \n",
            "  inflating: eeg_full/co2a0000425.tar.gz  \n",
            "  inflating: eeg_full/co2a0000426.tar.gz  \n",
            "  inflating: eeg_full/co2a0000427.tar.gz  \n",
            "  inflating: eeg_full/co2a0000428.tar.gz  \n",
            "  inflating: eeg_full/co2a0000429.tar.gz  \n",
            "  inflating: eeg_full/co2a0000430.tar.gz  \n",
            "  inflating: eeg_full/co2a0000432.tar.gz  \n",
            "  inflating: eeg_full/co2a0000433.tar.gz  \n",
            "  inflating: eeg_full/co2a0000434.tar.gz  \n",
            "  inflating: eeg_full/co2a0000435.tar.gz  \n",
            "  inflating: eeg_full/co2a0000436.tar.gz  \n",
            "  inflating: eeg_full/co2a0000437.tar.gz  \n",
            "  inflating: eeg_full/co2a0000438.tar.gz  \n",
            "  inflating: eeg_full/co2a0000439.tar.gz  \n",
            "  inflating: eeg_full/co2a0000440.tar.gz  \n",
            "  inflating: eeg_full/co2a0000443.tar.gz  \n",
            "  inflating: eeg_full/co2a0000444.tar.gz  \n",
            "  inflating: eeg_full/co2a0000445.tar.gz  \n",
            "  inflating: eeg_full/co2a0000447.tar.gz  \n",
            "  inflating: eeg_full/co2c0000337.tar.gz  \n",
            "  inflating: eeg_full/co2c0000338.tar.gz  \n",
            "  inflating: eeg_full/co2c0000339.tar.gz  \n",
            "  inflating: eeg_full/co2c0000340.tar.gz  \n",
            "  inflating: eeg_full/co2c0000341.tar.gz  \n",
            "  inflating: eeg_full/co2c0000342.tar.gz  \n",
            "  inflating: eeg_full/co2c0000344.tar.gz  \n",
            "  inflating: eeg_full/co2c0000345.tar.gz  \n",
            "  inflating: eeg_full/co2c0000346.tar.gz  \n",
            "  inflating: eeg_full/co2c0000347.tar.gz  \n",
            "  inflating: eeg_full/co2c0000348.tar.gz  \n",
            "  inflating: eeg_full/co2c0000351.tar.gz  \n",
            "  inflating: eeg_full/co2c0000352.tar.gz  \n",
            "  inflating: eeg_full/co2c0000354.tar.gz  \n",
            "  inflating: eeg_full/co2c0000355.tar.gz  \n",
            "  inflating: eeg_full/co2c0000356.tar.gz  \n",
            "  inflating: eeg_full/co2c0000357.tar.gz  \n",
            "  inflating: eeg_full/co2c0000359.tar.gz  \n",
            "  inflating: eeg_full/co2c0000362.tar.gz  \n",
            "  inflating: eeg_full/co2c0000363.tar.gz  \n",
            "  inflating: eeg_full/co2c0000364.tar.gz  \n",
            "  inflating: eeg_full/co2c0000367.tar.gz  \n",
            "  inflating: eeg_full/co2c0000370.tar.gz  \n",
            "  inflating: eeg_full/co2c0000371.tar.gz  \n",
            "  inflating: eeg_full/co2c0000373.tar.gz  \n",
            "  inflating: eeg_full/co2c0000374.tar.gz  \n",
            "  inflating: eeg_full/co2c0000378.tar.gz  \n",
            "  inflating: eeg_full/co2c0000379.tar.gz  \n",
            "  inflating: eeg_full/co2c0000381.tar.gz  \n",
            "  inflating: eeg_full/co2c0000382.tar.gz  \n",
            "  inflating: eeg_full/co2c0000383.tar.gz  \n",
            "  inflating: eeg_full/co2c0000384.tar.gz  \n",
            "  inflating: eeg_full/co2c0000387.tar.gz  \n",
            "  inflating: eeg_full/co2c0000388.tar.gz  \n",
            "  inflating: eeg_full/co2c0000389.tar.gz  \n",
            "  inflating: eeg_full/co2c0000390.tar.gz  \n",
            "  inflating: eeg_full/co2c0000391.tar.gz  \n",
            "  inflating: eeg_full/co2c0000392.tar.gz  \n",
            "  inflating: eeg_full/co2c0000393.tar.gz  \n",
            "  inflating: eeg_full/co2c0000394.tar.gz  \n",
            "  inflating: eeg_full/co2c0000395.tar.gz  \n",
            "  inflating: eeg_full/co2c0000396.tar.gz  \n",
            "  inflating: eeg_full/co2c0000397.tar.gz  \n",
            "  inflating: eeg_full/co2c1000367.tar.gz  \n",
            "  inflating: eeg_full/co3a0000448.tar.gz  \n",
            "  inflating: eeg_full/co3a0000450.tar.gz  \n",
            "  inflating: eeg_full/co3a0000451.tar.gz  \n",
            "  inflating: eeg_full/co3a0000453.tar.gz  \n",
            "  inflating: eeg_full/co3a0000454.tar.gz  \n",
            "  inflating: eeg_full/co3a0000455.tar.gz  \n",
            "  inflating: eeg_full/co3a0000456.tar.gz  \n",
            "  inflating: eeg_full/co3a0000457.tar.gz  \n",
            "  inflating: eeg_full/co3a0000458.tar.gz  \n",
            "  inflating: eeg_full/co3a0000459.tar.gz  \n",
            "  inflating: eeg_full/co3a0000460.tar.gz  \n",
            "  inflating: eeg_full/co3a0000461.tar.gz  \n",
            "  inflating: eeg_full/co3c0000402.tar.gz  \n",
            "    linking: eeg_full.tar            -> ../../../../../kdd0/databases/eeg/eeg_full.tar \n",
            "  inflating: smni_eeg_data.tar.gz    \n",
            "finishing deferred symbolic links:\n",
            "  eeg_full.tar           -> ../../../../../kdd0/databases/eeg/eeg_full.tar\n"
          ]
        }
      ]
    },
    {
      "cell_type": "code",
      "source": [
        "!pip install mne"
      ],
      "metadata": {
        "id": "bB2LPGMs3D_Y",
        "outputId": "04dd6af7-a6ca-4df5-ab9a-809bca580179",
        "colab": {
          "base_uri": "https://localhost:8080/"
        }
      },
      "execution_count": 2,
      "outputs": [
        {
          "output_type": "stream",
          "name": "stdout",
          "text": [
            "Collecting mne\n",
            "  Downloading mne-1.5.1-py3-none-any.whl (7.7 MB)\n",
            "\u001b[2K     \u001b[90m━━━━━━━━━━━━━━━━━━━━━━━━━━━━━━━━━━━━━━━━\u001b[0m \u001b[32m7.7/7.7 MB\u001b[0m \u001b[31m16.2 MB/s\u001b[0m eta \u001b[36m0:00:00\u001b[0m\n",
            "\u001b[?25hRequirement already satisfied: numpy>=1.15.4 in /usr/local/lib/python3.10/dist-packages (from mne) (1.23.5)\n",
            "Requirement already satisfied: scipy>=1.6.3 in /usr/local/lib/python3.10/dist-packages (from mne) (1.11.3)\n",
            "Requirement already satisfied: matplotlib>=3.4.0 in /usr/local/lib/python3.10/dist-packages (from mne) (3.7.1)\n",
            "Requirement already satisfied: tqdm in /usr/local/lib/python3.10/dist-packages (from mne) (4.66.1)\n",
            "Requirement already satisfied: pooch>=1.5 in /usr/local/lib/python3.10/dist-packages (from mne) (1.7.0)\n",
            "Requirement already satisfied: decorator in /usr/local/lib/python3.10/dist-packages (from mne) (4.4.2)\n",
            "Requirement already satisfied: packaging in /usr/local/lib/python3.10/dist-packages (from mne) (23.2)\n",
            "Requirement already satisfied: jinja2 in /usr/local/lib/python3.10/dist-packages (from mne) (3.1.2)\n",
            "Requirement already satisfied: contourpy>=1.0.1 in /usr/local/lib/python3.10/dist-packages (from matplotlib>=3.4.0->mne) (1.1.1)\n",
            "Requirement already satisfied: cycler>=0.10 in /usr/local/lib/python3.10/dist-packages (from matplotlib>=3.4.0->mne) (0.12.0)\n",
            "Requirement already satisfied: fonttools>=4.22.0 in /usr/local/lib/python3.10/dist-packages (from matplotlib>=3.4.0->mne) (4.43.0)\n",
            "Requirement already satisfied: kiwisolver>=1.0.1 in /usr/local/lib/python3.10/dist-packages (from matplotlib>=3.4.0->mne) (1.4.5)\n",
            "Requirement already satisfied: pillow>=6.2.0 in /usr/local/lib/python3.10/dist-packages (from matplotlib>=3.4.0->mne) (9.4.0)\n",
            "Requirement already satisfied: pyparsing>=2.3.1 in /usr/local/lib/python3.10/dist-packages (from matplotlib>=3.4.0->mne) (3.1.1)\n",
            "Requirement already satisfied: python-dateutil>=2.7 in /usr/local/lib/python3.10/dist-packages (from matplotlib>=3.4.0->mne) (2.8.2)\n",
            "Requirement already satisfied: platformdirs>=2.5.0 in /usr/local/lib/python3.10/dist-packages (from pooch>=1.5->mne) (3.11.0)\n",
            "Requirement already satisfied: requests>=2.19.0 in /usr/local/lib/python3.10/dist-packages (from pooch>=1.5->mne) (2.31.0)\n",
            "Requirement already satisfied: MarkupSafe>=2.0 in /usr/local/lib/python3.10/dist-packages (from jinja2->mne) (2.1.3)\n",
            "Requirement already satisfied: six>=1.5 in /usr/local/lib/python3.10/dist-packages (from python-dateutil>=2.7->matplotlib>=3.4.0->mne) (1.16.0)\n",
            "Requirement already satisfied: charset-normalizer<4,>=2 in /usr/local/lib/python3.10/dist-packages (from requests>=2.19.0->pooch>=1.5->mne) (3.3.0)\n",
            "Requirement already satisfied: idna<4,>=2.5 in /usr/local/lib/python3.10/dist-packages (from requests>=2.19.0->pooch>=1.5->mne) (3.4)\n",
            "Requirement already satisfied: urllib3<3,>=1.21.1 in /usr/local/lib/python3.10/dist-packages (from requests>=2.19.0->pooch>=1.5->mne) (2.0.6)\n",
            "Requirement already satisfied: certifi>=2017.4.17 in /usr/local/lib/python3.10/dist-packages (from requests>=2.19.0->pooch>=1.5->mne) (2023.7.22)\n",
            "Installing collected packages: mne\n",
            "Successfully installed mne-1.5.1\n"
          ]
        }
      ]
    },
    {
      "cell_type": "code",
      "source": [
        "import numpy as np\n",
        "\n",
        "import mne\n",
        "import os\n",
        "\n",
        "from tqdm import tqdm"
      ],
      "metadata": {
        "id": "LiHjCsmKc7aN"
      },
      "execution_count": 3,
      "outputs": []
    },
    {
      "cell_type": "code",
      "source": [
        "file = '/content/SMNI_CMI_TRAIN/co2a0000364/co2a0000364.rd.000'\n",
        "\n",
        "\n",
        "def extract_raw_data(file):\n",
        "  with open(file) as f:\n",
        "    lines = f.readlines()\n",
        "\n",
        "    data = []\n",
        "    channel_names = []\n",
        "    is_Alcolic = lines[0][5] == 'a'\n",
        "    id_patient = int(lines[0][6:13])\n",
        "    trial = int(lines[4].split()[-1])\n",
        "\n",
        "    for line in lines[4:]:\n",
        "      line_split = line.split()\n",
        "\n",
        "      if (not line.startswith('#')):\n",
        "        values = line_split[-1]\n",
        "        data.append(values)\n",
        "      else :\n",
        "        ch_name = line_split[1]\n",
        "        channel_names.append(ch_name)\n",
        "\n",
        "    data = np.array(data, dtype=\"float\").reshape((64, -1))\n",
        "    info = {\"his_id\" : id_patient, 'id': id_patient, \"is_Alcolic\" : is_Alcolic, \"trial\": trial}\n",
        "    return data, channel_names, info\n",
        "\n",
        "\n",
        "data, channel_names, a = extract_raw_data(file)\n",
        "a"
      ],
      "metadata": {
        "id": "ibzhKdbAc9S-",
        "outputId": "8c369a1d-fbe4-4bd6-981d-0e5441601c7d",
        "colab": {
          "base_uri": "https://localhost:8080/"
        }
      },
      "execution_count": 4,
      "outputs": [
        {
          "output_type": "execute_result",
          "data": {
            "text/plain": [
              "{'his_id': 364, 'id': 364, 'is_Alcolic': True, 'trial': 0}"
            ]
          },
          "metadata": {},
          "execution_count": 4
        }
      ]
    },
    {
      "cell_type": "code",
      "source": [
        "def save_raw_files(file, save=False, train=True):\n",
        "  file_name = file.split(\"/\")[-1].replace(\".\", \"_\") + \"_eeg\"\n",
        "\n",
        "  data, ch_names, info_patient = extract_raw_data(file)\n",
        "  info = mne.create_info(ch_names=ch_names, sfreq=256, ch_types='eeg')\n",
        "  raw = mne.io.RawArray(data, info, verbose=False)\n",
        "  raw.info['subject_info'] = info_patient\n",
        "\n",
        "  if (save):\n",
        "    dir = \"train\" if train else \"test\"\n",
        "    raw.save(f\"{dir}/{file_name}.fif\", overwrite=True, verbose=False)\n",
        "  return raw\n",
        "\n"
      ],
      "metadata": {
        "id": "i_smK-Rh6GA6"
      },
      "execution_count": 5,
      "outputs": []
    },
    {
      "cell_type": "code",
      "source": [
        "for dir_name, subdirs, files in tqdm(list(os.walk('/content/'))):\n",
        "    for file_name in files:\n",
        "      if ((\".rd.\") in file_name):\n",
        "        current_file = os.path.join(dir_name, file_name)\n",
        "        train = \"TRAIN\" in current_file\n",
        "        save_raw_files(current_file, save=True, train=train)\n"
      ],
      "metadata": {
        "id": "4q_y4TYH3lVi",
        "outputId": "b0c8a0f0-3df2-4b78-9d88-0f387a425126",
        "colab": {
          "base_uri": "https://localhost:8080/"
        }
      },
      "execution_count": 10,
      "outputs": [
        {
          "output_type": "stream",
          "name": "stderr",
          "text": [
            "100%|██████████| 51/51 [00:44<00:00,  1.15it/s]\n"
          ]
        }
      ]
    }
  ]
}