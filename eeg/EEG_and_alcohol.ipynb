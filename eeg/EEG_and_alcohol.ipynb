{
  "nbformat": 4,
  "nbformat_minor": 0,
  "metadata": {
    "colab": {
      "provenance": [],
      "include_colab_link": true
    },
    "kernelspec": {
      "name": "python3",
      "display_name": "Python 3"
    },
    "language_info": {
      "name": "python"
    }
  },
  "cells": [
    {
      "cell_type": "markdown",
      "metadata": {
        "id": "view-in-github",
        "colab_type": "text"
      },
      "source": [
        "<a href=\"https://colab.research.google.com/github/Ekliipce/Machine-Learning-for-Biomedical/blob/pre-processing/eeg/EEG_and_alcohol.ipynb\" target=\"_parent\"><img src=\"https://colab.research.google.com/assets/colab-badge.svg\" alt=\"Open In Colab\"/></a>"
      ]
    },
    {
      "cell_type": "markdown",
      "source": [
        "# Electroencephalogram (EEG) and alcohol\n",
        "\n",
        "\n",
        "## **EEG**\n",
        "#### **What is EEG ?**\n",
        "An electroencephalogram (EEG) is a test that records the brain's electrical activity noninvasively through electrodes placed on the scalp. The procedure involves placing these electrodes that are connected by wires to a computer, which then records and analyzes the electrical impulses in the brain. EEG is used for diagnosing and managing brain-related disorders like epilepsy, monitoring brain activity during surgeries, and conducting neuroscience research.\n",
        "\n",
        "EEG patterns, consisting of different waves, are analyzed to understand normal or abnormal brain function. The procedure is safe, though preparation is required, and it might be slightly uncomfortable. EEG primarily detects activity in the brain's cortex with limited spatial resolution and can be affected by various factors like age and medication. Unlike MRI and CT scans that visualize brain structure, EEG captures real-time activity, making it a valuable tool in neuroscience and medicine.\n",
        "<br><br>\n",
        "#### **What does an EEG help diagnose?**\n",
        "\n",
        "EEG is used primarily to diagnose conditions that affect brain activity. It’s particularly useful in identifying epilepsy and other seizure disorders by capturing the electrical activity of the brain. Besides, EEG can also help diagnose or manage other conditions like sleep disorders, depth of anesthesia, coma, encephalopathies, brain death, and certain psychiatric disorders. It is often used in conjunction with other diagnostic tools to provide comprehensive insights into brain health and function.\n",
        "<br><br>\n",
        "\n",
        "#### **What factors can influence the results of an EEG?**\n",
        "\n",
        "Various factors can influence EEG results. Medications (such as sedatives, anti-epileptic drugs) can alter electrical activity in the brain, affecting the test's findings. The patient's age and overall brain development can also play a role in the results. The physical and mental state of the patient during the test, like being stressed, relaxed, asleep, or awake, can also influence the brain's electrical activity. External interference from electronic devices and not following preparatory instructions (like washing hair to ensure good electrode contact) can also impact the data quality and test outcomes.\n",
        "<br><br>\n",
        "#### **How reliable is EEG in diagnosing various brain disorders?**\n",
        "\n",
        "EEG is a reliable tool for diagnosing disorders related to abnormal brain activity, like epilepsy. However, its reliability can be influenced by the technician's skill, the patient's cooperation, and the above-mentioned factors that might affect the results. While EEG provides valuable real-time data on brain function, it might not catch intermittent or infrequent abnormalities in brain activity if they don't occur during the test. Therefore, it's often used alongside other diagnostic methods, like MRI or CT scans, to provide a more complete picture of brain health and accurate diagnosis.\n",
        "\n",
        "\n",
        "## **Brain and Alcohol**\n",
        "https://www.ncbi.nlm.nih.gov/pmc/articles/PMC6668890/ searched deeper for Alcoholism and Human Electrophysiology.\n",
        "\n",
        "Interestingly, the article suggests that the observed electrical abnormalities in the brains of alcoholics might not be a result of alcohol consumption per se, but rather a pre-existing condition, possibly serving as a risk marker for alcoholism. Some of these electrical characteristics, such as increased resting beta power and decreased active theta oscillations during cognitive tasks, have also been identified in individuals at high risk for developing alcoholism, even before any exposure to alcohol. Therefore, the text proposes that an inherent imbalance in CNS excitation and inhibition might predispose individuals to alcoholism. This imbalance is suggested to not only contribute to the risk of developing alcoholism but might also offer insights into the neurobiology of craving and relapse in alcoholism"
      ],
      "metadata": {
        "id": "6tm0yL_-1ejp"
      }
    },
    {
      "cell_type": "markdown",
      "source": [
        "## I/ Get the Dataset"
      ],
      "metadata": {
        "id": "_XVE5f16DIHp"
      }
    },
    {
      "cell_type": "code",
      "source": [
        "!wget https://archive.ics.uci.edu/static/public/121/eeg+database.zip\n",
        "!unzip -qq eeg+database.zip\n",
        "!tar -xf SMNI_CMI_TEST.tar.gz\n",
        "!tar -xf SMNI_CMI_TRAIN.tar.gz\n",
        "!gunzip -k SMNI_CMI_*/*/*.gz\n",
        "!rm SMNI_CMI_*/*/*.gz\n",
        "!mkdir train\n",
        "!mkdir test"
      ],
      "metadata": {
        "id": "ALiEZgpwFTnv",
        "outputId": "bb64d6eb-6047-4150-ac84-04df4e96eef2",
        "colab": {
          "base_uri": "https://localhost:8080/"
        }
      },
      "execution_count": 1,
      "outputs": [
        {
          "output_type": "stream",
          "name": "stdout",
          "text": [
            "--2023-10-08 12:15:16--  https://archive.ics.uci.edu/static/public/121/eeg+database.zip\n",
            "Resolving archive.ics.uci.edu (archive.ics.uci.edu)... 128.195.10.252\n",
            "Connecting to archive.ics.uci.edu (archive.ics.uci.edu)|128.195.10.252|:443... connected.\n",
            "HTTP request sent, awaiting response... 200 OK\n",
            "Length: unspecified\n",
            "Saving to: ‘eeg+database.zip’\n",
            "\n",
            "eeg+database.zip        [   <=>              ] 762.44M  27.2MB/s    in 29s     \n",
            "\n",
            "2023-10-08 12:15:46 (26.2 MB/s) - ‘eeg+database.zip’ saved [799481741]\n",
            "\n"
          ]
        }
      ]
    },
    {
      "cell_type": "code",
      "source": [
        "!pip -q install mne"
      ],
      "metadata": {
        "id": "bB2LPGMs3D_Y",
        "outputId": "2ed8b867-4bd7-4cfd-e61f-e6fabc959b5a",
        "colab": {
          "base_uri": "https://localhost:8080/"
        }
      },
      "execution_count": 2,
      "outputs": [
        {
          "output_type": "stream",
          "name": "stdout",
          "text": [
            "\u001b[?25l     \u001b[90m━━━━━━━━━━━━━━━━━━━━━━━━━━━━━━━━━━━━━━━━\u001b[0m \u001b[32m0.0/7.7 MB\u001b[0m \u001b[31m?\u001b[0m eta \u001b[36m-:--:--\u001b[0m\r\u001b[2K     \u001b[90m━━━━━━━━━━━━━━━━━━━━━━━━━━━━━━━━━━━━━━━━\u001b[0m \u001b[32m0.1/7.7 MB\u001b[0m \u001b[31m2.5 MB/s\u001b[0m eta \u001b[36m0:00:04\u001b[0m\r\u001b[2K     \u001b[91m━━━\u001b[0m\u001b[91m╸\u001b[0m\u001b[90m━━━━━━━━━━━━━━━━━━━━━━━━━━━━━━━━━━━━\u001b[0m \u001b[32m0.7/7.7 MB\u001b[0m \u001b[31m10.5 MB/s\u001b[0m eta \u001b[36m0:00:01\u001b[0m\r\u001b[2K     \u001b[91m━━━━━━━━━━━━━━━━━━\u001b[0m\u001b[91m╸\u001b[0m\u001b[90m━━━━━━━━━━━━━━━━━━━━━\u001b[0m \u001b[32m3.6/7.7 MB\u001b[0m \u001b[31m35.7 MB/s\u001b[0m eta \u001b[36m0:00:01\u001b[0m\r\u001b[2K     \u001b[91m━━━━━━━━━━━━━━━━━━━━━━━━━━━━━━━━━━━━━━━\u001b[0m\u001b[91m╸\u001b[0m \u001b[32m7.7/7.7 MB\u001b[0m \u001b[31m57.6 MB/s\u001b[0m eta \u001b[36m0:00:01\u001b[0m\r\u001b[2K     \u001b[90m━━━━━━━━━━━━━━━━━━━━━━━━━━━━━━━━━━━━━━━━\u001b[0m \u001b[32m7.7/7.7 MB\u001b[0m \u001b[31m44.7 MB/s\u001b[0m eta \u001b[36m0:00:00\u001b[0m\n",
            "\u001b[?25h"
          ]
        }
      ]
    },
    {
      "cell_type": "code",
      "source": [
        "import numpy as np\n",
        "\n",
        "import mne\n",
        "import os\n",
        "\n",
        "from tqdm import tqdm\n",
        "\n",
        "import pandas as pd\n",
        "import re"
      ],
      "metadata": {
        "id": "LiHjCsmKc7aN"
      },
      "execution_count": 3,
      "outputs": []
    },
    {
      "cell_type": "code",
      "source": [
        "file = '/content/SMNI_CMI_TRAIN/co2a0000364/co2a0000364.rd.000'\n",
        "\n",
        "\n",
        "def extract_raw_data(file):\n",
        "  with open(file) as f:\n",
        "    lines = f.readlines()\n",
        "\n",
        "    data = []\n",
        "    channel_names = []\n",
        "    is_Alcolic = lines[0][5] == 'a'\n",
        "    id_patient = int(lines[0][6:13])\n",
        "    trial = int(lines[4].split()[-1])\n",
        "\n",
        "    for line in lines[4:]:\n",
        "      line_split = line.split()\n",
        "\n",
        "      if (not line.startswith('#')):\n",
        "        values = line_split[-1]\n",
        "        data.append(values)\n",
        "      else :\n",
        "        ch_name = line_split[1]\n",
        "        channel_names.append(ch_name)\n",
        "\n",
        "    data = np.array(data, dtype=\"float\").reshape((64, -1))\n",
        "    info = {\"his_id\" : id_patient, 'id': id_patient, \"is_Alcolic\" : is_Alcolic, \"trial\": trial}\n",
        "    return data, channel_names, info"
      ],
      "metadata": {
        "id": "ibzhKdbAc9S-"
      },
      "execution_count": 5,
      "outputs": []
    },
    {
      "cell_type": "code",
      "source": [
        "def save_raw_files(file, save=False, train=True):\n",
        "  file_name = file.split(\"/\")[-1].replace(\".\", \"_\") + \"_eeg\"\n",
        "\n",
        "  data, ch_names, info_patient = extract_raw_data(file)\n",
        "  info = mne.create_info(ch_names=ch_names, sfreq=256, ch_types='eeg')\n",
        "  raw = mne.io.RawArray(data, info, verbose=False)\n",
        "  raw.info['subject_info'] = info_patient\n",
        "\n",
        "  if (save):\n",
        "    dir = \"train\" if train else \"test\"\n",
        "    raw.save(f\"{dir}/{file_name}.fif\", overwrite=True, verbose=False)\n",
        "  return raw\n",
        "\n"
      ],
      "metadata": {
        "id": "i_smK-Rh6GA6"
      },
      "execution_count": 6,
      "outputs": []
    },
    {
      "cell_type": "code",
      "source": [
        "for dir_name, subdirs, files in tqdm(list(os.walk('/content/'))):\n",
        "    for file_name in files:\n",
        "      if ((\".rd.\") in file_name):\n",
        "        current_file = os.path.join(dir_name, file_name)\n",
        "        train = \"TRAIN\" in current_file\n",
        "        save_raw_files(current_file, save=True, train=train)\n"
      ],
      "metadata": {
        "id": "4q_y4TYH3lVi",
        "outputId": "d19b696d-3dc9-4bc1-f21f-5e0fa5712a63",
        "colab": {
          "base_uri": "https://localhost:8080/"
        }
      },
      "execution_count": 6,
      "outputs": [
        {
          "output_type": "stream",
          "name": "stderr",
          "text": [
            "100%|██████████| 51/51 [01:11<00:00,  1.40s/it]\n"
          ]
        }
      ]
    },
    {
      "cell_type": "markdown",
      "source": [
        "## Pre-processing"
      ],
      "metadata": {
        "id": "yD9OIwUX9Dn0"
      }
    },
    {
      "cell_type": "markdown",
      "source": [
        "Create two directroies which which will contain data as csv."
      ],
      "metadata": {
        "id": "swONcjwk1onq"
      }
    },
    {
      "cell_type": "code",
      "source": [
        "! [ -e train_csv ] || mkdir train_csv\n",
        "! [ -e test_csv ] || mkdir test_csv"
      ],
      "metadata": {
        "id": "Y1bqjbbQ12XC"
      },
      "execution_count": 193,
      "outputs": []
    },
    {
      "cell_type": "markdown",
      "source": [
        "Generate a dataframe from an eeg file."
      ],
      "metadata": {
        "id": "WsoEx1xL38jF"
      }
    },
    {
      "cell_type": "code",
      "source": [
        "\n",
        "def generate_df(file,save=False,train=True,verbose=False,frequency = 256):\n",
        "  df = pd.DataFrame()\n",
        "  data, channel_names, info = extract_raw_data(file)\n",
        "  file_name = file.split(\"/\")[-1]\n",
        "  for time_series,channel in zip(data, channel_names):\n",
        "    time = np.arange(0,time_series.shape[-1])*1/time_series.shape[-1]\n",
        "    cur_df = pd.DataFrame({'value':time_series,'channel':channel,**info,'time':time})\n",
        "    if(df is None):\n",
        "      df = cur_df\n",
        "    else:\n",
        "      df = pd.concat([df,cur_df],ignore_index=True)\n",
        "  if(save):\n",
        "    dir = \"train\" if train else \"test\"\n",
        "    saving_path = f'{dir}_csv/{file_name}.csv'\n",
        "    df.to_csv(saving_path)\n",
        "  return df\n",
        "\n"
      ],
      "metadata": {
        "id": "Www8YbeZiTDk"
      },
      "execution_count": 195,
      "outputs": []
    },
    {
      "cell_type": "code",
      "source": [
        "df = generate_df('/content/SMNI_CMI_TRAIN/co2c0000338/co2c0000338.rd.014')\n",
        "df.head()"
      ],
      "metadata": {
        "id": "Usly7aDp48iq",
        "outputId": "227fbed7-d8d8-4be0-a378-5bb8b6d6c831",
        "colab": {
          "base_uri": "https://localhost:8080/",
          "height": 206
        }
      },
      "execution_count": 198,
      "outputs": [
        {
          "output_type": "execute_result",
          "data": {
            "text/plain": [
              "   value channel  his_id  is_Alcolic   id  trial      time\n",
              "0  8.525     FP1     338       False  338      0  0.000000\n",
              "1  9.501     FP1     338       False  338      0  0.003906\n",
              "2  8.525     FP1     338       False  338      0  0.007812\n",
              "3  7.548     FP1     338       False  338      0  0.011719\n",
              "4  7.060     FP1     338       False  338      0  0.015625"
            ],
            "text/html": [
              "\n",
              "  <div id=\"df-4c97fab1-4fc6-498f-a57c-e375c0e0566a\" class=\"colab-df-container\">\n",
              "    <div>\n",
              "<style scoped>\n",
              "    .dataframe tbody tr th:only-of-type {\n",
              "        vertical-align: middle;\n",
              "    }\n",
              "\n",
              "    .dataframe tbody tr th {\n",
              "        vertical-align: top;\n",
              "    }\n",
              "\n",
              "    .dataframe thead th {\n",
              "        text-align: right;\n",
              "    }\n",
              "</style>\n",
              "<table border=\"1\" class=\"dataframe\">\n",
              "  <thead>\n",
              "    <tr style=\"text-align: right;\">\n",
              "      <th></th>\n",
              "      <th>value</th>\n",
              "      <th>channel</th>\n",
              "      <th>his_id</th>\n",
              "      <th>is_Alcolic</th>\n",
              "      <th>id</th>\n",
              "      <th>trial</th>\n",
              "      <th>time</th>\n",
              "    </tr>\n",
              "  </thead>\n",
              "  <tbody>\n",
              "    <tr>\n",
              "      <th>0</th>\n",
              "      <td>8.525</td>\n",
              "      <td>FP1</td>\n",
              "      <td>338</td>\n",
              "      <td>False</td>\n",
              "      <td>338</td>\n",
              "      <td>0</td>\n",
              "      <td>0.000000</td>\n",
              "    </tr>\n",
              "    <tr>\n",
              "      <th>1</th>\n",
              "      <td>9.501</td>\n",
              "      <td>FP1</td>\n",
              "      <td>338</td>\n",
              "      <td>False</td>\n",
              "      <td>338</td>\n",
              "      <td>0</td>\n",
              "      <td>0.003906</td>\n",
              "    </tr>\n",
              "    <tr>\n",
              "      <th>2</th>\n",
              "      <td>8.525</td>\n",
              "      <td>FP1</td>\n",
              "      <td>338</td>\n",
              "      <td>False</td>\n",
              "      <td>338</td>\n",
              "      <td>0</td>\n",
              "      <td>0.007812</td>\n",
              "    </tr>\n",
              "    <tr>\n",
              "      <th>3</th>\n",
              "      <td>7.548</td>\n",
              "      <td>FP1</td>\n",
              "      <td>338</td>\n",
              "      <td>False</td>\n",
              "      <td>338</td>\n",
              "      <td>0</td>\n",
              "      <td>0.011719</td>\n",
              "    </tr>\n",
              "    <tr>\n",
              "      <th>4</th>\n",
              "      <td>7.060</td>\n",
              "      <td>FP1</td>\n",
              "      <td>338</td>\n",
              "      <td>False</td>\n",
              "      <td>338</td>\n",
              "      <td>0</td>\n",
              "      <td>0.015625</td>\n",
              "    </tr>\n",
              "  </tbody>\n",
              "</table>\n",
              "</div>\n",
              "    <div class=\"colab-df-buttons\">\n",
              "\n",
              "  <div class=\"colab-df-container\">\n",
              "    <button class=\"colab-df-convert\" onclick=\"convertToInteractive('df-4c97fab1-4fc6-498f-a57c-e375c0e0566a')\"\n",
              "            title=\"Convert this dataframe to an interactive table.\"\n",
              "            style=\"display:none;\">\n",
              "\n",
              "  <svg xmlns=\"http://www.w3.org/2000/svg\" height=\"24px\" viewBox=\"0 -960 960 960\">\n",
              "    <path d=\"M120-120v-720h720v720H120Zm60-500h600v-160H180v160Zm220 220h160v-160H400v160Zm0 220h160v-160H400v160ZM180-400h160v-160H180v160Zm440 0h160v-160H620v160ZM180-180h160v-160H180v160Zm440 0h160v-160H620v160Z\"/>\n",
              "  </svg>\n",
              "    </button>\n",
              "\n",
              "  <style>\n",
              "    .colab-df-container {\n",
              "      display:flex;\n",
              "      gap: 12px;\n",
              "    }\n",
              "\n",
              "    .colab-df-convert {\n",
              "      background-color: #E8F0FE;\n",
              "      border: none;\n",
              "      border-radius: 50%;\n",
              "      cursor: pointer;\n",
              "      display: none;\n",
              "      fill: #1967D2;\n",
              "      height: 32px;\n",
              "      padding: 0 0 0 0;\n",
              "      width: 32px;\n",
              "    }\n",
              "\n",
              "    .colab-df-convert:hover {\n",
              "      background-color: #E2EBFA;\n",
              "      box-shadow: 0px 1px 2px rgba(60, 64, 67, 0.3), 0px 1px 3px 1px rgba(60, 64, 67, 0.15);\n",
              "      fill: #174EA6;\n",
              "    }\n",
              "\n",
              "    .colab-df-buttons div {\n",
              "      margin-bottom: 4px;\n",
              "    }\n",
              "\n",
              "    [theme=dark] .colab-df-convert {\n",
              "      background-color: #3B4455;\n",
              "      fill: #D2E3FC;\n",
              "    }\n",
              "\n",
              "    [theme=dark] .colab-df-convert:hover {\n",
              "      background-color: #434B5C;\n",
              "      box-shadow: 0px 1px 3px 1px rgba(0, 0, 0, 0.15);\n",
              "      filter: drop-shadow(0px 1px 2px rgba(0, 0, 0, 0.3));\n",
              "      fill: #FFFFFF;\n",
              "    }\n",
              "  </style>\n",
              "\n",
              "    <script>\n",
              "      const buttonEl =\n",
              "        document.querySelector('#df-4c97fab1-4fc6-498f-a57c-e375c0e0566a button.colab-df-convert');\n",
              "      buttonEl.style.display =\n",
              "        google.colab.kernel.accessAllowed ? 'block' : 'none';\n",
              "\n",
              "      async function convertToInteractive(key) {\n",
              "        const element = document.querySelector('#df-4c97fab1-4fc6-498f-a57c-e375c0e0566a');\n",
              "        const dataTable =\n",
              "          await google.colab.kernel.invokeFunction('convertToInteractive',\n",
              "                                                    [key], {});\n",
              "        if (!dataTable) return;\n",
              "\n",
              "        const docLinkHtml = 'Like what you see? Visit the ' +\n",
              "          '<a target=\"_blank\" href=https://colab.research.google.com/notebooks/data_table.ipynb>data table notebook</a>'\n",
              "          + ' to learn more about interactive tables.';\n",
              "        element.innerHTML = '';\n",
              "        dataTable['output_type'] = 'display_data';\n",
              "        await google.colab.output.renderOutput(dataTable, element);\n",
              "        const docLink = document.createElement('div');\n",
              "        docLink.innerHTML = docLinkHtml;\n",
              "        element.appendChild(docLink);\n",
              "      }\n",
              "    </script>\n",
              "  </div>\n",
              "\n",
              "\n",
              "<div id=\"df-c542af85-5dec-4e40-818a-222e1fdbc85b\">\n",
              "  <button class=\"colab-df-quickchart\" onclick=\"quickchart('df-c542af85-5dec-4e40-818a-222e1fdbc85b')\"\n",
              "            title=\"Suggest charts.\"\n",
              "            style=\"display:none;\">\n",
              "\n",
              "<svg xmlns=\"http://www.w3.org/2000/svg\" height=\"24px\"viewBox=\"0 0 24 24\"\n",
              "     width=\"24px\">\n",
              "    <g>\n",
              "        <path d=\"M19 3H5c-1.1 0-2 .9-2 2v14c0 1.1.9 2 2 2h14c1.1 0 2-.9 2-2V5c0-1.1-.9-2-2-2zM9 17H7v-7h2v7zm4 0h-2V7h2v10zm4 0h-2v-4h2v4z\"/>\n",
              "    </g>\n",
              "</svg>\n",
              "  </button>\n",
              "\n",
              "<style>\n",
              "  .colab-df-quickchart {\n",
              "      --bg-color: #E8F0FE;\n",
              "      --fill-color: #1967D2;\n",
              "      --hover-bg-color: #E2EBFA;\n",
              "      --hover-fill-color: #174EA6;\n",
              "      --disabled-fill-color: #AAA;\n",
              "      --disabled-bg-color: #DDD;\n",
              "  }\n",
              "\n",
              "  [theme=dark] .colab-df-quickchart {\n",
              "      --bg-color: #3B4455;\n",
              "      --fill-color: #D2E3FC;\n",
              "      --hover-bg-color: #434B5C;\n",
              "      --hover-fill-color: #FFFFFF;\n",
              "      --disabled-bg-color: #3B4455;\n",
              "      --disabled-fill-color: #666;\n",
              "  }\n",
              "\n",
              "  .colab-df-quickchart {\n",
              "    background-color: var(--bg-color);\n",
              "    border: none;\n",
              "    border-radius: 50%;\n",
              "    cursor: pointer;\n",
              "    display: none;\n",
              "    fill: var(--fill-color);\n",
              "    height: 32px;\n",
              "    padding: 0;\n",
              "    width: 32px;\n",
              "  }\n",
              "\n",
              "  .colab-df-quickchart:hover {\n",
              "    background-color: var(--hover-bg-color);\n",
              "    box-shadow: 0 1px 2px rgba(60, 64, 67, 0.3), 0 1px 3px 1px rgba(60, 64, 67, 0.15);\n",
              "    fill: var(--button-hover-fill-color);\n",
              "  }\n",
              "\n",
              "  .colab-df-quickchart-complete:disabled,\n",
              "  .colab-df-quickchart-complete:disabled:hover {\n",
              "    background-color: var(--disabled-bg-color);\n",
              "    fill: var(--disabled-fill-color);\n",
              "    box-shadow: none;\n",
              "  }\n",
              "\n",
              "  .colab-df-spinner {\n",
              "    border: 2px solid var(--fill-color);\n",
              "    border-color: transparent;\n",
              "    border-bottom-color: var(--fill-color);\n",
              "    animation:\n",
              "      spin 1s steps(1) infinite;\n",
              "  }\n",
              "\n",
              "  @keyframes spin {\n",
              "    0% {\n",
              "      border-color: transparent;\n",
              "      border-bottom-color: var(--fill-color);\n",
              "      border-left-color: var(--fill-color);\n",
              "    }\n",
              "    20% {\n",
              "      border-color: transparent;\n",
              "      border-left-color: var(--fill-color);\n",
              "      border-top-color: var(--fill-color);\n",
              "    }\n",
              "    30% {\n",
              "      border-color: transparent;\n",
              "      border-left-color: var(--fill-color);\n",
              "      border-top-color: var(--fill-color);\n",
              "      border-right-color: var(--fill-color);\n",
              "    }\n",
              "    40% {\n",
              "      border-color: transparent;\n",
              "      border-right-color: var(--fill-color);\n",
              "      border-top-color: var(--fill-color);\n",
              "    }\n",
              "    60% {\n",
              "      border-color: transparent;\n",
              "      border-right-color: var(--fill-color);\n",
              "    }\n",
              "    80% {\n",
              "      border-color: transparent;\n",
              "      border-right-color: var(--fill-color);\n",
              "      border-bottom-color: var(--fill-color);\n",
              "    }\n",
              "    90% {\n",
              "      border-color: transparent;\n",
              "      border-bottom-color: var(--fill-color);\n",
              "    }\n",
              "  }\n",
              "</style>\n",
              "\n",
              "  <script>\n",
              "    async function quickchart(key) {\n",
              "      const quickchartButtonEl =\n",
              "        document.querySelector('#' + key + ' button');\n",
              "      quickchartButtonEl.disabled = true;  // To prevent multiple clicks.\n",
              "      quickchartButtonEl.classList.add('colab-df-spinner');\n",
              "      try {\n",
              "        const charts = await google.colab.kernel.invokeFunction(\n",
              "            'suggestCharts', [key], {});\n",
              "      } catch (error) {\n",
              "        console.error('Error during call to suggestCharts:', error);\n",
              "      }\n",
              "      quickchartButtonEl.classList.remove('colab-df-spinner');\n",
              "      quickchartButtonEl.classList.add('colab-df-quickchart-complete');\n",
              "    }\n",
              "    (() => {\n",
              "      let quickchartButtonEl =\n",
              "        document.querySelector('#df-c542af85-5dec-4e40-818a-222e1fdbc85b button');\n",
              "      quickchartButtonEl.style.display =\n",
              "        google.colab.kernel.accessAllowed ? 'block' : 'none';\n",
              "    })();\n",
              "  </script>\n",
              "</div>\n",
              "    </div>\n",
              "  </div>\n"
            ]
          },
          "metadata": {},
          "execution_count": 198
        }
      ]
    },
    {
      "cell_type": "code",
      "source": [
        "df[df['channel'] == 'Y'].plot(x='time',y='value')"
      ],
      "metadata": {
        "id": "LCkFPmv45LZC",
        "outputId": "8fe3676c-fd67-4ef1-cf58-35423164955f",
        "colab": {
          "base_uri": "https://localhost:8080/",
          "height": 466
        }
      },
      "execution_count": 202,
      "outputs": [
        {
          "output_type": "execute_result",
          "data": {
            "text/plain": [
              "<Axes: xlabel='time'>"
            ]
          },
          "metadata": {},
          "execution_count": 202
        },
        {
          "output_type": "display_data",
          "data": {
            "text/plain": [
              "<Figure size 640x480 with 1 Axes>"
            ],
            "image/png": "[encoded data removed]"
          },
          "metadata": {}
        }
      ]
    },
    {
      "cell_type": "code",
      "source": [
        "def generated_csv(content_dir:str='/content/',train=True):\n",
        "  for dir_name, subdirs, files in tqdm(list(os.walk(content_dir))):\n",
        "\n",
        "    for file_name in (files):\n",
        "      current_file = os.path.join(dir_name, file_name)\n",
        "      regex = r'.+\\.rd\\.\\d+$'\n",
        "\n",
        "      if (re.match(regex,file_name)):\n",
        "        generate_df(current_file,save=True,train=train)\n"
      ],
      "metadata": {
        "id": "VPi7F9gCrGYm",
        "outputId": "a1fdceda-fbf7-4361-d4e7-a198174e14b6",
        "colab": {
          "base_uri": "https://localhost:8080/"
        }
      },
      "execution_count": 7,
      "outputs": [
        {
          "output_type": "stream",
          "name": "stderr",
          "text": [
            "100%|██████████| 21/21 [02:05<00:00,  5.99s/it]\n",
            "100%|██████████| 21/21 [02:00<00:00,  5.75s/it]\n"
          ]
        }
      ]
    },
    {
      "cell_type": "code",
      "source": [
        "for data_dir,train in zip(['SMNI_CMI_TRAIN','SMNI_CMI_TEST'],[True,False]):\n",
        "  generated_csv(data_dir,train)"
      ],
      "metadata": {
        "id": "lcox36xXzQQP",
        "outputId": "71b35487-14ec-4aa4-b550-b89d4f74a93d",
        "colab": {
          "base_uri": "https://localhost:8080/"
        }
      },
      "execution_count": 170,
      "outputs": [
        {
          "output_type": "stream",
          "name": "stdout",
          "text": [
            "alcoholic.gif\t    eeg.data.html  eeg.html\t  SMNI_CMI_TEST.tar.gz\t test\n",
            "control.gif\t    eeg_full\t   output.txt\t  SMNI_CMI_TRAIN\t train\n",
            "eeg+database.zip    eeg.full.html  sample_data\t  SMNI_CMI_TRAIN.tar.gz\n",
            "eeg+database.zip.1  eeg_full.tar   SMNI_CMI_TEST  smni_eeg_data.tar.gz\n"
          ]
        }
      ]
    }
  ]
}