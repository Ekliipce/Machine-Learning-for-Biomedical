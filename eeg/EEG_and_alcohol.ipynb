{
  "nbformat": 4,
  "nbformat_minor": 0,
  "metadata": {
    "colab": {
      "provenance": [],
      "authorship_tag": "ABX9TyNY3ZjEzKaKrt3AODUl4Zeu",
      "include_colab_link": true
    },
    "kernelspec": {
      "name": "python3",
      "display_name": "Python 3"
    },
    "language_info": {
      "name": "python"
    }
  },
  "cells": [
    {
      "cell_type": "markdown",
      "metadata": {
        "id": "view-in-github",
        "colab_type": "text"
      },
      "source": [
        "<a href=\"https://colab.research.google.com/github/Ekliipce/Machine-Learning-for-Biomedical/blob/main/eeg/EEG_and_alcohol.ipynb\" target=\"_parent\"><img src=\"https://colab.research.google.com/assets/colab-badge.svg\" alt=\"Open In Colab\"/></a>"
      ]
    },
    {
      "cell_type": "markdown",
      "source": [
        "# Electroencephalogram (EEG) and alcohol\n",
        "\n",
        "\n",
        "## **EEG**\n",
        "#### **What is EEG ?**\n",
        "An electroencephalogram (EEG) is a test that records the brain's electrical activity noninvasively through electrodes placed on the scalp. The procedure involves placing these electrodes that are connected by wires to a computer, which then records and analyzes the electrical impulses in the brain. EEG is used for diagnosing and managing brain-related disorders like epilepsy, monitoring brain activity during surgeries, and conducting neuroscience research.\n",
        "\n",
        "EEG patterns, consisting of different waves, are analyzed to understand normal or abnormal brain function. The procedure is safe, though preparation is required, and it might be slightly uncomfortable. EEG primarily detects activity in the brain's cortex with limited spatial resolution and can be affected by various factors like age and medication. Unlike MRI and CT scans that visualize brain structure, EEG captures real-time activity, making it a valuable tool in neuroscience and medicine.\n",
        "<br><br>\n",
        "#### **What does an EEG help diagnose?**\n",
        "\n",
        "EEG is used primarily to diagnose conditions that affect brain activity. It’s particularly useful in identifying epilepsy and other seizure disorders by capturing the electrical activity of the brain. Besides, EEG can also help diagnose or manage other conditions like sleep disorders, depth of anesthesia, coma, encephalopathies, brain death, and certain psychiatric disorders. It is often used in conjunction with other diagnostic tools to provide comprehensive insights into brain health and function.\n",
        "<br><br>\n",
        "\n",
        "#### **What factors can influence the results of an EEG?**\n",
        "\n",
        "Various factors can influence EEG results. Medications (such as sedatives, anti-epileptic drugs) can alter electrical activity in the brain, affecting the test's findings. The patient's age and overall brain development can also play a role in the results. The physical and mental state of the patient during the test, like being stressed, relaxed, asleep, or awake, can also influence the brain's electrical activity. External interference from electronic devices and not following preparatory instructions (like washing hair to ensure good electrode contact) can also impact the data quality and test outcomes.\n",
        "<br><br>\n",
        "#### **How reliable is EEG in diagnosing various brain disorders?**\n",
        "\n",
        "EEG is a reliable tool for diagnosing disorders related to abnormal brain activity, like epilepsy. However, its reliability can be influenced by the technician's skill, the patient's cooperation, and the above-mentioned factors that might affect the results. While EEG provides valuable real-time data on brain function, it might not catch intermittent or infrequent abnormalities in brain activity if they don't occur during the test. Therefore, it's often used alongside other diagnostic methods, like MRI or CT scans, to provide a more complete picture of brain health and accurate diagnosis.\n",
        "\n",
        "\n",
        "## **Brain and Alcohol**\n",
        "https://www.ncbi.nlm.nih.gov/pmc/articles/PMC6668890/ searched deeper for Alcoholism and Human Electrophysiology.\n",
        "\n",
        "Interestingly, the article suggests that the observed electrical abnormalities in the brains of alcoholics might not be a result of alcohol consumption per se, but rather a pre-existing condition, possibly serving as a risk marker for alcoholism. Some of these electrical characteristics, such as increased resting beta power and decreased active theta oscillations during cognitive tasks, have also been identified in individuals at high risk for developing alcoholism, even before any exposure to alcohol. Therefore, the text proposes that an inherent imbalance in CNS excitation and inhibition might predispose individuals to alcoholism. This imbalance is suggested to not only contribute to the risk of developing alcoholism but might also offer insights into the neurobiology of craving and relapse in alcoholism"
      ],
      "metadata": {
        "id": "6tm0yL_-1ejp"
      }
    },
    {
      "cell_type": "markdown",
      "source": [
        "## Dataset"
      ],
      "metadata": {
        "id": "_XVE5f16DIHp"
      }
    },
    {
      "cell_type": "code",
      "source": [
        "!wget https://archive.ics.uci.edu/static/public/121/eeg+database.zip\n",
        "!unzip eeg+database.zip\n",
        "!tar -xf SMNI_CMI_TEST.tar.gz\n",
        "!tar -xf SMNI_CMI_TRAIN.tar.gz\n",
        "!gunzip -k SMNI_CMI_*/*/*.gz\n",
        "!rm SMNI_CMI_*/*/*.gz\n",
        "!mkdir train\n",
        "!mkdir test"
      ],
      "metadata": {
        "id": "ALiEZgpwFTnv",
        "outputId": "fb96927d-596e-4c4f-b4f1-63de7545511e",
        "colab": {
          "base_uri": "https://localhost:8080/"
        }
      },
      "execution_count": 1,
      "outputs": [
        {
          "output_type": "stream",
          "name": "stdout",
          "text": [
            "--2023-10-06 11:59:33--  https://archive.ics.uci.edu/static/public/121/eeg+database.zip\n",
            "Resolving archive.ics.uci.edu (archive.ics.uci.edu)... 128.195.10.252\n",
            "Connecting to archive.ics.uci.edu (archive.ics.uci.edu)|128.195.10.252|:443... connected.\n",
            "HTTP request sent, awaiting response... 200 OK\n",
            "Length: unspecified\n",
            "Saving to: ‘eeg+database.zip’\n",
            "\n",
            "eeg+database.zip        [       <=>          ] 762.44M  22.6MB/s    in 36s     \n",
            "\n",
            "2023-10-06 12:00:09 (21.3 MB/s) - ‘eeg+database.zip’ saved [799481741]\n",
            "\n"
          ]
        }
      ]
    },
    {
      "cell_type": "code",
      "source": [
        "!pip install mne"
      ],
      "metadata": {
        "id": "bB2LPGMs3D_Y",
        "outputId": "6194e317-3159-40fd-df51-f344010b1f1d",
        "colab": {
          "base_uri": "https://localhost:8080/"
        }
      },
      "execution_count": 81,
      "outputs": [
        {
          "output_type": "stream",
          "name": "stdout",
          "text": [
            "Requirement already satisfied: mne in /usr/local/lib/python3.10/dist-packages (1.5.1)\n",
            "Requirement already satisfied: numpy>=1.15.4 in /usr/local/lib/python3.10/dist-packages (from mne) (1.23.5)\n",
            "Requirement already satisfied: scipy>=1.6.3 in /usr/local/lib/python3.10/dist-packages (from mne) (1.11.3)\n",
            "Requirement already satisfied: matplotlib>=3.4.0 in /usr/local/lib/python3.10/dist-packages (from mne) (3.7.1)\n",
            "Requirement already satisfied: tqdm in /usr/local/lib/python3.10/dist-packages (from mne) (4.66.1)\n",
            "Requirement already satisfied: pooch>=1.5 in /usr/local/lib/python3.10/dist-packages (from mne) (1.7.0)\n",
            "Requirement already satisfied: decorator in /usr/local/lib/python3.10/dist-packages (from mne) (4.4.2)\n",
            "Requirement already satisfied: packaging in /usr/local/lib/python3.10/dist-packages (from mne) (23.2)\n",
            "Requirement already satisfied: jinja2 in /usr/local/lib/python3.10/dist-packages (from mne) (3.1.2)\n",
            "Requirement already satisfied: contourpy>=1.0.1 in /usr/local/lib/python3.10/dist-packages (from matplotlib>=3.4.0->mne) (1.1.1)\n",
            "Requirement already satisfied: cycler>=0.10 in /usr/local/lib/python3.10/dist-packages (from matplotlib>=3.4.0->mne) (0.12.0)\n",
            "Requirement already satisfied: fonttools>=4.22.0 in /usr/local/lib/python3.10/dist-packages (from matplotlib>=3.4.0->mne) (4.43.0)\n",
            "Requirement already satisfied: kiwisolver>=1.0.1 in /usr/local/lib/python3.10/dist-packages (from matplotlib>=3.4.0->mne) (1.4.5)\n",
            "Requirement already satisfied: pillow>=6.2.0 in /usr/local/lib/python3.10/dist-packages (from matplotlib>=3.4.0->mne) (9.4.0)\n",
            "Requirement already satisfied: pyparsing>=2.3.1 in /usr/local/lib/python3.10/dist-packages (from matplotlib>=3.4.0->mne) (3.1.1)\n",
            "Requirement already satisfied: python-dateutil>=2.7 in /usr/local/lib/python3.10/dist-packages (from matplotlib>=3.4.0->mne) (2.8.2)\n",
            "Requirement already satisfied: platformdirs>=2.5.0 in /usr/local/lib/python3.10/dist-packages (from pooch>=1.5->mne) (3.11.0)\n",
            "Requirement already satisfied: requests>=2.19.0 in /usr/local/lib/python3.10/dist-packages (from pooch>=1.5->mne) (2.31.0)\n",
            "Requirement already satisfied: MarkupSafe>=2.0 in /usr/local/lib/python3.10/dist-packages (from jinja2->mne) (2.1.3)\n",
            "Requirement already satisfied: six>=1.5 in /usr/local/lib/python3.10/dist-packages (from python-dateutil>=2.7->matplotlib>=3.4.0->mne) (1.16.0)\n",
            "Requirement already satisfied: charset-normalizer<4,>=2 in /usr/local/lib/python3.10/dist-packages (from requests>=2.19.0->pooch>=1.5->mne) (3.3.0)\n",
            "Requirement already satisfied: idna<4,>=2.5 in /usr/local/lib/python3.10/dist-packages (from requests>=2.19.0->pooch>=1.5->mne) (3.4)\n",
            "Requirement already satisfied: urllib3<3,>=1.21.1 in /usr/local/lib/python3.10/dist-packages (from requests>=2.19.0->pooch>=1.5->mne) (2.0.6)\n",
            "Requirement already satisfied: certifi>=2017.4.17 in /usr/local/lib/python3.10/dist-packages (from requests>=2.19.0->pooch>=1.5->mne) (2023.7.22)\n"
          ]
        }
      ]
    },
    {
      "cell_type": "code",
      "source": [
        "import numpy as np\n",
        "\n",
        "import mne\n",
        "import os\n",
        "\n",
        "from tqdm import tqdm"
      ],
      "metadata": {
        "id": "LiHjCsmKc7aN"
      },
      "execution_count": 73,
      "outputs": []
    },
    {
      "cell_type": "code",
      "source": [
        "file = '/content/SMNI_CMI_TRAIN/co2a0000364/co2a0000364.rd.000'\n",
        "\n",
        "\n",
        "def extract_raw_data(file):\n",
        "  with open(file) as f:\n",
        "    lines = f.readlines()\n",
        "\n",
        "    data = []\n",
        "    channel_names = []\n",
        "    is_Alcolic = lines[0][5] == 'a'\n",
        "    id_patient = int(lines[0][6:13])\n",
        "    trial = int(lines[4].split()[-1])\n",
        "\n",
        "    for line in lines[4:]:\n",
        "      line_split = line.split()\n",
        "\n",
        "      if (not line.startswith('#')):\n",
        "        values = line_split[-1]\n",
        "        data.append(values)\n",
        "      else :\n",
        "        ch_name = line_split[1]\n",
        "        channel_names.append(ch_name)\n",
        "\n",
        "    data = np.array(data, dtype=\"float\").reshape((64, -1))\n",
        "    info = {\"his_id\" : id_patient, 'id': id_patient, \"is_Alcolic\" : is_Alcolic, \"trial\": trial}\n",
        "    return data, channel_names, info\n",
        "\n",
        "\n",
        "data, channel_names, a = extract_raw_data(file)\n",
        "a"
      ],
      "metadata": {
        "id": "ibzhKdbAc9S-",
        "outputId": "2f2d7dba-7d11-4f2d-f3e5-2be9702f06ca",
        "colab": {
          "base_uri": "https://localhost:8080/"
        }
      },
      "execution_count": 72,
      "outputs": [
        {
          "output_type": "execute_result",
          "data": {
            "text/plain": [
              "{'his_id': 364, 'id': 364, 'is_Alcolic': True, 'trial': 0}"
            ]
          },
          "metadata": {},
          "execution_count": 72
        }
      ]
    },
    {
      "cell_type": "code",
      "source": [
        "def save_raw_files(file, save=False, train=True):\n",
        "  file_name = file.split(\"/\")[-1].replace(\".\", \"_\") + \"_eeg\"\n",
        "\n",
        "  data, ch_names, info_patient = extract_raw_data(file)\n",
        "  info = mne.create_info(ch_names=ch_names, sfreq=256, ch_types='eeg')\n",
        "  raw = mne.io.RawArray(data, info, verbose=False)\n",
        "  raw.info['subject_info'] = info_patient\n",
        "\n",
        "  if (save):\n",
        "    dir = \"train\" if train else \"test\"\n",
        "    raw.save(f\"{dir}/{file_name}.fif\", overwrite=True, verbose=False)\n",
        "  return raw\n",
        "\n"
      ],
      "metadata": {
        "id": "i_smK-Rh6GA6"
      },
      "execution_count": 101,
      "outputs": []
    },
    {
      "cell_type": "code",
      "source": [
        "for dir_name, subdirs, files in tqdm(list(os.walk('/content/'))):\n",
        "    for file_name in files:\n",
        "      if ((\".rd.\") in file_name):\n",
        "        train = \"TRAIN\" in file_name\n",
        "        current_file = os.path.join(dir_name, file_name)\n",
        "        save_raw_files(current_file, save=True, train=train)\n",
        ""
      ],
      "metadata": {
        "id": "4q_y4TYH3lVi",
        "outputId": "891b3d29-35cd-4d31-85cf-de101361b623",
        "colab": {
          "base_uri": "https://localhost:8080/"
        }
      },
      "execution_count": 103,
      "outputs": [
        {
          "output_type": "stream",
          "name": "stderr",
          "text": [
            "100%|██████████| 51/51 [00:50<00:00,  1.01it/s]\n"
          ]
        }
      ]
    },
    {
      "cell_type": "code",
      "source": [],
      "metadata": {
        "id": "TUaqMSP1FbM5"
      },
      "execution_count": null,
      "outputs": []
    }
  ]
}