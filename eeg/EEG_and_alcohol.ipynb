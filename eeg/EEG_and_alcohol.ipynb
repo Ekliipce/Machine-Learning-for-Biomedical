{
  "nbformat": 4,
  "nbformat_minor": 0,
  "metadata": {
    "colab": {
      "provenance": [],
      "authorship_tag": "ABX9TyMYvQ9Igxj6wC28AR3rcuyA",
      "include_colab_link": true
    },
    "kernelspec": {
      "name": "python3",
      "display_name": "Python 3"
    },
    "language_info": {
      "name": "python"
    }
  },
  "cells": [
    {
      "cell_type": "markdown",
      "metadata": {
        "id": "view-in-github",
        "colab_type": "text"
      },
      "source": [
        "<a href=\"https://colab.research.google.com/github/Ekliipce/Machine-Learning-for-Biomedical/blob/main/eeg/EEG_and_alcohol.ipynb\" target=\"_parent\"><img src=\"https://colab.research.google.com/assets/colab-badge.svg\" alt=\"Open In Colab\"/></a>"
      ]
    },
    {
      "cell_type": "markdown",
      "source": [
        "# Electroencephalogram (EEG) and alcohol\n",
        "\n",
        "\n",
        "## **EEG**\n",
        "#### **What is EEG ?**\n",
        "An electroencephalogram (EEG) is a test that records the brain's electrical activity noninvasively through electrodes placed on the scalp. The procedure involves placing these electrodes that are connected by wires to a computer, which then records and analyzes the electrical impulses in the brain. EEG is used for diagnosing and managing brain-related disorders like epilepsy, monitoring brain activity during surgeries, and conducting neuroscience research.\n",
        "\n",
        "EEG patterns, consisting of different waves, are analyzed to understand normal or abnormal brain function. The procedure is safe, though preparation is required, and it might be slightly uncomfortable. EEG primarily detects activity in the brain's cortex with limited spatial resolution and can be affected by various factors like age and medication. Unlike MRI and CT scans that visualize brain structure, EEG captures real-time activity, making it a valuable tool in neuroscience and medicine.\n",
        "<br><br>\n",
        "#### **What does an EEG help diagnose?**\n",
        "\n",
        "EEG is used primarily to diagnose conditions that affect brain activity. It’s particularly useful in identifying epilepsy and other seizure disorders by capturing the electrical activity of the brain. Besides, EEG can also help diagnose or manage other conditions like sleep disorders, depth of anesthesia, coma, encephalopathies, brain death, and certain psychiatric disorders. It is often used in conjunction with other diagnostic tools to provide comprehensive insights into brain health and function.\n",
        "<br><br>\n",
        "\n",
        "#### **What factors can influence the results of an EEG?**\n",
        "\n",
        "Various factors can influence EEG results. Medications (such as sedatives, anti-epileptic drugs) can alter electrical activity in the brain, affecting the test's findings. The patient's age and overall brain development can also play a role in the results. The physical and mental state of the patient during the test, like being stressed, relaxed, asleep, or awake, can also influence the brain's electrical activity. External interference from electronic devices and not following preparatory instructions (like washing hair to ensure good electrode contact) can also impact the data quality and test outcomes.\n",
        "<br><br>\n",
        "#### **How reliable is EEG in diagnosing various brain disorders?**\n",
        "\n",
        "EEG is a reliable tool for diagnosing disorders related to abnormal brain activity, like epilepsy. However, its reliability can be influenced by the technician's skill, the patient's cooperation, and the above-mentioned factors that might affect the results. While EEG provides valuable real-time data on brain function, it might not catch intermittent or infrequent abnormalities in brain activity if they don't occur during the test. Therefore, it's often used alongside other diagnostic methods, like MRI or CT scans, to provide a more complete picture of brain health and accurate diagnosis.\n",
        "\n",
        "\n",
        "## **Brain and Alcohol**\n",
        "https://www.ncbi.nlm.nih.gov/pmc/articles/PMC6668890/ searched deeper for Alcoholism and Human Electrophysiology.\n",
        "\n",
        "Interestingly, the article suggests that the observed electrical abnormalities in the brains of alcoholics might not be a result of alcohol consumption per se, but rather a pre-existing condition, possibly serving as a risk marker for alcoholism. Some of these electrical characteristics, such as increased resting beta power and decreased active theta oscillations during cognitive tasks, have also been identified in individuals at high risk for developing alcoholism, even before any exposure to alcohol. Therefore, the text proposes that an inherent imbalance in CNS excitation and inhibition might predispose individuals to alcoholism. This imbalance is suggested to not only contribute to the risk of developing alcoholism but might also offer insights into the neurobiology of craving and relapse in alcoholism"
      ],
      "metadata": {
        "id": "6tm0yL_-1ejp"
      }
    },
    {
      "cell_type": "markdown",
      "source": [
        "## Dataset"
      ],
      "metadata": {
        "id": "_XVE5f16DIHp"
      }
    },
    {
      "cell_type": "code",
      "source": [
        "!wget https://archive.ics.uci.edu/static/public/121/eeg+database.zip"
      ],
      "metadata": {
        "id": "ALiEZgpwFTnv",
        "outputId": "f466a14e-0508-4e60-f247-695aac3f5d94",
        "colab": {
          "base_uri": "https://localhost:8080/"
        }
      },
      "execution_count": 1,
      "outputs": [
        {
          "output_type": "stream",
          "name": "stdout",
          "text": [
            "--2023-10-06 08:24:44--  https://archive.ics.uci.edu/static/public/121/eeg+database.zip\n",
            "Resolving archive.ics.uci.edu (archive.ics.uci.edu)... 128.195.10.252\n",
            "Connecting to archive.ics.uci.edu (archive.ics.uci.edu)|128.195.10.252|:443... connected.\n",
            "HTTP request sent, awaiting response... 200 OK\n",
            "Length: unspecified\n",
            "Saving to: ‘eeg+database.zip’\n",
            "\n",
            "eeg+database.zip        [        <=>         ] 762.44M  41.5MB/s    in 19s     \n",
            "\n",
            "2023-10-06 08:25:03 (40.4 MB/s) - ‘eeg+database.zip’ saved [799481741]\n",
            "\n"
          ]
        }
      ]
    },
    {
      "cell_type": "code",
      "source": [
        "!unzip eeg+database.zip"
      ],
      "metadata": {
        "id": "kMR6Fti7EVPx",
        "outputId": "b8e666a5-9a99-43b6-8c8a-9a42b424c4d6",
        "colab": {
          "base_uri": "https://localhost:8080/"
        }
      },
      "execution_count": 2,
      "outputs": [
        {
          "output_type": "stream",
          "name": "stdout",
          "text": [
            "Archive:  eeg+database.zip\n",
            "  inflating: SMNI_CMI_TEST.tar.gz    \n",
            "  inflating: SMNI_CMI_TRAIN.tar.gz   \n",
            "  inflating: alcoholic.gif           \n",
            "  inflating: control.gif             \n",
            "  inflating: eeg.data.html           \n",
            "  inflating: eeg.full.html           \n",
            "  inflating: eeg.html                \n",
            "   creating: eeg_full/\n",
            "  inflating: eeg_full/co2a0000364.tar.gz  \n",
            "  inflating: eeg_full/co2a0000365.tar.gz  \n",
            "  inflating: eeg_full/co2a0000368.tar.gz  \n",
            "  inflating: eeg_full/co2a0000369.tar.gz  \n",
            "  inflating: eeg_full/co2a0000370.tar.gz  \n",
            "  inflating: eeg_full/co2a0000371.tar.gz  \n",
            "  inflating: eeg_full/co2a0000372.tar.gz  \n",
            "  inflating: eeg_full/co2a0000375.tar.gz  \n",
            "  inflating: eeg_full/co2a0000377.tar.gz  \n",
            "  inflating: eeg_full/co2a0000378.tar.gz  \n",
            "  inflating: eeg_full/co2a0000379.tar.gz  \n",
            "  inflating: eeg_full/co2a0000380.tar.gz  \n",
            "  inflating: eeg_full/co2a0000381.tar.gz  \n",
            "  inflating: eeg_full/co2a0000382.tar.gz  \n",
            "  inflating: eeg_full/co2a0000384.tar.gz  \n",
            "  inflating: eeg_full/co2a0000385.tar.gz  \n",
            "  inflating: eeg_full/co2a0000386.tar.gz  \n",
            "  inflating: eeg_full/co2a0000387.tar.gz  \n",
            "  inflating: eeg_full/co2a0000388.tar.gz  \n",
            "  inflating: eeg_full/co2a0000390.tar.gz  \n",
            "  inflating: eeg_full/co2a0000392.tar.gz  \n",
            "  inflating: eeg_full/co2a0000394.tar.gz  \n",
            "  inflating: eeg_full/co2a0000395.tar.gz  \n",
            "  inflating: eeg_full/co2a0000396.tar.gz  \n",
            "  inflating: eeg_full/co2a0000398.tar.gz  \n",
            "  inflating: eeg_full/co2a0000400.tar.gz  \n",
            "  inflating: eeg_full/co2a0000402.tar.gz  \n",
            "  inflating: eeg_full/co2a0000403.tar.gz  \n",
            "  inflating: eeg_full/co2a0000404.tar.gz  \n",
            "  inflating: eeg_full/co2a0000405.tar.gz  \n",
            "  inflating: eeg_full/co2a0000406.tar.gz  \n",
            "  inflating: eeg_full/co2a0000407.tar.gz  \n",
            "  inflating: eeg_full/co2a0000409.tar.gz  \n",
            "  inflating: eeg_full/co2a0000410.tar.gz  \n",
            "  inflating: eeg_full/co2a0000411.tar.gz  \n",
            "  inflating: eeg_full/co2a0000412.tar.gz  \n",
            "  inflating: eeg_full/co2a0000414.tar.gz  \n",
            "  inflating: eeg_full/co2a0000415.tar.gz  \n",
            "  inflating: eeg_full/co2a0000416.tar.gz  \n",
            "  inflating: eeg_full/co2a0000417.tar.gz  \n",
            "  inflating: eeg_full/co2a0000418.tar.gz  \n",
            "  inflating: eeg_full/co2a0000419.tar.gz  \n",
            "  inflating: eeg_full/co2a0000421.tar.gz  \n",
            "  inflating: eeg_full/co2a0000422.tar.gz  \n",
            "  inflating: eeg_full/co2a0000423.tar.gz  \n",
            "  inflating: eeg_full/co2a0000424.tar.gz  \n",
            "  inflating: eeg_full/co2a0000425.tar.gz  \n",
            "  inflating: eeg_full/co2a0000426.tar.gz  \n",
            "  inflating: eeg_full/co2a0000427.tar.gz  \n",
            "  inflating: eeg_full/co2a0000428.tar.gz  \n",
            "  inflating: eeg_full/co2a0000429.tar.gz  \n",
            "  inflating: eeg_full/co2a0000430.tar.gz  \n",
            "  inflating: eeg_full/co2a0000432.tar.gz  \n",
            "  inflating: eeg_full/co2a0000433.tar.gz  \n",
            "  inflating: eeg_full/co2a0000434.tar.gz  \n",
            "  inflating: eeg_full/co2a0000435.tar.gz  \n",
            "  inflating: eeg_full/co2a0000436.tar.gz  \n",
            "  inflating: eeg_full/co2a0000437.tar.gz  \n",
            "  inflating: eeg_full/co2a0000438.tar.gz  \n",
            "  inflating: eeg_full/co2a0000439.tar.gz  \n",
            "  inflating: eeg_full/co2a0000440.tar.gz  \n",
            "  inflating: eeg_full/co2a0000443.tar.gz  \n",
            "  inflating: eeg_full/co2a0000444.tar.gz  \n",
            "  inflating: eeg_full/co2a0000445.tar.gz  \n",
            "  inflating: eeg_full/co2a0000447.tar.gz  \n",
            "  inflating: eeg_full/co2c0000337.tar.gz  \n",
            "  inflating: eeg_full/co2c0000338.tar.gz  \n",
            "  inflating: eeg_full/co2c0000339.tar.gz  \n",
            "  inflating: eeg_full/co2c0000340.tar.gz  \n",
            "  inflating: eeg_full/co2c0000341.tar.gz  \n",
            "  inflating: eeg_full/co2c0000342.tar.gz  \n",
            "  inflating: eeg_full/co2c0000344.tar.gz  \n",
            "  inflating: eeg_full/co2c0000345.tar.gz  \n",
            "  inflating: eeg_full/co2c0000346.tar.gz  \n",
            "  inflating: eeg_full/co2c0000347.tar.gz  \n",
            "  inflating: eeg_full/co2c0000348.tar.gz  \n",
            "  inflating: eeg_full/co2c0000351.tar.gz  \n",
            "  inflating: eeg_full/co2c0000352.tar.gz  \n",
            "  inflating: eeg_full/co2c0000354.tar.gz  \n",
            "  inflating: eeg_full/co2c0000355.tar.gz  \n",
            "  inflating: eeg_full/co2c0000356.tar.gz  \n",
            "  inflating: eeg_full/co2c0000357.tar.gz  \n",
            "  inflating: eeg_full/co2c0000359.tar.gz  \n",
            "  inflating: eeg_full/co2c0000362.tar.gz  \n",
            "  inflating: eeg_full/co2c0000363.tar.gz  \n",
            "  inflating: eeg_full/co2c0000364.tar.gz  \n",
            "  inflating: eeg_full/co2c0000367.tar.gz  \n",
            "  inflating: eeg_full/co2c0000370.tar.gz  \n",
            "  inflating: eeg_full/co2c0000371.tar.gz  \n",
            "  inflating: eeg_full/co2c0000373.tar.gz  \n",
            "  inflating: eeg_full/co2c0000374.tar.gz  \n",
            "  inflating: eeg_full/co2c0000378.tar.gz  \n",
            "  inflating: eeg_full/co2c0000379.tar.gz  \n",
            "  inflating: eeg_full/co2c0000381.tar.gz  \n",
            "  inflating: eeg_full/co2c0000382.tar.gz  \n",
            "  inflating: eeg_full/co2c0000383.tar.gz  \n",
            "  inflating: eeg_full/co2c0000384.tar.gz  \n",
            "  inflating: eeg_full/co2c0000387.tar.gz  \n",
            "  inflating: eeg_full/co2c0000388.tar.gz  \n",
            "  inflating: eeg_full/co2c0000389.tar.gz  \n",
            "  inflating: eeg_full/co2c0000390.tar.gz  \n",
            "  inflating: eeg_full/co2c0000391.tar.gz  \n",
            "  inflating: eeg_full/co2c0000392.tar.gz  \n",
            "  inflating: eeg_full/co2c0000393.tar.gz  \n",
            "  inflating: eeg_full/co2c0000394.tar.gz  \n",
            "  inflating: eeg_full/co2c0000395.tar.gz  \n",
            "  inflating: eeg_full/co2c0000396.tar.gz  \n",
            "  inflating: eeg_full/co2c0000397.tar.gz  \n",
            "  inflating: eeg_full/co2c1000367.tar.gz  \n",
            "  inflating: eeg_full/co3a0000448.tar.gz  \n",
            "  inflating: eeg_full/co3a0000450.tar.gz  \n",
            "  inflating: eeg_full/co3a0000451.tar.gz  \n",
            "  inflating: eeg_full/co3a0000453.tar.gz  \n",
            "  inflating: eeg_full/co3a0000454.tar.gz  \n",
            "  inflating: eeg_full/co3a0000455.tar.gz  \n",
            "  inflating: eeg_full/co3a0000456.tar.gz  \n",
            "  inflating: eeg_full/co3a0000457.tar.gz  \n",
            "  inflating: eeg_full/co3a0000458.tar.gz  \n",
            "  inflating: eeg_full/co3a0000459.tar.gz  \n",
            "  inflating: eeg_full/co3a0000460.tar.gz  \n",
            "  inflating: eeg_full/co3a0000461.tar.gz  \n",
            "  inflating: eeg_full/co3c0000402.tar.gz  \n",
            "    linking: eeg_full.tar            -> ../../../../../kdd0/databases/eeg/eeg_full.tar \n",
            "  inflating: smni_eeg_data.tar.gz    \n",
            "finishing deferred symbolic links:\n",
            "  eeg_full.tar           -> ../../../../../kdd0/databases/eeg/eeg_full.tar\n"
          ]
        }
      ]
    },
    {
      "cell_type": "code",
      "source": [
        "!tar -cvf SMNI_CMI_TEST.tar.gz\n",
        "!tar -cvf SMNI_CMI_TRAIN.tar.gz"
      ],
      "metadata": {
        "id": "y4VL-Au2FZLx"
      },
      "execution_count": 4,
      "outputs": []
    },
    {
      "cell_type": "code",
      "source": [
        "!gunzip -k SMNI_CMI_TRAIN/*/*.gz\n",
        "!rm SMNI_CMI_TRAIN/*/*.gz"
      ],
      "metadata": {
        "id": "DyvULzjhJuzk",
        "outputId": "4d5b0721-2602-406e-8327-92baa011e72d",
        "colab": {
          "base_uri": "https://localhost:8080/"
        }
      },
      "execution_count": 10,
      "outputs": [
        {
          "output_type": "stream",
          "name": "stdout",
          "text": [
            "gzip: SMNI_CMI_TRAIN/co2a0000364/co2a0000364.rd.000 already exists; do you wish to overwrite (y or n)? n\n",
            "\tnot overwritten\n",
            "gzip: SMNI_CMI_TRAIN/co2a0000364/co2a0000364.rd.002 already exists; do you wish to overwrite (y or n)? n\n",
            "\tnot overwritten\n",
            "gzip: SMNI_CMI_TRAIN/co2a0000364/co2a0000364.rd.007 already exists; do you wish to overwrite (y or n)? n\n",
            "\tnot overwritten\n",
            "gzip: SMNI_CMI_TRAIN/co2a0000364/co2a0000364.rd.009 already exists; do you wish to overwrite (y or n)? n\n",
            "\tnot overwritten\n",
            "gzip: SMNI_CMI_TRAIN/co2a0000364/co2a0000364.rd.010 already exists; do you wish to overwrite (y or n)? n\n",
            "\tnot overwritten\n",
            "gzip: SMNI_CMI_TRAIN/co2a0000364/co2a0000364.rd.012 already exists; do you wish to overwrite (y or n)? n\n",
            "\tnot overwritten\n",
            "gzip: SMNI_CMI_TRAIN/co2a0000364/co2a0000364.rd.014 already exists; do you wish to overwrite (y or n)? n\n",
            "\tnot overwritten\n",
            "gzip: SMNI_CMI_TRAIN/co2a0000364/co2a0000364.rd.015 already exists; do you wish to overwrite (y or n)? n\n",
            "\tnot overwritten\n",
            "gzip: SMNI_CMI_TRAIN/co2a0000364/co2a0000364.rd.017 already exists; do you wish to overwrite (y or n)? n\n",
            "\tnot overwritten\n",
            "gzip: SMNI_CMI_TRAIN/co2a0000364/co2a0000364.rd.018 already exists; do you wish to overwrite (y or n)? n\n",
            "\tnot overwritten\n",
            "gzip: SMNI_CMI_TRAIN/co2a0000364/co2a0000364.rd.019 already exists; do you wish to overwrite (y or n)? n\n",
            "\tnot overwritten\n",
            "gzip: SMNI_CMI_TRAIN/co2a0000364/co2a0000364.rd.020 already exists; do you wish to overwrite (y or n)? n\n",
            "\tnot overwritten\n",
            "gzip: SMNI_CMI_TRAIN/co2a0000364/co2a0000364.rd.022 already exists; do you wish to overwrite (y or n)? n\n",
            "\tnot overwritten\n",
            "gzip: SMNI_CMI_TRAIN/co2a0000364/co2a0000364.rd.023 already exists; do you wish to overwrite (y or n)? n\n",
            "\tnot overwritten\n",
            "gzip: SMNI_CMI_TRAIN/co2a0000364/co2a0000364.rd.024 already exists; do you wish to overwrite (y or n)? n\n",
            "\tnot overwritten\n",
            "gzip: SMNI_CMI_TRAIN/co2a0000364/co2a0000364.rd.025 already exists; do you wish to overwrite (y or n)? n\n",
            "\tnot overwritten\n",
            "gzip: SMNI_CMI_TRAIN/co2a0000364/co2a0000364.rd.027 already exists; do you wish to overwrite (y or n)? n\n",
            "\tnot overwritten\n",
            "gzip: SMNI_CMI_TRAIN/co2a0000364/co2a0000364.rd.028 already exists; do you wish to overwrite (y or n)? n\n",
            "\tnot overwritten\n",
            "gzip: SMNI_CMI_TRAIN/co2a0000364/co2a0000364.rd.031 already exists; do you wish to overwrite (y or n)? n\n",
            "\tnot overwritten\n",
            "gzip: SMNI_CMI_TRAIN/co2a0000364/co2a0000364.rd.037 already exists; do you wish to overwrite (y or n)? n\n",
            "\tnot overwritten\n",
            "gzip: SMNI_CMI_TRAIN/co2a0000364/co2a0000364.rd.039 already exists; do you wish to overwrite (y or n)? n\n",
            "\tnot overwritten\n",
            "gzip: SMNI_CMI_TRAIN/co2a0000364/co2a0000364.rd.041 already exists; do you wish to overwrite (y or n)? n\n",
            "\tnot overwritten\n",
            "gzip: SMNI_CMI_TRAIN/co2a0000364/co2a0000364.rd.043 already exists; do you wish to overwrite (y or n)? n\n",
            "\tnot overwritten\n",
            "gzip: SMNI_CMI_TRAIN/co2a0000364/co2a0000364.rd.045 already exists; do you wish to overwrite (y or n)? n\n",
            "\tnot overwritten\n",
            "gzip: SMNI_CMI_TRAIN/co2a0000364/co2a0000364.rd.047 already exists; do you wish to overwrite (y or n)? n\n",
            "\tnot overwritten\n",
            "gzip: SMNI_CMI_TRAIN/co2a0000364/co2a0000364.rd.049 already exists; do you wish to overwrite (y or n)? n\n",
            "\tnot overwritten\n",
            "gzip: SMNI_CMI_TRAIN/co2a0000364/co2a0000364.rd.055 already exists; do you wish to overwrite (y or n)? n\n",
            "\tnot overwritten\n",
            "gzip: SMNI_CMI_TRAIN/co2a0000364/co2a0000364.rd.057 already exists; do you wish to overwrite (y or n)? n\n",
            "\tnot overwritten\n",
            "gzip: SMNI_CMI_TRAIN/co2a0000364/co2a0000364.rd.059 already exists; do you wish to overwrite (y or n)? n\n",
            "\tnot overwritten\n",
            "gzip: SMNI_CMI_TRAIN/co2a0000364/co2a0000364.rd.061 already exists; do you wish to overwrite (y or n)? n\n",
            "\tnot overwritten\n",
            "n\n",
            "n\n"
          ]
        }
      ]
    },
    {
      "cell_type": "code",
      "source": [
        "!pip install mne"
      ],
      "metadata": {
        "id": "jDTlqnzQGbcw",
        "outputId": "ab00adfc-4cbc-4517-959f-1dbb7dc7a3fe",
        "colab": {
          "base_uri": "https://localhost:8080/"
        }
      },
      "execution_count": 12,
      "outputs": [
        {
          "output_type": "stream",
          "name": "stdout",
          "text": [
            "Collecting mne\n",
            "  Downloading mne-1.5.1-py3-none-any.whl (7.7 MB)\n",
            "\u001b[2K     \u001b[90m━━━━━━━━━━━━━━━━━━━━━━━━━━━━━━━━━━━━━━━━\u001b[0m \u001b[32m7.7/7.7 MB\u001b[0m \u001b[31m15.1 MB/s\u001b[0m eta \u001b[36m0:00:00\u001b[0m\n",
            "\u001b[?25hRequirement already satisfied: numpy>=1.15.4 in /usr/local/lib/python3.10/dist-packages (from mne) (1.23.5)\n",
            "Requirement already satisfied: scipy>=1.6.3 in /usr/local/lib/python3.10/dist-packages (from mne) (1.11.3)\n",
            "Requirement already satisfied: matplotlib>=3.4.0 in /usr/local/lib/python3.10/dist-packages (from mne) (3.7.1)\n",
            "Requirement already satisfied: tqdm in /usr/local/lib/python3.10/dist-packages (from mne) (4.66.1)\n",
            "Requirement already satisfied: pooch>=1.5 in /usr/local/lib/python3.10/dist-packages (from mne) (1.7.0)\n",
            "Requirement already satisfied: decorator in /usr/local/lib/python3.10/dist-packages (from mne) (4.4.2)\n",
            "Requirement already satisfied: packaging in /usr/local/lib/python3.10/dist-packages (from mne) (23.2)\n",
            "Requirement already satisfied: jinja2 in /usr/local/lib/python3.10/dist-packages (from mne) (3.1.2)\n",
            "Requirement already satisfied: contourpy>=1.0.1 in /usr/local/lib/python3.10/dist-packages (from matplotlib>=3.4.0->mne) (1.1.1)\n",
            "Requirement already satisfied: cycler>=0.10 in /usr/local/lib/python3.10/dist-packages (from matplotlib>=3.4.0->mne) (0.12.0)\n",
            "Requirement already satisfied: fonttools>=4.22.0 in /usr/local/lib/python3.10/dist-packages (from matplotlib>=3.4.0->mne) (4.43.0)\n",
            "Requirement already satisfied: kiwisolver>=1.0.1 in /usr/local/lib/python3.10/dist-packages (from matplotlib>=3.4.0->mne) (1.4.5)\n",
            "Requirement already satisfied: pillow>=6.2.0 in /usr/local/lib/python3.10/dist-packages (from matplotlib>=3.4.0->mne) (9.4.0)\n",
            "Requirement already satisfied: pyparsing>=2.3.1 in /usr/local/lib/python3.10/dist-packages (from matplotlib>=3.4.0->mne) (3.1.1)\n",
            "Requirement already satisfied: python-dateutil>=2.7 in /usr/local/lib/python3.10/dist-packages (from matplotlib>=3.4.0->mne) (2.8.2)\n",
            "Requirement already satisfied: platformdirs>=2.5.0 in /usr/local/lib/python3.10/dist-packages (from pooch>=1.5->mne) (3.11.0)\n",
            "Requirement already satisfied: requests>=2.19.0 in /usr/local/lib/python3.10/dist-packages (from pooch>=1.5->mne) (2.31.0)\n",
            "Requirement already satisfied: MarkupSafe>=2.0 in /usr/local/lib/python3.10/dist-packages (from jinja2->mne) (2.1.3)\n",
            "Requirement already satisfied: six>=1.5 in /usr/local/lib/python3.10/dist-packages (from python-dateutil>=2.7->matplotlib>=3.4.0->mne) (1.16.0)\n",
            "Requirement already satisfied: charset-normalizer<4,>=2 in /usr/local/lib/python3.10/dist-packages (from requests>=2.19.0->pooch>=1.5->mne) (3.3.0)\n",
            "Requirement already satisfied: idna<4,>=2.5 in /usr/local/lib/python3.10/dist-packages (from requests>=2.19.0->pooch>=1.5->mne) (3.4)\n",
            "Requirement already satisfied: urllib3<3,>=1.21.1 in /usr/local/lib/python3.10/dist-packages (from requests>=2.19.0->pooch>=1.5->mne) (2.0.6)\n",
            "Requirement already satisfied: certifi>=2017.4.17 in /usr/local/lib/python3.10/dist-packages (from requests>=2.19.0->pooch>=1.5->mne) (2023.7.22)\n",
            "Installing collected packages: mne\n",
            "Successfully installed mne-1.5.1\n"
          ]
        }
      ]
    },
    {
      "cell_type": "code",
      "source": [
        "import mne\n",
        "import numpy as np"
      ],
      "metadata": {
        "id": "LiHjCsmKc7aN"
      },
      "execution_count": 14,
      "outputs": []
    },
    {
      "cell_type": "code",
      "source": [
        "file = 'SMNI_CMI_TRAIN/co2a0000364/co2a0000364.rd.000'\n",
        "\n",
        "with open(file) as f:\n",
        "  lines = f.readlines()\n",
        "\n",
        "  data = []\n",
        "\n",
        "  for line in lines:\n",
        "    if (not line.startswith('#')):\n",
        "      line_split = line.split()\n",
        "      values = line_split[-1]\n",
        "      data.append(values)\n",
        "\n",
        "data = np.array(data, dtype=\"float\").reshape((64, -1))\n",
        "data"
      ],
      "metadata": {
        "id": "ibzhKdbAc9S-",
        "outputId": "3d54478d-f904-4be5-c9ef-cbda88078192",
        "colab": {
          "base_uri": "https://localhost:8080/"
        }
      },
      "execution_count": 35,
      "outputs": [
        {
          "output_type": "execute_result",
          "data": {
            "text/plain": [
              "array([[ -8.921,  -8.433,  -2.574, ...,   4.262,   5.727,   8.169],\n",
              "       [  0.834,   3.276,   5.717, ...,   2.787,   9.623,  13.041],\n",
              "       [-19.847, -12.522,   1.149, ...,   7.009,  11.403,  12.868],\n",
              "       ...,\n",
              "       [ -0.478,  -0.966,  -0.966, ...,   4.405,   3.916,   2.94 ],\n",
              "       [ -8.901,  -7.924,  -3.042, ...,   4.771,   6.236,   8.677],\n",
              "       [ -5.636,  -2.706,   1.689, ...,  15.849,  16.337,  14.872]])"
            ]
          },
          "metadata": {},
          "execution_count": 35
        }
      ]
    },
    {
      "cell_type": "code",
      "source": [],
      "metadata": {
        "id": "cvp3MSXJfuH4"
      },
      "execution_count": null,
      "outputs": []
    }
  ]
}