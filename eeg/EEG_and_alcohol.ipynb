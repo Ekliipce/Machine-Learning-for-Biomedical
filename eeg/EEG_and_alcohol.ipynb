{
  "nbformat": 4,
  "nbformat_minor": 0,
  "metadata": {
    "colab": {
      "provenance": [],
      "gpuType": "T4",
      "include_colab_link": true
    },
    "kernelspec": {
      "name": "python3",
      "display_name": "Python 3"
    },
    "language_info": {
      "name": "python"
    },
    "accelerator": "GPU"
  },
  "cells": [
    {
      "cell_type": "markdown",
      "metadata": {
        "id": "view-in-github",
        "colab_type": "text"
      },
      "source": [
        "<a href=\"https://colab.research.google.com/github/Ekliipce/Machine-Learning-for-Biomedical/blob/pre-processing/eeg/EEG_and_alcohol.ipynb\" target=\"_parent\"><img src=\"https://colab.research.google.com/assets/colab-badge.svg\" alt=\"Open In Colab\"/></a>"
      ]
    },
    {
      "cell_type": "markdown",
      "source": [
        "# Electroencephalogram (EEG) and alcohol\n",
        "\n",
        "\n",
        "## **EEG**\n",
        "#### **What is EEG ?**\n",
        "An electroencephalogram (EEG) is a test that records the brain's electrical activity noninvasively through electrodes placed on the scalp. The procedure involves placing these electrodes that are connected by wires to a computer, which then records and analyzes the electrical impulses in the brain. EEG is used for diagnosing and managing brain-related disorders like epilepsy, monitoring brain activity during surgeries, and conducting neuroscience research.\n",
        "\n",
        "EEG patterns, consisting of different waves, are analyzed to understand normal or abnormal brain function. The procedure is safe, though preparation is required, and it might be slightly uncomfortable. EEG primarily detects activity in the brain's cortex with limited spatial resolution and can be affected by various factors like age and medication. Unlike MRI and CT scans that visualize brain structure, EEG captures real-time activity, making it a valuable tool in neuroscience and medicine.\n",
        "<br><br>\n",
        "#### **What does an EEG help diagnose?**\n",
        "\n",
        "EEG is used primarily to diagnose conditions that affect brain activity. It’s particularly useful in identifying epilepsy and other seizure disorders by capturing the electrical activity of the brain. Besides, EEG can also help diagnose or manage other conditions like sleep disorders, depth of anesthesia, coma, encephalopathies, brain death, and certain psychiatric disorders. It is often used in conjunction with other diagnostic tools to provide comprehensive insights into brain health and function.\n",
        "<br><br>\n",
        "\n",
        "#### **What factors can influence the results of an EEG?**\n",
        "\n",
        "Various factors can influence EEG results. Medications (such as sedatives, anti-epileptic drugs) can alter electrical activity in the brain, affecting the test's findings. The patient's age and overall brain development can also play a role in the results. The physical and mental state of the patient during the test, like being stressed, relaxed, asleep, or awake, can also influence the brain's electrical activity. External interference from electronic devices and not following preparatory instructions (like washing hair to ensure good electrode contact) can also impact the data quality and test outcomes.\n",
        "<br><br>\n",
        "#### **How reliable is EEG in diagnosing various brain disorders?**\n",
        "\n",
        "EEG is a reliable tool for diagnosing disorders related to abnormal brain activity, like epilepsy. However, its reliability can be influenced by the technician's skill, the patient's cooperation, and the above-mentioned factors that might affect the results. While EEG provides valuable real-time data on brain function, it might not catch intermittent or infrequent abnormalities in brain activity if they don't occur during the test. Therefore, it's often used alongside other diagnostic methods, like MRI or CT scans, to provide a more complete picture of brain health and accurate diagnosis.\n",
        "\n",
        "\n",
        "## **Brain and Alcohol**\n",
        "https://www.ncbi.nlm.nih.gov/pmc/articles/PMC6668890/ searched deeper for Alcoholism and Human Electrophysiology.\n",
        "\n",
        "Interestingly, the article suggests that the observed electrical abnormalities in the brains of alcoholics might not be a result of alcohol consumption per se, but rather a pre-existing condition, possibly serving as a risk marker for alcoholism. Some of these electrical characteristics, such as increased resting beta power and decreased active theta oscillations during cognitive tasks, have also been identified in individuals at high risk for developing alcoholism, even before any exposure to alcohol. Therefore, the text proposes that an inherent imbalance in CNS excitation and inhibition might predispose individuals to alcoholism. This imbalance is suggested to not only contribute to the risk of developing alcoholism but might also offer insights into the neurobiology of craving and relapse in alcoholism"
      ],
      "metadata": {
        "id": "6tm0yL_-1ejp"
      }
    },
    {
      "cell_type": "markdown",
      "source": [
        "## Dataset"
      ],
      "metadata": {
        "id": "_XVE5f16DIHp"
      }
    },
    {
      "cell_type": "code",
      "source": [
        "%%shell\n",
        "wget https://archive.ics.uci.edu/static/public/121/eeg+database.zip\n",
        "unzip -q eeg+database.zip\n",
        "gunzip -k eeg_full/*.gz\n",
        "for file in eeg_full/*.tar; do tar -xf $file -C eeg_full; done\n",
        "gunzip -k eeg_full/*/*.gz\n",
        "rm eeg_full/*.tar.gz eeg_full/*.tar eeg_full/*/*.gz\n",
        "mkdir train\n",
        "mkdir test"
      ],
      "metadata": {
        "id": "3LxuHT89TyvA",
        "outputId": "564f4eff-af0e-4c7e-fc6d-1d829a4d7fdb",
        "colab": {
          "base_uri": "https://localhost:8080/"
        }
      },
      "execution_count": 1,
      "outputs": [
        {
          "output_type": "stream",
          "name": "stdout",
          "text": [
            "--2023-10-13 15:46:42--  https://archive.ics.uci.edu/static/public/121/eeg+database.zip\n",
            "Resolving archive.ics.uci.edu (archive.ics.uci.edu)... 128.195.10.252\n",
            "Connecting to archive.ics.uci.edu (archive.ics.uci.edu)|128.195.10.252|:443... connected.\n",
            "HTTP request sent, awaiting response... 200 OK\n",
            "Length: unspecified\n",
            "Saving to: ‘eeg+database.zip’\n",
            "\n",
            "eeg+database.zip        [       <=>          ] 762.44M  64.0MB/s    in 12s     \n",
            "\n",
            "2023-10-13 15:46:54 (61.9 MB/s) - ‘eeg+database.zip’ saved [799481741]\n",
            "\n"
          ]
        },
        {
          "output_type": "execute_result",
          "data": {
            "text/plain": []
          },
          "metadata": {},
          "execution_count": 1
        }
      ]
    },
    {
      "cell_type": "code",
      "source": [],
      "metadata": {
        "id": "RLC6MuxOtCXn"
      },
      "execution_count": 1,
      "outputs": []
    },
    {
      "cell_type": "code",
      "source": [
        "! echo 'file_name' > eeg_full.csv\n",
        "! find eeg_full -type f -exec bash -c '[[ $(wc -l < \"$1\") -gt 4 ]]' _ {} \\; -print >> eeg_full.csv"
      ],
      "metadata": {
        "id": "1Hrmsh7Gs9MD"
      },
      "execution_count": 2,
      "outputs": []
    },
    {
      "cell_type": "code",
      "source": [
        "!pip install -q -U mne"
      ],
      "metadata": {
        "id": "bB2LPGMs3D_Y",
        "outputId": "b00bf8b5-2611-4f15-ccca-ed8579b488b9",
        "colab": {
          "base_uri": "https://localhost:8080/"
        }
      },
      "execution_count": 3,
      "outputs": [
        {
          "output_type": "stream",
          "name": "stdout",
          "text": [
            "\u001b[?25l     \u001b[90m━━━━━━━━━━━━━━━━━━━━━━━━━━━━━━━━━━━━━━━━\u001b[0m \u001b[32m0.0/7.7 MB\u001b[0m \u001b[31m?\u001b[0m eta \u001b[36m-:--:--\u001b[0m\r\u001b[2K     \u001b[91m╸\u001b[0m\u001b[90m━━━━━━━━━━━━━━━━━━━━━━━━━━━━━━━━━━━━━━━\u001b[0m \u001b[32m0.1/7.7 MB\u001b[0m \u001b[31m4.6 MB/s\u001b[0m eta \u001b[36m0:00:02\u001b[0m\r\u001b[2K     \u001b[91m━━━━━━━━━\u001b[0m\u001b[90m╺\u001b[0m\u001b[90m━━━━━━━━━━━━━━━━━━━━━━━━━━━━━━\u001b[0m \u001b[32m1.7/7.7 MB\u001b[0m \u001b[31m25.9 MB/s\u001b[0m eta \u001b[36m0:00:01\u001b[0m\r\u001b[2K     \u001b[91m━━━━━━━━━━━━━━━━━━━━━━━━━━━━━━━━━━━━━━━\u001b[0m\u001b[91m╸\u001b[0m \u001b[32m7.7/7.7 MB\u001b[0m \u001b[31m75.8 MB/s\u001b[0m eta \u001b[36m0:00:01\u001b[0m\r\u001b[2K     \u001b[90m━━━━━━━━━━━━━━━━━━━━━━━━━━━━━━━━━━━━━━━━\u001b[0m \u001b[32m7.7/7.7 MB\u001b[0m \u001b[31m56.9 MB/s\u001b[0m eta \u001b[36m0:00:00\u001b[0m\n",
            "\u001b[?25h"
          ]
        }
      ]
    },
    {
      "cell_type": "code",
      "source": [
        "import numpy as np\n",
        "import pandas as pd\n",
        "import matplotlib.pyplot as plt\n",
        "import re\n",
        "import mne\n",
        "import os\n",
        "\n",
        "from tqdm import tqdm\n",
        "import torch\n",
        "from torch.utils.data import Dataset"
      ],
      "metadata": {
        "id": "LiHjCsmKc7aN"
      },
      "execution_count": 4,
      "outputs": []
    },
    {
      "cell_type": "code",
      "source": [
        "def extract_raw_data(file):\n",
        "  with open(file) as f:\n",
        "    lines = f.readlines()\n",
        "\n",
        "    data = []\n",
        "    channel_names = []\n",
        "    is_Alcolic = lines[0][5] == 'a'\n",
        "    id_patient = int(lines[0][6:13])\n",
        "\n",
        "\n",
        "    if(len(lines)<=3):\n",
        "      return None,None,None\n",
        "\n",
        "    l3 = lines[3].split()\n",
        "    obj = l3[1]\n",
        "    trial = int(lines[4].split()[-1])\n",
        "\n",
        "\n",
        "    for line in lines[4:]:\n",
        "      line_split = line.split()\n",
        "\n",
        "      if (not line.startswith('#')):\n",
        "        values = line_split[-1]\n",
        "        data.append(values)\n",
        "      else :\n",
        "        ch_name = line_split[1]\n",
        "        channel_names.append(ch_name)\n",
        "\n",
        "    data = np.array(data, dtype=\"float\").reshape((64, -1)) * 1e-6\n",
        "    info = {\"his_id\" : id_patient,  \"is_Alcolic\" : is_Alcolic,'id': id_patient,\n",
        "            \"trial\": trial, \"obj\": obj}\n",
        "    return data, channel_names, info\n"
      ],
      "metadata": {
        "id": "ibzhKdbAc9S-"
      },
      "execution_count": 23,
      "outputs": []
    },
    {
      "cell_type": "code",
      "source": [
        "! cat /content/eeg_full/co2c1000367/co2c1000367.rd.089"
      ],
      "metadata": {
        "id": "cT6Usj_Vo6m4",
        "outputId": "b9cdeaa6-2375-454d-fba3-fbc40441cf09",
        "colab": {
          "base_uri": "https://localhost:8080/"
        }
      },
      "execution_count": 6,
      "outputs": [
        {
          "output_type": "stream",
          "name": "stdout",
          "text": [
            "# co2c1000367.rd\n",
            "# 120 trials, 64 chans, 416 samples 368 post_stim samples\n",
            "# 3.906000 msecs uV\n"
          ]
        }
      ]
    },
    {
      "cell_type": "code",
      "source": [
        "extract_raw_data('/content/eeg_full/co2c1000367/co2c1000367.rd.089')"
      ],
      "metadata": {
        "id": "mHtqlJoCoX2n",
        "outputId": "021d06f4-103b-4302-8614-ca0bbb8eb0c3",
        "colab": {
          "base_uri": "https://localhost:8080/"
        }
      },
      "execution_count": 7,
      "outputs": [
        {
          "output_type": "execute_result",
          "data": {
            "text/plain": [
              "(None, None, None)"
            ]
          },
          "metadata": {},
          "execution_count": 7
        }
      ]
    },
    {
      "cell_type": "code",
      "source": [
        "def save_raw_files(file, save=False, train=True):\n",
        "  file_name = file.split(\"/\")[-1].replace(\".\", \"_\") + \"_eeg\"\n",
        "\n",
        "  data, ch_names, info_patient = extract_raw_data(file)\n",
        "  if(data is None):\n",
        "    return None\n",
        "  info = mne.create_info(ch_names=ch_names, sfreq=256, ch_types='eeg')\n",
        "\n",
        "  raw = mne.io.RawArray(data=data, info=info, verbose=False)\n",
        "  raw.info['subject_info'] = info_patient\n",
        "\n",
        "\n",
        "  if (save):\n",
        "    dir = \"train\" if train else \"test\"\n",
        "    raw.save(f\"{dir}/{file_name}.fif\", overwrite=True, verbose=False)\n",
        "  return raw\n",
        "\n"
      ],
      "metadata": {
        "id": "i_smK-Rh6GA6"
      },
      "execution_count": 8,
      "outputs": []
    },
    {
      "cell_type": "code",
      "source": [
        "for dir_name, subdirs, files in tqdm(list(os.walk('/content/'))):\n",
        "    for file_name in files[1:]:\n",
        "      if ((\".rd.\") in file_name):\n",
        "        current_file = os.path.join(dir_name, file_name)\n",
        "        #train = \"TRAIN\" in current_file\n",
        "        save_raw_files(current_file, save=True)\n"
      ],
      "metadata": {
        "id": "4q_y4TYH3lVi",
        "outputId": "7edf355c-8437-419c-e2f1-a8edfd541acd",
        "colab": {
          "base_uri": "https://localhost:8080/",
          "height": 373
        }
      },
      "execution_count": 9,
      "outputs": [
        {
          "output_type": "stream",
          "name": "stderr",
          "text": [
            " 19%|█▉        | 25/131 [01:20<05:42,  3.23s/it]\n"
          ]
        },
        {
          "output_type": "error",
          "ename": "KeyboardInterrupt",
          "evalue": "ignored",
          "traceback": [
            "\u001b[0;31m---------------------------------------------------------------------------\u001b[0m",
            "\u001b[0;31mKeyboardInterrupt\u001b[0m                         Traceback (most recent call last)",
            "\u001b[0;32m<ipython-input-9-c5a931b6b188>\u001b[0m in \u001b[0;36m<cell line: 1>\u001b[0;34m()\u001b[0m\n\u001b[1;32m      4\u001b[0m         \u001b[0mcurrent_file\u001b[0m \u001b[0;34m=\u001b[0m \u001b[0mos\u001b[0m\u001b[0;34m.\u001b[0m\u001b[0mpath\u001b[0m\u001b[0;34m.\u001b[0m\u001b[0mjoin\u001b[0m\u001b[0;34m(\u001b[0m\u001b[0mdir_name\u001b[0m\u001b[0;34m,\u001b[0m \u001b[0mfile_name\u001b[0m\u001b[0;34m)\u001b[0m\u001b[0;34m\u001b[0m\u001b[0;34m\u001b[0m\u001b[0m\n\u001b[1;32m      5\u001b[0m         \u001b[0;31m#train = \"TRAIN\" in current_file\u001b[0m\u001b[0;34m\u001b[0m\u001b[0;34m\u001b[0m\u001b[0m\n\u001b[0;32m----> 6\u001b[0;31m         \u001b[0msave_raw_files\u001b[0m\u001b[0;34m(\u001b[0m\u001b[0mcurrent_file\u001b[0m\u001b[0;34m,\u001b[0m \u001b[0msave\u001b[0m\u001b[0;34m=\u001b[0m\u001b[0;32mTrue\u001b[0m\u001b[0;34m)\u001b[0m\u001b[0;34m\u001b[0m\u001b[0;34m\u001b[0m\u001b[0m\n\u001b[0m",
            "\u001b[0;32m<ipython-input-8-d374bdd072ea>\u001b[0m in \u001b[0;36msave_raw_files\u001b[0;34m(file, save, train)\u001b[0m\n\u001b[1;32m      2\u001b[0m   \u001b[0mfile_name\u001b[0m \u001b[0;34m=\u001b[0m \u001b[0mfile\u001b[0m\u001b[0;34m.\u001b[0m\u001b[0msplit\u001b[0m\u001b[0;34m(\u001b[0m\u001b[0;34m\"/\"\u001b[0m\u001b[0;34m)\u001b[0m\u001b[0;34m[\u001b[0m\u001b[0;34m-\u001b[0m\u001b[0;36m1\u001b[0m\u001b[0;34m]\u001b[0m\u001b[0;34m.\u001b[0m\u001b[0mreplace\u001b[0m\u001b[0;34m(\u001b[0m\u001b[0;34m\".\"\u001b[0m\u001b[0;34m,\u001b[0m \u001b[0;34m\"_\"\u001b[0m\u001b[0;34m)\u001b[0m \u001b[0;34m+\u001b[0m \u001b[0;34m\"_eeg\"\u001b[0m\u001b[0;34m\u001b[0m\u001b[0;34m\u001b[0m\u001b[0m\n\u001b[1;32m      3\u001b[0m \u001b[0;34m\u001b[0m\u001b[0m\n\u001b[0;32m----> 4\u001b[0;31m   \u001b[0mdata\u001b[0m\u001b[0;34m,\u001b[0m \u001b[0mch_names\u001b[0m\u001b[0;34m,\u001b[0m \u001b[0minfo_patient\u001b[0m \u001b[0;34m=\u001b[0m \u001b[0mextract_raw_data\u001b[0m\u001b[0;34m(\u001b[0m\u001b[0mfile\u001b[0m\u001b[0;34m)\u001b[0m\u001b[0;34m\u001b[0m\u001b[0;34m\u001b[0m\u001b[0m\n\u001b[0m\u001b[1;32m      5\u001b[0m   \u001b[0;32mif\u001b[0m\u001b[0;34m(\u001b[0m\u001b[0mdata\u001b[0m \u001b[0;32mis\u001b[0m \u001b[0;32mNone\u001b[0m\u001b[0;34m)\u001b[0m\u001b[0;34m:\u001b[0m\u001b[0;34m\u001b[0m\u001b[0;34m\u001b[0m\u001b[0m\n\u001b[1;32m      6\u001b[0m     \u001b[0;32mreturn\u001b[0m \u001b[0;32mNone\u001b[0m\u001b[0;34m\u001b[0m\u001b[0;34m\u001b[0m\u001b[0m\n",
            "\u001b[0;32m<ipython-input-5-2cf1eeeb133a>\u001b[0m in \u001b[0;36mextract_raw_data\u001b[0;34m(file)\u001b[0m\n\u001b[1;32m      1\u001b[0m \u001b[0;32mdef\u001b[0m \u001b[0mextract_raw_data\u001b[0m\u001b[0;34m(\u001b[0m\u001b[0mfile\u001b[0m\u001b[0;34m)\u001b[0m\u001b[0;34m:\u001b[0m\u001b[0;34m\u001b[0m\u001b[0;34m\u001b[0m\u001b[0m\n\u001b[1;32m      2\u001b[0m   \u001b[0;32mwith\u001b[0m \u001b[0mopen\u001b[0m\u001b[0;34m(\u001b[0m\u001b[0mfile\u001b[0m\u001b[0;34m)\u001b[0m \u001b[0;32mas\u001b[0m \u001b[0mf\u001b[0m\u001b[0;34m:\u001b[0m\u001b[0;34m\u001b[0m\u001b[0;34m\u001b[0m\u001b[0m\n\u001b[0;32m----> 3\u001b[0;31m     \u001b[0mlines\u001b[0m \u001b[0;34m=\u001b[0m \u001b[0mf\u001b[0m\u001b[0;34m.\u001b[0m\u001b[0mreadlines\u001b[0m\u001b[0;34m(\u001b[0m\u001b[0;34m)\u001b[0m\u001b[0;34m\u001b[0m\u001b[0;34m\u001b[0m\u001b[0m\n\u001b[0m\u001b[1;32m      4\u001b[0m \u001b[0;34m\u001b[0m\u001b[0m\n\u001b[1;32m      5\u001b[0m     \u001b[0mdata\u001b[0m \u001b[0;34m=\u001b[0m \u001b[0;34m[\u001b[0m\u001b[0;34m]\u001b[0m\u001b[0;34m\u001b[0m\u001b[0;34m\u001b[0m\u001b[0m\n",
            "\u001b[0;32m/usr/lib/python3.10/codecs.py\u001b[0m in \u001b[0;36mdecode\u001b[0;34m(self, input, final)\u001b[0m\n\u001b[1;32m    317\u001b[0m         \u001b[0;32mraise\u001b[0m \u001b[0mNotImplementedError\u001b[0m\u001b[0;34m\u001b[0m\u001b[0;34m\u001b[0m\u001b[0m\n\u001b[1;32m    318\u001b[0m \u001b[0;34m\u001b[0m\u001b[0m\n\u001b[0;32m--> 319\u001b[0;31m     \u001b[0;32mdef\u001b[0m \u001b[0mdecode\u001b[0m\u001b[0;34m(\u001b[0m\u001b[0mself\u001b[0m\u001b[0;34m,\u001b[0m \u001b[0minput\u001b[0m\u001b[0;34m,\u001b[0m \u001b[0mfinal\u001b[0m\u001b[0;34m=\u001b[0m\u001b[0;32mFalse\u001b[0m\u001b[0;34m)\u001b[0m\u001b[0;34m:\u001b[0m\u001b[0;34m\u001b[0m\u001b[0;34m\u001b[0m\u001b[0m\n\u001b[0m\u001b[1;32m    320\u001b[0m         \u001b[0;31m# decode input (taking the buffer into account)\u001b[0m\u001b[0;34m\u001b[0m\u001b[0;34m\u001b[0m\u001b[0m\n\u001b[1;32m    321\u001b[0m         \u001b[0mdata\u001b[0m \u001b[0;34m=\u001b[0m \u001b[0mself\u001b[0m\u001b[0;34m.\u001b[0m\u001b[0mbuffer\u001b[0m \u001b[0;34m+\u001b[0m \u001b[0minput\u001b[0m\u001b[0;34m\u001b[0m\u001b[0;34m\u001b[0m\u001b[0m\n",
            "\u001b[0;31mKeyboardInterrupt\u001b[0m: "
          ]
        }
      ]
    },
    {
      "cell_type": "markdown",
      "source": [
        "Create two directroies which which will contain data as csv."
      ],
      "metadata": {
        "id": "swONcjwk1onq"
      }
    },
    {
      "cell_type": "code",
      "source": [
        "! [ -e train_csv ] || mkdir train_csv\n",
        "! [ -e test_csv ] || mkdir test_csv"
      ],
      "metadata": {
        "id": "Y1bqjbbQ12XC"
      },
      "execution_count": null,
      "outputs": []
    },
    {
      "cell_type": "markdown",
      "source": [
        "Generate a dataframe from an eeg file."
      ],
      "metadata": {
        "id": "WsoEx1xL38jF"
      }
    },
    {
      "cell_type": "code",
      "source": [
        "\n",
        "def generate_df(file,save=False,train=True,verbose=False,frequency = 256):\n",
        "  df = pd.DataFrame()\n",
        "  data, channel_names, info = extract_raw_data(file)\n",
        "  file_name = file.split(\"/\")[-1]\n",
        "  for time_series,channel in zip(data, channel_names):\n",
        "    time = np.arange(0,time_series.shape[-1])*1/time_series.shape[-1]\n",
        "    cur_df = pd.DataFrame({'value':time_series,'channel':channel,**info,'time':time})\n",
        "    if(df is None):\n",
        "      df = cur_df\n",
        "    else:\n",
        "      df = pd.concat([df,cur_df],ignore_index=True)\n",
        "  if(save):\n",
        "    dir = \"train\" if train else \"test\"\n",
        "    saving_path = f'{dir}_csv/{file_name}.csv'\n",
        "    df.to_csv(saving_path)\n",
        "  return df\n",
        "\n"
      ],
      "metadata": {
        "id": "Www8YbeZiTDk"
      },
      "execution_count": null,
      "outputs": []
    },
    {
      "cell_type": "code",
      "source": [
        "df = generate_df('/content/SMNI_CMI_TRAIN/co2c0000338/co2c0000338.rd.014')\n",
        "df.head()"
      ],
      "metadata": {
        "id": "Usly7aDp48iq"
      },
      "execution_count": null,
      "outputs": []
    },
    {
      "cell_type": "code",
      "source": [
        "df[df['channel'] == 'Y'].plot(x='time',y='value')"
      ],
      "metadata": {
        "id": "LCkFPmv45LZC"
      },
      "execution_count": null,
      "outputs": []
    },
    {
      "cell_type": "code",
      "source": [
        "def generated_csv(content_dir:str='/content/',train=True):\n",
        "  for dir_name, subdirs, files in tqdm(list(os.walk(content_dir))):\n",
        "\n",
        "    for file_name in (files):\n",
        "      current_file = os.path.join(dir_name, file_name)\n",
        "      regex = r'.+\\.rd\\.\\d+$'\n",
        "\n",
        "      if (re.match(regex,file_name)):\n",
        "        generate_df(current_file,save=True,train=train)\n"
      ],
      "metadata": {
        "id": "VPi7F9gCrGYm"
      },
      "execution_count": null,
      "outputs": []
    },
    {
      "cell_type": "code",
      "source": [
        "for data_dir,train in zip(['SMNI_CMI_TRAIN','SMNI_CMI_TEST'],[True,False]):\n",
        "  generated_csv(data_dir,train)"
      ],
      "metadata": {
        "id": "lcox36xXzQQP"
      },
      "execution_count": null,
      "outputs": []
    },
    {
      "cell_type": "code",
      "source": [
        "content = list(os.walk('train'))\n",
        "raw = mne.io.read_raw(f\"{content[0][0]}/{content[0][2][0]}\")\n",
        "raw.plot()"
      ],
      "metadata": {
        "id": "Qvmg62-q-FrQ"
      },
      "execution_count": null,
      "outputs": []
    },
    {
      "cell_type": "code",
      "source": [
        "raw.get_data()"
      ],
      "metadata": {
        "id": "aWa-KNtHB23W"
      },
      "execution_count": null,
      "outputs": []
    },
    {
      "cell_type": "code",
      "source": [
        "from scipy.stats import skew, kurtosis\n",
        "\n",
        "def extract_features(data):\n",
        "  features_names = []\n",
        "  features = []\n",
        "  for i, channel_data in enumerate(data):\n",
        "      mean = np.mean(channel_data)\n",
        "      var = np.var(channel_data)\n",
        "      skewness = skew(channel_data)\n",
        "      kurt = kurtosis(channel_data)\n",
        "      channel_features = [mean, var, skewness, kurt]\n",
        "      channel_names = ['mean', 'var', 'skewness', 'kurt']\n",
        "\n",
        "      features.extend(channel_features)\n",
        "      features_names.extend(list(map(lambda x : x + f\"_{i}\", channel_names)))\n",
        "\n",
        "  return features, features_names\n"
      ],
      "metadata": {
        "id": "-SQPNs3ICvFY"
      },
      "execution_count": null,
      "outputs": []
    },
    {
      "cell_type": "code",
      "source": [
        "def create_df(dir):\n",
        "  df_data = []\n",
        "  for dir, subdir, files in tqdm(list(os.walk(dir))):\n",
        "    for f in files[1:]:\n",
        "      data, ch_names, info= extract_raw_data(f\"/content/{dir}/{f}\")\n",
        "      features, features_names = extract_features(data)\n",
        "      features.extend([info['obj'], info['is_Alcolic']])\n",
        "      df_data.append(features)\n",
        "  features_names.extend(['obj', 'alcoholic'])\n",
        "  return pd.DataFrame(df_data, columns=features_names)\n",
        "\n",
        "df_train = create_df(\"eeg_full\")\n",
        "#df_test = create_df(\"SMNI_CMI_TEST\")\n",
        "df_train.head()"
      ],
      "metadata": {
        "id": "BofcE9rUX8xj"
      },
      "execution_count": null,
      "outputs": []
    },
    {
      "cell_type": "code",
      "source": [
        "import torch\n",
        "from torch.utils.data import Dataset"
      ],
      "metadata": {
        "id": "8lP_SbMTwpD-"
      },
      "execution_count": null,
      "outputs": []
    },
    {
      "cell_type": "code",
      "source": [],
      "metadata": {
        "id": "fM2c-6ykvNwT"
      },
      "execution_count": null,
      "outputs": []
    },
    {
      "cell_type": "code",
      "source": [
        "df_train.shape, df_test.shape"
      ],
      "metadata": {
        "id": "B59F9Ilhihn2"
      },
      "execution_count": null,
      "outputs": []
    },
    {
      "cell_type": "code",
      "source": [
        "def preprocess(df):\n",
        "  dummies = pd.get_dummies(df['obj'])\n",
        "  df = df.drop(columns=\"obj\")\n",
        "  df = pd.concat([df, dummies], axis=1)\n",
        "  df['alcoholic'] = df['alcoholic'].replace({True: 1, False: 0}).astype(int)\n",
        "\n",
        "  return df.dropna()\n",
        "\n",
        "df_train = preprocess(df_train)\n",
        "df_test = preprocess(df_test)\n",
        "df_train.head()"
      ],
      "metadata": {
        "id": "U6lztjq2nlFE"
      },
      "execution_count": null,
      "outputs": []
    },
    {
      "cell_type": "code",
      "source": [
        "plt.hist(df_train['alcoholic'], alpha=0.7, edgecolor=\"k\")\n",
        "plt.title(\"Dataframe histogramme\")\n",
        "plt.ylabel(\"Count\")\n",
        "plt.xticks([0, 1], ['Control', 'Alcoholic'])\n",
        "plt.show()"
      ],
      "metadata": {
        "id": "rI6cCz1OxwcY"
      },
      "execution_count": null,
      "outputs": []
    },
    {
      "cell_type": "code",
      "source": [
        "from sklearn.preprocessing import MinMaxScaler\n",
        "\n",
        "scaler = MinMaxScaler()\n",
        "scaler.fit(df_train)\n",
        "scaled = scaler.transform(df_train)\n",
        "scaled_test = scaler.transform(df_test )\n",
        "\n",
        "df_train_scaled = pd.DataFrame(scaled, columns=df_train.columns)\n",
        "df_test_scaled = pd.DataFrame(scaled, columns=df_train.columns)\n",
        "df_train_scaled.head()"
      ],
      "metadata": {
        "id": "ZYNQJfJQuvyL"
      },
      "execution_count": null,
      "outputs": []
    },
    {
      "cell_type": "code",
      "source": [
        "from sklearn.svm import SVR\n",
        "\n",
        "\n",
        "X_train, y_train = df_train_scaled.loc[:, df_train_scaled.columns != 'alcoholic'], df_train_scaled['alcoholic']\n",
        "X_test, y_test = df_test_scaled.loc[:, df_test_scaled.columns != 'alcoholic'], df_test_scaled['alcoholic']\n",
        "regr = SVR(C=1.0, epsilon=0.2)\n",
        "regr.fit(X_train, y_train)"
      ],
      "metadata": {
        "id": "xwO7PpHF1xpc"
      },
      "execution_count": null,
      "outputs": []
    },
    {
      "cell_type": "code",
      "source": [
        "from sklearn.metrics import accuracy_score\n",
        "\n",
        "accuracy_score(regr.predict(X_test).astype(int), y_test.astype(int))"
      ],
      "metadata": {
        "id": "kMZi5qpr8B3J"
      },
      "execution_count": null,
      "outputs": []
    },
    {
      "cell_type": "code",
      "source": [
        "import torch\n",
        "from torch.utils.data import Dataset"
      ],
      "metadata": {
        "id": "W9qfuzoC8QYG"
      },
      "execution_count": 143,
      "outputs": []
    },
    {
      "cell_type": "code",
      "source": [
        "DEVICE = torch.device(\"cuda:0\" if torch.cuda.is_available() else \"cpu\")\n",
        "print(DEVICE)"
      ],
      "metadata": {
        "colab": {
          "base_uri": "https://localhost:8080/"
        },
        "id": "OhC62VOLwtvC",
        "outputId": "4511640a-d2d7-4116-8a10-690df6125783"
      },
      "execution_count": 144,
      "outputs": [
        {
          "output_type": "stream",
          "name": "stdout",
          "text": [
            "cuda:0\n"
          ]
        }
      ]
    },
    {
      "cell_type": "code",
      "source": [
        "class EEGDataset(Dataset):\n",
        "  def __init__(self,eeg_dir:str,eeg_files:str):\n",
        "    # generate X = ( eeg: 64x256 , s_type : 2x1)\n",
        "    # generate y = ()\n",
        "    self.eeg_dir = eeg_dir\n",
        "    self.eeg_files = pd.read_csv(eeg_files)\n",
        "    self.s_objects = ['S1','S2']\n",
        "    self.s_object_table = {s_object: i for i,s_object in enumerate(self.s_objects)}\n",
        "    self.num_objects = len(self.s_objects )\n",
        "\n",
        "\n",
        "  def __getitem__(self, idx):\n",
        "\n",
        "    file_name = self.eeg_files['file_name'][idx]\n",
        "    data, _, info= extract_raw_data(file_name)\n",
        "    if(data is None or info is None):\n",
        "      return None\n",
        "    object_vector = np.zeros(self.num_objects)\n",
        "    obj_idx = self.s_object_table[info['obj']]\n",
        "    object_vector[obj_idx] = 1\n",
        "    object_tensor = torch.tensor(object_vector).to(DEVICE)\n",
        "\n",
        "    alcoholic = torch.zeros(2,dtype=float).to(DEVICE)\n",
        "\n",
        "    alcoholic[int(info['is_Alcolic'])] = 1\n",
        "    tensor_data = torch.tensor(data).to(DEVICE)\n",
        "\n",
        "    return (tensor_data,object_tensor),alcoholic\n",
        "\n",
        "  def __len__(self):\n",
        "    return len(self.eeg_files)"
      ],
      "metadata": {
        "id": "ZeV-QvLbLTk4"
      },
      "execution_count": 145,
      "outputs": []
    },
    {
      "cell_type": "code",
      "source": [
        "truth = True\n",
        "alcoholic = torch.zeros(2,dtype=float).to(DEVICE)\n",
        "alcoholic[int(truth)] = 1\n",
        "alcoholic"
      ],
      "metadata": {
        "colab": {
          "base_uri": "https://localhost:8080/"
        },
        "id": "UbikyyHK8hLr",
        "outputId": "14fc7288-20cc-4082-c541-569b35c0619d"
      },
      "execution_count": 146,
      "outputs": [
        {
          "output_type": "execute_result",
          "data": {
            "text/plain": [
              "tensor([0., 1.], device='cuda:0', dtype=torch.float64)"
            ]
          },
          "metadata": {},
          "execution_count": 146
        }
      ]
    },
    {
      "cell_type": "code",
      "source": [
        "eeg_ds = EEGDataset('eeg_full','eeg_full.csv')\n",
        "train_size = int(0.8 * len(eeg_ds))\n",
        "test_size = len(eeg_ds) - train_size\n",
        "train_ds,test_ds  = torch.utils.data.random_split(eeg_ds,[train_size,test_size])"
      ],
      "metadata": {
        "id": "-g5UMac5aLS5"
      },
      "execution_count": 147,
      "outputs": []
    },
    {
      "cell_type": "code",
      "source": [
        "from torch.utils.data import DataLoader\n",
        "train_dataloader = DataLoader(train_ds, batch_size=64, shuffle=True)\n",
        "test_dataloader = DataLoader(test_ds, batch_size=64, shuffle=True)"
      ],
      "metadata": {
        "id": "H5I07Bg8b2_-"
      },
      "execution_count": 148,
      "outputs": []
    },
    {
      "cell_type": "code",
      "source": [
        "from torch import nn\n",
        "import torch.nn.functional as F\n",
        "class EEG_NN(nn.Module):\n",
        "    def __init__(self):\n",
        "      super(EEG_NN,self).__init__()\n",
        "\n",
        "      self.conv1 = nn.Conv2d(1,64,3,dtype=torch.double)\n",
        "      self.relu1 = nn.ReLU()\n",
        "      self.maxpool1 = nn.MaxPool2d((2,2))\n",
        "\n",
        "      self.conv2 = nn.Conv2d(64,32,3,dtype=torch.double)\n",
        "      self.relu2 = nn.ReLU()\n",
        "      self.maxpool2 = nn.MaxPool2d((2,2))\n",
        "\n",
        "      self.conv3 = nn.Conv2d(32,16,3,dtype=torch.double)\n",
        "      self.relu3 = nn.ReLU()\n",
        "      self.maxpool3 = nn.MaxPool2d((2,2))\n",
        "\n",
        "      self.flatten = nn.Flatten(1)\n",
        "      self.lin1 = nn.Linear(2882,64,dtype=torch.double)\n",
        "      self.lin2 = nn.Linear(64,2,dtype=torch.double)\n",
        "      self.check_cuda()\n",
        "    def check_cuda(self):\n",
        "      if(torch.cuda.is_available()):\n",
        "        print('CUDA seems to be available')\n",
        "        self.to(DEVICE)\n",
        "\n",
        "    def forward(self, x):\n",
        "        x1,x2 = x\n",
        "        x1 = x1.unsqueeze(1)\n",
        "        # print(x1.size())\n",
        "        x1 = self.conv1(x1)\n",
        "        x1 = self.relu1(x1)\n",
        "        x1 = self.maxpool1(x1)\n",
        "\n",
        "        x1 = self.conv2(x1)\n",
        "        x1 = self.relu2(x1)\n",
        "        x1 = self.maxpool2(x1)\n",
        "\n",
        "        x1 = self.conv3(x1)\n",
        "        x1 = self.relu3(x1)\n",
        "        x1 = self.maxpool3(x1)\n",
        "\n",
        "        x1 = self.flatten(x1)\n",
        "        x1 = torch.cat((x1,x2),dim=1)\n",
        "        x1 = self.lin1(x1)\n",
        "        x1 = self.lin2(x1)\n",
        "        x1 = nn.Sigmoid()(x1)\n",
        "        return x1\n",
        "\n",
        "\n",
        "eeg_model = EEG_NN()\n",
        "\n",
        "u = None\n",
        "for x,y in train_dataloader:\n",
        "  u = eeg_model(x)\n",
        "  print(compute_num_correct_pred(u,y))\n",
        "\n",
        "  break\n",
        "u.size(), u.is_cuda"
      ],
      "metadata": {
        "id": "Bv2ULEb7cspp",
        "outputId": "f5d3945d-4050-419d-9acc-65184e94625c",
        "colab": {
          "base_uri": "https://localhost:8080/"
        }
      },
      "execution_count": 149,
      "outputs": [
        {
          "output_type": "stream",
          "name": "stdout",
          "text": [
            "CUDA seems to be available\n",
            "0\n"
          ]
        },
        {
          "output_type": "execute_result",
          "data": {
            "text/plain": [
              "(torch.Size([64, 2]), True)"
            ]
          },
          "metadata": {},
          "execution_count": 149
        }
      ]
    },
    {
      "cell_type": "code",
      "source": [
        "def train_model(model,train_loader,optimizer,loss_func):\n",
        "    model.train()\n",
        "\n",
        "    for x,y in tqdm(train_loader):\n",
        "        out = model(x)\n",
        "        loss = loss_func(out,y)\n",
        "        loss.backward()\n",
        "        optimizer.step()\n",
        "        optimizer.zero_grad()\n"
      ],
      "metadata": {
        "id": "ORM6WmnlrSst"
      },
      "execution_count": 150,
      "outputs": []
    },
    {
      "cell_type": "code",
      "source": [
        "def compute_num_correct_pred(y_prob:torch.tensor, y_label:torch.tensor):\n",
        "  y_pred = (y_prob >= 0.5).float()\n",
        "\n",
        "  correct_predictions = torch.all(y_pred == y_label,dim=1).sum()\n",
        "  return int(correct_predictions)"
      ],
      "metadata": {
        "id": "M9fK26x2183x"
      },
      "execution_count": 151,
      "outputs": []
    },
    {
      "cell_type": "code",
      "source": [
        "def test(loader,net,verbose=False):\n",
        "    net.eval()\n",
        "    correct = 0\n",
        "    with torch.no_grad():\n",
        "        for x,y in tqdm(loader):\n",
        "            out = net(x)\n",
        "            correct += compute_num_correct_pred(out, y)\n",
        "    if(verbose):\n",
        "      print(f'{correct} prediction on {len(loader.dataset)} samples')\n",
        "    return correct / len(loader.dataset)"
      ],
      "metadata": {
        "id": "1OUt7u5q1zIm"
      },
      "execution_count": 152,
      "outputs": []
    },
    {
      "cell_type": "code",
      "source": [
        "def full_train(model,train_loader,test_loader,optimizer,loss_func,n_epochs,verbose=False):\n",
        "  train_accs = []\n",
        "  test_accs = []\n",
        "  for i in range(n_epochs):\n",
        "    train_model(model,train_loader,optimizer,loss_func)\n",
        "    train_acc = test(train_loader,model)\n",
        "    if(verbose):\n",
        "      print(f'Train accuracy {train_acc:.2f}')\n",
        "\n",
        "    test_acc =test(test_loader,model)\n",
        "    if(verbose):\n",
        "      print(f'Test accuracy {test_acc:.2f}')\n",
        "\n",
        "    train_accs.append(train_acc)\n",
        "    test_accs.append(test_acc)\n",
        "  history_df = pd.DataFrame({'train_accuracy':train_accs,'test_accuracy':test_accs})\n",
        "  history_df.to_csv(('history.csv'))\n",
        "  return history_df"
      ],
      "metadata": {
        "id": "PLbbV0YM3Ajq"
      },
      "execution_count": 153,
      "outputs": []
    },
    {
      "cell_type": "code",
      "source": [
        "eeg_model = EEG_NN()\n",
        "learning_rate = 0.001\n",
        "optimizer = torch.optim.SGD(eeg_model.parameters(), lr=learning_rate)\n",
        "loss_func = nn.BCELoss()\n",
        "full_train(eeg_model,train_loader=train_dataloader,test_loader=test_dataloader,optimizer=optimizer,loss_func=loss_func,n_epochs=10)"
      ],
      "metadata": {
        "colab": {
          "base_uri": "https://localhost:8080/"
        },
        "id": "WoX20ard2m4y",
        "outputId": "2fdc577a-170e-4a20-fee7-64eb3ce776f3"
      },
      "execution_count": null,
      "outputs": [
        {
          "output_type": "stream",
          "name": "stdout",
          "text": [
            "CUDA seems to be available\n"
          ]
        },
        {
          "output_type": "stream",
          "name": "stderr",
          "text": [
            "100%|██████████| 139/139 [02:03<00:00,  1.13it/s]\n",
            "100%|██████████| 139/139 [02:21<00:00,  1.02s/it]\n",
            "100%|██████████| 35/35 [00:27<00:00,  1.26it/s]\n",
            "100%|██████████| 139/139 [02:01<00:00,  1.14it/s]\n",
            "100%|██████████| 139/139 [01:53<00:00,  1.22it/s]\n",
            "100%|██████████| 35/35 [00:27<00:00,  1.29it/s]\n",
            " 63%|██████▎   | 88/139 [01:17<00:41,  1.22it/s]"
          ]
        }
      ]
    }
  ]
}