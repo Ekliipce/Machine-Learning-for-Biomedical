{
  "nbformat": 4,
  "nbformat_minor": 0,
  "metadata": {
    "colab": {
      "provenance": [],
      "include_colab_link": true
    },
    "kernelspec": {
      "name": "python3",
      "display_name": "Python 3"
    },
    "language_info": {
      "name": "python"
    }
  },
  "cells": [
    {
      "cell_type": "markdown",
      "metadata": {
        "id": "view-in-github",
        "colab_type": "text"
      },
      "source": [
        "<a href=\"https://colab.research.google.com/github/Ekliipce/Machine-Learning-for-Biomedical/blob/main/genomic/classify_TF_binding_etudiants.ipynb\" target=\"_parent\"><img src=\"https://colab.research.google.com/assets/colab-badge.svg\" alt=\"Open In Colab\"/></a>"
      ]
    },
    {
      "cell_type": "code",
      "source": [
        "!pip install numpy"
      ],
      "metadata": {
        "colab": {
          "base_uri": "https://localhost:8080/"
        },
        "id": "jTB3yc4g5fCz",
        "outputId": "4e492ab8-fdc5-4345-ffd0-c89e2c04e0f7"
      },
      "execution_count": null,
      "outputs": [
        {
          "output_type": "stream",
          "name": "stdout",
          "text": [
            "Requirement already satisfied: numpy in /usr/local/lib/python3.10/dist-packages (1.23.5)\n"
          ]
        }
      ]
    },
    {
      "cell_type": "code",
      "source": [
        "from google.colab import drive\n",
        "drive.mount('/content/drive')"
      ],
      "metadata": {
        "colab": {
          "base_uri": "https://localhost:8080/"
        },
        "id": "Smcy0A9tHPNf",
        "outputId": "3093762b-8f8c-4a53-bbaa-2165bc470782"
      },
      "execution_count": null,
      "outputs": [
        {
          "output_type": "stream",
          "name": "stdout",
          "text": [
            "Drive already mounted at /content/drive; to attempt to forcibly remount, call drive.mount(\"/content/drive\", force_remount=True).\n"
          ]
        }
      ]
    },
    {
      "cell_type": "markdown",
      "metadata": {
        "id": "BpI9eESpkREM"
      },
      "source": [
        "# Ex1: Onehot coding DNA\n",
        "\n",
        "Write a function called **onehot_dna(dna_str)** that allows to encode a DNA segment where each base is encoded as a vector of all zeros except one in a specific position. The result of this function is an array numpy.  DNA is a long chain of repeating bases strung together. There are 4 bases: A, C, G, T. For example, \"AACCCAAATCGGGGG\" is a DNA segment.\n",
        "\n",
        "\n",
        "\n",
        "For example, **onehot_dna('AAT')** should return\n",
        "\n",
        "array([[1, 0, 0, 0],\n",
        "       [1, 0, 0, 0],\n",
        "       [0, 0, 0, 1]])\n",
        "\n",
        "\n",
        "\n",
        "\n"
      ]
    },
    {
      "cell_type": "code",
      "source": [
        "import numpy as np\n",
        "import matplotlib.pyplot as plt\n",
        "import pandas as pd\n",
        "import joblib as job\n",
        "import random\n",
        "import os\n",
        "\n",
        "from tqdm import tqdm\n",
        "\n",
        "base = \"/content/drive/MyDrive/data_classify_tf\"\n",
        "!ls $base"
      ],
      "metadata": {
        "id": "yuVAcKju5lGr",
        "colab": {
          "base_uri": "https://localhost:8080/"
        },
        "outputId": "eee7538b-c197-48fd-ec46-a20f5411a909"
      },
      "execution_count": null,
      "outputs": [
        {
          "output_type": "stream",
          "name": "stdout",
          "text": [
            "X_test.joblib  X_train.joblib  y_test.joblib  y_train.joblib\n"
          ]
        }
      ]
    },
    {
      "cell_type": "code",
      "metadata": {
        "id": "YbhaCZP1moii"
      },
      "source": [
        "def onehot_dna(dna_str):\n",
        "  dict_ = {\"A\": [1, 0, 0, 0],\n",
        "           \"C\": [0, 1, 0, 0],\n",
        "           \"G\": [0, 0, 1, 0],\n",
        "           \"T\": [0, 0, 0, 1]}\n",
        "\n",
        "  onehot = np.array(list(map(lambda x : dict_[x], dna_str)))\n",
        "  return onehot"
      ],
      "execution_count": null,
      "outputs": []
    },
    {
      "cell_type": "code",
      "metadata": {
        "colab": {
          "base_uri": "https://localhost:8080/"
        },
        "id": "WM-BaQiGo82A",
        "outputId": "9aabb161-1690-4f81-fa5a-b551cd7f9fce"
      },
      "source": [
        "onehot_dna('AAT')"
      ],
      "execution_count": null,
      "outputs": [
        {
          "output_type": "execute_result",
          "data": {
            "text/plain": [
              "array([[1, 0, 0, 0],\n",
              "       [1, 0, 0, 0],\n",
              "       [0, 0, 0, 1]])"
            ]
          },
          "metadata": {},
          "execution_count": 5
        }
      ]
    },
    {
      "cell_type": "markdown",
      "metadata": {
        "id": "AkSQo19z60n1"
      },
      "source": [
        "# Deep learning to classify Transcription Factor Biding\n",
        "\n",
        "\n",
        "In the next exercises, we will learn how to use Deep learning to predict whether a segment of DNA does include or does not include a sit where JUND binds. (JUND is a particular transcription factor).\n",
        "\n",
        "In this purpose, we will use data that is extracted from the chapter 6 of the book: 'Deep learning for the life science'. This book is written by B.Ramsundar, P.Eastman, P. Walters and V.Pande.\n",
        "\n",
        "\n",
        "Data consist of DNA segments that have been split up from a full chromosome. Each segment is of 101 bases long and has been labeled to indicate whether it does or does not include a site where JUND binds to.\n",
        "\n",
        "\n",
        "This is a binary classification problem.\n",
        "The process of creating a PyTorch neural network binary classifier consists of several steps:\n",
        "\n",
        "1. Prepare the training and test data\n",
        "\n",
        "2. Implement a Dataset object to serve up the data\n",
        "\n",
        "3. Design and implement a neural network\n",
        "\n",
        "4. Write code to train the network\n",
        "\n",
        "5. Write code to evaluate the model (the trained network)\n"
      ]
    },
    {
      "cell_type": "markdown",
      "metadata": {
        "id": "XS8a5oOmOjqO"
      },
      "source": [
        "# Ex 2:  Load Data\n",
        "\n",
        "1. With the help of the joblib library, load the following files for training set:  **y_train.joblib**, **X_train.joblib**  and then store the results in variables **y_train, X_train** ,respectively.\n",
        "\n",
        "2. Do the same thing for the test set: load  **y_test.joblib**, **X_test.joblib**  and then store the results in variables **y_test, X_test**, respectively.\n",
        "\n",
        "3. What are the shape of **X_train** and **y_train** ? How many DNA segments are there in traning set ?\n",
        "\n",
        "4. Display a DNA segment from **X_train** (using matplotlib.pyplot.imshow ).\n",
        "\n",
        "5. Plot the histogram of **y_train** to see whether data is imbalanced or not.\n"
      ]
    },
    {
      "cell_type": "code",
      "metadata": {
        "id": "NB5Y5StQezcZ"
      },
      "source": [
        "## 1.\n",
        "X_train = job.load(os.path.join(base, \"X_train.joblib\"))\n",
        "y_train = job.load(os.path.join(base, \"y_train.joblib\"))"
      ],
      "execution_count": null,
      "outputs": []
    },
    {
      "cell_type": "code",
      "source": [
        "## 2.\n",
        "X_test = job.load(os.path.join(base, \"X_test.joblib\"))\n",
        "y_test = job.load(os.path.join(base, \"y_test.joblib\"))"
      ],
      "metadata": {
        "id": "Ry41n_BL8-jF"
      },
      "execution_count": null,
      "outputs": []
    },
    {
      "cell_type": "code",
      "metadata": {
        "id": "FMLs0OOTV4E5",
        "colab": {
          "base_uri": "https://localhost:8080/"
        },
        "outputId": "a69fb301-ab5f-46ce-fd75-6276fc68c04a"
      },
      "source": [
        "## 3.\n",
        "print(f\"Shape X_train : {X_train.shape}\")\n",
        "print(f\"Shape y_train : {y_train.shape}\")\n",
        "print(f\"Shape X_test : {X_test.shape}\")\n",
        "print(f\"Shape y_test : {y_test.shape}\")"
      ],
      "execution_count": null,
      "outputs": [
        {
          "output_type": "stream",
          "name": "stdout",
          "text": [
            "Shape X_train : (4672, 101, 4)\n",
            "Shape y_train : (4672, 1)\n",
            "Shape X_test : (584, 101, 4)\n",
            "Shape y_test : (584, 1)\n"
          ]
        }
      ]
    },
    {
      "cell_type": "code",
      "metadata": {
        "id": "TceRZcS3MENp",
        "colab": {
          "base_uri": "https://localhost:8080/",
          "height": 468
        },
        "outputId": "19b99ea6-01be-4e52-e168-8647b3db5527"
      },
      "source": [
        "## 4.\n",
        "plt.figure(figsize=(10, 5))\n",
        "plt.title(\"DNA segment from X_train\")\n",
        "plt.imshow(X_train[42],  aspect='auto')\n",
        "plt.xticks([0, 1, 2, 3], [\"A\", \"T\", \"C\", \"G\"])\n",
        "plt.show()"
      ],
      "execution_count": null,
      "outputs": [
        {
          "output_type": "display_data",
          "data": {
            "text/plain": [
              "<Figure size 1000x500 with 1 Axes>"
            ],
            "image/png": "[encoded data removed]"
          },
          "metadata": {}
        }
      ]
    },
    {
      "cell_type": "code",
      "metadata": {
        "id": "xVwu_64FUcWU",
        "colab": {
          "base_uri": "https://localhost:8080/",
          "height": 452
        },
        "outputId": "d3a3548f-9e72-4200-fde3-b76d51e295ca"
      },
      "source": [
        "## 5.\n",
        "plt.title(\"Histogram of y_train\")\n",
        "plt.hist(y_train, alpha=0.7, edgecolor=\"k\")\n",
        "plt.xticks([0, 1], [\"Include JUND\", \"Dosn't Include JUND\"])\n",
        "plt.show()"
      ],
      "execution_count": null,
      "outputs": [
        {
          "output_type": "display_data",
          "data": {
            "text/plain": [
              "<Figure size 640x480 with 1 Axes>"
            ],
            "image/png": "[encoded data removed]"
          },
          "metadata": {}
        }
      ]
    },
    {
      "cell_type": "markdown",
      "metadata": {
        "id": "EajNPJrnAmde"
      },
      "source": [
        "# Ex 3: Convert numpy array to tensor pytorch\n",
        "\n",
        "As you see in the previous exercise, **X_train** consists of 4672 segments. Each segment is encoded by 0 and 1 (one-hot encoding).\n",
        "\n",
        "\n",
        "1. Convert numpy array **X_train**, **y_train** into pytorch tensor. Reshape **X_train** to (4672, 4, 101). Note that the type of **X_train** and **y_train** should be float.\n",
        "\n",
        "2. Do the same thing for **X_test** and **y_test**\n"
      ]
    },
    {
      "cell_type": "code",
      "metadata": {
        "id": "E8eedW_yPUKu"
      },
      "source": [
        "## 1.\n",
        "import torch\n",
        "X_train_ = torch.tensor(X_train.reshape((4672, 4, 101)), dtype=torch.float)\n",
        "y_train_ = torch.tensor(X_train, dtype=torch.float)"
      ],
      "execution_count": null,
      "outputs": []
    },
    {
      "cell_type": "code",
      "metadata": {
        "id": "o_it3skAH0Yt"
      },
      "source": [
        "## 2.\n",
        "X_test_ = torch.tensor(X_test.reshape((584, 4, 101)), dtype=torch.float)\n",
        "y_test_ = torch.tensor(y_test, dtype=torch.float)"
      ],
      "execution_count": null,
      "outputs": []
    },
    {
      "cell_type": "markdown",
      "metadata": {
        "id": "mEYJBjBdg547"
      },
      "source": [
        "# Ex4: Create Dataset\n",
        "In order to train a deep learning model with Pytorch, we need a pytorch dataset.\n",
        "The DNADataset class below allows for creating a pytorch Dataset from DNA segments and their labels.\n",
        "\n",
        "1. Using this class, create a dataset for training set. You should call it **train_dataset**\n",
        "\n",
        "2. Create **Dataloader** from **train_dataset**. You should call it **train_loader**.\n",
        "\n",
        "3. Do the same thing for the test set."
      ]
    },
    {
      "cell_type": "code",
      "metadata": {
        "id": "GkvyOQVggLz_"
      },
      "source": [
        "class DNADataset(torch.utils.data.Dataset):\n",
        "    def __init__(self, dna, labels):\n",
        "        self.labels = labels\n",
        "        self.dna = dna\n",
        "\n",
        "\n",
        "    def __len__(self):\n",
        "        return len(self.labels)\n",
        "\n",
        "\n",
        "    def __getitem__(self, idx):\n",
        "        label = self.labels[idx]\n",
        "        frag_dna = self.dna[idx]\n",
        "\n",
        "        sample = {'DNA': frag_dna, 'Class': label}\n",
        "\n",
        "        return sample"
      ],
      "execution_count": null,
      "outputs": []
    },
    {
      "cell_type": "code",
      "metadata": {
        "id": "ZIUVVN_Qg8d1",
        "colab": {
          "base_uri": "https://localhost:8080/"
        },
        "outputId": "5032f329-1bf0-4ba8-e38c-a3db063ce621"
      },
      "source": [
        "## 1.\n",
        "train_dataset = DNADataset(X_train_, torch.tensor([0, 1], dtype=torch.int))\n",
        "train_dataset.__len__()"
      ],
      "execution_count": null,
      "outputs": [
        {
          "output_type": "execute_result",
          "data": {
            "text/plain": [
              "2"
            ]
          },
          "metadata": {},
          "execution_count": 14
        }
      ]
    },
    {
      "cell_type": "code",
      "source": [
        "## 2.\n",
        "train_loader = torch.utils.data.DataLoader(train_dataset, batch_size=32, shuffle=True)\n",
        "train_loader"
      ],
      "metadata": {
        "id": "_YQG76jIocW4",
        "colab": {
          "base_uri": "https://localhost:8080/"
        },
        "outputId": "6d3f7542-dbe0-4cfa-f26e-881f75f6fe47"
      },
      "execution_count": null,
      "outputs": [
        {
          "output_type": "execute_result",
          "data": {
            "text/plain": [
              "<torch.utils.data.dataloader.DataLoader at 0x7e9f913f9600>"
            ]
          },
          "metadata": {},
          "execution_count": 15
        }
      ]
    },
    {
      "cell_type": "code",
      "metadata": {
        "id": "kj3HNTW2HRer"
      },
      "source": [
        "## 3.\n",
        "test_dataset = DNADataset(X_test_, torch.tensor([0, 1], dtype=torch.int))\n",
        "test_loader = torch.utils.data.DataLoader(test_dataset, batch_size=32, shuffle=True)"
      ],
      "execution_count": null,
      "outputs": []
    },
    {
      "cell_type": "markdown",
      "metadata": {
        "id": "VDcbP17Rb2xt"
      },
      "source": [
        "# Design and implement a convolutional neural network\n",
        "\n",
        "Now, it's time to build your model. This is a binary classification problem. We can use a convolution neural network, just like an image classification problem. However, since the size of a DNA segment is (4, 101), we will use 1D convolution instead of 2D convolution.\n",
        "\n",
        "\n",
        "\n",
        "Firstly, we will test how does a 1D convolution work on our data.\n",
        "\n"
      ]
    },
    {
      "cell_type": "markdown",
      "metadata": {
        "id": "xlPP4E3UfRYe"
      },
      "source": [
        "# EX 5: 1D Convolution\n",
        "\n",
        "1. With the help of the torch.nn.Conv1d class, create a 1D convolutional layer. You need to choose values for the following parameters: **in_channels**, **out_channels**, **kernel_size**.\n",
        "\n",
        "\n",
        "2. Apply this layer to **dna_seg** below. What is the size of the output ?\n",
        "\n",
        "\n",
        "3. [Optional] Display the output by using matplotlib.pyplot.imshow\n",
        "\n",
        "\n"
      ]
    },
    {
      "cell_type": "code",
      "metadata": {
        "id": "C9y0yRXhhj1F"
      },
      "source": [
        "## 1.\n",
        "conv1 = torch.nn.Conv1d(in_channels=4, out_channels=16, kernel_size=3)"
      ],
      "execution_count": null,
      "outputs": []
    },
    {
      "cell_type": "code",
      "metadata": {
        "id": "FJ9uE489imxl"
      },
      "source": [
        "## 2.\n",
        "dna_seg = random.choice(train_dataset.dna)\n",
        "conv_res = conv1(dna_seg)"
      ],
      "execution_count": null,
      "outputs": []
    },
    {
      "cell_type": "code",
      "metadata": {
        "id": "UWvh59eVZfCf",
        "colab": {
          "base_uri": "https://localhost:8080/",
          "height": 468
        },
        "outputId": "edb6424a-f42b-403c-9d34-6e4f2e003877"
      },
      "source": [
        "## 3.\n",
        "plt.figure(figsize=(10, 5))\n",
        "plt.title(\"Resultat CONV1D \")\n",
        "plt.imshow(conv_res.detach().numpy(),  aspect='auto')\n",
        "plt.show()"
      ],
      "execution_count": null,
      "outputs": [
        {
          "output_type": "display_data",
          "data": {
            "text/plain": [
              "<Figure size 1000x500 with 1 Axes>"
            ],
            "image/png": "[encoded data removed]"
          },
          "metadata": {}
        }
      ]
    },
    {
      "cell_type": "markdown",
      "metadata": {
        "id": "H26rAy0wkbca"
      },
      "source": [
        "# EX 6: Build a model\n",
        "\n",
        "The following code is used to build a CNN model for a classification problem. This model consists of :\n",
        "\n",
        "1. 3 layers of  1D-convolution. Each convolutional layer is followed by an activation ReLu.\n",
        "\n",
        "2. 2 Linear layers\n",
        "\n",
        "\n",
        "Complete the lines # TODO below to finish the definition of this network."
      ]
    },
    {
      "cell_type": "code",
      "metadata": {
        "id": "L_bs8O3lhB7m"
      },
      "source": [
        "import torch.nn as nn\n",
        "import torch.nn.functional as F\n",
        "\n",
        "class DeepDNA(nn.Module):\n",
        "\n",
        "  def __init__(self, sequence_length):\n",
        "    \"\"\"\n",
        "    Parameters\n",
        "    -----------\n",
        "    sequence_length: int\n",
        "    num_class: int\n",
        "\n",
        "    \"\"\"\n",
        "    super(DeepDNA,self).__init__()\n",
        "\n",
        "    self.conv1 = nn.Conv1d(in_channels=4, out_channels=16, kernel_size=3,\n",
        "                           stride=1, padding=1)\n",
        "    self.conv2 = nn.Conv1d(in_channels=16, out_channels=32, kernel_size=3,\n",
        "                           stride=1, padding=1)\n",
        "    self.conv3 = nn.Conv1d(in_channels=32, out_channels=64, kernel_size=3,\n",
        "                           stride=1, padding=1)\n",
        "\n",
        "    self.lin1 = nn.Linear(101*64, 32)\n",
        "    self.lin2 = nn.Linear(32, 1)\n",
        "\n",
        "\n",
        "  def forward(self, x):\n",
        "\n",
        "    # 1/ pass the first convolutional layer\n",
        "    x = self.conv1(x)\n",
        "    x = F.relu(x)\n",
        "\n",
        "    # 2/ Pas the second convolutional layer\n",
        "    x = self.conv2(x)\n",
        "    x = F.relu(x)\n",
        "\n",
        "    # 3/ Pass the third convolution layer\n",
        "    x = self.conv3(x)\n",
        "    x = F.relu(x)\n",
        "\n",
        "    x = x.view(x.size(0), 101*64)\n",
        "\n",
        "    # TODO\n",
        "    x = self.lin1(x)\n",
        "    x = F.relu(x)\n",
        "    x = self.lin2(x)\n",
        "\n",
        "    # Sigmoid\n",
        "    x = nn.Sigmoid()(x)\n",
        "\n",
        "    return x\n"
      ],
      "execution_count": null,
      "outputs": []
    },
    {
      "cell_type": "markdown",
      "metadata": {
        "id": "HVbFqM4laclu"
      },
      "source": [
        "# Ex 7 Test the model\n",
        "\n",
        "\n",
        "1. Create an instance of the DeepDNA class named **net**.\n",
        "\n",
        "2. Print out the variable **net** to see detailed information about the model.\n",
        "\n",
        "3. Pass **dna_seg** below to **net** in order to  test if your model **net** works well.\n",
        "\n",
        "4. What is the size of the output ?\n",
        "\n"
      ]
    },
    {
      "cell_type": "code",
      "metadata": {
        "id": "ladQCir7btvX"
      },
      "source": [
        "## 1.\n",
        "net = DeepDNA(train_dataset.dna.shape[-1])"
      ],
      "execution_count": null,
      "outputs": []
    },
    {
      "cell_type": "code",
      "metadata": {
        "id": "RFzp7DbtlTwG",
        "colab": {
          "base_uri": "https://localhost:8080/"
        },
        "outputId": "609d4a56-d31a-4293-a59c-cb8042e40a46"
      },
      "source": [
        "## 2.\n",
        "net"
      ],
      "execution_count": null,
      "outputs": [
        {
          "output_type": "execute_result",
          "data": {
            "text/plain": [
              "DeepDNA(\n",
              "  (conv1): Conv1d(4, 16, kernel_size=(3,), stride=(1,), padding=(1,))\n",
              "  (conv2): Conv1d(16, 32, kernel_size=(3,), stride=(1,), padding=(1,))\n",
              "  (conv3): Conv1d(32, 64, kernel_size=(3,), stride=(1,), padding=(1,))\n",
              "  (lin1): Linear(in_features=6464, out_features=32, bias=True)\n",
              "  (lin2): Linear(in_features=32, out_features=1, bias=True)\n",
              ")"
            ]
          },
          "metadata": {},
          "execution_count": 22
        }
      ]
    },
    {
      "cell_type": "code",
      "source": [
        "## 3.\n",
        "out = net.forward(dna_seg.unsqueeze(0))\n",
        "out"
      ],
      "metadata": {
        "id": "scFin6qzqBXd",
        "colab": {
          "base_uri": "https://localhost:8080/"
        },
        "outputId": "735a51a7-f412-498f-ffc3-34329a3e7242"
      },
      "execution_count": null,
      "outputs": [
        {
          "output_type": "execute_result",
          "data": {
            "text/plain": [
              "tensor([[0.5443]], grad_fn=<SigmoidBackward0>)"
            ]
          },
          "metadata": {},
          "execution_count": 23
        }
      ]
    },
    {
      "cell_type": "code",
      "source": [
        "## 4.\n",
        "out.shape"
      ],
      "metadata": {
        "id": "mpPkX7HLqCc-",
        "colab": {
          "base_uri": "https://localhost:8080/"
        },
        "outputId": "7ddf4244-7d2c-4b5f-e2a8-54afa5affda6"
      },
      "execution_count": null,
      "outputs": [
        {
          "output_type": "execute_result",
          "data": {
            "text/plain": [
              "torch.Size([1, 1])"
            ]
          },
          "metadata": {},
          "execution_count": 24
        }
      ]
    },
    {
      "cell_type": "markdown",
      "metadata": {
        "id": "yypmG11hr_so"
      },
      "source": [
        "# Ex 8: Define loss function and optimizer\n",
        "\n",
        "\n",
        "1. Define an SGD optimizer for the model. You need to choose the learning rate for your model.\n",
        "\n",
        "2. Define a Binary Cross Entropy (BCE) Loss  function.\n"
      ]
    },
    {
      "cell_type": "code",
      "metadata": {
        "id": "uZwQKSrxh1A_"
      },
      "source": [
        "## 1.\n",
        "sgd = torch.optim.SGD(lr=0.01, params=net.parameters(),  momentum=0.9, nesterov=True)\n",
        "#sgd = torch.optim.SGD(lr=0.0, params=net.parameters())\n",
        "## 2.\n",
        "bce = torch.nn.BCELoss()"
      ],
      "execution_count": null,
      "outputs": []
    },
    {
      "cell_type": "markdown",
      "metadata": {
        "id": "7rEjVjhetI6A"
      },
      "source": [
        "# Ex 9: Training your model\n",
        "\n",
        "The following function allows to train the model for one epoch. This function returns total loss per epoch.\n",
        "Implement the training pass for this function.\n",
        "\n",
        "\n",
        "\n",
        "The general process with PyTorch for one learning step consits of several steps:\n",
        "\n",
        "1. Make a forward pass through the network\n",
        "2. Use the network output to calculate the loss\n",
        "3. Perform a backward pass through the network with loss.backward() to calculate the gradients\n",
        "4. Take a step with the optimizer to update the weights\n",
        "\n"
      ]
    },
    {
      "cell_type": "code",
      "metadata": {
        "id": "oAil9eU9iNCf"
      },
      "source": [
        "def train_model(loader):\n",
        "    net.train()\n",
        "    total_loss = 0\n",
        "\n",
        "    for _, batch in enumerate(loader):\n",
        "        data = batch['DNA'].float()\n",
        "        target = batch['Class'].float().unsqueeze(1)\n",
        "\n",
        "        out = net(data)\n",
        "        loss = bce(out, target)\n",
        "        grad = sgd.zero_grad()\n",
        "        loss.backward()\n",
        "        sgd.step()\n",
        "        total_loss += loss.item()\n",
        "\n",
        "    return total_loss / len(loader)\n"
      ],
      "execution_count": null,
      "outputs": []
    },
    {
      "cell_type": "markdown",
      "metadata": {
        "id": "Pz0VV2Oenftq"
      },
      "source": [
        "# Ex 11: Accuracy Calculation\n",
        "\n",
        "Write a function named **compute_num_correct_pred(y_prob, y_label)** that allows to compute the number of correct predictions. **y_prob** and **y_label** should be pytorch tensors.\n",
        "\n",
        "For example,\n",
        "y_prob = [[0.3],[0.4], [0.8], [0.7]].\n",
        "\n",
        "y = [[0], [1], [1], [0]].\n",
        "\n",
        "This function should return 2."
      ]
    },
    {
      "cell_type": "code",
      "metadata": {
        "id": "JZ3cRawWpFe7",
        "colab": {
          "base_uri": "https://localhost:8080/"
        },
        "outputId": "4ca8155a-6a01-4bbb-e671-5e9e9e1cb307"
      },
      "source": [
        "def compute_num_correct_pred(y_prob, y_label):\n",
        "  y_prob = list(map(lambda x : 0 if x < 0.5 else 1, y_prob))\n",
        "  count = [1 if x == y else 0 for x, y in zip(y_prob, y_label)]\n",
        "  return np.sum(count)\n",
        "\n",
        "\n",
        "y_prob = torch.tensor([[0.3],[0.4], [0.8], [0.7]])\n",
        "y = torch.tensor([[0], [1], [1], [0]])\n",
        "compute_num_correct_pred(y_prob, y)"
      ],
      "execution_count": null,
      "outputs": [
        {
          "output_type": "execute_result",
          "data": {
            "text/plain": [
              "2"
            ]
          },
          "metadata": {},
          "execution_count": 27
        }
      ]
    },
    {
      "cell_type": "markdown",
      "metadata": {
        "id": "3N_g4DA-vex8"
      },
      "source": [
        "\n",
        "The function below allows to calculate the accuracy of the model on dataset loader. Execute this function to see if you implemented the compute_num_correct_pred function correctly."
      ]
    },
    {
      "cell_type": "code",
      "metadata": {
        "id": "FY9V2-NCvv25"
      },
      "source": [
        "def test(loader):\n",
        "  net.eval()\n",
        "\n",
        "  correct = 0\n",
        "  with torch.no_grad():\n",
        "    for data in loader:\n",
        "      dna = data['DNA']\n",
        "      y = data['Class']\n",
        "\n",
        "      out = net(dna)\n",
        "      correct += compute_num_correct_pred(out, y)\n",
        "\n",
        "  return correct / len(loader.dataset)"
      ],
      "execution_count": null,
      "outputs": []
    },
    {
      "cell_type": "code",
      "source": [
        "test(test_loader)"
      ],
      "metadata": {
        "colab": {
          "base_uri": "https://localhost:8080/"
        },
        "id": "XBEeCOIxtncO",
        "outputId": "4c4c81a7-12b3-4e32-8726-d14bb43ae55f"
      },
      "execution_count": null,
      "outputs": [
        {
          "output_type": "execute_result",
          "data": {
            "text/plain": [
              "0.5"
            ]
          },
          "metadata": {},
          "execution_count": 29
        }
      ]
    },
    {
      "cell_type": "markdown",
      "metadata": {
        "id": "I0vTKeeQ3wGb"
      },
      "source": [
        "# Ex 12: Training the model\n",
        "\n",
        "Write code to train your model on 10 epoches to see if everything is going well and then you can try to add more epoches.\n"
      ]
    },
    {
      "cell_type": "code",
      "metadata": {
        "id": "K-vkWpKLixGE",
        "colab": {
          "base_uri": "https://localhost:8080/"
        },
        "outputId": "0616ce68-1ace-4f6f-ceb4-36eb8acb8ff5"
      },
      "source": [
        "EPOCHS = 2000\n",
        "\n",
        "accuracy_list = []\n",
        "loss_list = []\n",
        "\n",
        "for epoch in tqdm(range(EPOCHS)):\n",
        "  loss = train_model(train_loader)\n",
        "  acc = test(test_loader)\n",
        "\n",
        "  accuracy_list.append(acc)\n",
        "  loss_list.append(loss)\n",
        "\n"
      ],
      "execution_count": null,
      "outputs": [
        {
          "output_type": "stream",
          "name": "stderr",
          "text": [
            "100%|██████████| 2000/2000 [00:11<00:00, 177.36it/s]\n"
          ]
        }
      ]
    },
    {
      "cell_type": "code",
      "source": [
        "plt.figure(figsize=(12, 5))\n",
        "\n",
        "plt.subplot(1, 2, 1)\n",
        "plt.title(\"Train loss per epoch\")\n",
        "plt.xlabel(\"epoch\")\n",
        "plt.ylabel(\"loss\")\n",
        "plt.plot(loss_list)\n",
        "\n",
        "plt.subplot(1, 2, 2)\n",
        "plt.title(\"Test Accuracy per epoch\")\n",
        "plt.xlabel(\"epoch\")\n",
        "plt.ylabel(\"accuracy\")\n",
        "plt.plot(accuracy_list)\n",
        "\n",
        "plt.show()"
      ],
      "metadata": {
        "colab": {
          "base_uri": "https://localhost:8080/",
          "height": 487
        },
        "id": "HSgk1gDQ1LnQ",
        "outputId": "6ae59d18-69d1-4a38-9223-b8a8fb532bba"
      },
      "execution_count": null,
      "outputs": [
        {
          "output_type": "display_data",
          "data": {
            "text/plain": [
              "<Figure size 1200x500 with 2 Axes>"
            ],
            "image/png": "[encoded data removed]"
          },
          "metadata": {}
        }
      ]
    },
    {
      "cell_type": "markdown",
      "metadata": {
        "id": "WX_FGbp4tV0Z"
      },
      "source": [
        "# Ex13 (optional)\n",
        "\n",
        "1. If we use torch.nn.BCEWithLogitsLoss(), what does we need to change to the definition of the model ?\n",
        "\n",
        "\n",
        "2. The same question for torch.nn.CrossEntropyLoss() loss.  "
      ]
    },
    {
      "cell_type": "markdown",
      "source": [
        "1. If we use torch.nn.BCEWithLogitsLoss it is equivalent of using BCELoss() but the sigmoid activation at the end will be automatically added.\n",
        "\n",
        "2. If we use torch.nn.CrossEntropyLoss loss, we need to change the number of output neurons (2 instead of 1) and we should not have activation function (it applies softmax automatically). Morever, the label should be int 0 or 1 where we have float for binary classification between [0, 1]"
      ],
      "metadata": {
        "id": "qm_IDzKlLd_R"
      }
    },
    {
      "cell_type": "code",
      "source": [],
      "metadata": {
        "id": "bEuVR8y1OktW"
      },
      "execution_count": null,
      "outputs": []
    }
  ]
}