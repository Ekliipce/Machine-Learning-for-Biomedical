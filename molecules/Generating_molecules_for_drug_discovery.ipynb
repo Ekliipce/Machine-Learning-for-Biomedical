{
  "metadata": {
    "kernelspec": {
      "name": "python3",
      "display_name": "Python 3"
    },
    "language_info": {
      "name": "python",
      "version": "3.10.12",
      "mimetype": "text/x-python",
      "codemirror_mode": {
        "name": "ipython",
        "version": 3
      },
      "pygments_lexer": "ipython3",
      "nbconvert_exporter": "python",
      "file_extension": ".py"
    },
    "colab": {
      "provenance": [],
      "gpuType": "T4",
      "include_colab_link": true
    },
    "accelerator": "GPU"
  },
  "nbformat_minor": 0,
  "nbformat": 4,
  "cells": [
    {
      "cell_type": "markdown",
      "metadata": {
        "id": "view-in-github",
        "colab_type": "text"
      },
      "source": [
        "<a href=\"https://colab.research.google.com/github/Ekliipce/Machine-Learning-for-Biomedical/blob/main/molecules/Generating_molecules_for_drug_discovery.ipynb\" target=\"_parent\"><img src=\"https://colab.research.google.com/assets/colab-badge.svg\" alt=\"Open In Colab\"/></a>"
      ]
    },
    {
      "cell_type": "code",
      "source": [
        "import numpy as np\n",
        "import matplotlib.pyplot as plt\n",
        "import pandas as pd\n",
        "import tensorflow as tf\n",
        "import seaborn as sns\n",
        "\n",
        "from sklearn.metrics import confusion_matrix\n",
        "from keras.layers import LSTM, Dropout, Dense, BatchNormalization\n",
        "from keras.callbacks import ReduceLROnPlateau, EarlyStopping\n",
        "from keras.regularizers import l2\n",
        "from keras.preprocessing.text import Tokenizer\n",
        "from keras import Sequential\n",
        "from tqdm import tqdm"
      ],
      "metadata": {
        "id": "h-fYd1Vvy2fy",
        "trusted": true
      },
      "execution_count": 1,
      "outputs": []
    },
    {
      "cell_type": "markdown",
      "source": [
        "# RNN Based molucule generation\n",
        "\n",
        "Laurent Cetinsoy\n",
        "\n",
        "In this hands-on we want to generate molecule formulas for denovo-drug discovery.\n",
        "\n",
        "For that we need to use Generative models. Generative models are models which goes beyond classification or simple regression : they are able to generate data that look like previously seens dataset.\n",
        "\n",
        "There exists a lot of models :\n",
        "\n",
        "- Bayesian models like graphical models\n",
        "- Recurrent models (for sequence generation like texte)\n",
        "- Variational auto encoders\n",
        "- Generative adversarial models\n",
        "- Flow and diffusion models\n",
        "\n",
        "\n",
        "In the hands-on we will start by  trainning a character based RNN to generate smile molecules\n",
        "\n",
        "\n",
        "We want to feed smile representations of molecules to an RNN.\n",
        "The basic idea is we will train it to predict the next smile token of a molecule given the previous one.\n",
        "\n",
        "For instance for the following molecule \"CC(=O)NC1=CC=C(O)C=C1\" will may give to the model\n",
        "\n",
        "X = \"CC(=O)N\"\n",
        "y = C\n",
        "\n",
        "and ask the RNN to learn to predict y given X\n",
        "\n",
        "Like a standard language model !\n"
      ],
      "metadata": {
        "id": "7YhDx0Tsyyhd"
      }
    },
    {
      "cell_type": "markdown",
      "source": [
        "## RNN Language model\n",
        "\n",
        "\n",
        "A language model is a model which predict the next token of a sequence given the previous ones :\n",
        "\n",
        "$ P(X_t | X_{t-1}, X_{t-2}, ..., X_{t-p})  $\n",
        "\n",
        "\n",
        "This model can be learned with a Recurrent neural network\n",
        "\n",
        "$ y = P(X_t | X_{t-1}, X_{t-2}, ..., X_{t-p}) = RNN_{\\theta} (X_{t-1}, X_{t-2}, ..., X_{t-p})  $\n",
        "\n",
        "\n",
        "In order to train such model you need a corpus of data.\n",
        "\n",
        "\n",
        "\n",
        "There are two main ways to do that : Word level model or character level model\n",
        "\n",
        "For character level models, an interesting resource is : http://karpathy.github.io/2015/05/21/rnn-effectiveness/\n",
        "\n"
      ],
      "metadata": {
        "id": "c-Que9IFyyhk"
      }
    },
    {
      "cell_type": "markdown",
      "source": [
        "Explain briefly what is the difference between word based language model and character based language model ?\n",
        "\n",
        "A word-based RNN can generate text using words from the training corpus but never new words. In contrast, a character-based RNN can produce new words. This property is interesting because we aim to create new molecules, which can be represented as words."
      ],
      "metadata": {
        "id": "ZaSGBHWXyyhm"
      }
    },
    {
      "cell_type": "markdown",
      "source": [
        "## Loading the data"
      ],
      "metadata": {
        "id": "WU_SbWlJyyhn"
      }
    },
    {
      "cell_type": "markdown",
      "source": [
        "Dowload the following dataset : https://github.com/joeymach/Leveraging-VAE-to-generate-molecules"
      ],
      "metadata": {
        "id": "9CAnQcj3yyho"
      }
    },
    {
      "cell_type": "markdown",
      "source": [
        "Import pandas and load the first 1000 lines"
      ],
      "metadata": {
        "id": "nyvW9PMyyyhr"
      }
    },
    {
      "cell_type": "code",
      "source": [
        "!wget  'https://raw.githubusercontent.com/joeymach/Leveraging-VAE-to-generate-molecules/master/250k_smiles.csv'"
      ],
      "metadata": {
        "id": "p2FuRl15yyhr",
        "colab": {
          "base_uri": "https://localhost:8080/"
        },
        "outputId": "f9a1c09d-7fe7-45f5-9788-dc81847814eb",
        "trusted": true
      },
      "execution_count": 2,
      "outputs": [
        {
          "output_type": "stream",
          "name": "stdout",
          "text": [
            "--2023-09-26 09:03:57--  https://raw.githubusercontent.com/joeymach/Leveraging-VAE-to-generate-molecules/master/250k_smiles.csv\n",
            "Resolving raw.githubusercontent.com (raw.githubusercontent.com)... 185.199.109.133, 185.199.110.133, 185.199.111.133, ...\n",
            "Connecting to raw.githubusercontent.com (raw.githubusercontent.com)|185.199.109.133|:443... connected.\n",
            "HTTP request sent, awaiting response... 200 OK\n",
            "Length: 22606589 (22M) [text/plain]\n",
            "Saving to: ‘250k_smiles.csv’\n",
            "\n",
            "250k_smiles.csv     100%[===================>]  21.56M  --.-KB/s    in 0.06s   \n",
            "\n",
            "2023-09-26 09:03:59 (369 MB/s) - ‘250k_smiles.csv’ saved [22606589/22606589]\n",
            "\n"
          ]
        }
      ]
    },
    {
      "cell_type": "markdown",
      "source": [
        "Display the first rows of the dataframe"
      ],
      "metadata": {
        "id": "gO3XWPQMyyhs"
      }
    },
    {
      "cell_type": "code",
      "source": [
        "path_dataframe = \"250k_smiles.csv\"\n",
        "df = pd.read_csv(path_dataframe)\n",
        "df.head()"
      ],
      "metadata": {
        "id": "zjQ6_NK3yyht",
        "colab": {
          "base_uri": "https://localhost:8080/",
          "height": 206
        },
        "outputId": "1a56b8e6-7a25-4af1-a196-32d9c69770d3",
        "trusted": true
      },
      "execution_count": 3,
      "outputs": [
        {
          "output_type": "execute_result",
          "data": {
            "text/plain": [
              "                                              smiles     logP       qed  \\\n",
              "0          CC(C)(C)c1ccc2occ(CC(=O)Nc3ccccc3F)c2c1\\n  5.05060  0.702012   \n",
              "1     C[C@@H]1CC(Nc2cncc(-c3nncn3C)c2)C[C@@H](C)C1\\n  3.11370  0.928975   \n",
              "2  N#Cc1ccc(-c2ccc(O[C@@H](C(=O)N3CCCC3)c3ccccc3)...  4.96778  0.599682   \n",
              "3  CCOC(=O)[C@@H]1CCCN(C(=O)c2nc(-c3ccc(C)cc3)n3c...  4.00022  0.690944   \n",
              "4  N#CC1=C(SCC(=O)Nc2cccc(Cl)c2)N=C([O-])[C@H](C#...  3.60956  0.789027   \n",
              "\n",
              "        SAS  \n",
              "0  2.084095  \n",
              "1  3.432004  \n",
              "2  2.470633  \n",
              "3  2.822753  \n",
              "4  4.035182  "
            ],
            "text/html": [
              "\n",
              "  <div id=\"df-8745f017-a423-4c6a-ac24-0b81b417c959\" class=\"colab-df-container\">\n",
              "    <div>\n",
              "<style scoped>\n",
              "    .dataframe tbody tr th:only-of-type {\n",
              "        vertical-align: middle;\n",
              "    }\n",
              "\n",
              "    .dataframe tbody tr th {\n",
              "        vertical-align: top;\n",
              "    }\n",
              "\n",
              "    .dataframe thead th {\n",
              "        text-align: right;\n",
              "    }\n",
              "</style>\n",
              "<table border=\"1\" class=\"dataframe\">\n",
              "  <thead>\n",
              "    <tr style=\"text-align: right;\">\n",
              "      <th></th>\n",
              "      <th>smiles</th>\n",
              "      <th>logP</th>\n",
              "      <th>qed</th>\n",
              "      <th>SAS</th>\n",
              "    </tr>\n",
              "  </thead>\n",
              "  <tbody>\n",
              "    <tr>\n",
              "      <th>0</th>\n",
              "      <td>CC(C)(C)c1ccc2occ(CC(=O)Nc3ccccc3F)c2c1\\n</td>\n",
              "      <td>5.05060</td>\n",
              "      <td>0.702012</td>\n",
              "      <td>2.084095</td>\n",
              "    </tr>\n",
              "    <tr>\n",
              "      <th>1</th>\n",
              "      <td>C[C@@H]1CC(Nc2cncc(-c3nncn3C)c2)C[C@@H](C)C1\\n</td>\n",
              "      <td>3.11370</td>\n",
              "      <td>0.928975</td>\n",
              "      <td>3.432004</td>\n",
              "    </tr>\n",
              "    <tr>\n",
              "      <th>2</th>\n",
              "      <td>N#Cc1ccc(-c2ccc(O[C@@H](C(=O)N3CCCC3)c3ccccc3)...</td>\n",
              "      <td>4.96778</td>\n",
              "      <td>0.599682</td>\n",
              "      <td>2.470633</td>\n",
              "    </tr>\n",
              "    <tr>\n",
              "      <th>3</th>\n",
              "      <td>CCOC(=O)[C@@H]1CCCN(C(=O)c2nc(-c3ccc(C)cc3)n3c...</td>\n",
              "      <td>4.00022</td>\n",
              "      <td>0.690944</td>\n",
              "      <td>2.822753</td>\n",
              "    </tr>\n",
              "    <tr>\n",
              "      <th>4</th>\n",
              "      <td>N#CC1=C(SCC(=O)Nc2cccc(Cl)c2)N=C([O-])[C@H](C#...</td>\n",
              "      <td>3.60956</td>\n",
              "      <td>0.789027</td>\n",
              "      <td>4.035182</td>\n",
              "    </tr>\n",
              "  </tbody>\n",
              "</table>\n",
              "</div>\n",
              "    <div class=\"colab-df-buttons\">\n",
              "\n",
              "  <div class=\"colab-df-container\">\n",
              "    <button class=\"colab-df-convert\" onclick=\"convertToInteractive('df-8745f017-a423-4c6a-ac24-0b81b417c959')\"\n",
              "            title=\"Convert this dataframe to an interactive table.\"\n",
              "            style=\"display:none;\">\n",
              "\n",
              "  <svg xmlns=\"http://www.w3.org/2000/svg\" height=\"24px\" viewBox=\"0 -960 960 960\">\n",
              "    <path d=\"M120-120v-720h720v720H120Zm60-500h600v-160H180v160Zm220 220h160v-160H400v160Zm0 220h160v-160H400v160ZM180-400h160v-160H180v160Zm440 0h160v-160H620v160ZM180-180h160v-160H180v160Zm440 0h160v-160H620v160Z\"/>\n",
              "  </svg>\n",
              "    </button>\n",
              "\n",
              "  <style>\n",
              "    .colab-df-container {\n",
              "      display:flex;\n",
              "      gap: 12px;\n",
              "    }\n",
              "\n",
              "    .colab-df-convert {\n",
              "      background-color: #E8F0FE;\n",
              "      border: none;\n",
              "      border-radius: 50%;\n",
              "      cursor: pointer;\n",
              "      display: none;\n",
              "      fill: #1967D2;\n",
              "      height: 32px;\n",
              "      padding: 0 0 0 0;\n",
              "      width: 32px;\n",
              "    }\n",
              "\n",
              "    .colab-df-convert:hover {\n",
              "      background-color: #E2EBFA;\n",
              "      box-shadow: 0px 1px 2px rgba(60, 64, 67, 0.3), 0px 1px 3px 1px rgba(60, 64, 67, 0.15);\n",
              "      fill: #174EA6;\n",
              "    }\n",
              "\n",
              "    .colab-df-buttons div {\n",
              "      margin-bottom: 4px;\n",
              "    }\n",
              "\n",
              "    [theme=dark] .colab-df-convert {\n",
              "      background-color: #3B4455;\n",
              "      fill: #D2E3FC;\n",
              "    }\n",
              "\n",
              "    [theme=dark] .colab-df-convert:hover {\n",
              "      background-color: #434B5C;\n",
              "      box-shadow: 0px 1px 3px 1px rgba(0, 0, 0, 0.15);\n",
              "      filter: drop-shadow(0px 1px 2px rgba(0, 0, 0, 0.3));\n",
              "      fill: #FFFFFF;\n",
              "    }\n",
              "  </style>\n",
              "\n",
              "    <script>\n",
              "      const buttonEl =\n",
              "        document.querySelector('#df-8745f017-a423-4c6a-ac24-0b81b417c959 button.colab-df-convert');\n",
              "      buttonEl.style.display =\n",
              "        google.colab.kernel.accessAllowed ? 'block' : 'none';\n",
              "\n",
              "      async function convertToInteractive(key) {\n",
              "        const element = document.querySelector('#df-8745f017-a423-4c6a-ac24-0b81b417c959');\n",
              "        const dataTable =\n",
              "          await google.colab.kernel.invokeFunction('convertToInteractive',\n",
              "                                                    [key], {});\n",
              "        if (!dataTable) return;\n",
              "\n",
              "        const docLinkHtml = 'Like what you see? Visit the ' +\n",
              "          '<a target=\"_blank\" href=https://colab.research.google.com/notebooks/data_table.ipynb>data table notebook</a>'\n",
              "          + ' to learn more about interactive tables.';\n",
              "        element.innerHTML = '';\n",
              "        dataTable['output_type'] = 'display_data';\n",
              "        await google.colab.output.renderOutput(dataTable, element);\n",
              "        const docLink = document.createElement('div');\n",
              "        docLink.innerHTML = docLinkHtml;\n",
              "        element.appendChild(docLink);\n",
              "      }\n",
              "    </script>\n",
              "  </div>\n",
              "\n",
              "\n",
              "<div id=\"df-7f0ba199-0148-4bdb-acdf-73748cf5738d\">\n",
              "  <button class=\"colab-df-quickchart\" onclick=\"quickchart('df-7f0ba199-0148-4bdb-acdf-73748cf5738d')\"\n",
              "            title=\"Suggest charts.\"\n",
              "            style=\"display:none;\">\n",
              "\n",
              "<svg xmlns=\"http://www.w3.org/2000/svg\" height=\"24px\"viewBox=\"0 0 24 24\"\n",
              "     width=\"24px\">\n",
              "    <g>\n",
              "        <path d=\"M19 3H5c-1.1 0-2 .9-2 2v14c0 1.1.9 2 2 2h14c1.1 0 2-.9 2-2V5c0-1.1-.9-2-2-2zM9 17H7v-7h2v7zm4 0h-2V7h2v10zm4 0h-2v-4h2v4z\"/>\n",
              "    </g>\n",
              "</svg>\n",
              "  </button>\n",
              "\n",
              "<style>\n",
              "  .colab-df-quickchart {\n",
              "      --bg-color: #E8F0FE;\n",
              "      --fill-color: #1967D2;\n",
              "      --hover-bg-color: #E2EBFA;\n",
              "      --hover-fill-color: #174EA6;\n",
              "      --disabled-fill-color: #AAA;\n",
              "      --disabled-bg-color: #DDD;\n",
              "  }\n",
              "\n",
              "  [theme=dark] .colab-df-quickchart {\n",
              "      --bg-color: #3B4455;\n",
              "      --fill-color: #D2E3FC;\n",
              "      --hover-bg-color: #434B5C;\n",
              "      --hover-fill-color: #FFFFFF;\n",
              "      --disabled-bg-color: #3B4455;\n",
              "      --disabled-fill-color: #666;\n",
              "  }\n",
              "\n",
              "  .colab-df-quickchart {\n",
              "    background-color: var(--bg-color);\n",
              "    border: none;\n",
              "    border-radius: 50%;\n",
              "    cursor: pointer;\n",
              "    display: none;\n",
              "    fill: var(--fill-color);\n",
              "    height: 32px;\n",
              "    padding: 0;\n",
              "    width: 32px;\n",
              "  }\n",
              "\n",
              "  .colab-df-quickchart:hover {\n",
              "    background-color: var(--hover-bg-color);\n",
              "    box-shadow: 0 1px 2px rgba(60, 64, 67, 0.3), 0 1px 3px 1px rgba(60, 64, 67, 0.15);\n",
              "    fill: var(--button-hover-fill-color);\n",
              "  }\n",
              "\n",
              "  .colab-df-quickchart-complete:disabled,\n",
              "  .colab-df-quickchart-complete:disabled:hover {\n",
              "    background-color: var(--disabled-bg-color);\n",
              "    fill: var(--disabled-fill-color);\n",
              "    box-shadow: none;\n",
              "  }\n",
              "\n",
              "  .colab-df-spinner {\n",
              "    border: 2px solid var(--fill-color);\n",
              "    border-color: transparent;\n",
              "    border-bottom-color: var(--fill-color);\n",
              "    animation:\n",
              "      spin 1s steps(1) infinite;\n",
              "  }\n",
              "\n",
              "  @keyframes spin {\n",
              "    0% {\n",
              "      border-color: transparent;\n",
              "      border-bottom-color: var(--fill-color);\n",
              "      border-left-color: var(--fill-color);\n",
              "    }\n",
              "    20% {\n",
              "      border-color: transparent;\n",
              "      border-left-color: var(--fill-color);\n",
              "      border-top-color: var(--fill-color);\n",
              "    }\n",
              "    30% {\n",
              "      border-color: transparent;\n",
              "      border-left-color: var(--fill-color);\n",
              "      border-top-color: var(--fill-color);\n",
              "      border-right-color: var(--fill-color);\n",
              "    }\n",
              "    40% {\n",
              "      border-color: transparent;\n",
              "      border-right-color: var(--fill-color);\n",
              "      border-top-color: var(--fill-color);\n",
              "    }\n",
              "    60% {\n",
              "      border-color: transparent;\n",
              "      border-right-color: var(--fill-color);\n",
              "    }\n",
              "    80% {\n",
              "      border-color: transparent;\n",
              "      border-right-color: var(--fill-color);\n",
              "      border-bottom-color: var(--fill-color);\n",
              "    }\n",
              "    90% {\n",
              "      border-color: transparent;\n",
              "      border-bottom-color: var(--fill-color);\n",
              "    }\n",
              "  }\n",
              "</style>\n",
              "\n",
              "  <script>\n",
              "    async function quickchart(key) {\n",
              "      const quickchartButtonEl =\n",
              "        document.querySelector('#' + key + ' button');\n",
              "      quickchartButtonEl.disabled = true;  // To prevent multiple clicks.\n",
              "      quickchartButtonEl.classList.add('colab-df-spinner');\n",
              "      try {\n",
              "        const charts = await google.colab.kernel.invokeFunction(\n",
              "            'suggestCharts', [key], {});\n",
              "      } catch (error) {\n",
              "        console.error('Error during call to suggestCharts:', error);\n",
              "      }\n",
              "      quickchartButtonEl.classList.remove('colab-df-spinner');\n",
              "      quickchartButtonEl.classList.add('colab-df-quickchart-complete');\n",
              "    }\n",
              "    (() => {\n",
              "      let quickchartButtonEl =\n",
              "        document.querySelector('#df-7f0ba199-0148-4bdb-acdf-73748cf5738d button');\n",
              "      quickchartButtonEl.style.display =\n",
              "        google.colab.kernel.accessAllowed ? 'block' : 'none';\n",
              "    })();\n",
              "  </script>\n",
              "</div>\n",
              "    </div>\n",
              "  </div>\n"
            ]
          },
          "metadata": {},
          "execution_count": 3
        }
      ]
    },
    {
      "cell_type": "code",
      "source": [
        "df.shape"
      ],
      "metadata": {
        "colab": {
          "base_uri": "https://localhost:8080/"
        },
        "id": "alf8tYPuzWww",
        "outputId": "b4f37ff7-3dd4-4ff3-cc2b-9bff219b0d18",
        "trusted": true
      },
      "execution_count": 4,
      "outputs": [
        {
          "output_type": "execute_result",
          "data": {
            "text/plain": [
              "(249455, 4)"
            ]
          },
          "metadata": {},
          "execution_count": 4
        }
      ]
    },
    {
      "cell_type": "code",
      "source": [
        "df.loc[1000, 'smiles']"
      ],
      "metadata": {
        "colab": {
          "base_uri": "https://localhost:8080/",
          "height": 35
        },
        "id": "2YWgRkP94qbx",
        "outputId": "f13a61ea-1d0f-43f7-a790-a0d39ae217db",
        "trusted": true
      },
      "execution_count": 5,
      "outputs": [
        {
          "output_type": "execute_result",
          "data": {
            "text/plain": [
              "'[NH3+][C@@H](CSCc1nccs1)C(=O)[O-]\\n'"
            ],
            "application/vnd.google.colaboratory.intrinsic+json": {
              "type": "string"
            }
          },
          "metadata": {},
          "execution_count": 5
        }
      ]
    },
    {
      "cell_type": "markdown",
      "source": [
        "## Processing the data\n",
        "\n",
        "We need to do the following things :\n",
        "\n",
        "- convert smile tokens to numbers\n",
        "- build  smile token sequences and corresponding labels pairs"
      ],
      "metadata": {
        "id": "VfyMV4QXyyhu"
      }
    },
    {
      "cell_type": "markdown",
      "source": [
        "Compute the biggest smile molecule size"
      ],
      "metadata": {
        "id": "C-wwZXCOyyhu"
      }
    },
    {
      "cell_type": "code",
      "source": [
        "biggest_smile_index = df['smiles'].apply(len).argmax()\n",
        "biggest_smile = df['smiles'][biggest_smile_index]\n",
        "biggest_smile"
      ],
      "metadata": {
        "id": "FMkUcyH3yyhv",
        "colab": {
          "base_uri": "https://localhost:8080/",
          "height": 35
        },
        "outputId": "627b1a50-954b-43d2-be0a-5b85d65dfef1",
        "trusted": true
      },
      "execution_count": 6,
      "outputs": [
        {
          "output_type": "execute_result",
          "data": {
            "text/plain": [
              "'C[C@]12C=CC(=O)C=C1CC[C@@H]1[C@@H]2CC[C@@]2(C)[C@H]1CC[C@H]2O[C@@H]1O[C@H](C(=O)[O-])[C@@H](O)[C@H](O)[C@H]1O\\n'"
            ],
            "application/vnd.google.colaboratory.intrinsic+json": {
              "type": "string"
            }
          },
          "metadata": {},
          "execution_count": 6
        }
      ]
    },
    {
      "cell_type": "markdown",
      "source": [
        "\n",
        "Code a function **unic_characters(string)** which return the unic characters in a string\n"
      ],
      "metadata": {
        "id": "7WrIDz_cyyhv"
      }
    },
    {
      "cell_type": "code",
      "source": [
        "def unic_characters(str_):\n",
        "  res = \"\"\n",
        "  for s in set(str_):\n",
        "    res += s\n",
        "  return res\n",
        "\n",
        "unic_characters(biggest_smile)"
      ],
      "metadata": {
        "id": "alXR3qcHyyhw",
        "colab": {
          "base_uri": "https://localhost:8080/",
          "height": 35
        },
        "outputId": "e4d341ce-4dd3-40c1-8690-85fc8c37e624",
        "trusted": true
      },
      "execution_count": 7,
      "outputs": [
        {
          "output_type": "execute_result",
          "data": {
            "text/plain": [
              "'=OH1\\nC2)(@]-['"
            ],
            "application/vnd.google.colaboratory.intrinsic+json": {
              "type": "string"
            }
          },
          "metadata": {},
          "execution_count": 7
        }
      ]
    },
    {
      "cell_type": "markdown",
      "source": [
        "Concatenate all smile string of the pandas dataframe and use **unic_characters** to get the unic_characters"
      ],
      "metadata": {
        "id": "4DITuFSeyyhx"
      }
    },
    {
      "cell_type": "code",
      "source": [
        "all = \"\"\n",
        "for str_ in df['smiles']:\n",
        "  all += str_\n",
        "\n",
        "unic_c = unic_characters(all)\n",
        "unic_c"
      ],
      "metadata": {
        "id": "Pweel8bxyyhx",
        "colab": {
          "base_uri": "https://localhost:8080/",
          "height": 35
        },
        "outputId": "fe240b38-e6bd-4c93-b2e4-974f06baa8f1",
        "trusted": true
      },
      "execution_count": 8,
      "outputs": [
        {
          "output_type": "execute_result",
          "data": {
            "text/plain": [
              "'/S7[HcPC)r@N4Bo86Is\\n2F(+ln5]#=\\\\13O-'"
            ],
            "application/vnd.google.colaboratory.intrinsic+json": {
              "type": "string"
            }
          },
          "metadata": {},
          "execution_count": 8
        }
      ]
    },
    {
      "cell_type": "code",
      "source": [
        "list_unic = np.sort(list(unic_c))\n",
        "list_unic"
      ],
      "metadata": {
        "colab": {
          "base_uri": "https://localhost:8080/"
        },
        "id": "0VgIBKKEAe_p",
        "outputId": "6b2b0824-3ed9-4400-8087-043238e848c9",
        "trusted": true
      },
      "execution_count": 9,
      "outputs": [
        {
          "output_type": "execute_result",
          "data": {
            "text/plain": [
              "array(['\\n', '#', '(', ')', '+', '-', '/', '1', '2', '3', '4', '5', '6',\n",
              "       '7', '8', '=', '@', 'B', 'C', 'F', 'H', 'I', 'N', 'O', 'P', 'S',\n",
              "       '[', '\\\\', ']', 'c', 'l', 'n', 'o', 'r', 's'], dtype='<U1')"
            ]
          },
          "metadata": {},
          "execution_count": 9
        }
      ]
    },
    {
      "cell_type": "markdown",
      "source": [
        "Code a function **map_char_to_int(unic_chars)** which returns a dictionnary where each char is assigned an int value.\n",
        "Add a character to specify the end of the molecule (like \"\\n\")\n"
      ],
      "metadata": {
        "id": "LXmrYw-nyyhy"
      }
    },
    {
      "cell_type": "code",
      "source": [
        "def map_char_to_int(unic_chars):\n",
        "  range_ = np.arange(unic_chars.shape[0])\n",
        "  pair = zip(unic_chars, range_)\n",
        "  return dict(pair)\n",
        "\n",
        "char_to_int = map_char_to_int(list_unic)\n",
        "char_to_int"
      ],
      "metadata": {
        "id": "dPvQzt1Oyyhy",
        "colab": {
          "base_uri": "https://localhost:8080/"
        },
        "outputId": "8954df58-61aa-4f13-bc0a-1daaf758df3c",
        "trusted": true
      },
      "execution_count": 10,
      "outputs": [
        {
          "output_type": "execute_result",
          "data": {
            "text/plain": [
              "{'\\n': 0,\n",
              " '#': 1,\n",
              " '(': 2,\n",
              " ')': 3,\n",
              " '+': 4,\n",
              " '-': 5,\n",
              " '/': 6,\n",
              " '1': 7,\n",
              " '2': 8,\n",
              " '3': 9,\n",
              " '4': 10,\n",
              " '5': 11,\n",
              " '6': 12,\n",
              " '7': 13,\n",
              " '8': 14,\n",
              " '=': 15,\n",
              " '@': 16,\n",
              " 'B': 17,\n",
              " 'C': 18,\n",
              " 'F': 19,\n",
              " 'H': 20,\n",
              " 'I': 21,\n",
              " 'N': 22,\n",
              " 'O': 23,\n",
              " 'P': 24,\n",
              " 'S': 25,\n",
              " '[': 26,\n",
              " '\\\\': 27,\n",
              " ']': 28,\n",
              " 'c': 29,\n",
              " 'l': 30,\n",
              " 'n': 31,\n",
              " 'o': 32,\n",
              " 'r': 33,\n",
              " 's': 34}"
            ]
          },
          "metadata": {},
          "execution_count": 10
        }
      ]
    },
    {
      "cell_type": "code",
      "source": [
        "def transform_char(string):\n",
        "  return [char_to_int[s] for s in string]\n",
        "\n",
        "sample_1 = \"CC(C)(C)c1ccc2occ(CC(=O)Nc3ccccc3F)c2c1\\n\"\n",
        "ex_1 = transform_char(sample_1)"
      ],
      "metadata": {
        "id": "JKcJmE6kmahu",
        "trusted": true
      },
      "execution_count": 11,
      "outputs": []
    },
    {
      "cell_type": "markdown",
      "source": [
        "Code a function map_int_to_char(unic_chars) which returns the reverse mapping."
      ],
      "metadata": {
        "id": "GbrgQmRgyyhz"
      }
    },
    {
      "cell_type": "code",
      "source": [
        "def map_int_to_char(unic_chars):\n",
        "  range_ = np.arange(unic_chars.shape[0])\n",
        "  pairs = zip(range_, unic_chars)\n",
        "  return dict(pairs)\n",
        "\n",
        "int_to_char = map_int_to_char(list_unic)\n",
        "int_to_char"
      ],
      "metadata": {
        "id": "mX3883sYyyh0",
        "colab": {
          "base_uri": "https://localhost:8080/"
        },
        "outputId": "e0743cb8-524e-41a4-d2d2-f99661eca60c",
        "trusted": true
      },
      "execution_count": 12,
      "outputs": [
        {
          "output_type": "execute_result",
          "data": {
            "text/plain": [
              "{0: '\\n',\n",
              " 1: '#',\n",
              " 2: '(',\n",
              " 3: ')',\n",
              " 4: '+',\n",
              " 5: '-',\n",
              " 6: '/',\n",
              " 7: '1',\n",
              " 8: '2',\n",
              " 9: '3',\n",
              " 10: '4',\n",
              " 11: '5',\n",
              " 12: '6',\n",
              " 13: '7',\n",
              " 14: '8',\n",
              " 15: '=',\n",
              " 16: '@',\n",
              " 17: 'B',\n",
              " 18: 'C',\n",
              " 19: 'F',\n",
              " 20: 'H',\n",
              " 21: 'I',\n",
              " 22: 'N',\n",
              " 23: 'O',\n",
              " 24: 'P',\n",
              " 25: 'S',\n",
              " 26: '[',\n",
              " 27: '\\\\',\n",
              " 28: ']',\n",
              " 29: 'c',\n",
              " 30: 'l',\n",
              " 31: 'n',\n",
              " 32: 'o',\n",
              " 33: 'r',\n",
              " 34: 's'}"
            ]
          },
          "metadata": {},
          "execution_count": 12
        }
      ]
    },
    {
      "cell_type": "code",
      "source": [
        "def transform_int(arr):\n",
        "  return [int_to_char[i] for i in arr]\n",
        "\n",
        "print(sample_1)\n",
        "transform_int(ex_1)"
      ],
      "metadata": {
        "colab": {
          "base_uri": "https://localhost:8080/"
        },
        "id": "KEhY10aAnShC",
        "outputId": "c9367e4c-48d2-45df-87e0-da2fe49addc4",
        "trusted": true
      },
      "execution_count": 13,
      "outputs": [
        {
          "output_type": "stream",
          "name": "stdout",
          "text": [
            "CC(C)(C)c1ccc2occ(CC(=O)Nc3ccccc3F)c2c1\n",
            "\n"
          ]
        },
        {
          "output_type": "execute_result",
          "data": {
            "text/plain": [
              "['C',\n",
              " 'C',\n",
              " '(',\n",
              " 'C',\n",
              " ')',\n",
              " '(',\n",
              " 'C',\n",
              " ')',\n",
              " 'c',\n",
              " '1',\n",
              " 'c',\n",
              " 'c',\n",
              " 'c',\n",
              " '2',\n",
              " 'o',\n",
              " 'c',\n",
              " 'c',\n",
              " '(',\n",
              " 'C',\n",
              " 'C',\n",
              " '(',\n",
              " '=',\n",
              " 'O',\n",
              " ')',\n",
              " 'N',\n",
              " 'c',\n",
              " '3',\n",
              " 'c',\n",
              " 'c',\n",
              " 'c',\n",
              " 'c',\n",
              " 'c',\n",
              " '3',\n",
              " 'F',\n",
              " ')',\n",
              " 'c',\n",
              " '2',\n",
              " 'c',\n",
              " '1',\n",
              " '\\n']"
            ]
          },
          "metadata": {},
          "execution_count": 13
        }
      ]
    },
    {
      "cell_type": "markdown",
      "source": [
        "For each smile molecule add the ending token to it)"
      ],
      "metadata": {
        "id": "1etZs7T3yyh1"
      }
    },
    {
      "cell_type": "code",
      "source": [
        "df[~df['smiles'].str.endswith('\\n')]"
      ],
      "metadata": {
        "id": "hKC4TyuZyyh1",
        "colab": {
          "base_uri": "https://localhost:8080/",
          "height": 53
        },
        "outputId": "0c14a4b9-00b8-40ce-988e-d8a990f74b33",
        "trusted": true
      },
      "execution_count": 14,
      "outputs": [
        {
          "output_type": "execute_result",
          "data": {
            "text/plain": [
              "Empty DataFrame\n",
              "Columns: [smiles, logP, qed, SAS]\n",
              "Index: []"
            ],
            "text/html": [
              "\n",
              "  <div id=\"df-9fa20e06-4c1e-4db1-a2c0-df0a9afa6b3b\" class=\"colab-df-container\">\n",
              "    <div>\n",
              "<style scoped>\n",
              "    .dataframe tbody tr th:only-of-type {\n",
              "        vertical-align: middle;\n",
              "    }\n",
              "\n",
              "    .dataframe tbody tr th {\n",
              "        vertical-align: top;\n",
              "    }\n",
              "\n",
              "    .dataframe thead th {\n",
              "        text-align: right;\n",
              "    }\n",
              "</style>\n",
              "<table border=\"1\" class=\"dataframe\">\n",
              "  <thead>\n",
              "    <tr style=\"text-align: right;\">\n",
              "      <th></th>\n",
              "      <th>smiles</th>\n",
              "      <th>logP</th>\n",
              "      <th>qed</th>\n",
              "      <th>SAS</th>\n",
              "    </tr>\n",
              "  </thead>\n",
              "  <tbody>\n",
              "  </tbody>\n",
              "</table>\n",
              "</div>\n",
              "    <div class=\"colab-df-buttons\">\n",
              "\n",
              "  <div class=\"colab-df-container\">\n",
              "    <button class=\"colab-df-convert\" onclick=\"convertToInteractive('df-9fa20e06-4c1e-4db1-a2c0-df0a9afa6b3b')\"\n",
              "            title=\"Convert this dataframe to an interactive table.\"\n",
              "            style=\"display:none;\">\n",
              "\n",
              "  <svg xmlns=\"http://www.w3.org/2000/svg\" height=\"24px\" viewBox=\"0 -960 960 960\">\n",
              "    <path d=\"M120-120v-720h720v720H120Zm60-500h600v-160H180v160Zm220 220h160v-160H400v160Zm0 220h160v-160H400v160ZM180-400h160v-160H180v160Zm440 0h160v-160H620v160ZM180-180h160v-160H180v160Zm440 0h160v-160H620v160Z\"/>\n",
              "  </svg>\n",
              "    </button>\n",
              "\n",
              "  <style>\n",
              "    .colab-df-container {\n",
              "      display:flex;\n",
              "      gap: 12px;\n",
              "    }\n",
              "\n",
              "    .colab-df-convert {\n",
              "      background-color: #E8F0FE;\n",
              "      border: none;\n",
              "      border-radius: 50%;\n",
              "      cursor: pointer;\n",
              "      display: none;\n",
              "      fill: #1967D2;\n",
              "      height: 32px;\n",
              "      padding: 0 0 0 0;\n",
              "      width: 32px;\n",
              "    }\n",
              "\n",
              "    .colab-df-convert:hover {\n",
              "      background-color: #E2EBFA;\n",
              "      box-shadow: 0px 1px 2px rgba(60, 64, 67, 0.3), 0px 1px 3px 1px rgba(60, 64, 67, 0.15);\n",
              "      fill: #174EA6;\n",
              "    }\n",
              "\n",
              "    .colab-df-buttons div {\n",
              "      margin-bottom: 4px;\n",
              "    }\n",
              "\n",
              "    [theme=dark] .colab-df-convert {\n",
              "      background-color: #3B4455;\n",
              "      fill: #D2E3FC;\n",
              "    }\n",
              "\n",
              "    [theme=dark] .colab-df-convert:hover {\n",
              "      background-color: #434B5C;\n",
              "      box-shadow: 0px 1px 3px 1px rgba(0, 0, 0, 0.15);\n",
              "      filter: drop-shadow(0px 1px 2px rgba(0, 0, 0, 0.3));\n",
              "      fill: #FFFFFF;\n",
              "    }\n",
              "  </style>\n",
              "\n",
              "    <script>\n",
              "      const buttonEl =\n",
              "        document.querySelector('#df-9fa20e06-4c1e-4db1-a2c0-df0a9afa6b3b button.colab-df-convert');\n",
              "      buttonEl.style.display =\n",
              "        google.colab.kernel.accessAllowed ? 'block' : 'none';\n",
              "\n",
              "      async function convertToInteractive(key) {\n",
              "        const element = document.querySelector('#df-9fa20e06-4c1e-4db1-a2c0-df0a9afa6b3b');\n",
              "        const dataTable =\n",
              "          await google.colab.kernel.invokeFunction('convertToInteractive',\n",
              "                                                    [key], {});\n",
              "        if (!dataTable) return;\n",
              "\n",
              "        const docLinkHtml = 'Like what you see? Visit the ' +\n",
              "          '<a target=\"_blank\" href=https://colab.research.google.com/notebooks/data_table.ipynb>data table notebook</a>'\n",
              "          + ' to learn more about interactive tables.';\n",
              "        element.innerHTML = '';\n",
              "        dataTable['output_type'] = 'display_data';\n",
              "        await google.colab.output.renderOutput(dataTable, element);\n",
              "        const docLink = document.createElement('div');\n",
              "        docLink.innerHTML = docLinkHtml;\n",
              "        element.appendChild(docLink);\n",
              "      }\n",
              "    </script>\n",
              "  </div>\n",
              "\n",
              "    </div>\n",
              "  </div>\n"
            ]
          },
          "metadata": {},
          "execution_count": 14
        }
      ]
    },
    {
      "cell_type": "code",
      "source": [
        "assert df['smiles'].str.endswith('\\n').shape[0] == df.shape[0]"
      ],
      "metadata": {
        "id": "zpSqPHtcJHWS",
        "trusted": true
      },
      "execution_count": 15,
      "outputs": []
    },
    {
      "cell_type": "markdown",
      "source": [
        "None smile doesn't end with '\\n'\n"
      ],
      "metadata": {
        "id": "HTak_xEhJDfo"
      }
    },
    {
      "cell_type": "markdown",
      "source": [
        "## Building the dataset\n",
        "\n",
        "Now we will create the dataset so that it has the good share for our Keras LSTM model\n",
        "\n",
        "Remember Keras recurrent models expect a 3D array with shapes (n_examples, seq_len, n_features)\n",
        "\n"
      ],
      "metadata": {
        "id": "QpuIn5z1yyh2"
      }
    },
    {
      "cell_type": "markdown",
      "source": [
        "What will be n_features in our case ?<br>\n",
        "n_features will be the number of unique characters that appear in the dataset"
      ],
      "metadata": {
        "id": "ldUup-_Qyyh2"
      }
    },
    {
      "cell_type": "markdown",
      "source": [
        "Code a function **build_X_and_y(string, i_char, seq_lenght)** which takes a string, a **seq_length** number and a position.\n",
        "\n",
        "\n",
        "It should create X by by getting all character between i and i + seq_length\n",
        "and create y by getting the character following the X sequence\n",
        "it returns X and y"
      ],
      "metadata": {
        "id": "Jwkwafxdyyh4"
      }
    },
    {
      "cell_type": "markdown",
      "source": [
        "Test your function on the following string \"\" with seq_length = 4 and i = [1, 2, 3]"
      ],
      "metadata": {
        "id": "PfRJ_Lpkyyh4"
      }
    },
    {
      "cell_type": "code",
      "source": [
        "def build_X_and_y(string, i_char, seq_length):\n",
        "  if (i_char + seq_length > len(string)):\n",
        "    return \"\", \"\"\n",
        "  X = string[i_char:i_char + seq_length]\n",
        "\n",
        "  if (i_char + seq_length + 1 > len(string)):\n",
        "    return X, \"\"\n",
        "\n",
        "  y = string[i_char + seq_length]\n",
        "  return X, y\n",
        "\n",
        "\n",
        "string = \"jambondenoel\"\n",
        "seq_length = 9\n",
        "i_char = 2\n",
        "build_X_and_y(string, i_char, seq_length)\n"
      ],
      "metadata": {
        "id": "ToDrNcT8yyh5",
        "colab": {
          "base_uri": "https://localhost:8080/"
        },
        "outputId": "6306542e-6596-455b-e185-7cf8cea615fa",
        "trusted": true
      },
      "execution_count": 16,
      "outputs": [
        {
          "output_type": "execute_result",
          "data": {
            "text/plain": [
              "('mbondenoe', 'l')"
            ]
          },
          "metadata": {},
          "execution_count": 16
        }
      ]
    },
    {
      "cell_type": "markdown",
      "source": [
        "By using build_X_and_y and map_char_to_int build a list nameed X_train and a list named y_train"
      ],
      "metadata": {
        "id": "y9DdyLSUyyh5"
      }
    },
    {
      "cell_type": "code",
      "source": [
        "samples = df[\"smiles\"]\n",
        "x_train = []\n",
        "y_train = []\n",
        "\n",
        "seq_length = 20\n",
        "for smile in tqdm(samples):\n",
        "  for pos in range(0, len(smile) - seq_length):\n",
        "    x, y = build_X_and_y(smile, pos, seq_length)\n",
        "    x_train.append(transform_char(x))\n",
        "    y_train.append(transform_char(y))\n",
        "\n",
        "x_train[0], y_train[0]"
      ],
      "metadata": {
        "id": "xRb61XzXyyh6",
        "colab": {
          "base_uri": "https://localhost:8080/"
        },
        "outputId": "9d37cfb3-ce72-4459-ed2a-170932024d47",
        "trusted": true
      },
      "execution_count": 17,
      "outputs": [
        {
          "output_type": "stream",
          "name": "stderr",
          "text": [
            "100%|██████████| 249455/249455 [00:32<00:00, 7614.85it/s]\n"
          ]
        },
        {
          "output_type": "execute_result",
          "data": {
            "text/plain": [
              "([18, 18, 2, 18, 3, 2, 18, 3, 29, 7, 29, 29, 29, 8, 32, 29, 29, 2, 18, 18],\n",
              " [2])"
            ]
          },
          "metadata": {},
          "execution_count": 17
        }
      ]
    },
    {
      "cell_type": "markdown",
      "source": [
        "Create numpy arrays from the lists"
      ],
      "metadata": {
        "id": "fubbPe7Vyyh6"
      }
    },
    {
      "cell_type": "code",
      "source": [
        "x_train = np.array(x_train)\n",
        "y_train = np.array(y_train)\n",
        "x_train.shape, y_train.shape"
      ],
      "metadata": {
        "id": "il1hbrsbyyh7",
        "colab": {
          "base_uri": "https://localhost:8080/"
        },
        "outputId": "410dfe64-38eb-4858-ca55-4cf53744c2f9",
        "trusted": true
      },
      "execution_count": 18,
      "outputs": [
        {
          "output_type": "execute_result",
          "data": {
            "text/plain": [
              "((6314835, 20), (6314835, 1))"
            ]
          },
          "metadata": {},
          "execution_count": 18
        }
      ]
    },
    {
      "cell_type": "markdown",
      "source": [
        "Reshape the X numpy array (n_examples, seq_lenght, 1)"
      ],
      "metadata": {
        "id": "Wb5Y3ERkyyh8"
      }
    },
    {
      "cell_type": "code",
      "source": [
        "n_examples = x_train.shape[0]\n",
        "x_train = x_train.reshape(n_examples, seq_length, 1)\n",
        "x_train.shape"
      ],
      "metadata": {
        "id": "T6mf5a4Dyyh8",
        "colab": {
          "base_uri": "https://localhost:8080/"
        },
        "outputId": "f7fdd88c-3916-4f0d-ec56-0c8feb6894ad",
        "trusted": true
      },
      "execution_count": 19,
      "outputs": [
        {
          "output_type": "execute_result",
          "data": {
            "text/plain": [
              "(6314835, 20, 1)"
            ]
          },
          "metadata": {},
          "execution_count": 19
        }
      ]
    },
    {
      "cell_type": "markdown",
      "source": [
        "Normalize X by dividing each values by the total number of unic characters"
      ],
      "metadata": {
        "id": "l7x4U0tCyyh9"
      }
    },
    {
      "cell_type": "code",
      "source": [
        "nb_unic = len(char_to_int)\n",
        "x_train = x_train / nb_unic\n",
        "x_train[0]"
      ],
      "metadata": {
        "id": "lHTjPnv4yyh9",
        "colab": {
          "base_uri": "https://localhost:8080/"
        },
        "outputId": "0dc0aced-66ba-4e69-ea05-eb5ad2c6b857",
        "trusted": true
      },
      "execution_count": 20,
      "outputs": [
        {
          "output_type": "execute_result",
          "data": {
            "text/plain": [
              "array([[0.51428571],\n",
              "       [0.51428571],\n",
              "       [0.05714286],\n",
              "       [0.51428571],\n",
              "       [0.08571429],\n",
              "       [0.05714286],\n",
              "       [0.51428571],\n",
              "       [0.08571429],\n",
              "       [0.82857143],\n",
              "       [0.2       ],\n",
              "       [0.82857143],\n",
              "       [0.82857143],\n",
              "       [0.82857143],\n",
              "       [0.22857143],\n",
              "       [0.91428571],\n",
              "       [0.82857143],\n",
              "       [0.82857143],\n",
              "       [0.05714286],\n",
              "       [0.51428571],\n",
              "       [0.51428571]])"
            ]
          },
          "metadata": {},
          "execution_count": 20
        }
      ]
    },
    {
      "cell_type": "markdown",
      "source": [
        "Import Keras and build (at least) a two layered LSTM network with 128 neurone in each.\n",
        "\n",
        "You can also add Dropoutlayers\n",
        "\n",
        "Do you think you should use the return_sequences = True ? If yes, when ?\n",
        "As the LSTM layer will return the full sequence to the next layer instead of just the final output, we should set return_sequences=True for all LSTM layers except the last one to predict several atoms\n",
        "\n",
        "Add a Dense layer on top with with the appropriate activation function and number of neurones\n"
      ],
      "metadata": {
        "id": "iWnIpi2uyyh9"
      }
    },
    {
      "cell_type": "code",
      "source": [
        "model = Sequential([\n",
        "    LSTM(128, input_shape=(seq_length, 1), return_sequences=True, dropout=0,\n",
        "         activation=\"tanh\", recurrent_activation=\"sigmoid\"),\n",
        "    #LSTM(128, return_sequences=True, dropout=0,\n",
        "    #     activation=\"tanh\", recurrent_activation=\"sigmoid\"),\n",
        "    LSTM(128,\n",
        "         activation=\"tanh\", recurrent_activation=\"sigmoid\"),\n",
        "    Dense(nb_unic, activation=\"softmax\")\n",
        "])"
      ],
      "metadata": {
        "id": "9a0Vz4L8yyiM",
        "trusted": true
      },
      "execution_count": 21,
      "outputs": []
    },
    {
      "cell_type": "markdown",
      "source": [
        "Compile the model with the appropriate loss function and the adam optimizer"
      ],
      "metadata": {
        "id": "q1cAV53EyyiN"
      }
    },
    {
      "cell_type": "code",
      "source": [
        "model.compile(loss=\"sparse_categorical_crossentropy\",\n",
        "              optimizer=tf.keras.optimizers.Adam(learning_rate=0.001),\n",
        "              metrics=\"accuracy\")\n",
        "model.summary()"
      ],
      "metadata": {
        "id": "6q2XpZQ4yyiO",
        "colab": {
          "base_uri": "https://localhost:8080/"
        },
        "outputId": "9181eac8-43ff-4d68-844c-dc6797f54598",
        "trusted": true
      },
      "execution_count": 22,
      "outputs": [
        {
          "output_type": "stream",
          "name": "stdout",
          "text": [
            "Model: \"sequential\"\n",
            "_________________________________________________________________\n",
            " Layer (type)                Output Shape              Param #   \n",
            "=================================================================\n",
            " lstm (LSTM)                 (None, 20, 128)           66560     \n",
            "                                                                 \n",
            " lstm_1 (LSTM)               (None, 128)               131584    \n",
            "                                                                 \n",
            " dense (Dense)               (None, 35)                4515      \n",
            "                                                                 \n",
            "=================================================================\n",
            "Total params: 202659 (791.64 KB)\n",
            "Trainable params: 202659 (791.64 KB)\n",
            "Non-trainable params: 0 (0.00 Byte)\n",
            "_________________________________________________________________\n"
          ]
        }
      ]
    },
    {
      "cell_type": "markdown",
      "source": [
        "Train the model on 20 epochs and 10 examples (yeah you read correctly) and check that the model overfits !"
      ],
      "metadata": {
        "id": "ZIq8gdLyyyiP"
      }
    },
    {
      "cell_type": "code",
      "source": [
        "y_train_one_hot = tf.keras.utils.to_categorical(y_train)\n",
        "history = model.fit(x=x_train[:10],\n",
        "                    y=y_train[:10],\n",
        "                    epochs=20,\n",
        "                    validation_split=0.2)"
      ],
      "metadata": {
        "id": "7Qm3jXR7yyiP",
        "colab": {
          "base_uri": "https://localhost:8080/"
        },
        "outputId": "d16ea986-0a69-4f3e-83fd-5da596d1241d",
        "trusted": true
      },
      "execution_count": 23,
      "outputs": [
        {
          "output_type": "stream",
          "name": "stdout",
          "text": [
            "Epoch 1/20\n",
            "1/1 [==============================] - 9s 9s/step - loss: 3.5536 - accuracy: 0.1250 - val_loss: 3.4318 - val_accuracy: 1.0000\n",
            "Epoch 2/20\n",
            "1/1 [==============================] - 0s 54ms/step - loss: 3.5030 - accuracy: 0.2500 - val_loss: 3.3296 - val_accuracy: 1.0000\n",
            "Epoch 3/20\n",
            "1/1 [==============================] - 0s 37ms/step - loss: 3.4442 - accuracy: 0.2500 - val_loss: 3.1899 - val_accuracy: 1.0000\n",
            "Epoch 4/20\n",
            "1/1 [==============================] - 0s 37ms/step - loss: 3.3668 - accuracy: 0.2500 - val_loss: 2.9837 - val_accuracy: 1.0000\n",
            "Epoch 5/20\n",
            "1/1 [==============================] - 0s 38ms/step - loss: 3.2570 - accuracy: 0.2500 - val_loss: 2.6680 - val_accuracy: 1.0000\n",
            "Epoch 6/20\n",
            "1/1 [==============================] - 0s 38ms/step - loss: 3.0959 - accuracy: 0.2500 - val_loss: 2.1904 - val_accuracy: 1.0000\n",
            "Epoch 7/20\n",
            "1/1 [==============================] - 0s 38ms/step - loss: 2.8664 - accuracy: 0.2500 - val_loss: 1.5590 - val_accuracy: 1.0000\n",
            "Epoch 8/20\n",
            "1/1 [==============================] - 0s 37ms/step - loss: 2.5926 - accuracy: 0.2500 - val_loss: 0.9700 - val_accuracy: 1.0000\n",
            "Epoch 9/20\n",
            "1/1 [==============================] - 0s 37ms/step - loss: 2.4001 - accuracy: 0.2500 - val_loss: 0.7192 - val_accuracy: 1.0000\n",
            "Epoch 10/20\n",
            "1/1 [==============================] - 0s 37ms/step - loss: 2.3396 - accuracy: 0.2500 - val_loss: 0.7303 - val_accuracy: 1.0000\n",
            "Epoch 11/20\n",
            "1/1 [==============================] - 0s 42ms/step - loss: 2.2695 - accuracy: 0.2500 - val_loss: 0.8649 - val_accuracy: 1.0000\n",
            "Epoch 12/20\n",
            "1/1 [==============================] - 0s 41ms/step - loss: 2.1793 - accuracy: 0.2500 - val_loss: 1.0922 - val_accuracy: 1.0000\n",
            "Epoch 13/20\n",
            "1/1 [==============================] - 0s 37ms/step - loss: 2.0996 - accuracy: 0.2500 - val_loss: 1.3758 - val_accuracy: 1.0000\n",
            "Epoch 14/20\n",
            "1/1 [==============================] - 0s 37ms/step - loss: 2.0488 - accuracy: 0.2500 - val_loss: 1.6486 - val_accuracy: 1.0000\n",
            "Epoch 15/20\n",
            "1/1 [==============================] - 0s 36ms/step - loss: 2.0249 - accuracy: 0.2500 - val_loss: 1.8415 - val_accuracy: 1.0000\n",
            "Epoch 16/20\n",
            "1/1 [==============================] - 0s 36ms/step - loss: 2.0149 - accuracy: 0.2500 - val_loss: 1.9247 - val_accuracy: 1.0000\n",
            "Epoch 17/20\n",
            "1/1 [==============================] - 0s 37ms/step - loss: 2.0072 - accuracy: 0.2500 - val_loss: 1.9060 - val_accuracy: 0.0000e+00\n",
            "Epoch 18/20\n",
            "1/1 [==============================] - 0s 35ms/step - loss: 1.9957 - accuracy: 0.1250 - val_loss: 1.8102 - val_accuracy: 1.0000\n",
            "Epoch 19/20\n",
            "1/1 [==============================] - 0s 35ms/step - loss: 1.9791 - accuracy: 0.3750 - val_loss: 1.6654 - val_accuracy: 1.0000\n",
            "Epoch 20/20\n",
            "1/1 [==============================] - 0s 36ms/step - loss: 1.9597 - accuracy: 0.2500 - val_loss: 1.5001 - val_accuracy: 1.0000\n"
          ]
        }
      ]
    },
    {
      "cell_type": "code",
      "source": [
        "loss = history.history['loss']\n",
        "val_loss = history.history['val_loss']\n",
        "epochs = range(1, len(loss) + 1)\n",
        "\n",
        "plt.plot(epochs, loss, label='Training loss')\n",
        "plt.plot(epochs, val_loss, label='Validation loss')\n",
        "plt.title('Training and validation loss')\n",
        "plt.xlabel('Epochs')\n",
        "plt.ylabel('Loss')\n",
        "plt.legend()\n"
      ],
      "metadata": {
        "colab": {
          "base_uri": "https://localhost:8080/",
          "height": 490
        },
        "id": "l-h2NTtf4h3F",
        "outputId": "0f81b635-b5d5-4b2d-faee-286849f47271",
        "trusted": true
      },
      "execution_count": 24,
      "outputs": [
        {
          "output_type": "execute_result",
          "data": {
            "text/plain": [
              "<matplotlib.legend.Legend at 0x792882eafeb0>"
            ]
          },
          "metadata": {},
          "execution_count": 24
        },
        {
          "output_type": "display_data",
          "data": {
            "text/plain": [
              "<Figure size 640x480 with 1 Axes>"
            ],
            "image/png": "[encoded data removed]"
          },
          "metadata": {}
        }
      ]
    },
    {
      "cell_type": "code",
      "source": [
        "test_loss, test_accuracy = model.evaluate(x_train[20:2000], y_train[20:2000])\n",
        "\n",
        "print(f\"Accuracy on train : {history.history['accuracy'][-1]}\")\n",
        "print(f\"Accuracy on test (other train data) : {test_accuracy}\")"
      ],
      "metadata": {
        "colab": {
          "base_uri": "https://localhost:8080/"
        },
        "id": "IzTGYJK7u1Ks",
        "outputId": "8d972199-14d4-4f1d-8d3b-7c997b504da9",
        "trusted": true
      },
      "execution_count": 25,
      "outputs": [
        {
          "output_type": "stream",
          "name": "stdout",
          "text": [
            "62/62 [==============================] - 0s 4ms/step - loss: 4.4554 - accuracy: 0.2061\n",
            "Accuracy on train : 0.25\n",
            "Accuracy on test (other train data) : 0.20606060326099396\n"
          ]
        }
      ]
    },
    {
      "cell_type": "markdown",
      "source": [
        "If it does not overfit try to fix data prep and model architecture so it does"
      ],
      "metadata": {
        "id": "altB1J4xyyiQ"
      }
    },
    {
      "cell_type": "markdown",
      "source": [
        "Create a function **make_prediction(seed_start)** which takes a starting string sequence and uses it to generate a molecule\n"
      ],
      "metadata": {
        "id": "BMCFxz-wyyiR"
      }
    },
    {
      "cell_type": "code",
      "source": [
        "def make_inputs(string):\n",
        "  len_ = len(string)\n",
        "  inputs = np.array(transform_char(string), dtype=\"float\").reshape(1, len_, 1)\n",
        "  inputs /=  model.output_shape[1]\n",
        "  return inputs\n",
        "\n",
        "make_inputs(df['smiles'][1][:3])"
      ],
      "metadata": {
        "colab": {
          "base_uri": "https://localhost:8080/"
        },
        "id": "DxDLVej70ngx",
        "outputId": "de35b71b-a7d2-4369-9006-35826b76dd5b",
        "trusted": true
      },
      "execution_count": 26,
      "outputs": [
        {
          "output_type": "execute_result",
          "data": {
            "text/plain": [
              "array([[[0.51428571],\n",
              "        [0.74285714],\n",
              "        [0.51428571]]])"
            ]
          },
          "metadata": {},
          "execution_count": 26
        }
      ]
    },
    {
      "cell_type": "code",
      "source": [
        "def make_prediction(seed_start, model, max_len=20):\n",
        "    mol = seed_start\n",
        "\n",
        "    i = 0\n",
        "    while(True):\n",
        "        token_int = [np.argmax(model.predict(make_inputs(mol), verbose=0))]\n",
        "        token = transform_int(token_int)[0]\n",
        "        mol += token\n",
        "\n",
        "        if (token == '\\n' or i > max_len):\n",
        "            break\n",
        "        i += 1\n",
        "\n",
        "    return mol"
      ],
      "metadata": {
        "id": "ulAAk9plyyiS",
        "trusted": true
      },
      "execution_count": 27,
      "outputs": []
    },
    {
      "cell_type": "markdown",
      "source": [
        "generate a molecule of your overfitted model"
      ],
      "metadata": {
        "id": "cHb0mnp5yyiS"
      }
    },
    {
      "cell_type": "code",
      "source": [
        "make_prediction(df['smiles'][1][:seq_length], model)"
      ],
      "metadata": {
        "colab": {
          "base_uri": "https://localhost:8080/",
          "height": 35
        },
        "id": "Y9Rarmjsy0kd",
        "outputId": "b331b4c6-6125-4a69-b1cc-36dd434e705e",
        "trusted": true
      },
      "execution_count": 28,
      "outputs": [
        {
          "output_type": "execute_result",
          "data": {
            "text/plain": [
              "'C[C@@H]1CC(Nc2cncc(-cccccccccccccccccccccc'"
            ],
            "application/vnd.google.colaboratory.intrinsic+json": {
              "type": "string"
            }
          },
          "metadata": {},
          "execution_count": 28
        }
      ]
    },
    {
      "cell_type": "markdown",
      "source": [
        "Make a model checkpoint so that the model is saved after each epoch\n",
        "if you train on a plateform and it stops you do not lose your training"
      ],
      "metadata": {
        "id": "AyZcbVC4yyiU"
      }
    },
    {
      "cell_type": "code",
      "source": [
        "model_checkpoint_callback = tf.keras.callbacks.ModelCheckpoint(\n",
        "    filepath='.',\n",
        "    monitor='val_accuracy',\n",
        "    save_best_only=False)\n",
        "\n",
        "reduce_lr = ReduceLROnPlateau(monitor='val_loss',\n",
        "                              factor=0.05,\n",
        "                              patience=2,\n",
        "                              verbose=1,\n",
        "                              min_delta=0.0001)\n",
        "early_stop = EarlyStopping(monitor='val_loss',\n",
        "                           patience=3,\n",
        "                           verbose=1,\n",
        "                           restore_best_weights=True)"
      ],
      "metadata": {
        "id": "hhOqrs9NyyiV",
        "trusted": true
      },
      "execution_count": 29,
      "outputs": []
    },
    {
      "cell_type": "markdown",
      "source": [
        "Now go to your favorite plateform (colab or something else) and train the dataset on the whole data for 10 epochs and batch size 256\n",
        "\n",
        "it should take a long time so either follow the class or go take a nap"
      ],
      "metadata": {
        "id": "chEa4hmZyyiV"
      }
    },
    {
      "cell_type": "code",
      "source": [
        "strategy = tf.distribute.MirroredStrategy()\n",
        "\n",
        "with strategy.scope():\n",
        "  model2 = Sequential([\n",
        "      LSTM(128, input_shape=(seq_length, 1), return_sequences=True,\n",
        "            recurrent_dropout=0.1, activation=\"tanh\", recurrent_activation=\"sigmoid\"),\n",
        "      Dropout(0.1),\n",
        "      BatchNormalization(),\n",
        "      LSTM(128, return_sequences=True, dropout=0.1, recurrent_dropout=0.1,\n",
        "          activation=\"tanh\", recurrent_activation=\"sigmoid\"),\n",
        "      BatchNormalization(),\n",
        "      LSTM(128, recurrent_dropout=0.1,\n",
        "            activation=\"tanh\", recurrent_activation=\"sigmoid\"),\n",
        "      Dropout(0.1),\n",
        "      BatchNormalization(),\n",
        "      Dense(nb_unic, activation=\"softmax\")\n",
        "  ])\n",
        "\n",
        "  model2.compile(loss=\"categorical_crossentropy\",\n",
        "                optimizer=tf.keras.optimizers.Adam(learning_rate=0.001),\n",
        "                metrics=\"accuracy\")\n",
        "  history = model2.fit(x=x_train[:100000],\n",
        "                      y=y_train_one_hot[:100000],\n",
        "                      epochs=10,\n",
        "                      validation_split=0.1,\n",
        "                      batch_size=256,\n",
        "                      callbacks=[model_checkpoint_callback,\n",
        "                                reduce_lr])"
      ],
      "metadata": {
        "id": "-iyk8BvZyyiW",
        "colab": {
          "base_uri": "https://localhost:8080/"
        },
        "outputId": "e1a58012-0788-4e8c-d32f-72441901b388",
        "trusted": true
      },
      "execution_count": 30,
      "outputs": [
        {
          "output_type": "stream",
          "name": "stderr",
          "text": [
            "WARNING:tensorflow:Layer lstm_2 will not use cuDNN kernels since it doesn't meet the criteria. It will use a generic GPU kernel as fallback when running on GPU.\n",
            "WARNING:tensorflow:Layer lstm_3 will not use cuDNN kernels since it doesn't meet the criteria. It will use a generic GPU kernel as fallback when running on GPU.\n"
          ]
        },
        {
          "output_type": "stream",
          "name": "stdout",
          "text": [
            "Epoch 1/10\n",
            "352/352 [==============================] - 63s 163ms/step - loss: 2.3941 - accuracy: 0.3219 - val_loss: 3.3194 - val_accuracy: 0.1316 - lr: 0.0010\n",
            "Epoch 2/10\n",
            "352/352 [==============================] - 58s 164ms/step - loss: 1.6275 - accuracy: 0.4897 - val_loss: 1.9640 - val_accuracy: 0.3896 - lr: 0.0010\n",
            "Epoch 3/10\n",
            "352/352 [==============================] - 57s 161ms/step - loss: 1.4315 - accuracy: 0.5413 - val_loss: 1.3062 - val_accuracy: 0.5812 - lr: 0.0010\n",
            "Epoch 4/10\n",
            "352/352 [==============================] - 57s 161ms/step - loss: 1.3306 - accuracy: 0.5696 - val_loss: 1.2588 - val_accuracy: 0.5934 - lr: 0.0010\n",
            "Epoch 5/10\n",
            "352/352 [==============================] - 56s 159ms/step - loss: 1.2628 - accuracy: 0.5867 - val_loss: 1.1802 - val_accuracy: 0.6157 - lr: 0.0010\n",
            "Epoch 6/10\n",
            "352/352 [==============================] - 56s 160ms/step - loss: 1.2137 - accuracy: 0.6006 - val_loss: 1.1214 - val_accuracy: 0.6361 - lr: 0.0010\n",
            "Epoch 7/10\n",
            "352/352 [==============================] - 58s 165ms/step - loss: 1.1706 - accuracy: 0.6137 - val_loss: 1.0916 - val_accuracy: 0.6400 - lr: 0.0010\n",
            "Epoch 8/10\n",
            "352/352 [==============================] - 56s 160ms/step - loss: 1.1389 - accuracy: 0.6226 - val_loss: 1.0645 - val_accuracy: 0.6483 - lr: 0.0010\n",
            "Epoch 9/10\n",
            "352/352 [==============================] - 57s 161ms/step - loss: 1.1119 - accuracy: 0.6306 - val_loss: 1.0370 - val_accuracy: 0.6590 - lr: 0.0010\n",
            "Epoch 10/10\n",
            "352/352 [==============================] - 56s 161ms/step - loss: 1.0910 - accuracy: 0.6353 - val_loss: 1.0253 - val_accuracy: 0.6632 - lr: 0.0010\n"
          ]
        }
      ]
    },
    {
      "cell_type": "code",
      "source": [
        "loss = history.history['loss']\n",
        "val_loss = history.history['val_loss']\n",
        "epochs = range(1, len(loss) + 1)\n",
        "\n",
        "plt.plot(epochs, loss, label='Training loss')\n",
        "plt.plot(epochs, val_loss, label='Validation loss')\n",
        "plt.title('Training and validation loss')\n",
        "plt.xlabel('Epochs')\n",
        "plt.ylabel('Loss')\n",
        "plt.legend()\n"
      ],
      "metadata": {
        "trusted": true,
        "colab": {
          "base_uri": "https://localhost:8080/",
          "height": 490
        },
        "id": "QEGd9LqZ_5ep",
        "outputId": "f0c31c1c-128b-43f4-c128-e15403ea4e10"
      },
      "execution_count": 31,
      "outputs": [
        {
          "output_type": "execute_result",
          "data": {
            "text/plain": [
              "<matplotlib.legend.Legend at 0x7928784e96c0>"
            ]
          },
          "metadata": {},
          "execution_count": 31
        },
        {
          "output_type": "display_data",
          "data": {
            "text/plain": [
              "<Figure size 640x480 with 1 Axes>"
            ],
            "image/png": "[encoded data removed]"
          },
          "metadata": {}
        }
      ]
    },
    {
      "cell_type": "code",
      "source": [
        "y_pred = np.argmax(model2.predict(x_train[:1000], verbose=0), axis=1)\n",
        "y_true = y_train[:1000]\n",
        "\n",
        "cm = confusion_matrix(y_true, y_pred)\n",
        "\n",
        "plt.figure(figsize=(10,7))\n",
        "sns.heatmap(cm, annot=True, fmt='g')\n",
        "plt.title(\"Heatmap for Train\")\n",
        "plt.xlabel('Predicted')\n",
        "plt.ylabel('Truth')\n",
        "plt.show()\n",
        "\n"
      ],
      "metadata": {
        "trusted": true,
        "colab": {
          "base_uri": "https://localhost:8080/",
          "height": 641
        },
        "id": "f97m_Yh0_5eq",
        "outputId": "064e37cc-8fcc-4795-afb7-d8097e6476dd"
      },
      "execution_count": 32,
      "outputs": [
        {
          "output_type": "display_data",
          "data": {
            "text/plain": [
              "<Figure size 1000x700 with 2 Axes>"
            ],
            "image/png": "[encoded data removed]"
          },
          "metadata": {}
        }
      ]
    },
    {
      "cell_type": "code",
      "source": [
        "model2.save('/kaggle/working/model.h5')"
      ],
      "metadata": {
        "trusted": true,
        "colab": {
          "base_uri": "https://localhost:8080/"
        },
        "id": "WUx6p5xX_5eq",
        "outputId": "a9f86807-24c0-4d00-cf64-ef293e4d6229"
      },
      "execution_count": 33,
      "outputs": [
        {
          "output_type": "stream",
          "name": "stderr",
          "text": [
            "/usr/local/lib/python3.10/dist-packages/keras/src/engine/training.py:3000: UserWarning: You are saving your model as an HDF5 file via `model.save()`. This file format is considered legacy. We recommend using instead the native Keras format, e.g. `model.save('my_model.keras')`.\n",
            "  saving_api.save_model(\n"
          ]
        }
      ]
    },
    {
      "cell_type": "markdown",
      "source": [
        "Generate between 100 and 1000 molecules.\n",
        "\n",
        "create a list where molecules have between 10 and 50 atoms"
      ],
      "metadata": {
        "id": "QGzxqv3hyyiX"
      }
    },
    {
      "cell_type": "code",
      "source": [
        "%%time\n",
        "base_molecules = [item[:20] for item in df['smiles'][:50]]\n",
        "predictions = [make_prediction(base_molecules[i], model2, 50) for i in tqdm(range(50))]"
      ],
      "metadata": {
        "id": "9E9fhvHQyyiY",
        "trusted": true,
        "colab": {
          "base_uri": "https://localhost:8080/"
        },
        "outputId": "706c170b-b2e6-4e76-863e-d08d8c54a43f"
      },
      "execution_count": 34,
      "outputs": [
        {
          "output_type": "stream",
          "name": "stderr",
          "text": [
            "100%|██████████| 50/50 [01:21<00:00,  1.63s/it]"
          ]
        },
        {
          "output_type": "stream",
          "name": "stdout",
          "text": [
            "CPU times: user 1min 19s, sys: 2.86 s, total: 1min 22s\n",
            "Wall time: 1min 21s\n"
          ]
        },
        {
          "output_type": "stream",
          "name": "stderr",
          "text": [
            "\n"
          ]
        }
      ]
    },
    {
      "cell_type": "code",
      "source": [
        "!pip install rdkit\n",
        "from rdkit import Chem\n",
        "from rdkit.Chem import QED\n",
        "\n",
        "\n",
        "real_mol = [Chem.MolFromSmiles(mol) for mol in predictions if mol is not None]\n",
        "real_mol = [mol for mol in real_mol if mol is not None]\n",
        "real_mol"
      ],
      "metadata": {
        "colab": {
          "base_uri": "https://localhost:8080/"
        },
        "id": "NuuCHsw2Sg8b",
        "outputId": "653c9e50-5b15-46e2-f820-13a61b005367"
      },
      "execution_count": 37,
      "outputs": [
        {
          "output_type": "stream",
          "name": "stdout",
          "text": [
            "Requirement already satisfied: rdkit in /usr/local/lib/python3.10/dist-packages (2023.3.3)\n",
            "Requirement already satisfied: numpy in /usr/local/lib/python3.10/dist-packages (from rdkit) (1.23.5)\n",
            "Requirement already satisfied: Pillow in /usr/local/lib/python3.10/dist-packages (from rdkit) (9.4.0)\n"
          ]
        },
        {
          "output_type": "stream",
          "name": "stderr",
          "text": [
            "[09:21:53] SMILES Parse Error: unclosed ring for input: 'CC(C)(C)c1ccc2occ(CC(=O)Nc2ccc(C)cc2)CC1\n",
            "'\n",
            "[09:21:53] SMILES Parse Error: extra open parentheses for input: 'C[C@@H]1CC(Nc2cncc(-c2ccccc2)CC1\n",
            "'\n",
            "[09:21:53] SMILES Parse Error: extra open parentheses for input: 'N#Cc1ccc(-c2ccc(O[C@@H]3CCCC[C@H]3C2)cc1\n",
            "'\n",
            "[09:21:53] SMILES Parse Error: extra open parentheses for input: 'CCOC(=O)[C@@H]1CCCN(C(=O)CC1\n",
            "'\n",
            "[09:21:53] SMILES Parse Error: extra close parentheses while parsing: CC[NH+](CC)[C@](C)(C)C)C1\n",
            "\n",
            "[09:21:53] SMILES Parse Error: Failed parsing SMILES 'CC[NH+](CC)[C@](C)(C)C)C1\n",
            "' for input: 'CC[NH+](CC)[C@](C)(C)C)C1\n",
            "'\n",
            "[09:21:53] SMILES Parse Error: extra open parentheses for input: 'CCOc1ccc(OCC)c([C@H]2CCC[C@@H]2C(=O)Nc1ccc(C)cc1\n",
            "'\n",
            "[09:21:53] SMILES Parse Error: extra close parentheses while parsing: Cc1ccc2nc(S[C@H](C)C(=O)Nc3ccccc3)CC2)cc1\n",
            "\n",
            "[09:21:53] SMILES Parse Error: Failed parsing SMILES 'Cc1ccc2nc(S[C@H](C)C(=O)Nc3ccccc3)CC2)cc1\n",
            "' for input: 'Cc1ccc2nc(S[C@H](C)C(=O)Nc3ccccc3)CC2)cc1\n",
            "'\n",
            "[09:21:53] SMILES Parse Error: unclosed ring for input: 'Cc1ccccc1C(=O)N1CCC2CCCCC1\n",
            "'\n",
            "[09:21:53] SMILES Parse Error: unclosed ring for input: 'CCCc1cc(NC(=O)CN2C(=O)Nc2ccc(C)cc2)CC1\n",
            "'\n",
            "[09:21:53] Can't kekulize mol.  Unkekulized atoms: 4 5 6\n",
            "[09:21:53] SMILES Parse Error: unclosed ring for input: 'Cc1c(NC(=O)CSc2nc3scccc2C)CC1\n",
            "'\n",
            "[09:21:53] SMILES Parse Error: extra open parentheses for input: 'CC(C)[C@@H](Oc1cccc(Cl)c1\n",
            "'\n",
            "[09:21:53] SMILES Parse Error: unclosed ring for input: 'CCN(CC)C(=O)C[C@@H](C)C1\n",
            "'\n",
            "[09:21:53] Can't kekulize mol.  Unkekulized atoms: 1 2 3 4 5 15 16\n",
            "[09:21:53] SMILES Parse Error: extra open parentheses for input: 'O=C(NCCNC(=O)N1C[C@H](C)CCCC1\n",
            "'\n",
            "[09:21:53] SMILES Parse Error: extra close parentheses while parsing: O=c1n(CCO)c2ccccc2n1)CC1\n",
            "\n",
            "[09:21:53] SMILES Parse Error: Failed parsing SMILES 'O=c1n(CCO)c2ccccc2n1)CC1\n",
            "' for input: 'O=c1n(CCO)c2ccccc2n1)CC1\n",
            "'\n",
            "[09:21:53] Can't kekulize mol.  Unkekulized atoms: 5 6 8\n",
            "[09:21:53] SMILES Parse Error: syntax error while parsing: Cc1ccc(N2CC[C@@H](NSC@@H](C)CCCC2)CC1\n",
            "\n",
            "[09:21:53] SMILES Parse Error: Failed parsing SMILES 'Cc1ccc(N2CC[C@@H](NSC@@H](C)CCCC2)CC1\n",
            "' for input: 'Cc1ccc(N2CC[C@@H](NSC@@H](C)CCCC2)CC1\n",
            "'\n",
            "[09:21:53] SMILES Parse Error: unclosed ring for input: 'CC[C@H](C)C[C@@H](C)C1\n",
            "'\n",
            "[09:21:53] SMILES Parse Error: extra close parentheses while parsing: CC(=O)Nc1c2n(c3ccccc3)CC2)cc1\n",
            "\n",
            "[09:21:53] SMILES Parse Error: Failed parsing SMILES 'CC(=O)Nc1c2n(c3ccccc3)CC2)cc1\n",
            "' for input: 'CC(=O)Nc1c2n(c3ccccc3)CC2)cc1\n",
            "'\n",
            "[09:21:53] SMILES Parse Error: unclosed ring for input: 'Cc1cccn2c(=O)c(C(=O)Nc2ccc(C)cc2)CC1\n",
            "'\n",
            "[09:21:53] Can't kekulize mol.  Unkekulized atoms: 7 8 9 16 17\n",
            "[09:21:53] SMILES Parse Error: extra open parentheses for input: 'C[C@@H](NC(=O)COC(=O)Nc1ccc(C)cc1\n",
            "'\n",
            "[09:21:53] SMILES Parse Error: extra open parentheses for input: 'CCc1ccc(N(Cc2ccc(C)sc2C)CC1\n",
            "'\n",
            "[09:21:53] SMILES Parse Error: unclosed ring for input: 'CCOC(=O)c1nnc2ccccc22\n",
            "'\n",
            "[09:21:53] SMILES Parse Error: extra open parentheses for input: 'O=C(O[C@H]1CCOC1)C1(C1\n",
            "'\n",
            "[09:21:53] SMILES Parse Error: extra open parentheses for input: 'O=C(NCc1nccc2ccccc12\n",
            "'\n",
            "[09:21:53] SMILES Parse Error: extra open parentheses for input: 'COC(=O)[C@](NC(=O)c1ccc(C)cc1\n",
            "'\n",
            "[09:21:53] SMILES Parse Error: unclosed ring for input: 'Cc1[nH]c2ccc(C(=O)Nc2ccc(C)cc2)CC1\n",
            "'\n",
            "[09:21:53] SMILES Parse Error: unclosed ring for input: 'Cc1noc(C)c1C[C@H](C)O1\n",
            "'\n",
            "[09:21:53] SMILES Parse Error: extra open parentheses for input: 'CCn1cc(C(=O)N[C@H]2CCC[C@@H]2C(=O)Nc1ccc(C)cc1\n",
            "'\n"
          ]
        },
        {
          "output_type": "execute_result",
          "data": {
            "text/plain": [
              "[<rdkit.Chem.rdchem.Mol at 0x792891193450>,\n",
              " <rdkit.Chem.rdchem.Mol at 0x79288534a650>,\n",
              " <rdkit.Chem.rdchem.Mol at 0x79288534a6c0>,\n",
              " <rdkit.Chem.rdchem.Mol at 0x79288534a730>,\n",
              " <rdkit.Chem.rdchem.Mol at 0x79288534a7a0>,\n",
              " <rdkit.Chem.rdchem.Mol at 0x79288534a030>,\n",
              " <rdkit.Chem.rdchem.Mol at 0x79288534a1f0>,\n",
              " <rdkit.Chem.rdchem.Mol at 0x792885349f50>,\n",
              " <rdkit.Chem.rdchem.Mol at 0x79288534a340>,\n",
              " <rdkit.Chem.rdchem.Mol at 0x792885349e70>,\n",
              " <rdkit.Chem.rdchem.Mol at 0x792885349ee0>,\n",
              " <rdkit.Chem.rdchem.Mol at 0x79288534a110>,\n",
              " <rdkit.Chem.rdchem.Mol at 0x79288534a0a0>,\n",
              " <rdkit.Chem.rdchem.Mol at 0x79288534a810>,\n",
              " <rdkit.Chem.rdchem.Mol at 0x79288534a880>,\n",
              " <rdkit.Chem.rdchem.Mol at 0x79288534a8f0>,\n",
              " <rdkit.Chem.rdchem.Mol at 0x79288534a960>,\n",
              " <rdkit.Chem.rdchem.Mol at 0x79288534a9d0>,\n",
              " <rdkit.Chem.rdchem.Mol at 0x79288534aa40>]"
            ]
          },
          "metadata": {},
          "execution_count": 37
        }
      ]
    },
    {
      "cell_type": "markdown",
      "source": [
        "With rdkit compute the Quantified Estimated Drug likelyness (QED) of each molecule in this subset"
      ],
      "metadata": {
        "id": "eQwmMBBnyyiY"
      }
    },
    {
      "cell_type": "code",
      "source": [
        "qed_values = [QED.qed(mol) for mol in real_mol if mol is not None]\n",
        "qed_values"
      ],
      "metadata": {
        "id": "EPboRawUyyiZ",
        "trusted": true,
        "colab": {
          "base_uri": "https://localhost:8080/"
        },
        "outputId": "65f94627-a90c-497b-9692-b2177cb02aee"
      },
      "execution_count": 36,
      "outputs": [
        {
          "output_type": "execute_result",
          "data": {
            "text/plain": [
              "[0.9016280634364917,\n",
              " 0.9036662356629043,\n",
              " 0.739699211881737,\n",
              " 0.6936363269741198,\n",
              " 0.6626651434625582,\n",
              " 0.6695330678830024,\n",
              " 0.8631162579916883,\n",
              " 0.8071321677652429,\n",
              " 0.8230298633906286,\n",
              " 0.8393809316039298,\n",
              " 0.8208921608896567,\n",
              " 0.8032238530926873,\n",
              " 0.8227755154416257,\n",
              " 0.5876697015220248,\n",
              " 0.768690926756413,\n",
              " 0.7528534472059415,\n",
              " 0.9163013229848028,\n",
              " 0.8374728849440837,\n",
              " 0.8090451803378943]"
            ]
          },
          "metadata": {},
          "execution_count": 36
        }
      ]
    },
    {
      "cell_type": "code",
      "source": [
        "new_mols = [mol for mol in real_mol if mol not in df['smiles']]\n",
        "len(new_mols)"
      ],
      "metadata": {
        "colab": {
          "base_uri": "https://localhost:8080/"
        },
        "id": "4r6lhD3HyRiR",
        "outputId": "7bcfdabc-3f3f-45ae-8be9-2b5384e8fd69"
      },
      "execution_count": 40,
      "outputs": [
        {
          "output_type": "execute_result",
          "data": {
            "text/plain": [
              "19"
            ]
          },
          "metadata": {},
          "execution_count": 40
        }
      ]
    },
    {
      "cell_type": "code",
      "source": [
        "Chem.Draw.MolToImage(new_mols[0])"
      ],
      "metadata": {
        "colab": {
          "base_uri": "https://localhost:8080/",
          "height": 317
        },
        "id": "7-At4Ty7zZkT",
        "outputId": "080d720a-a13b-48e2-d954-961bade16c66"
      },
      "execution_count": 41,
      "outputs": [
        {
          "output_type": "execute_result",
          "data": {
            "text/plain": [
              "<PIL.PngImagePlugin.PngImageFile image mode=RGB size=300x300>"
            ],
            "image/png": "[encoded data removed]"
          },
          "metadata": {},
          "execution_count": 41
        }
      ]
    },
    {
      "cell_type": "markdown",
      "source": [
        "Bonus 1 : Using rdkit, compute the quantitative estimation of drug-likeness (QED) of your generated molecules."
      ],
      "metadata": {
        "id": "9En9mvfOyyiZ"
      }
    },
    {
      "cell_type": "code",
      "source": [],
      "metadata": {
        "id": "xEVMckghyyia"
      },
      "execution_count": 36,
      "outputs": []
    },
    {
      "cell_type": "markdown",
      "source": [
        "Bonus 2 : try to adapt a transformer model training from hugging face to see if it is better"
      ],
      "metadata": {
        "id": "PtCbYnIuyyib"
      }
    },
    {
      "cell_type": "code",
      "source": [],
      "metadata": {
        "id": "SnMy9_I1yyib"
      },
      "execution_count": 36,
      "outputs": []
    }
  ]
}