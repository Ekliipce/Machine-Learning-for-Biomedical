{
  "nbformat": 4,
  "nbformat_minor": 0,
  "metadata": {
    "colab": {
      "provenance": [],
      "include_colab_link": true
    },
    "kernelspec": {
      "name": "python3",
      "display_name": "Python 3"
    },
    "language_info": {
      "name": "python"
    }
  },
  "cells": [
    {
      "cell_type": "markdown",
      "metadata": {
        "id": "view-in-github",
        "colab_type": "text"
      },
      "source": [
        "<a href=\"https://colab.research.google.com/github/Ekliipce/Machine-Learning-for-Biomedical/blob/main/molecules/Molecules_representations.ipynb\" target=\"_parent\"><img src=\"https://colab.research.google.com/assets/colab-badge.svg\" alt=\"Open In Colab\"/></a>"
      ]
    },
    {
      "cell_type": "code",
      "metadata": {
        "id": "9qJCFDsxp3wJ",
        "colab": {
          "base_uri": "https://localhost:8080/"
        },
        "outputId": "b5e9bc2b-b59b-4e2d-f356-1a547ba09a62"
      },
      "source": [
        "# Install rdkit\n",
        "!pip install rdkit-pypi"
      ],
      "execution_count": 5,
      "outputs": [
        {
          "output_type": "stream",
          "name": "stdout",
          "text": [
            "Requirement already satisfied: rdkit-pypi in /usr/local/lib/python3.10/dist-packages (2022.9.5)\n",
            "Requirement already satisfied: numpy in /usr/local/lib/python3.10/dist-packages (from rdkit-pypi) (1.23.5)\n",
            "Requirement already satisfied: Pillow in /usr/local/lib/python3.10/dist-packages (from rdkit-pypi) (9.4.0)\n"
          ]
        }
      ]
    },
    {
      "cell_type": "code",
      "metadata": {
        "id": "ccbbFmLOqDJV"
      },
      "source": [
        "import numpy as np\n",
        "\n",
        "from rdkit import Chem\n",
        "from rdkit.Chem import AllChem\n",
        "from rdkit import DataStructs\n",
        "from rdkit.ML.Descriptors import MoleculeDescriptors\n",
        "\n",
        "\n"
      ],
      "execution_count": 133,
      "outputs": []
    },
    {
      "cell_type": "markdown",
      "metadata": {
        "id": "TYs-WClCqSsy"
      },
      "source": [
        "## Ex 1. Read molecules from SMILES\n",
        "\n",
        "SMILES (Simplified Molecular-Input Line-Entry System) is a popular method for specifying molecules with text string. The RDkit library provides utilities to read molecules from SMILES.\n",
        "\n",
        "\n",
        "Paracetamol (Acetaminophen) is a commonly used medicine that can help treat pain and reduce a high temperature. It's given by the chemical formula $ C_8H_9N O_2$ and its SMILES is \"CC(=O)NC1=CC=C(O)C=C1\".\n",
        "\n"
      ]
    },
    {
      "cell_type": "markdown",
      "source": [
        "#### 1-2. Create the paracetamol molecule from its SMILES using the rdkit.Chem.MolFromSmiles class. Visualize its structure."
      ],
      "metadata": {
        "id": "PQdDjJ0Jrew4"
      }
    },
    {
      "cell_type": "code",
      "metadata": {
        "id": "8snxocdqsKNJ",
        "colab": {
          "base_uri": "https://localhost:8080/",
          "height": 317
        },
        "outputId": "a10937ab-029e-431b-9bb6-adb8ab7578ad"
      },
      "source": [
        "paracemetamol_smiles = \"CC(=O)NC1=CC=C(O)C=C1\"\n",
        "paracetamol = Chem.MolFromSmiles(paracemetamol_smiles)\n",
        "Chem.Draw.MolToImage(paracetamol)"
      ],
      "execution_count": 18,
      "outputs": [
        {
          "output_type": "execute_result",
          "data": {
            "text/plain": [
              "<PIL.PngImagePlugin.PngImageFile image mode=RGB size=300x300>"
            ],
            "image/png": "[encoded data removed]"
          },
          "metadata": {},
          "execution_count": 18
        }
      ]
    },
    {
      "cell_type": "markdown",
      "source": [
        "#### 3. Print out the number of atoms."
      ],
      "metadata": {
        "id": "aKSf6Z1fr_Eu"
      }
    },
    {
      "cell_type": "code",
      "metadata": {
        "id": "4BJGnXswtxFV",
        "colab": {
          "base_uri": "https://localhost:8080/"
        },
        "outputId": "a246eff5-e012-4df6-d685-d1aebdca7488"
      },
      "source": [
        "paracetamol.GetNumAtoms()"
      ],
      "execution_count": 21,
      "outputs": [
        {
          "output_type": "execute_result",
          "data": {
            "text/plain": [
              "11"
            ]
          },
          "metadata": {},
          "execution_count": 21
        }
      ]
    },
    {
      "cell_type": "markdown",
      "source": [
        "We get 11 atoms instead of 20. It is beacause SMILES représentation of hydrogens is implicit.<br> We can add the hydrogens like that :"
      ],
      "metadata": {
        "id": "PP_VOWUcwY6H"
      }
    },
    {
      "cell_type": "code",
      "source": [
        "paracetamol_hs = Chem.AddHs(paracetamol)\n",
        "paracetamol_hs.GetNumAtoms()"
      ],
      "metadata": {
        "colab": {
          "base_uri": "https://localhost:8080/"
        },
        "id": "_y16QFZctHEx",
        "outputId": "19594c86-2b13-4a51-805d-5369149e5f21"
      },
      "execution_count": 22,
      "outputs": [
        {
          "output_type": "execute_result",
          "data": {
            "text/plain": [
              "20"
            ]
          },
          "metadata": {},
          "execution_count": 22
        }
      ]
    },
    {
      "cell_type": "code",
      "source": [
        "Chem.Draw.MolToImage(paracetamol_hs)"
      ],
      "metadata": {
        "colab": {
          "base_uri": "https://localhost:8080/",
          "height": 317
        },
        "id": "LeKsjpqAxMSc",
        "outputId": "16952077-91b1-4899-92e4-f63702cebcb6"
      },
      "execution_count": 23,
      "outputs": [
        {
          "output_type": "execute_result",
          "data": {
            "text/plain": [
              "<PIL.PngImagePlugin.PngImageFile image mode=RGB size=300x300>"
            ],
            "image/png": "[encoded data removed]"
          },
          "metadata": {},
          "execution_count": 23
        }
      ]
    },
    {
      "cell_type": "markdown",
      "source": [
        "#### 4. Print out the list of atoms."
      ],
      "metadata": {
        "id": "ENcyCW9JxgFk"
      }
    },
    {
      "cell_type": "code",
      "source": [
        "list_atoms = paracetamol.GetAtoms()\n",
        "list_symbols = [mol.GetSymbol() for mol in list_atoms]\n",
        "list_symbols"
      ],
      "metadata": {
        "colab": {
          "base_uri": "https://localhost:8080/"
        },
        "id": "Rtb4i_3hxbfi",
        "outputId": "e1cb1630-d57e-4f3a-90f7-4acfe97b47de"
      },
      "execution_count": 36,
      "outputs": [
        {
          "output_type": "execute_result",
          "data": {
            "text/plain": [
              "['C', 'C', 'O', 'N', 'C', 'C', 'C', 'C', 'O', 'C', 'C']"
            ]
          },
          "metadata": {},
          "execution_count": 36
        }
      ]
    },
    {
      "cell_type": "markdown",
      "source": [
        "#### 5. Find the number of bonds.\n",
        "\n"
      ],
      "metadata": {
        "id": "YPaxhuYGzhrB"
      }
    },
    {
      "cell_type": "code",
      "source": [
        "nbr_bounds = paracetamol.GetNumBonds()\n",
        "nbr_bounds"
      ],
      "metadata": {
        "colab": {
          "base_uri": "https://localhost:8080/"
        },
        "id": "0TrbpSjXzt-x",
        "outputId": "30d6631d-21c1-4ef7-c762-aead005b8d0b"
      },
      "execution_count": 38,
      "outputs": [
        {
          "output_type": "execute_result",
          "data": {
            "text/plain": [
              "11"
            ]
          },
          "metadata": {},
          "execution_count": 38
        }
      ]
    },
    {
      "cell_type": "markdown",
      "metadata": {
        "id": "5ch4vabFuReu"
      },
      "source": [
        "## Ex 2 Read data from chemical file format\n",
        "\n",
        "Apart SMILES, .SDF/ .Mol are also the common formats to save molecules. RDKit provides also functionalities to read these files.\n",
        "\n",
        "\n",
        "Morphine is an opioid agonist used for the relief of moderate to severe acute and chronic pain. The chemical information of this drug can be found at\n",
        "\"https://go.drugbank.com/structures/small_molecule_drugs/DB00295.sdf\".\n",
        "\n"
      ]
    },
    {
      "cell_type": "markdown",
      "source": [
        "#### 1. Download this file and save it in a folder."
      ],
      "metadata": {
        "id": "KFuM8aiV-_tU"
      }
    },
    {
      "cell_type": "code",
      "metadata": {
        "id": "9VLF599Yv5V1",
        "colab": {
          "base_uri": "https://localhost:8080/"
        },
        "outputId": "0e86ebc1-d084-4113-9c73-8fc35dc32022"
      },
      "source": [
        "!wget https://go.drugbank.com/structures/small_molecule_drugs/DB00295.sdf"
      ],
      "execution_count": 42,
      "outputs": [
        {
          "output_type": "stream",
          "name": "stdout",
          "text": [
            "--2023-09-22 12:28:56--  https://go.drugbank.com/structures/small_molecule_drugs/DB00295.sdf\n",
            "Resolving go.drugbank.com (go.drugbank.com)... 172.66.42.250, 172.66.41.6, 2606:4700:3108::ac42:2afa, ...\n",
            "Connecting to go.drugbank.com (go.drugbank.com)|172.66.42.250|:443... connected.\n",
            "HTTP request sent, awaiting response... 200 OK\n",
            "Length: unspecified [text/plain]\n",
            "Saving to: ‘DB00295.sdf’\n",
            "\n",
            "DB00295.sdf             [ <=>                ]   7.38K  --.-KB/s    in 0s      \n",
            "\n",
            "2023-09-22 12:28:57 (47.2 MB/s) - ‘DB00295.sdf’ saved [7559]\n",
            "\n"
          ]
        }
      ]
    },
    {
      "cell_type": "markdown",
      "source": [
        "#### 2. Read the morphine molecule from the file that you've downloaded using \"rdkit.Chem.SDMolSupplier\""
      ],
      "metadata": {
        "id": "bFIkbPsi_LtJ"
      }
    },
    {
      "cell_type": "code",
      "metadata": {
        "id": "MfzZWrz82ox4",
        "colab": {
          "base_uri": "https://localhost:8080/"
        },
        "outputId": "76fc1b69-d34a-4e23-911e-25b0675e1d0d"
      },
      "source": [
        "name_morphine = 'DB00295.sdf'\n",
        "morphine_suppl = Chem.SDMolSupplier(name_morphine)\n",
        "len(morphine_suppl)"
      ],
      "execution_count": 57,
      "outputs": [
        {
          "output_type": "execute_result",
          "data": {
            "text/plain": [
              "1"
            ]
          },
          "metadata": {},
          "execution_count": 57
        }
      ]
    },
    {
      "cell_type": "code",
      "metadata": {
        "id": "Tev1bWf7uEod",
        "colab": {
          "base_uri": "https://localhost:8080/",
          "height": 35
        },
        "outputId": "a2045169-18e9-413f-dd09-c1d860e58e38"
      },
      "source": [
        "morphine = morphine_suppl[0]\n",
        "morphine.GetProp(\"GENERIC_NAME\")"
      ],
      "execution_count": 63,
      "outputs": [
        {
          "output_type": "execute_result",
          "data": {
            "text/plain": [
              "'Morphine'"
            ],
            "application/vnd.google.colaboratory.intrinsic+json": {
              "type": "string"
            }
          },
          "metadata": {},
          "execution_count": 63
        }
      ]
    },
    {
      "cell_type": "code",
      "metadata": {
        "id": "9Cb8JDUe0pOw",
        "colab": {
          "base_uri": "https://localhost:8080/",
          "height": 446
        },
        "outputId": "bd54908e-5c9e-468d-89d4-a6ee71fddc5e"
      },
      "source": [
        "morphine"
      ],
      "execution_count": 64,
      "outputs": [
        {
          "output_type": "execute_result",
          "data": {
            "text/plain": [
              "<rdkit.Chem.rdchem.Mol at 0x7d35944493f0>"
            ],
            "text/html": [
              "<table><tr><td colspan=\"2\" style=\"text-align: center;\"><image src=\"data:image/png;base64,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\"></td></tr>\n",
              "<tr><th style=\"text-align: right\">DATABASE_ID</th><td style=\"text-align: left\">DB00295</td></tr>\n",
              "<tr><th style=\"text-align: right\">DATABASE_NAME</th><td style=\"text-align: left\">drugbank</td></tr>\n",
              "<tr><th style=\"text-align: right\">SMILES</th><td style=\"text-align: left\">[H][C@@]12OC3=C(O)C=CC4=C3[C@@]11CCN(C)[C@]([H])(C4)[C@]1([H])C=C[C@@H]2O</td></tr>\n",
              "<tr><th style=\"text-align: right\">INCHI_IDENTIFIER</th><td style=\"text-align: left\">InChI=1S/C17H19NO3/c1-18-7-6-17-10-3-5-13(20)16(17)21-15-12(19)4-2-9(14(15)17)8-11(10)18/h2-5,10-11,13,16,19-20H,6-8H2,1H3/t10-,11+,13-,16-,17-/m0/s1</td></tr>\n",
              "<tr><th style=\"text-align: right\">INCHI_KEY</th><td style=\"text-align: left\">BQJCRHHNABKAKU-KBQPJGBKSA-N</td></tr>\n",
              "<tr><th style=\"text-align: right\">FORMULA</th><td style=\"text-align: left\">C17H19NO3</td></tr>\n",
              "<tr><th style=\"text-align: right\">MOLECULAR_WEIGHT</th><td style=\"text-align: left\">285.3377</td></tr>\n",
              "<tr><th style=\"text-align: right\">EXACT_MASS</th><td style=\"text-align: left\">285.136493479</td></tr>\n",
              "<tr><th style=\"text-align: right\">JCHEM_ACCEPTOR_COUNT</th><td style=\"text-align: left\">4</td></tr>\n",
              "<tr><th style=\"text-align: right\">JCHEM_ATOM_COUNT</th><td style=\"text-align: left\">40</td></tr>\n",
              "<tr><td colspan=\"2\" style=\"text-align: center\">Property list truncated.<br />Increase IPythonConsole.ipython_maxProperties (or set it to -1) to see more properties.</td></tr></table>"
            ],
            "image/png": "[encoded data removed]"
          },
          "metadata": {},
          "execution_count": 64
        }
      ]
    },
    {
      "cell_type": "markdown",
      "source": [
        "#### 3. With the help of rdkit.Chem.AllChem.GetMorganFingerprintAsBitVect,<br> compute its fingerprint as a bit vector."
      ],
      "metadata": {
        "id": "EFxzQqR5_V4J"
      }
    },
    {
      "cell_type": "code",
      "source": [
        "morphine_fp = AllChem.GetMorganFingerprintAsBitVect(mol, 2, nBits=1024)\n",
        "np.array(morphine_fp).shape"
      ],
      "metadata": {
        "colab": {
          "base_uri": "https://localhost:8080/"
        },
        "id": "aJoczogx6e1P",
        "outputId": "daad7067-456b-47f7-a882-a001463b9f1c"
      },
      "execution_count": 70,
      "outputs": [
        {
          "output_type": "execute_result",
          "data": {
            "text/plain": [
              "(1024,)"
            ]
          },
          "metadata": {},
          "execution_count": 70
        }
      ]
    },
    {
      "cell_type": "markdown",
      "metadata": {
        "id": "gljbmF6p3RX8"
      },
      "source": [
        "## EX3. Fingerprints\n",
        "\n",
        "\n",
        "A chemical structure can be characterized by a set of numerical values known as molecular fingerprints. They may be 2D Fragment-based fingerprints presented by bit arrays of 0s and 1s wherein each bit position indicates the presence or absence of structural fragments.\n",
        "\n",
        "\n",
        "The RDKit has a variety of built-in functionality for generating molecular fingerprints and then using them to calculate molecular similarity. In this exercise, we will generate the fingerprints for parcetamol and aspirin that are two popular drugs used for pains."
      ]
    },
    {
      "cell_type": "markdown",
      "source": [
        "#### 1. Fingerprint of the paracetamol as bit vector\n",
        "By using the rdkit.AllChem.GetMorganFingerprintAsBitVectCompute Class. <br> Convert it to a numpy vector. Known that Paracetamol's SMILES is \"\"CC(=O)OC1=CC=CC=C1C(O)=O\". Choose the number of bits nBits= 1024.<br> Find the elements that are nonzero of the vector."
      ],
      "metadata": {
        "id": "euFmiant_5pl"
      }
    },
    {
      "cell_type": "code",
      "metadata": {
        "id": "8PALjOz5232Z",
        "colab": {
          "base_uri": "https://localhost:8080/"
        },
        "outputId": "c9a5a7a0-001b-4441-9aef-cac89cda0e80"
      },
      "source": [
        "paracetamol_fp = AllChem.GetMorganFingerprintAsBitVect(paracetamol, 2, nBits=1024)\n",
        "paracetamol_fp_np = np.array(paracetamol_fp).reshape(-1)\n",
        "paracetamol_fp_np"
      ],
      "execution_count": 98,
      "outputs": [
        {
          "output_type": "execute_result",
          "data": {
            "text/plain": [
              "array([0, 0, 0, ..., 0, 0, 0])"
            ]
          },
          "metadata": {},
          "execution_count": 98
        }
      ]
    },
    {
      "cell_type": "code",
      "metadata": {
        "id": "5PdK21vk3akj",
        "colab": {
          "base_uri": "https://localhost:8080/"
        },
        "outputId": "3f4135ec-7d95-449b-d2d0-23b2f61433ed"
      },
      "source": [
        "paracetamol_nonzero_elm = np.where(paracetamol_fp_np == 1)[0]\n",
        "paracetamol_nonzero_elm"
      ],
      "execution_count": 99,
      "outputs": [
        {
          "output_type": "execute_result",
          "data": {
            "text/plain": [
              "array([  33,   53,  128,  191,  245,  289,  356,  530,  578,  650,  726,\n",
              "        745,  754,  792,  807,  843,  849,  893, 1017])"
            ]
          },
          "metadata": {},
          "execution_count": 99
        }
      ]
    },
    {
      "cell_type": "markdown",
      "source": [
        "#### 2. Aspirin.<br>"
      ],
      "metadata": {
        "id": "HfSA_ZCIAGbP"
      }
    },
    {
      "cell_type": "code",
      "metadata": {
        "id": "FWUW82xM3de5",
        "colab": {
          "base_uri": "https://localhost:8080/"
        },
        "outputId": "b6638a20-02ef-4064-a5e1-ecc02e51935e"
      },
      "source": [
        "aspirin_smiles = \"CC(=O)OC1=CC=CC=C1C(O)=O\"\n",
        "aspirin = Chem.MolFromSmiles(aspirin_smiles)\n",
        "aspirin_fp = AllChem.GetMorganFingerprintAsBitVect(aspirin, 2, nBits=1024)\n",
        "aspirin_fp_np = np.array(aspirin_fp).reshape(-1)\n",
        "aspirin_fp_np"
      ],
      "execution_count": 104,
      "outputs": [
        {
          "output_type": "execute_result",
          "data": {
            "text/plain": [
              "array([0, 0, 0, ..., 0, 0, 0])"
            ]
          },
          "metadata": {},
          "execution_count": 104
        }
      ]
    },
    {
      "cell_type": "code",
      "metadata": {
        "id": "Hip2WFdc3gEP",
        "colab": {
          "base_uri": "https://localhost:8080/"
        },
        "outputId": "24e5932c-7377-4533-d87f-ae1114c15d9f"
      },
      "source": [
        "aspirin_nonzero_elm = np.where(aspirin_fp_np == 1)[0]\n",
        "aspirin_nonzero_elm"
      ],
      "execution_count": 105,
      "outputs": [
        {
          "output_type": "execute_result",
          "data": {
            "text/plain": [
              "array([  11,   23,   33,   64,  175,  356,  386,  389,  423,  444,  456,\n",
              "        592,  650,  695,  705,  726,  751,  807,  849,  893,  909,  946,\n",
              "        967, 1017])"
            ]
          },
          "metadata": {},
          "execution_count": 105
        }
      ]
    },
    {
      "cell_type": "markdown",
      "source": [
        "\n",
        "#### DiceSimilarity between the fingerprints of the paracetamol and the aspirin."
      ],
      "metadata": {
        "id": "V-JnoMo6GbeF"
      }
    },
    {
      "cell_type": "code",
      "metadata": {
        "id": "fxnxfRjq3jDa",
        "colab": {
          "base_uri": "https://localhost:8080/"
        },
        "outputId": "f4f64c5b-930e-4e7f-bb28-9d7e16e90cf0"
      },
      "source": [
        "DataStructs.DiceSimilarity(aspirin_fp, paracetamol_fp)"
      ],
      "execution_count": 106,
      "outputs": [
        {
          "output_type": "execute_result",
          "data": {
            "text/plain": [
              "0.37209302325581395"
            ]
          },
          "metadata": {},
          "execution_count": 106
        }
      ]
    },
    {
      "cell_type": "markdown",
      "metadata": {
        "id": "GZXsjZGw3ofC"
      },
      "source": [
        "## EX 4: Descriptors\n",
        "\n",
        "Molecules are also described by a set of physiochemical descriptors. They should be the log partition coefficient, the polar surface area ... that describe the molecule's structure.\n",
        "\n",
        "\n",
        "RDKit provides utilities that allow us to compute descriptor of molecules.\n",
        "Using the rdkit.ML.Descriptors.MoleculeDescriptors.MolecularDescriptorCalculator class, compute the descriptor for paracetamol molecule from SMILES string. Note that SMILES string for paracetamol is \"CC(=O)NC1=CC=C(O)C=C1\"\n",
        "\n"
      ]
    },
    {
      "cell_type": "code",
      "metadata": {
        "id": "vQcACF5K3l1y",
        "colab": {
          "base_uri": "https://localhost:8080/"
        },
        "outputId": "4ec741b8-8201-4502-85c3-20c194e59034"
      },
      "source": [
        "\n",
        "descriptors = ['MolLogP', 'TPSA', 'MolWt', 'NumValenceElectrons', 'NumAromaticRings']\n",
        "\n",
        "calculator = MoleculeDescriptors.MolecularDescriptorCalculator(descriptors)\n",
        "paracetamol_descr = calculator.CalcDescriptors(paracetamol)\n",
        "paracetamol_descr"
      ],
      "execution_count": 130,
      "outputs": [
        {
          "output_type": "execute_result",
          "data": {
            "text/plain": [
              "(1.3505999999999998, 49.33, 151.165, 58, 1)"
            ]
          },
          "metadata": {},
          "execution_count": 130
        }
      ]
    },
    {
      "cell_type": "markdown",
      "metadata": {
        "id": "SvHtYagP31vo"
      },
      "source": [
        "## Ex5: SMART\n",
        "\n",
        "In many commonly used applications, we need to determine whether atoms in a molecule match a particular pattern. It can be used for filtering structures or identifying substructures that are associated with toxicological problem.\n",
        "\n",
        "SMART us an extension of the SMILES language that can be used to create queries.\n"
      ]
    },
    {
      "cell_type": "markdown",
      "source": [
        "#### 1. Molecules that contain the \"CCC\" pattern"
      ],
      "metadata": {
        "id": "k8tv-Dy0VTML"
      }
    },
    {
      "cell_type": "code",
      "metadata": {
        "id": "mXqKwAO03xQi"
      },
      "source": [
        "smiles_list = [\"CCCCC\",\"CCOCC\",\"CCNCC\",\"CC(=O)NC1=CC=C(O)C=C1\", \"CC(=O)NC1=CC=C(O[13CH3])C=C1\", \"CN(C(=O)C(Cl)Cl)C1=CC=C(O)C=C1\"]"
      ],
      "execution_count": 134,
      "outputs": []
    },
    {
      "cell_type": "code",
      "metadata": {
        "id": "HAd-F-3d36WA",
        "colab": {
          "base_uri": "https://localhost:8080/"
        },
        "outputId": "760b41c8-0bf5-496b-c868-f2d4e2e88e52"
      },
      "source": [
        "pattern = Chem.MolFromSmiles(\"CCC\")\n",
        "\n",
        "mols_list = [Chem.MolFromSmiles(smile) for smile in smiles_list]\n",
        "mols_list_match = [mol for mol in mols_list if mol.GetSubstructMatch(pattern)]\n",
        "len(mols_list_match)"
      ],
      "execution_count": 158,
      "outputs": [
        {
          "output_type": "execute_result",
          "data": {
            "text/plain": [
              "1"
            ]
          },
          "metadata": {},
          "execution_count": 158
        }
      ]
    },
    {
      "cell_type": "markdown",
      "source": [
        "#### 2. Highlighting the pattern \"CCC\""
      ],
      "metadata": {
        "id": "v9P4eZMRVbLw"
      }
    },
    {
      "cell_type": "code",
      "metadata": {
        "id": "kLR_cPK739DY",
        "colab": {
          "base_uri": "https://localhost:8080/",
          "height": 317
        },
        "outputId": "82d5830d-9a53-41a5-e3c1-4fefc90a1a9d"
      },
      "source": [
        "img = Chem.Draw.MolsToGridImage(mols_list_match,\n",
        "                           molsPerRow=len(mols_list_match),\n",
        "                           subImgSize=(300, 300),\n",
        "                           highlightAtomLists=[mol.GetSubstructMatch(pattern) for mol in mols_list_match])\n",
        "\n",
        "img"
      ],
      "execution_count": 166,
      "outputs": [
        {
          "output_type": "execute_result",
          "data": {
            "image/png": "[encoded data removed]",
            "text/plain": [
              "<IPython.core.display.Image object>"
            ]
          },
          "metadata": {},
          "execution_count": 166
        }
      ]
    },
    {
      "cell_type": "markdown",
      "source": [
        "#### 3. For the pattern \"C(=O)N\"."
      ],
      "metadata": {
        "id": "QjnaiuIeVz8E"
      }
    },
    {
      "cell_type": "code",
      "source": [
        "pattern2 = Chem.MolFromSmiles(\"C(=O)N\")\n",
        "\n",
        "mols_list_match2 = [mol for mol in mols_list if mol.GetSubstructMatch(pattern2)]\n",
        "len(mols_list_match2)"
      ],
      "metadata": {
        "colab": {
          "base_uri": "https://localhost:8080/"
        },
        "id": "9B9ZEYpST_RQ",
        "outputId": "5c2fd470-d8a0-4fbf-83c9-01b4735b9760"
      },
      "execution_count": 170,
      "outputs": [
        {
          "output_type": "execute_result",
          "data": {
            "text/plain": [
              "3"
            ]
          },
          "metadata": {},
          "execution_count": 170
        }
      ]
    },
    {
      "cell_type": "code",
      "source": [
        "img = Chem.Draw.MolsToGridImage(mols_list_match2,\n",
        "                           molsPerRow=len(mols_list_match2),\n",
        "                           subImgSize=(300, 300),\n",
        "                           highlightAtomLists=[mol.GetSubstructMatch(pattern2) for mol in mols_list_match2])\n",
        "\n",
        "img"
      ],
      "metadata": {
        "colab": {
          "base_uri": "https://localhost:8080/",
          "height": 317
        },
        "id": "0FeyNVPrU3RD",
        "outputId": "a1579ed8-c266-478f-e820-39b744a7720c"
      },
      "execution_count": 171,
      "outputs": [
        {
          "output_type": "execute_result",
          "data": {
            "image/png": "[encoded data removed]",
            "text/plain": [
              "<IPython.core.display.Image object>"
            ]
          },
          "metadata": {},
          "execution_count": 171
        }
      ]
    },
    {
      "cell_type": "markdown",
      "metadata": {
        "id": "UxbRPmkS4LSq"
      },
      "source": [
        "## Ex6: Machine learning with RDkit - Predict solubility\n",
        "\n",
        "In this exercise, we will use machine learning to predict solubility of molecules. For this purpose, we will borrow a dataset from rdkit that is originated from the Huuskonen dataset. We will try to predict Aqueous Solubility for molecules that is known as \"logS\".\n",
        "\n",
        "\n",
        "This exercise is divided into 3 parts: Preparing a dataset, training a model and preparing dataset for prediction and applying a predictive model.\n",
        "\n"
      ]
    },
    {
      "cell_type": "markdown",
      "metadata": {
        "id": "FpqVGPg_4QaQ"
      },
      "source": [
        "## EX6.I Preparing dataset\n",
        "\n",
        "Preparing dataset requires a few steps:\n",
        "\n",
        "\n",
        "1. Download file from \"https://raw.githubusercontent.com/rdkit/rdkit/master/Docs/Book/data/solubility.train.sdf\".\n",
        "\n",
        "\n",
        "2. With the help of rdkit.Chem.SDMolSupplier, get list of molecules contained in this file. You should call this list as **molecule_list**. The option **removeHs=False** should be chosen.\n",
        "\n",
        "\n",
        "3. Write a function named **calculate_descriptors(mol)** that allows us to calculate descriptors of a molecule. This function takes a Rdkit molecule as input and returns an array vector of descriptors.\n",
        "\n",
        "\n",
        "4. Apply the function **caluclate_descriptors** to the list of molecules **molecule_list** and store the result in a dataframe named **df**. Look at few rows of **df** to see whether the descriptors are calculated.\n",
        "\n",
        "\n",
        "5. For each molecule from this dataset, we can get the aqueous solubility (logS) via attribute **getProp('SOL')**. Create a list that contains the aqueous solubility of all molecules from the **molecule_list** list. You should call this list by **labels**. Remember to convert these values to float format.\n",
        "\n",
        "\n",
        "6. Plot the histogram of the \"labels\" list to see the distribution of the solubility of molecules. Do you have some comments about the aqueous solubility of molecules ?\n",
        "\n"
      ]
    },
    {
      "cell_type": "code",
      "metadata": {
        "colab": {
          "base_uri": "https://localhost:8080/"
        },
        "id": "uAuDoU7u3_k4",
        "outputId": "20a2c148-5734-4443-a665-ada416a12c62"
      },
      "source": [
        "!wget https://raw.githubusercontent.com/rdkit/rdkit/master/Docs/Book/data/solubility.train.sdf"
      ],
      "execution_count": null,
      "outputs": [
        {
          "output_type": "stream",
          "name": "stdout",
          "text": [
            "--2023-08-20 21:02:05--  https://raw.githubusercontent.com/rdkit/rdkit/master/Docs/Book/data/solubility.train.sdf\n",
            "Resolving raw.githubusercontent.com (raw.githubusercontent.com)... 185.199.108.133, 185.199.111.133, 185.199.109.133, ...\n",
            "Connecting to raw.githubusercontent.com (raw.githubusercontent.com)|185.199.108.133|:443... connected.\n",
            "HTTP request sent, awaiting response... 200 OK\n",
            "Length: 1376487 (1.3M) [text/plain]\n",
            "Saving to: ‘solubility.train.sdf’\n",
            "\n",
            "solubility.train.sd 100%[===================>]   1.31M  --.-KB/s    in 0.06s   \n",
            "\n",
            "2023-08-20 21:02:05 (21.2 MB/s) - ‘solubility.train.sdf’ saved [1376487/1376487]\n",
            "\n"
          ]
        }
      ]
    },
    {
      "cell_type": "code",
      "metadata": {
        "id": "IVzIr6ax4lzk"
      },
      "source": [],
      "execution_count": null,
      "outputs": []
    },
    {
      "cell_type": "code",
      "metadata": {
        "id": "lnKz9r0a4xQo"
      },
      "source": [],
      "execution_count": null,
      "outputs": []
    },
    {
      "cell_type": "code",
      "metadata": {
        "id": "v7vbkPlh46Uj"
      },
      "source": [],
      "execution_count": null,
      "outputs": []
    },
    {
      "cell_type": "code",
      "metadata": {
        "id": "a9s7O4ki4_dZ"
      },
      "source": [],
      "execution_count": null,
      "outputs": []
    },
    {
      "cell_type": "code",
      "metadata": {
        "id": "38SxXEj75DG6"
      },
      "source": [],
      "execution_count": null,
      "outputs": []
    },
    {
      "cell_type": "markdown",
      "metadata": {
        "id": "KRtVHEjH5M9m"
      },
      "source": [
        "## Ex6.II Feature Engineering and Training a model of regression.\n",
        "\n",
        "Now, we have the **df** dataframe that contains the descriptors for molecules and the **labels** list that contains the solvant property of molecules.\n",
        "\n",
        "1. Check the dataframe **df** to see whether it contains NaN values. How many row contained NaN values are there in the dataframe **df** ? Remove these rows from  **df** and **labels**.\n",
        "\n",
        "\n",
        "2. Apply the MinMaxScaler to the dataframe **df** to normalize the data.\n",
        "\n",
        "\n",
        "3. Construct and train a regression model.\n",
        "\n",
        "\n",
        "4. Calculate the square root error for the dataset"
      ]
    },
    {
      "cell_type": "code",
      "metadata": {
        "id": "gWvfR-8x5H84"
      },
      "source": [],
      "execution_count": null,
      "outputs": []
    },
    {
      "cell_type": "code",
      "metadata": {
        "id": "GIogC40t5Tu8"
      },
      "source": [],
      "execution_count": null,
      "outputs": []
    },
    {
      "cell_type": "code",
      "metadata": {
        "id": "rdzWDho25bAs"
      },
      "source": [],
      "execution_count": null,
      "outputs": []
    },
    {
      "cell_type": "code",
      "metadata": {
        "id": "dtonURI45dvL"
      },
      "source": [],
      "execution_count": null,
      "outputs": []
    },
    {
      "cell_type": "code",
      "metadata": {
        "id": "6IN4BUGK5mjK"
      },
      "source": [],
      "execution_count": null,
      "outputs": []
    },
    {
      "cell_type": "code",
      "metadata": {
        "id": "WJR3jwY45nZ5"
      },
      "source": [],
      "execution_count": null,
      "outputs": []
    },
    {
      "cell_type": "code",
      "metadata": {
        "id": "y8WyXMy95pzF"
      },
      "source": [],
      "execution_count": null,
      "outputs": []
    },
    {
      "cell_type": "markdown",
      "metadata": {
        "id": "kESW-Pem5zPX"
      },
      "source": [
        "## Ex6.III Prepare data for test  and test model\n",
        "\n",
        "\n",
        "1. Download file from \"https://github.com/rdkit/rdkit/blob/master/Docs/Book/data/solubility.test.sdf\".\n",
        "\n",
        "2. Read molecules from this file and store them in a list named **list_molecule_test**.\n",
        "\n",
        "\n",
        "3. Take a molecule from the **list_molecule_test** and then calculate its descriptions thank to the **calculate_descriptors(mol)** function that you've coded above.\n",
        "\n",
        "\n",
        "4. Apply **minmaxscaler** to these descriptors. Note that **minmaxscaler**  is one that you've created at Ex6.II.\n",
        "\n",
        "\n",
        "5. Use the model that you've trained to predict the aqueous solubility (logS) of the molecule. Compare to the real logS value of the molecule.\n",
        "\n",
        "6. (Optional) Calculate the mean square root error of the model for this dataset.\n",
        "\n",
        "\n",
        "\n",
        "Note: If there exists problem of reading the file solubility.test.sdf as\n",
        "\"RDKit ERROR: [09:28:36] ERROR: moving to the beginning of the next molecule\n",
        "RDKit ERROR: [09:32:48] ERROR: Counts line too short: '' on line4\"\n",
        "so, go to the url, click \"raw\" and save this file by hand. The error will be gone away\n"
      ]
    },
    {
      "cell_type": "code",
      "metadata": {
        "id": "SMo-oKP-Rhv-",
        "colab": {
          "base_uri": "https://localhost:8080/"
        },
        "outputId": "57380b07-7444-4b56-b614-81dec92bcf35"
      },
      "source": [
        "# 1. Download the file\n",
        "!wget https://github.com/rdkit/rdkit/blob/master/Docs/Book/data/solubility.test.sdf"
      ],
      "execution_count": null,
      "outputs": [
        {
          "output_type": "stream",
          "name": "stdout",
          "text": [
            "--2023-08-20 21:06:07--  https://github.com/rdkit/rdkit/blob/master/Docs/Book/data/solubility.test.sdf\n",
            "Resolving github.com (github.com)... 140.82.114.4\n",
            "Connecting to github.com (github.com)|140.82.114.4|:443... connected.\n",
            "HTTP request sent, awaiting response... 200 OK\n",
            "Length: 327929 (320K) [text/plain]\n",
            "Saving to: ‘solubility.test.sdf’\n",
            "\n",
            "solubility.test.sdf 100%[===================>] 320.24K  --.-KB/s    in 0.1s    \n",
            "\n",
            "2023-08-20 21:06:07 (3.00 MB/s) - ‘solubility.test.sdf’ saved [327929/327929]\n",
            "\n"
          ]
        }
      ]
    },
    {
      "cell_type": "code",
      "metadata": {
        "id": "NPY8dEJs5v1x"
      },
      "source": [],
      "execution_count": null,
      "outputs": []
    },
    {
      "cell_type": "code",
      "source": [],
      "metadata": {
        "id": "nzS4GfEAxzUQ"
      },
      "execution_count": null,
      "outputs": []
    },
    {
      "cell_type": "code",
      "metadata": {
        "id": "Ni3z7j7G561j"
      },
      "source": [],
      "execution_count": null,
      "outputs": []
    },
    {
      "cell_type": "code",
      "metadata": {
        "id": "Ed3NApbv5_Yp"
      },
      "source": [],
      "execution_count": null,
      "outputs": []
    },
    {
      "cell_type": "code",
      "metadata": {
        "id": "vauBuC-R66GF"
      },
      "source": [],
      "execution_count": null,
      "outputs": []
    }
  ]
}