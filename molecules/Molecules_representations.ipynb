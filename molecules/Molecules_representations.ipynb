{
  "nbformat": 4,
  "nbformat_minor": 0,
  "metadata": {
    "colab": {
      "provenance": [],
      "include_colab_link": true
    },
    "kernelspec": {
      "name": "python3",
      "display_name": "Python 3"
    },
    "language_info": {
      "name": "python"
    }
  },
  "cells": [
    {
      "cell_type": "markdown",
      "metadata": {
        "id": "view-in-github",
        "colab_type": "text"
      },
      "source": [
        "<a href=\"https://colab.research.google.com/github/Ekliipce/Machine-Learning-for-Biomedical/blob/main/molecules/Molecules_representations.ipynb\" target=\"_parent\"><img src=\"https://colab.research.google.com/assets/colab-badge.svg\" alt=\"Open In Colab\"/></a>"
      ]
    },
    {
      "cell_type": "code",
      "metadata": {
        "id": "9qJCFDsxp3wJ",
        "colab": {
          "base_uri": "https://localhost:8080/"
        },
        "outputId": "5306b869-8831-4b07-895b-21cf82efb8de"
      },
      "source": [
        "# Install rdkit\n",
        "!pip install rdkit-pypi"
      ],
      "execution_count": 1,
      "outputs": [
        {
          "output_type": "stream",
          "name": "stdout",
          "text": [
            "Requirement already satisfied: rdkit-pypi in /usr/local/lib/python3.10/dist-packages (2022.9.5)\n",
            "Requirement already satisfied: numpy in /usr/local/lib/python3.10/dist-packages (from rdkit-pypi) (1.23.5)\n",
            "Requirement already satisfied: Pillow in /usr/local/lib/python3.10/dist-packages (from rdkit-pypi) (9.4.0)\n"
          ]
        }
      ]
    },
    {
      "cell_type": "code",
      "metadata": {
        "id": "ccbbFmLOqDJV"
      },
      "source": [
        "import numpy as np\n",
        "import matplotlib.pyplot as plt\n",
        "import pandas as pd\n",
        "\n",
        "\n",
        "from rdkit import Chem\n",
        "from rdkit.Chem import AllChem\n",
        "from rdkit import DataStructs\n",
        "from rdkit.ML.Descriptors import MoleculeDescriptors\n",
        "\n",
        "\n",
        "from sklearn.preprocessing import MinMaxScaler\n",
        "from sklearn.model_selection import train_test_split\n",
        "from sklearn.metrics import r2_score\n",
        "from sklearn.metrics import mean_squared_error\n"
      ],
      "execution_count": 2,
      "outputs": []
    },
    {
      "cell_type": "markdown",
      "metadata": {
        "id": "TYs-WClCqSsy"
      },
      "source": [
        "## Ex 1. Read molecules from SMILES\n",
        "\n",
        "SMILES (Simplified Molecular-Input Line-Entry System) is a popular method for specifying molecules with text string. The RDkit library provides utilities to read molecules from SMILES.\n",
        "\n",
        "\n",
        "Paracetamol (Acetaminophen) is a commonly used medicine that can help treat pain and reduce a high temperature. It's given by the chemical formula $ C_8H_9N O_2$ and its SMILES is \"CC(=O)NC1=CC=C(O)C=C1\".\n",
        "\n"
      ]
    },
    {
      "cell_type": "markdown",
      "source": [
        "1-2. Create the paracetamol molecule from its SMILES using the rdkit.Chem.MolFromSmiles class. Visualize its structure."
      ],
      "metadata": {
        "id": "PQdDjJ0Jrew4"
      }
    },
    {
      "cell_type": "code",
      "metadata": {
        "id": "8snxocdqsKNJ",
        "colab": {
          "base_uri": "https://localhost:8080/",
          "height": 317
        },
        "outputId": "857dff1e-ecaf-4a9d-f5d3-b0919cb6acc0"
      },
      "source": [
        "paracemetamol_smiles = \"CC(=O)NC1=CC=C(O)C=C1\"\n",
        "paracetamol = Chem.MolFromSmiles(paracemetamol_smiles)\n",
        "Chem.Draw.MolToImage(paracetamol)"
      ],
      "execution_count": 3,
      "outputs": [
        {
          "output_type": "execute_result",
          "data": {
            "text/plain": [
              "<PIL.PngImagePlugin.PngImageFile image mode=RGB size=300x300>"
            ],
            "image/png": "[encoded data removed]"
          },
          "metadata": {},
          "execution_count": 3
        }
      ]
    },
    {
      "cell_type": "markdown",
      "source": [
        "3. Print out the number of atoms."
      ],
      "metadata": {
        "id": "aKSf6Z1fr_Eu"
      }
    },
    {
      "cell_type": "code",
      "metadata": {
        "id": "4BJGnXswtxFV",
        "colab": {
          "base_uri": "https://localhost:8080/"
        },
        "outputId": "774f3fab-3490-4e1e-e448-84a471eb3f45"
      },
      "source": [
        "paracetamol.GetNumAtoms()"
      ],
      "execution_count": 4,
      "outputs": [
        {
          "output_type": "execute_result",
          "data": {
            "text/plain": [
              "11"
            ]
          },
          "metadata": {},
          "execution_count": 4
        }
      ]
    },
    {
      "cell_type": "markdown",
      "source": [
        "We get 11 atoms instead of 20. It is beacause SMILES représentation of hydrogens is implicit.<br> We can add the hydrogens like that :"
      ],
      "metadata": {
        "id": "PP_VOWUcwY6H"
      }
    },
    {
      "cell_type": "code",
      "source": [
        "paracetamol_hs = Chem.AddHs(paracetamol)\n",
        "paracetamol_hs.GetNumAtoms()"
      ],
      "metadata": {
        "colab": {
          "base_uri": "https://localhost:8080/"
        },
        "id": "_y16QFZctHEx",
        "outputId": "ce61ba0e-abcc-4507-8b64-818cf39500cf"
      },
      "execution_count": 5,
      "outputs": [
        {
          "output_type": "execute_result",
          "data": {
            "text/plain": [
              "20"
            ]
          },
          "metadata": {},
          "execution_count": 5
        }
      ]
    },
    {
      "cell_type": "code",
      "source": [
        "Chem.Draw.MolToImage(paracetamol_hs)"
      ],
      "metadata": {
        "colab": {
          "base_uri": "https://localhost:8080/",
          "height": 317
        },
        "id": "LeKsjpqAxMSc",
        "outputId": "b14c3030-e47d-449d-fec3-15d5b6d5ff9f"
      },
      "execution_count": 6,
      "outputs": [
        {
          "output_type": "execute_result",
          "data": {
            "text/plain": [
              "<PIL.PngImagePlugin.PngImageFile image mode=RGB size=300x300>"
            ],
            "image/png": "[encoded data removed]"
          },
          "metadata": {},
          "execution_count": 6
        }
      ]
    },
    {
      "cell_type": "markdown",
      "source": [
        "4. Print out the list of atoms."
      ],
      "metadata": {
        "id": "ENcyCW9JxgFk"
      }
    },
    {
      "cell_type": "code",
      "source": [
        "list_atoms = paracetamol.GetAtoms()\n",
        "list_symbols = [mol.GetSymbol() for mol in list_atoms]\n",
        "list_symbols"
      ],
      "metadata": {
        "colab": {
          "base_uri": "https://localhost:8080/"
        },
        "id": "Rtb4i_3hxbfi",
        "outputId": "d5a2faaf-6c0d-4c68-8361-966f93b6b67a"
      },
      "execution_count": 7,
      "outputs": [
        {
          "output_type": "execute_result",
          "data": {
            "text/plain": [
              "['C', 'C', 'O', 'N', 'C', 'C', 'C', 'C', 'O', 'C', 'C']"
            ]
          },
          "metadata": {},
          "execution_count": 7
        }
      ]
    },
    {
      "cell_type": "markdown",
      "source": [
        " 5. Find the number of bonds.\n",
        "\n"
      ],
      "metadata": {
        "id": "YPaxhuYGzhrB"
      }
    },
    {
      "cell_type": "code",
      "source": [
        "nbr_bounds = paracetamol.GetNumBonds()\n",
        "nbr_bounds"
      ],
      "metadata": {
        "colab": {
          "base_uri": "https://localhost:8080/"
        },
        "id": "0TrbpSjXzt-x",
        "outputId": "e03d2ce5-fec2-4019-be54-1e74d6171aec"
      },
      "execution_count": 8,
      "outputs": [
        {
          "output_type": "execute_result",
          "data": {
            "text/plain": [
              "11"
            ]
          },
          "metadata": {},
          "execution_count": 8
        }
      ]
    },
    {
      "cell_type": "markdown",
      "metadata": {
        "id": "5ch4vabFuReu"
      },
      "source": [
        "## Ex 2 Read data from chemical file format\n",
        "\n",
        "Apart SMILES, .SDF/ .Mol are also the common formats to save molecules. RDKit provides also functionalities to read these files.\n",
        "\n",
        "\n",
        "Morphine is an opioid agonist used for the relief of moderate to severe acute and chronic pain. The chemical information of this drug can be found at\n",
        "\"https://go.drugbank.com/structures/small_molecule_drugs/DB00295.sdf\".\n",
        "\n"
      ]
    },
    {
      "cell_type": "markdown",
      "source": [
        "1. Download this file and save it in a folder."
      ],
      "metadata": {
        "id": "KFuM8aiV-_tU"
      }
    },
    {
      "cell_type": "code",
      "metadata": {
        "id": "9VLF599Yv5V1",
        "colab": {
          "base_uri": "https://localhost:8080/"
        },
        "outputId": "a818d125-29f6-48d9-beac-04b3384f6fec"
      },
      "source": [
        "!wget https://go.drugbank.com/structures/small_molecule_drugs/DB00295.sdf"
      ],
      "execution_count": 9,
      "outputs": [
        {
          "output_type": "stream",
          "name": "stdout",
          "text": [
            "--2023-09-23 09:50:48--  https://go.drugbank.com/structures/small_molecule_drugs/DB00295.sdf\n",
            "Resolving go.drugbank.com (go.drugbank.com)... 172.66.41.6, 172.66.42.250, 2606:4700:3108::ac42:2906, ...\n",
            "Connecting to go.drugbank.com (go.drugbank.com)|172.66.41.6|:443... connected.\n",
            "HTTP request sent, awaiting response... 200 OK\n",
            "Length: unspecified [text/plain]\n",
            "Saving to: ‘DB00295.sdf.4’\n",
            "\n",
            "DB00295.sdf.4           [ <=>                ]   7.38K  --.-KB/s    in 0s      \n",
            "\n",
            "2023-09-23 09:50:49 (68.6 MB/s) - ‘DB00295.sdf.4’ saved [7559]\n",
            "\n"
          ]
        }
      ]
    },
    {
      "cell_type": "markdown",
      "source": [
        "2. Read the morphine molecule from the file that you've downloaded using \"rdkit.Chem.SDMolSupplier\""
      ],
      "metadata": {
        "id": "bFIkbPsi_LtJ"
      }
    },
    {
      "cell_type": "code",
      "metadata": {
        "id": "MfzZWrz82ox4",
        "colab": {
          "base_uri": "https://localhost:8080/"
        },
        "outputId": "c0b2cded-6cfb-40e0-d721-398b2fb70dd8"
      },
      "source": [
        "name_morphine = 'DB00295.sdf'\n",
        "morphine_suppl = Chem.SDMolSupplier(name_morphine)\n",
        "len(morphine_suppl)"
      ],
      "execution_count": 10,
      "outputs": [
        {
          "output_type": "execute_result",
          "data": {
            "text/plain": [
              "1"
            ]
          },
          "metadata": {},
          "execution_count": 10
        }
      ]
    },
    {
      "cell_type": "code",
      "metadata": {
        "id": "Tev1bWf7uEod",
        "colab": {
          "base_uri": "https://localhost:8080/",
          "height": 35
        },
        "outputId": "9efa8473-eedf-4d20-bddb-70f4cec47374"
      },
      "source": [
        "morphine = morphine_suppl[0]\n",
        "morphine.GetProp(\"GENERIC_NAME\")"
      ],
      "execution_count": 11,
      "outputs": [
        {
          "output_type": "execute_result",
          "data": {
            "text/plain": [
              "'Morphine'"
            ],
            "application/vnd.google.colaboratory.intrinsic+json": {
              "type": "string"
            }
          },
          "metadata": {},
          "execution_count": 11
        }
      ]
    },
    {
      "cell_type": "code",
      "metadata": {
        "id": "9Cb8JDUe0pOw",
        "colab": {
          "base_uri": "https://localhost:8080/",
          "height": 446
        },
        "outputId": "64594c6c-ceea-4d40-d3ef-465aac847a55"
      },
      "source": [
        "morphine"
      ],
      "execution_count": 12,
      "outputs": [
        {
          "output_type": "execute_result",
          "data": {
            "text/plain": [
              "<rdkit.Chem.rdchem.Mol at 0x799497bd4580>"
            ],
            "text/html": [
              "<table><tr><td colspan=\"2\" style=\"text-align: center;\"><image src=\"data:image/png;base64,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\"></td></tr>\n",
              "<tr><th style=\"text-align: right\">DATABASE_ID</th><td style=\"text-align: left\">DB00295</td></tr>\n",
              "<tr><th style=\"text-align: right\">DATABASE_NAME</th><td style=\"text-align: left\">drugbank</td></tr>\n",
              "<tr><th style=\"text-align: right\">SMILES</th><td style=\"text-align: left\">[H][C@@]12OC3=C(O)C=CC4=C3[C@@]11CCN(C)[C@]([H])(C4)[C@]1([H])C=C[C@@H]2O</td></tr>\n",
              "<tr><th style=\"text-align: right\">INCHI_IDENTIFIER</th><td style=\"text-align: left\">InChI=1S/C17H19NO3/c1-18-7-6-17-10-3-5-13(20)16(17)21-15-12(19)4-2-9(14(15)17)8-11(10)18/h2-5,10-11,13,16,19-20H,6-8H2,1H3/t10-,11+,13-,16-,17-/m0/s1</td></tr>\n",
              "<tr><th style=\"text-align: right\">INCHI_KEY</th><td style=\"text-align: left\">BQJCRHHNABKAKU-KBQPJGBKSA-N</td></tr>\n",
              "<tr><th style=\"text-align: right\">FORMULA</th><td style=\"text-align: left\">C17H19NO3</td></tr>\n",
              "<tr><th style=\"text-align: right\">MOLECULAR_WEIGHT</th><td style=\"text-align: left\">285.3377</td></tr>\n",
              "<tr><th style=\"text-align: right\">EXACT_MASS</th><td style=\"text-align: left\">285.136493479</td></tr>\n",
              "<tr><th style=\"text-align: right\">JCHEM_ACCEPTOR_COUNT</th><td style=\"text-align: left\">4</td></tr>\n",
              "<tr><th style=\"text-align: right\">JCHEM_ATOM_COUNT</th><td style=\"text-align: left\">40</td></tr>\n",
              "<tr><td colspan=\"2\" style=\"text-align: center\">Property list truncated.<br />Increase IPythonConsole.ipython_maxProperties (or set it to -1) to see more properties.</td></tr></table>"
            ],
            "image/png": "[encoded data removed]"
          },
          "metadata": {},
          "execution_count": 12
        }
      ]
    },
    {
      "cell_type": "markdown",
      "source": [
        "3. With the help of rdkit.Chem.AllChem.GetMorganFingerprintAsBitVect,<br> compute its fingerprint as a bit vector."
      ],
      "metadata": {
        "id": "EFxzQqR5_V4J"
      }
    },
    {
      "cell_type": "code",
      "source": [
        "morphine_fp = AllChem.GetMorganFingerprintAsBitVect(morphine, 2, nBits=1024)\n",
        "np.array(morphine_fp).shape"
      ],
      "metadata": {
        "colab": {
          "base_uri": "https://localhost:8080/"
        },
        "id": "aJoczogx6e1P",
        "outputId": "0fc1910c-f710-4394-fd30-a325aff15498"
      },
      "execution_count": 13,
      "outputs": [
        {
          "output_type": "execute_result",
          "data": {
            "text/plain": [
              "(1024,)"
            ]
          },
          "metadata": {},
          "execution_count": 13
        }
      ]
    },
    {
      "cell_type": "markdown",
      "metadata": {
        "id": "gljbmF6p3RX8"
      },
      "source": [
        "## EX3. Fingerprints\n",
        "\n",
        "\n",
        "A chemical structure can be characterized by a set of numerical values known as molecular fingerprints. They may be 2D Fragment-based fingerprints presented by bit arrays of 0s and 1s wherein each bit position indicates the presence or absence of structural fragments.\n",
        "\n",
        "\n",
        "The RDKit has a variety of built-in functionality for generating molecular fingerprints and then using them to calculate molecular similarity. In this exercise, we will generate the fingerprints for parcetamol and aspirin that are two popular drugs used for pains."
      ]
    },
    {
      "cell_type": "markdown",
      "source": [
        "1. Fingerprint of the paracetamol as bit vector <br>\n",
        "By using the rdkit.AllChem.GetMorganFingerprintAsBitVectCompute Class. <br> Convert it to a numpy vector. Known that Paracetamol's SMILES is \"\"CC(=O)OC1=CC=CC=C1C(O)=O\". Choose the number of bits nBits= 1024.<br> Find the elements that are nonzero of the vector."
      ],
      "metadata": {
        "id": "euFmiant_5pl"
      }
    },
    {
      "cell_type": "code",
      "metadata": {
        "id": "8PALjOz5232Z",
        "colab": {
          "base_uri": "https://localhost:8080/"
        },
        "outputId": "c1c0f2cc-2654-4632-a01a-aeed7ce81079"
      },
      "source": [
        "paracetamol_fp = AllChem.GetMorganFingerprintAsBitVect(paracetamol, 2, nBits=1024)\n",
        "paracetamol_fp_np = np.array(paracetamol_fp).reshape(-1)\n",
        "paracetamol_fp_np"
      ],
      "execution_count": 14,
      "outputs": [
        {
          "output_type": "execute_result",
          "data": {
            "text/plain": [
              "array([0, 0, 0, ..., 0, 0, 0])"
            ]
          },
          "metadata": {},
          "execution_count": 14
        }
      ]
    },
    {
      "cell_type": "code",
      "metadata": {
        "id": "5PdK21vk3akj",
        "colab": {
          "base_uri": "https://localhost:8080/"
        },
        "outputId": "9e9551c5-6073-408b-9646-97a3f4bf3f34"
      },
      "source": [
        "paracetamol_nonzero_elm = np.where(paracetamol_fp_np == 1)[0]\n",
        "paracetamol_nonzero_elm"
      ],
      "execution_count": 15,
      "outputs": [
        {
          "output_type": "execute_result",
          "data": {
            "text/plain": [
              "array([  33,   53,  128,  191,  245,  289,  356,  530,  578,  650,  726,\n",
              "        745,  754,  792,  807,  843,  849,  893, 1017])"
            ]
          },
          "metadata": {},
          "execution_count": 15
        }
      ]
    },
    {
      "cell_type": "markdown",
      "source": [
        "2. Aspirin.<br>"
      ],
      "metadata": {
        "id": "HfSA_ZCIAGbP"
      }
    },
    {
      "cell_type": "code",
      "metadata": {
        "id": "FWUW82xM3de5",
        "colab": {
          "base_uri": "https://localhost:8080/"
        },
        "outputId": "f1efce66-6a72-4907-990b-b8fb03346d0c"
      },
      "source": [
        "aspirin_smiles = \"CC(=O)OC1=CC=CC=C1C(O)=O\"\n",
        "aspirin = Chem.MolFromSmiles(aspirin_smiles)\n",
        "aspirin_fp = AllChem.GetMorganFingerprintAsBitVect(aspirin, 2, nBits=1024)\n",
        "aspirin_fp_np = np.array(aspirin_fp).reshape(-1)\n",
        "aspirin_fp_np"
      ],
      "execution_count": 16,
      "outputs": [
        {
          "output_type": "execute_result",
          "data": {
            "text/plain": [
              "array([0, 0, 0, ..., 0, 0, 0])"
            ]
          },
          "metadata": {},
          "execution_count": 16
        }
      ]
    },
    {
      "cell_type": "code",
      "metadata": {
        "id": "Hip2WFdc3gEP",
        "colab": {
          "base_uri": "https://localhost:8080/"
        },
        "outputId": "4fbd0789-9ef4-47d6-a5e3-822a3b9a4f8e"
      },
      "source": [
        "aspirin_nonzero_elm = np.where(aspirin_fp_np == 1)[0]\n",
        "aspirin_nonzero_elm"
      ],
      "execution_count": 17,
      "outputs": [
        {
          "output_type": "execute_result",
          "data": {
            "text/plain": [
              "array([  11,   23,   33,   64,  175,  356,  386,  389,  423,  444,  456,\n",
              "        592,  650,  695,  705,  726,  751,  807,  849,  893,  909,  946,\n",
              "        967, 1017])"
            ]
          },
          "metadata": {},
          "execution_count": 17
        }
      ]
    },
    {
      "cell_type": "markdown",
      "source": [
        "\n",
        "DiceSimilarity between the fingerprints of the paracetamol and the aspirin."
      ],
      "metadata": {
        "id": "V-JnoMo6GbeF"
      }
    },
    {
      "cell_type": "code",
      "metadata": {
        "id": "fxnxfRjq3jDa",
        "colab": {
          "base_uri": "https://localhost:8080/"
        },
        "outputId": "0db78bac-5456-429c-8fce-cb5d0be67ea0"
      },
      "source": [
        "DataStructs.DiceSimilarity(aspirin_fp, paracetamol_fp)"
      ],
      "execution_count": 18,
      "outputs": [
        {
          "output_type": "execute_result",
          "data": {
            "text/plain": [
              "0.37209302325581395"
            ]
          },
          "metadata": {},
          "execution_count": 18
        }
      ]
    },
    {
      "cell_type": "markdown",
      "metadata": {
        "id": "GZXsjZGw3ofC"
      },
      "source": [
        "## EX 4: Descriptors\n",
        "\n",
        "Molecules are also described by a set of physiochemical descriptors. They should be the log partition coefficient, the polar surface area ... that describe the molecule's structure.\n",
        "\n",
        "\n",
        "RDKit provides utilities that allow us to compute descriptor of molecules.\n",
        "Using the rdkit.ML.Descriptors.MoleculeDescriptors.MolecularDescriptorCalculator class, compute the descriptor for paracetamol molecule from SMILES string. Note that SMILES string for paracetamol is \"CC(=O)NC1=CC=C(O)C=C1\"\n",
        "\n"
      ]
    },
    {
      "cell_type": "code",
      "metadata": {
        "id": "vQcACF5K3l1y",
        "colab": {
          "base_uri": "https://localhost:8080/"
        },
        "outputId": "d13af7b3-4c99-4110-c97b-17c75adf11d8"
      },
      "source": [
        "descriptors = ['MolLogP', 'TPSA', 'MolWt', 'NumValenceElectrons', 'NumAromaticRings']\n",
        "\n",
        "calculator = MoleculeDescriptors.MolecularDescriptorCalculator(descriptors)\n",
        "paracetamol_descr = calculator.CalcDescriptors(paracetamol)\n",
        "paracetamol_descr"
      ],
      "execution_count": 19,
      "outputs": [
        {
          "output_type": "execute_result",
          "data": {
            "text/plain": [
              "(1.3505999999999998, 49.33, 151.165, 58, 1)"
            ]
          },
          "metadata": {},
          "execution_count": 19
        }
      ]
    },
    {
      "cell_type": "markdown",
      "metadata": {
        "id": "SvHtYagP31vo"
      },
      "source": [
        "## Ex5: SMART\n",
        "\n",
        "In many commonly used applications, we need to determine whether atoms in a molecule match a particular pattern. It can be used for filtering structures or identifying substructures that are associated with toxicological problem.\n",
        "\n",
        "SMART us an extension of the SMILES language that can be used to create queries.\n"
      ]
    },
    {
      "cell_type": "markdown",
      "source": [
        "1. Molecules that contain the \"CCC\" pattern"
      ],
      "metadata": {
        "id": "k8tv-Dy0VTML"
      }
    },
    {
      "cell_type": "code",
      "metadata": {
        "id": "mXqKwAO03xQi"
      },
      "source": [
        "smiles_list = [\"CCCCC\",\"CCOCC\",\"CCNCC\",\"CC(=O)NC1=CC=C(O)C=C1\", \"CC(=O)NC1=CC=C(O[13CH3])C=C1\", \"CN(C(=O)C(Cl)Cl)C1=CC=C(O)C=C1\"]"
      ],
      "execution_count": 20,
      "outputs": []
    },
    {
      "cell_type": "code",
      "metadata": {
        "id": "HAd-F-3d36WA",
        "colab": {
          "base_uri": "https://localhost:8080/"
        },
        "outputId": "36e6fc95-1a09-4283-979a-666dabf7461a"
      },
      "source": [
        "pattern = Chem.MolFromSmiles(\"CCC\")\n",
        "\n",
        "mols_list = [Chem.MolFromSmiles(smile) for smile in smiles_list]\n",
        "mols_list_match = [mol for mol in mols_list if mol.GetSubstructMatch(pattern)]\n",
        "len(mols_list_match)"
      ],
      "execution_count": 21,
      "outputs": [
        {
          "output_type": "execute_result",
          "data": {
            "text/plain": [
              "1"
            ]
          },
          "metadata": {},
          "execution_count": 21
        }
      ]
    },
    {
      "cell_type": "markdown",
      "source": [
        "2. Highlighting the pattern \"CCC\""
      ],
      "metadata": {
        "id": "v9P4eZMRVbLw"
      }
    },
    {
      "cell_type": "code",
      "metadata": {
        "id": "kLR_cPK739DY",
        "colab": {
          "base_uri": "https://localhost:8080/",
          "height": 317
        },
        "outputId": "83e589a8-34a6-4e56-8ae9-f7732f0388f1"
      },
      "source": [
        "img = Chem.Draw.MolsToGridImage(mols_list_match,\n",
        "                           molsPerRow=len(mols_list_match),\n",
        "                           subImgSize=(300, 300),\n",
        "                           highlightAtomLists=[mol.GetSubstructMatch(pattern) for mol in mols_list_match])\n",
        "\n",
        "img"
      ],
      "execution_count": 22,
      "outputs": [
        {
          "output_type": "execute_result",
          "data": {
            "image/png": "[encoded data removed]",
            "text/plain": [
              "<IPython.core.display.Image object>"
            ]
          },
          "metadata": {},
          "execution_count": 22
        }
      ]
    },
    {
      "cell_type": "markdown",
      "source": [
        "3. For the pattern \"C(=O)N\"."
      ],
      "metadata": {
        "id": "QjnaiuIeVz8E"
      }
    },
    {
      "cell_type": "code",
      "source": [
        "pattern2 = Chem.MolFromSmiles(\"C(=O)N\")\n",
        "\n",
        "mols_list_match2 = [mol for mol in mols_list if mol.GetSubstructMatch(pattern2)]\n",
        "len(mols_list_match2)"
      ],
      "metadata": {
        "colab": {
          "base_uri": "https://localhost:8080/"
        },
        "id": "9B9ZEYpST_RQ",
        "outputId": "4850f36e-23fc-4a8a-b169-64422f18d55e"
      },
      "execution_count": 23,
      "outputs": [
        {
          "output_type": "execute_result",
          "data": {
            "text/plain": [
              "3"
            ]
          },
          "metadata": {},
          "execution_count": 23
        }
      ]
    },
    {
      "cell_type": "code",
      "source": [
        "img = Chem.Draw.MolsToGridImage(mols_list_match2,\n",
        "                           molsPerRow=len(mols_list_match2),\n",
        "                           subImgSize=(300, 300),\n",
        "                           highlightAtomLists=[mol.GetSubstructMatch(pattern2) for mol in mols_list_match2])\n",
        "\n",
        "img"
      ],
      "metadata": {
        "colab": {
          "base_uri": "https://localhost:8080/",
          "height": 317
        },
        "id": "0FeyNVPrU3RD",
        "outputId": "62468fdf-66e0-4d63-f97a-d2ef98c9d867"
      },
      "execution_count": 24,
      "outputs": [
        {
          "output_type": "execute_result",
          "data": {
            "image/png": "[encoded data removed]",
            "text/plain": [
              "<IPython.core.display.Image object>"
            ]
          },
          "metadata": {},
          "execution_count": 24
        }
      ]
    },
    {
      "cell_type": "markdown",
      "metadata": {
        "id": "UxbRPmkS4LSq"
      },
      "source": [
        "## Ex6: Machine learning with RDkit - Predict solubility\n",
        "\n",
        "In this exercise, we will use machine learning to predict solubility of molecules. For this purpose, we will borrow a dataset from rdkit that is originated from the Huuskonen dataset. We will try to predict Aqueous Solubility for molecules that is known as \"logS\".\n",
        "\n",
        "\n",
        "This exercise is divided into 3 parts: Preparing a dataset, training a model and preparing dataset for prediction and applying a predictive model.\n",
        "\n"
      ]
    },
    {
      "cell_type": "markdown",
      "metadata": {
        "id": "FpqVGPg_4QaQ"
      },
      "source": [
        "## EX6.I Preparing dataset\n",
        "\n",
        "Preparing dataset requires a few steps:\n",
        "\n",
        "\n",
        "\n",
        "\n",
        "\n",
        "\n",
        "\n",
        "\n",
        "\n",
        "\n",
        "\n",
        "\n",
        "\n",
        "\n",
        "\n",
        "\n",
        "\n",
        "\n"
      ]
    },
    {
      "cell_type": "markdown",
      "source": [
        "1. Download file from \"https://raw.githubusercontent.com/rdkit/rdkit/master/Docs/Book/data/solubility.train.sdf\"."
      ],
      "metadata": {
        "id": "-zMqhaEv9Gi_"
      }
    },
    {
      "cell_type": "code",
      "metadata": {
        "colab": {
          "base_uri": "https://localhost:8080/"
        },
        "id": "uAuDoU7u3_k4",
        "outputId": "c4928f79-2533-42c8-e929-f5b6270efde3"
      },
      "source": [
        "!wget https://raw.githubusercontent.com/rdkit/rdkit/master/Docs/Book/data/solubility.train.sdf"
      ],
      "execution_count": 25,
      "outputs": [
        {
          "output_type": "stream",
          "name": "stdout",
          "text": [
            "--2023-09-23 09:50:49--  https://raw.githubusercontent.com/rdkit/rdkit/master/Docs/Book/data/solubility.train.sdf\n",
            "Resolving raw.githubusercontent.com (raw.githubusercontent.com)... 185.199.108.133, 185.199.109.133, 185.199.110.133, ...\n",
            "Connecting to raw.githubusercontent.com (raw.githubusercontent.com)|185.199.108.133|:443... connected.\n",
            "HTTP request sent, awaiting response... 200 OK\n",
            "Length: 1376487 (1.3M) [text/plain]\n",
            "Saving to: ‘solubility.train.sdf.4’\n",
            "\n",
            "solubility.train.sd 100%[===================>]   1.31M  --.-KB/s    in 0.09s   \n",
            "\n",
            "2023-09-23 09:50:49 (15.3 MB/s) - ‘solubility.train.sdf.4’ saved [1376487/1376487]\n",
            "\n"
          ]
        }
      ]
    },
    {
      "cell_type": "markdown",
      "source": [
        "2. With the help of rdkit.Chem.SDMolSupplier, get list of molecules contained in this file. You should call this list as **molecule_list**. The option **removeHs=False** should be chosen."
      ],
      "metadata": {
        "id": "_q7pX8X_9N3e"
      }
    },
    {
      "cell_type": "code",
      "metadata": {
        "id": "IVzIr6ax4lzk"
      },
      "source": [
        "sdf_path = 'solubility.train.sdf'\n",
        "molecule_list = Chem.SDMolSupplier(sdf_path, removeHs=False)"
      ],
      "execution_count": 26,
      "outputs": []
    },
    {
      "cell_type": "code",
      "metadata": {
        "id": "lnKz9r0a4xQo",
        "colab": {
          "base_uri": "https://localhost:8080/"
        },
        "outputId": "0554b9cf-6d31-4d6c-feea-6061b5ae389b"
      },
      "source": [
        "len(molecule_list)"
      ],
      "execution_count": 27,
      "outputs": [
        {
          "output_type": "execute_result",
          "data": {
            "text/plain": [
              "1025"
            ]
          },
          "metadata": {},
          "execution_count": 27
        }
      ]
    },
    {
      "cell_type": "markdown",
      "source": [
        "3. Write a function named **calculate_descriptors(mol)** that allows us to calculate descriptors of a molecule. This function takes a Rdkit molecule as input and returns an array vector of descriptors."
      ],
      "metadata": {
        "id": "bHLDdPx19U0-"
      }
    },
    {
      "cell_type": "code",
      "metadata": {
        "id": "v7vbkPlh46Uj"
      },
      "source": [
        "descriptors = [desc_name for desc_name, _ in Chem.Descriptors.descList]\n",
        "\n",
        "def calculate_descriptors(mol, descriptors=descriptors):\n",
        "  calculator = MoleculeDescriptors.MolecularDescriptorCalculator(descriptors)\n",
        "  return calculator.CalcDescriptors(mol)"
      ],
      "execution_count": 28,
      "outputs": []
    },
    {
      "cell_type": "code",
      "metadata": {
        "id": "a9s7O4ki4_dZ",
        "colab": {
          "base_uri": "https://localhost:8080/",
          "height": 273
        },
        "outputId": "a7ad5216-90f5-4d07-8394-d76c2dad72c4"
      },
      "source": [
        "compute_descr = list(map(calculate_descriptors, molecule_list))\n",
        "df = pd.DataFrame(compute_descr, columns=descriptors)\n",
        "print(df.shape)\n",
        "df.head()"
      ],
      "execution_count": 29,
      "outputs": [
        {
          "output_type": "stream",
          "name": "stdout",
          "text": [
            "(1025, 208)\n"
          ]
        },
        {
          "output_type": "execute_result",
          "data": {
            "text/plain": [
              "   MaxEStateIndex  MinEStateIndex  MaxAbsEStateIndex  MinAbsEStateIndex  \\\n",
              "0        2.211806        1.343750           2.211806           1.343750   \n",
              "1        1.500000        1.500000           1.500000           1.500000   \n",
              "2        2.231806        1.355000           2.231806           1.355000   \n",
              "3        2.253472        0.898148           2.253472           0.898148   \n",
              "4        2.243056        0.541667           2.243056           0.541667   \n",
              "\n",
              "        qed   MolWt  HeavyAtomMolWt  ExactMolWt  NumValenceElectrons  \\\n",
              "0  0.468786  72.151          60.055    72.09390                   32   \n",
              "1  0.408362  70.135          60.055    70.07825                   30   \n",
              "2  0.462954  86.178          72.066    86.10955                   38   \n",
              "3  0.483890  86.178          72.066    86.10955                   38   \n",
              "4  0.424482  86.178          72.066    86.10955                   38   \n",
              "\n",
              "   NumRadicalElectrons  ...  fr_sulfide  fr_sulfonamd  fr_sulfone  \\\n",
              "0                    0  ...           0             0           0   \n",
              "1                    0  ...           0             0           0   \n",
              "2                    0  ...           0             0           0   \n",
              "3                    0  ...           0             0           0   \n",
              "4                    0  ...           0             0           0   \n",
              "\n",
              "   fr_term_acetylene  fr_tetrazole  fr_thiazole  fr_thiocyan  fr_thiophene  \\\n",
              "0                  0             0            0            0             0   \n",
              "1                  0             0            0            0             0   \n",
              "2                  0             0            0            0             0   \n",
              "3                  0             0            0            0             0   \n",
              "4                  0             0            0            0             0   \n",
              "\n",
              "   fr_unbrch_alkane  fr_urea  \n",
              "0                 0        0  \n",
              "1                 0        0  \n",
              "2                 1        0  \n",
              "3                 0        0  \n",
              "4                 0        0  \n",
              "\n",
              "[5 rows x 208 columns]"
            ],
            "text/html": [
              "\n",
              "  <div id=\"df-51fefc32-671c-4e77-9116-da04a92eb627\" class=\"colab-df-container\">\n",
              "    <div>\n",
              "<style scoped>\n",
              "    .dataframe tbody tr th:only-of-type {\n",
              "        vertical-align: middle;\n",
              "    }\n",
              "\n",
              "    .dataframe tbody tr th {\n",
              "        vertical-align: top;\n",
              "    }\n",
              "\n",
              "    .dataframe thead th {\n",
              "        text-align: right;\n",
              "    }\n",
              "</style>\n",
              "<table border=\"1\" class=\"dataframe\">\n",
              "  <thead>\n",
              "    <tr style=\"text-align: right;\">\n",
              "      <th></th>\n",
              "      <th>MaxEStateIndex</th>\n",
              "      <th>MinEStateIndex</th>\n",
              "      <th>MaxAbsEStateIndex</th>\n",
              "      <th>MinAbsEStateIndex</th>\n",
              "      <th>qed</th>\n",
              "      <th>MolWt</th>\n",
              "      <th>HeavyAtomMolWt</th>\n",
              "      <th>ExactMolWt</th>\n",
              "      <th>NumValenceElectrons</th>\n",
              "      <th>NumRadicalElectrons</th>\n",
              "      <th>...</th>\n",
              "      <th>fr_sulfide</th>\n",
              "      <th>fr_sulfonamd</th>\n",
              "      <th>fr_sulfone</th>\n",
              "      <th>fr_term_acetylene</th>\n",
              "      <th>fr_tetrazole</th>\n",
              "      <th>fr_thiazole</th>\n",
              "      <th>fr_thiocyan</th>\n",
              "      <th>fr_thiophene</th>\n",
              "      <th>fr_unbrch_alkane</th>\n",
              "      <th>fr_urea</th>\n",
              "    </tr>\n",
              "  </thead>\n",
              "  <tbody>\n",
              "    <tr>\n",
              "      <th>0</th>\n",
              "      <td>2.211806</td>\n",
              "      <td>1.343750</td>\n",
              "      <td>2.211806</td>\n",
              "      <td>1.343750</td>\n",
              "      <td>0.468786</td>\n",
              "      <td>72.151</td>\n",
              "      <td>60.055</td>\n",
              "      <td>72.09390</td>\n",
              "      <td>32</td>\n",
              "      <td>0</td>\n",
              "      <td>...</td>\n",
              "      <td>0</td>\n",
              "      <td>0</td>\n",
              "      <td>0</td>\n",
              "      <td>0</td>\n",
              "      <td>0</td>\n",
              "      <td>0</td>\n",
              "      <td>0</td>\n",
              "      <td>0</td>\n",
              "      <td>0</td>\n",
              "      <td>0</td>\n",
              "    </tr>\n",
              "    <tr>\n",
              "      <th>1</th>\n",
              "      <td>1.500000</td>\n",
              "      <td>1.500000</td>\n",
              "      <td>1.500000</td>\n",
              "      <td>1.500000</td>\n",
              "      <td>0.408362</td>\n",
              "      <td>70.135</td>\n",
              "      <td>60.055</td>\n",
              "      <td>70.07825</td>\n",
              "      <td>30</td>\n",
              "      <td>0</td>\n",
              "      <td>...</td>\n",
              "      <td>0</td>\n",
              "      <td>0</td>\n",
              "      <td>0</td>\n",
              "      <td>0</td>\n",
              "      <td>0</td>\n",
              "      <td>0</td>\n",
              "      <td>0</td>\n",
              "      <td>0</td>\n",
              "      <td>0</td>\n",
              "      <td>0</td>\n",
              "    </tr>\n",
              "    <tr>\n",
              "      <th>2</th>\n",
              "      <td>2.231806</td>\n",
              "      <td>1.355000</td>\n",
              "      <td>2.231806</td>\n",
              "      <td>1.355000</td>\n",
              "      <td>0.462954</td>\n",
              "      <td>86.178</td>\n",
              "      <td>72.066</td>\n",
              "      <td>86.10955</td>\n",
              "      <td>38</td>\n",
              "      <td>0</td>\n",
              "      <td>...</td>\n",
              "      <td>0</td>\n",
              "      <td>0</td>\n",
              "      <td>0</td>\n",
              "      <td>0</td>\n",
              "      <td>0</td>\n",
              "      <td>0</td>\n",
              "      <td>0</td>\n",
              "      <td>0</td>\n",
              "      <td>1</td>\n",
              "      <td>0</td>\n",
              "    </tr>\n",
              "    <tr>\n",
              "      <th>3</th>\n",
              "      <td>2.253472</td>\n",
              "      <td>0.898148</td>\n",
              "      <td>2.253472</td>\n",
              "      <td>0.898148</td>\n",
              "      <td>0.483890</td>\n",
              "      <td>86.178</td>\n",
              "      <td>72.066</td>\n",
              "      <td>86.10955</td>\n",
              "      <td>38</td>\n",
              "      <td>0</td>\n",
              "      <td>...</td>\n",
              "      <td>0</td>\n",
              "      <td>0</td>\n",
              "      <td>0</td>\n",
              "      <td>0</td>\n",
              "      <td>0</td>\n",
              "      <td>0</td>\n",
              "      <td>0</td>\n",
              "      <td>0</td>\n",
              "      <td>0</td>\n",
              "      <td>0</td>\n",
              "    </tr>\n",
              "    <tr>\n",
              "      <th>4</th>\n",
              "      <td>2.243056</td>\n",
              "      <td>0.541667</td>\n",
              "      <td>2.243056</td>\n",
              "      <td>0.541667</td>\n",
              "      <td>0.424482</td>\n",
              "      <td>86.178</td>\n",
              "      <td>72.066</td>\n",
              "      <td>86.10955</td>\n",
              "      <td>38</td>\n",
              "      <td>0</td>\n",
              "      <td>...</td>\n",
              "      <td>0</td>\n",
              "      <td>0</td>\n",
              "      <td>0</td>\n",
              "      <td>0</td>\n",
              "      <td>0</td>\n",
              "      <td>0</td>\n",
              "      <td>0</td>\n",
              "      <td>0</td>\n",
              "      <td>0</td>\n",
              "      <td>0</td>\n",
              "    </tr>\n",
              "  </tbody>\n",
              "</table>\n",
              "<p>5 rows × 208 columns</p>\n",
              "</div>\n",
              "    <div class=\"colab-df-buttons\">\n",
              "\n",
              "  <div class=\"colab-df-container\">\n",
              "    <button class=\"colab-df-convert\" onclick=\"convertToInteractive('df-51fefc32-671c-4e77-9116-da04a92eb627')\"\n",
              "            title=\"Convert this dataframe to an interactive table.\"\n",
              "            style=\"display:none;\">\n",
              "\n",
              "  <svg xmlns=\"http://www.w3.org/2000/svg\" height=\"24px\" viewBox=\"0 -960 960 960\">\n",
              "    <path d=\"M120-120v-720h720v720H120Zm60-500h600v-160H180v160Zm220 220h160v-160H400v160Zm0 220h160v-160H400v160ZM180-400h160v-160H180v160Zm440 0h160v-160H620v160ZM180-180h160v-160H180v160Zm440 0h160v-160H620v160Z\"/>\n",
              "  </svg>\n",
              "    </button>\n",
              "\n",
              "  <style>\n",
              "    .colab-df-container {\n",
              "      display:flex;\n",
              "      gap: 12px;\n",
              "    }\n",
              "\n",
              "    .colab-df-convert {\n",
              "      background-color: #E8F0FE;\n",
              "      border: none;\n",
              "      border-radius: 50%;\n",
              "      cursor: pointer;\n",
              "      display: none;\n",
              "      fill: #1967D2;\n",
              "      height: 32px;\n",
              "      padding: 0 0 0 0;\n",
              "      width: 32px;\n",
              "    }\n",
              "\n",
              "    .colab-df-convert:hover {\n",
              "      background-color: #E2EBFA;\n",
              "      box-shadow: 0px 1px 2px rgba(60, 64, 67, 0.3), 0px 1px 3px 1px rgba(60, 64, 67, 0.15);\n",
              "      fill: #174EA6;\n",
              "    }\n",
              "\n",
              "    .colab-df-buttons div {\n",
              "      margin-bottom: 4px;\n",
              "    }\n",
              "\n",
              "    [theme=dark] .colab-df-convert {\n",
              "      background-color: #3B4455;\n",
              "      fill: #D2E3FC;\n",
              "    }\n",
              "\n",
              "    [theme=dark] .colab-df-convert:hover {\n",
              "      background-color: #434B5C;\n",
              "      box-shadow: 0px 1px 3px 1px rgba(0, 0, 0, 0.15);\n",
              "      filter: drop-shadow(0px 1px 2px rgba(0, 0, 0, 0.3));\n",
              "      fill: #FFFFFF;\n",
              "    }\n",
              "  </style>\n",
              "\n",
              "    <script>\n",
              "      const buttonEl =\n",
              "        document.querySelector('#df-51fefc32-671c-4e77-9116-da04a92eb627 button.colab-df-convert');\n",
              "      buttonEl.style.display =\n",
              "        google.colab.kernel.accessAllowed ? 'block' : 'none';\n",
              "\n",
              "      async function convertToInteractive(key) {\n",
              "        const element = document.querySelector('#df-51fefc32-671c-4e77-9116-da04a92eb627');\n",
              "        const dataTable =\n",
              "          await google.colab.kernel.invokeFunction('convertToInteractive',\n",
              "                                                    [key], {});\n",
              "        if (!dataTable) return;\n",
              "\n",
              "        const docLinkHtml = 'Like what you see? Visit the ' +\n",
              "          '<a target=\"_blank\" href=https://colab.research.google.com/notebooks/data_table.ipynb>data table notebook</a>'\n",
              "          + ' to learn more about interactive tables.';\n",
              "        element.innerHTML = '';\n",
              "        dataTable['output_type'] = 'display_data';\n",
              "        await google.colab.output.renderOutput(dataTable, element);\n",
              "        const docLink = document.createElement('div');\n",
              "        docLink.innerHTML = docLinkHtml;\n",
              "        element.appendChild(docLink);\n",
              "      }\n",
              "    </script>\n",
              "  </div>\n",
              "\n",
              "\n",
              "<div id=\"df-9c563f65-baaa-4750-a9ce-d76d4b1f77ad\">\n",
              "  <button class=\"colab-df-quickchart\" onclick=\"quickchart('df-9c563f65-baaa-4750-a9ce-d76d4b1f77ad')\"\n",
              "            title=\"Suggest charts.\"\n",
              "            style=\"display:none;\">\n",
              "\n",
              "<svg xmlns=\"http://www.w3.org/2000/svg\" height=\"24px\"viewBox=\"0 0 24 24\"\n",
              "     width=\"24px\">\n",
              "    <g>\n",
              "        <path d=\"M19 3H5c-1.1 0-2 .9-2 2v14c0 1.1.9 2 2 2h14c1.1 0 2-.9 2-2V5c0-1.1-.9-2-2-2zM9 17H7v-7h2v7zm4 0h-2V7h2v10zm4 0h-2v-4h2v4z\"/>\n",
              "    </g>\n",
              "</svg>\n",
              "  </button>\n",
              "\n",
              "<style>\n",
              "  .colab-df-quickchart {\n",
              "      --bg-color: #E8F0FE;\n",
              "      --fill-color: #1967D2;\n",
              "      --hover-bg-color: #E2EBFA;\n",
              "      --hover-fill-color: #174EA6;\n",
              "      --disabled-fill-color: #AAA;\n",
              "      --disabled-bg-color: #DDD;\n",
              "  }\n",
              "\n",
              "  [theme=dark] .colab-df-quickchart {\n",
              "      --bg-color: #3B4455;\n",
              "      --fill-color: #D2E3FC;\n",
              "      --hover-bg-color: #434B5C;\n",
              "      --hover-fill-color: #FFFFFF;\n",
              "      --disabled-bg-color: #3B4455;\n",
              "      --disabled-fill-color: #666;\n",
              "  }\n",
              "\n",
              "  .colab-df-quickchart {\n",
              "    background-color: var(--bg-color);\n",
              "    border: none;\n",
              "    border-radius: 50%;\n",
              "    cursor: pointer;\n",
              "    display: none;\n",
              "    fill: var(--fill-color);\n",
              "    height: 32px;\n",
              "    padding: 0;\n",
              "    width: 32px;\n",
              "  }\n",
              "\n",
              "  .colab-df-quickchart:hover {\n",
              "    background-color: var(--hover-bg-color);\n",
              "    box-shadow: 0 1px 2px rgba(60, 64, 67, 0.3), 0 1px 3px 1px rgba(60, 64, 67, 0.15);\n",
              "    fill: var(--button-hover-fill-color);\n",
              "  }\n",
              "\n",
              "  .colab-df-quickchart-complete:disabled,\n",
              "  .colab-df-quickchart-complete:disabled:hover {\n",
              "    background-color: var(--disabled-bg-color);\n",
              "    fill: var(--disabled-fill-color);\n",
              "    box-shadow: none;\n",
              "  }\n",
              "\n",
              "  .colab-df-spinner {\n",
              "    border: 2px solid var(--fill-color);\n",
              "    border-color: transparent;\n",
              "    border-bottom-color: var(--fill-color);\n",
              "    animation:\n",
              "      spin 1s steps(1) infinite;\n",
              "  }\n",
              "\n",
              "  @keyframes spin {\n",
              "    0% {\n",
              "      border-color: transparent;\n",
              "      border-bottom-color: var(--fill-color);\n",
              "      border-left-color: var(--fill-color);\n",
              "    }\n",
              "    20% {\n",
              "      border-color: transparent;\n",
              "      border-left-color: var(--fill-color);\n",
              "      border-top-color: var(--fill-color);\n",
              "    }\n",
              "    30% {\n",
              "      border-color: transparent;\n",
              "      border-left-color: var(--fill-color);\n",
              "      border-top-color: var(--fill-color);\n",
              "      border-right-color: var(--fill-color);\n",
              "    }\n",
              "    40% {\n",
              "      border-color: transparent;\n",
              "      border-right-color: var(--fill-color);\n",
              "      border-top-color: var(--fill-color);\n",
              "    }\n",
              "    60% {\n",
              "      border-color: transparent;\n",
              "      border-right-color: var(--fill-color);\n",
              "    }\n",
              "    80% {\n",
              "      border-color: transparent;\n",
              "      border-right-color: var(--fill-color);\n",
              "      border-bottom-color: var(--fill-color);\n",
              "    }\n",
              "    90% {\n",
              "      border-color: transparent;\n",
              "      border-bottom-color: var(--fill-color);\n",
              "    }\n",
              "  }\n",
              "</style>\n",
              "\n",
              "  <script>\n",
              "    async function quickchart(key) {\n",
              "      const quickchartButtonEl =\n",
              "        document.querySelector('#' + key + ' button');\n",
              "      quickchartButtonEl.disabled = true;  // To prevent multiple clicks.\n",
              "      quickchartButtonEl.classList.add('colab-df-spinner');\n",
              "      try {\n",
              "        const charts = await google.colab.kernel.invokeFunction(\n",
              "            'suggestCharts', [key], {});\n",
              "      } catch (error) {\n",
              "        console.error('Error during call to suggestCharts:', error);\n",
              "      }\n",
              "      quickchartButtonEl.classList.remove('colab-df-spinner');\n",
              "      quickchartButtonEl.classList.add('colab-df-quickchart-complete');\n",
              "    }\n",
              "    (() => {\n",
              "      let quickchartButtonEl =\n",
              "        document.querySelector('#df-9c563f65-baaa-4750-a9ce-d76d4b1f77ad button');\n",
              "      quickchartButtonEl.style.display =\n",
              "        google.colab.kernel.accessAllowed ? 'block' : 'none';\n",
              "    })();\n",
              "  </script>\n",
              "</div>\n",
              "    </div>\n",
              "  </div>\n"
            ]
          },
          "metadata": {},
          "execution_count": 29
        }
      ]
    },
    {
      "cell_type": "markdown",
      "source": [
        "4-5. Apply the function **caluclate_descriptors** to the list of molecules **molecule_list** and store the result in a dataframe named **df**. Look at few rows of **df** to see whether the descriptors are calculated. <br>\n",
        "For each molecule from this dataset, we can get the aqueous solubility (logS) via attribute **getProp('SOL')**. Create a list that contains the aqueous solubility of all molecules from the **molecule_list** list. You should call this list by **labels**. Remember to convert these values to float format."
      ],
      "metadata": {
        "id": "b7RyaAnH9aks"
      }
    },
    {
      "cell_type": "code",
      "metadata": {
        "id": "38SxXEj75DG6",
        "colab": {
          "base_uri": "https://localhost:8080/",
          "height": 206
        },
        "outputId": "6637adce-156e-4ea9-dc56-a68c678c4a60"
      },
      "source": [
        "solubitlities = [mol.GetProp('SOL') for mol in molecule_list]\n",
        "df['labels'] = solubitlities\n",
        "df['labels'] = df['labels'].astype(float)\n",
        "df.iloc[:5, -5:]"
      ],
      "execution_count": 30,
      "outputs": [
        {
          "output_type": "execute_result",
          "data": {
            "text/plain": [
              "   fr_thiocyan  fr_thiophene  fr_unbrch_alkane  fr_urea  labels\n",
              "0            0             0                 0        0   -3.18\n",
              "1            0             0                 0        0   -2.64\n",
              "2            0             0                 1        0   -3.84\n",
              "3            0             0                 0        0   -3.74\n",
              "4            0             0                 0        0   -3.55"
            ],
            "text/html": [
              "\n",
              "  <div id=\"df-1fe12e15-7248-448a-b236-bfc70944bfb9\" class=\"colab-df-container\">\n",
              "    <div>\n",
              "<style scoped>\n",
              "    .dataframe tbody tr th:only-of-type {\n",
              "        vertical-align: middle;\n",
              "    }\n",
              "\n",
              "    .dataframe tbody tr th {\n",
              "        vertical-align: top;\n",
              "    }\n",
              "\n",
              "    .dataframe thead th {\n",
              "        text-align: right;\n",
              "    }\n",
              "</style>\n",
              "<table border=\"1\" class=\"dataframe\">\n",
              "  <thead>\n",
              "    <tr style=\"text-align: right;\">\n",
              "      <th></th>\n",
              "      <th>fr_thiocyan</th>\n",
              "      <th>fr_thiophene</th>\n",
              "      <th>fr_unbrch_alkane</th>\n",
              "      <th>fr_urea</th>\n",
              "      <th>labels</th>\n",
              "    </tr>\n",
              "  </thead>\n",
              "  <tbody>\n",
              "    <tr>\n",
              "      <th>0</th>\n",
              "      <td>0</td>\n",
              "      <td>0</td>\n",
              "      <td>0</td>\n",
              "      <td>0</td>\n",
              "      <td>-3.18</td>\n",
              "    </tr>\n",
              "    <tr>\n",
              "      <th>1</th>\n",
              "      <td>0</td>\n",
              "      <td>0</td>\n",
              "      <td>0</td>\n",
              "      <td>0</td>\n",
              "      <td>-2.64</td>\n",
              "    </tr>\n",
              "    <tr>\n",
              "      <th>2</th>\n",
              "      <td>0</td>\n",
              "      <td>0</td>\n",
              "      <td>1</td>\n",
              "      <td>0</td>\n",
              "      <td>-3.84</td>\n",
              "    </tr>\n",
              "    <tr>\n",
              "      <th>3</th>\n",
              "      <td>0</td>\n",
              "      <td>0</td>\n",
              "      <td>0</td>\n",
              "      <td>0</td>\n",
              "      <td>-3.74</td>\n",
              "    </tr>\n",
              "    <tr>\n",
              "      <th>4</th>\n",
              "      <td>0</td>\n",
              "      <td>0</td>\n",
              "      <td>0</td>\n",
              "      <td>0</td>\n",
              "      <td>-3.55</td>\n",
              "    </tr>\n",
              "  </tbody>\n",
              "</table>\n",
              "</div>\n",
              "    <div class=\"colab-df-buttons\">\n",
              "\n",
              "  <div class=\"colab-df-container\">\n",
              "    <button class=\"colab-df-convert\" onclick=\"convertToInteractive('df-1fe12e15-7248-448a-b236-bfc70944bfb9')\"\n",
              "            title=\"Convert this dataframe to an interactive table.\"\n",
              "            style=\"display:none;\">\n",
              "\n",
              "  <svg xmlns=\"http://www.w3.org/2000/svg\" height=\"24px\" viewBox=\"0 -960 960 960\">\n",
              "    <path d=\"M120-120v-720h720v720H120Zm60-500h600v-160H180v160Zm220 220h160v-160H400v160Zm0 220h160v-160H400v160ZM180-400h160v-160H180v160Zm440 0h160v-160H620v160ZM180-180h160v-160H180v160Zm440 0h160v-160H620v160Z\"/>\n",
              "  </svg>\n",
              "    </button>\n",
              "\n",
              "  <style>\n",
              "    .colab-df-container {\n",
              "      display:flex;\n",
              "      gap: 12px;\n",
              "    }\n",
              "\n",
              "    .colab-df-convert {\n",
              "      background-color: #E8F0FE;\n",
              "      border: none;\n",
              "      border-radius: 50%;\n",
              "      cursor: pointer;\n",
              "      display: none;\n",
              "      fill: #1967D2;\n",
              "      height: 32px;\n",
              "      padding: 0 0 0 0;\n",
              "      width: 32px;\n",
              "    }\n",
              "\n",
              "    .colab-df-convert:hover {\n",
              "      background-color: #E2EBFA;\n",
              "      box-shadow: 0px 1px 2px rgba(60, 64, 67, 0.3), 0px 1px 3px 1px rgba(60, 64, 67, 0.15);\n",
              "      fill: #174EA6;\n",
              "    }\n",
              "\n",
              "    .colab-df-buttons div {\n",
              "      margin-bottom: 4px;\n",
              "    }\n",
              "\n",
              "    [theme=dark] .colab-df-convert {\n",
              "      background-color: #3B4455;\n",
              "      fill: #D2E3FC;\n",
              "    }\n",
              "\n",
              "    [theme=dark] .colab-df-convert:hover {\n",
              "      background-color: #434B5C;\n",
              "      box-shadow: 0px 1px 3px 1px rgba(0, 0, 0, 0.15);\n",
              "      filter: drop-shadow(0px 1px 2px rgba(0, 0, 0, 0.3));\n",
              "      fill: #FFFFFF;\n",
              "    }\n",
              "  </style>\n",
              "\n",
              "    <script>\n",
              "      const buttonEl =\n",
              "        document.querySelector('#df-1fe12e15-7248-448a-b236-bfc70944bfb9 button.colab-df-convert');\n",
              "      buttonEl.style.display =\n",
              "        google.colab.kernel.accessAllowed ? 'block' : 'none';\n",
              "\n",
              "      async function convertToInteractive(key) {\n",
              "        const element = document.querySelector('#df-1fe12e15-7248-448a-b236-bfc70944bfb9');\n",
              "        const dataTable =\n",
              "          await google.colab.kernel.invokeFunction('convertToInteractive',\n",
              "                                                    [key], {});\n",
              "        if (!dataTable) return;\n",
              "\n",
              "        const docLinkHtml = 'Like what you see? Visit the ' +\n",
              "          '<a target=\"_blank\" href=https://colab.research.google.com/notebooks/data_table.ipynb>data table notebook</a>'\n",
              "          + ' to learn more about interactive tables.';\n",
              "        element.innerHTML = '';\n",
              "        dataTable['output_type'] = 'display_data';\n",
              "        await google.colab.output.renderOutput(dataTable, element);\n",
              "        const docLink = document.createElement('div');\n",
              "        docLink.innerHTML = docLinkHtml;\n",
              "        element.appendChild(docLink);\n",
              "      }\n",
              "    </script>\n",
              "  </div>\n",
              "\n",
              "\n",
              "<div id=\"df-6813c259-c1ab-4036-a9c5-4f5472aad80d\">\n",
              "  <button class=\"colab-df-quickchart\" onclick=\"quickchart('df-6813c259-c1ab-4036-a9c5-4f5472aad80d')\"\n",
              "            title=\"Suggest charts.\"\n",
              "            style=\"display:none;\">\n",
              "\n",
              "<svg xmlns=\"http://www.w3.org/2000/svg\" height=\"24px\"viewBox=\"0 0 24 24\"\n",
              "     width=\"24px\">\n",
              "    <g>\n",
              "        <path d=\"M19 3H5c-1.1 0-2 .9-2 2v14c0 1.1.9 2 2 2h14c1.1 0 2-.9 2-2V5c0-1.1-.9-2-2-2zM9 17H7v-7h2v7zm4 0h-2V7h2v10zm4 0h-2v-4h2v4z\"/>\n",
              "    </g>\n",
              "</svg>\n",
              "  </button>\n",
              "\n",
              "<style>\n",
              "  .colab-df-quickchart {\n",
              "      --bg-color: #E8F0FE;\n",
              "      --fill-color: #1967D2;\n",
              "      --hover-bg-color: #E2EBFA;\n",
              "      --hover-fill-color: #174EA6;\n",
              "      --disabled-fill-color: #AAA;\n",
              "      --disabled-bg-color: #DDD;\n",
              "  }\n",
              "\n",
              "  [theme=dark] .colab-df-quickchart {\n",
              "      --bg-color: #3B4455;\n",
              "      --fill-color: #D2E3FC;\n",
              "      --hover-bg-color: #434B5C;\n",
              "      --hover-fill-color: #FFFFFF;\n",
              "      --disabled-bg-color: #3B4455;\n",
              "      --disabled-fill-color: #666;\n",
              "  }\n",
              "\n",
              "  .colab-df-quickchart {\n",
              "    background-color: var(--bg-color);\n",
              "    border: none;\n",
              "    border-radius: 50%;\n",
              "    cursor: pointer;\n",
              "    display: none;\n",
              "    fill: var(--fill-color);\n",
              "    height: 32px;\n",
              "    padding: 0;\n",
              "    width: 32px;\n",
              "  }\n",
              "\n",
              "  .colab-df-quickchart:hover {\n",
              "    background-color: var(--hover-bg-color);\n",
              "    box-shadow: 0 1px 2px rgba(60, 64, 67, 0.3), 0 1px 3px 1px rgba(60, 64, 67, 0.15);\n",
              "    fill: var(--button-hover-fill-color);\n",
              "  }\n",
              "\n",
              "  .colab-df-quickchart-complete:disabled,\n",
              "  .colab-df-quickchart-complete:disabled:hover {\n",
              "    background-color: var(--disabled-bg-color);\n",
              "    fill: var(--disabled-fill-color);\n",
              "    box-shadow: none;\n",
              "  }\n",
              "\n",
              "  .colab-df-spinner {\n",
              "    border: 2px solid var(--fill-color);\n",
              "    border-color: transparent;\n",
              "    border-bottom-color: var(--fill-color);\n",
              "    animation:\n",
              "      spin 1s steps(1) infinite;\n",
              "  }\n",
              "\n",
              "  @keyframes spin {\n",
              "    0% {\n",
              "      border-color: transparent;\n",
              "      border-bottom-color: var(--fill-color);\n",
              "      border-left-color: var(--fill-color);\n",
              "    }\n",
              "    20% {\n",
              "      border-color: transparent;\n",
              "      border-left-color: var(--fill-color);\n",
              "      border-top-color: var(--fill-color);\n",
              "    }\n",
              "    30% {\n",
              "      border-color: transparent;\n",
              "      border-left-color: var(--fill-color);\n",
              "      border-top-color: var(--fill-color);\n",
              "      border-right-color: var(--fill-color);\n",
              "    }\n",
              "    40% {\n",
              "      border-color: transparent;\n",
              "      border-right-color: var(--fill-color);\n",
              "      border-top-color: var(--fill-color);\n",
              "    }\n",
              "    60% {\n",
              "      border-color: transparent;\n",
              "      border-right-color: var(--fill-color);\n",
              "    }\n",
              "    80% {\n",
              "      border-color: transparent;\n",
              "      border-right-color: var(--fill-color);\n",
              "      border-bottom-color: var(--fill-color);\n",
              "    }\n",
              "    90% {\n",
              "      border-color: transparent;\n",
              "      border-bottom-color: var(--fill-color);\n",
              "    }\n",
              "  }\n",
              "</style>\n",
              "\n",
              "  <script>\n",
              "    async function quickchart(key) {\n",
              "      const quickchartButtonEl =\n",
              "        document.querySelector('#' + key + ' button');\n",
              "      quickchartButtonEl.disabled = true;  // To prevent multiple clicks.\n",
              "      quickchartButtonEl.classList.add('colab-df-spinner');\n",
              "      try {\n",
              "        const charts = await google.colab.kernel.invokeFunction(\n",
              "            'suggestCharts', [key], {});\n",
              "      } catch (error) {\n",
              "        console.error('Error during call to suggestCharts:', error);\n",
              "      }\n",
              "      quickchartButtonEl.classList.remove('colab-df-spinner');\n",
              "      quickchartButtonEl.classList.add('colab-df-quickchart-complete');\n",
              "    }\n",
              "    (() => {\n",
              "      let quickchartButtonEl =\n",
              "        document.querySelector('#df-6813c259-c1ab-4036-a9c5-4f5472aad80d button');\n",
              "      quickchartButtonEl.style.display =\n",
              "        google.colab.kernel.accessAllowed ? 'block' : 'none';\n",
              "    })();\n",
              "  </script>\n",
              "</div>\n",
              "    </div>\n",
              "  </div>\n"
            ]
          },
          "metadata": {},
          "execution_count": 30
        }
      ]
    },
    {
      "cell_type": "code",
      "source": [
        "df['labels'].dtypes"
      ],
      "metadata": {
        "colab": {
          "base_uri": "https://localhost:8080/"
        },
        "id": "DWeF9TLQnifz",
        "outputId": "d848330a-8e8d-4fba-c05c-ecbdba5a6434"
      },
      "execution_count": 31,
      "outputs": [
        {
          "output_type": "execute_result",
          "data": {
            "text/plain": [
              "dtype('float64')"
            ]
          },
          "metadata": {},
          "execution_count": 31
        }
      ]
    },
    {
      "cell_type": "markdown",
      "source": [
        "6. Plot the histogram of the \"labels\" list to see the distribution of the solubility of molecules. Do you have some comments about the aqueous solubility of molecules ?"
      ],
      "metadata": {
        "id": "1agS2Dv193uK"
      }
    },
    {
      "cell_type": "code",
      "source": [
        "plt.title(\"Histogram of Solubility for Train Dataset\")\n",
        "plt.xlabel(\"solubility\")\n",
        "plt.ylabel(\"freq\")\n",
        "plt.hist(df['labels'], bins=10, edgecolor='k', alpha=0.7)"
      ],
      "metadata": {
        "colab": {
          "base_uri": "https://localhost:8080/",
          "height": 543
        },
        "id": "N5XS-9lBn8Le",
        "outputId": "5f7b363c-eca3-4b8c-eebf-5c329b9ac5d4"
      },
      "execution_count": 32,
      "outputs": [
        {
          "output_type": "execute_result",
          "data": {
            "text/plain": [
              "(array([  2.,   3.,  20.,  32.,  62., 166., 236., 289., 159.,  56.]),\n",
              " array([-11.62, -10.3 ,  -8.98,  -7.66,  -6.34,  -5.02,  -3.7 ,  -2.38,\n",
              "         -1.06,   0.26,   1.58]),\n",
              " <BarContainer object of 10 artists>)"
            ]
          },
          "metadata": {},
          "execution_count": 32
        },
        {
          "output_type": "display_data",
          "data": {
            "text/plain": [
              "<Figure size 640x480 with 1 Axes>"
            ],
            "image/png": "[encoded data removed]"
          },
          "metadata": {}
        }
      ]
    },
    {
      "cell_type": "markdown",
      "source": [
        "Molecule solubilty follows a gaussian distribution"
      ],
      "metadata": {
        "id": "Dogbi9ulpFOu"
      }
    },
    {
      "cell_type": "markdown",
      "metadata": {
        "id": "KRtVHEjH5M9m"
      },
      "source": [
        "## Ex6.II Feature Engineering and Training a model of regression.\n",
        "\n",
        "Now, we have the **df** dataframe that contains the descriptors for molecules and the **labels** list that contains the solvant property of molecules.\n",
        "\n",
        "\n",
        "\n",
        "\n",
        "\n",
        "\n",
        "\n",
        "\n",
        "\n"
      ]
    },
    {
      "cell_type": "markdown",
      "source": [
        "1. Check the dataframe **df** to see whether it contains NaN values. How many row contained NaN values are there in the dataframe **df** ? Remove these rows from  **df** and **labels**."
      ],
      "metadata": {
        "id": "Pw9sq9h7-Nbm"
      }
    },
    {
      "cell_type": "code",
      "metadata": {
        "id": "gWvfR-8x5H84",
        "colab": {
          "base_uri": "https://localhost:8080/",
          "height": 130
        },
        "outputId": "373cf8d3-bb4f-4c94-e141-5de3d1ceaae4"
      },
      "source": [
        "df[df.isna().any(axis=1)]"
      ],
      "execution_count": 33,
      "outputs": [
        {
          "output_type": "execute_result",
          "data": {
            "text/plain": [
              "     MaxEStateIndex  MinEStateIndex  MaxAbsEStateIndex  MinAbsEStateIndex  \\\n",
              "985       12.095556       -2.946217          12.095556           0.837269   \n",
              "\n",
              "          qed   MolWt  HeavyAtomMolWt  ExactMolWt  NumValenceElectrons  \\\n",
              "985  0.597671  385.18         350.908   386.16316                  116   \n",
              "\n",
              "     NumRadicalElectrons  ...  fr_sulfonamd  fr_sulfone  fr_term_acetylene  \\\n",
              "985                    0  ...             0           0                  0   \n",
              "\n",
              "     fr_tetrazole  fr_thiazole  fr_thiocyan  fr_thiophene  fr_unbrch_alkane  \\\n",
              "985             0            0            0             0                 0   \n",
              "\n",
              "     fr_urea  labels  \n",
              "985        0   -5.59  \n",
              "\n",
              "[1 rows x 209 columns]"
            ],
            "text/html": [
              "\n",
              "  <div id=\"df-9fcd7566-0745-44a1-82c5-19461f79d849\" class=\"colab-df-container\">\n",
              "    <div>\n",
              "<style scoped>\n",
              "    .dataframe tbody tr th:only-of-type {\n",
              "        vertical-align: middle;\n",
              "    }\n",
              "\n",
              "    .dataframe tbody tr th {\n",
              "        vertical-align: top;\n",
              "    }\n",
              "\n",
              "    .dataframe thead th {\n",
              "        text-align: right;\n",
              "    }\n",
              "</style>\n",
              "<table border=\"1\" class=\"dataframe\">\n",
              "  <thead>\n",
              "    <tr style=\"text-align: right;\">\n",
              "      <th></th>\n",
              "      <th>MaxEStateIndex</th>\n",
              "      <th>MinEStateIndex</th>\n",
              "      <th>MaxAbsEStateIndex</th>\n",
              "      <th>MinAbsEStateIndex</th>\n",
              "      <th>qed</th>\n",
              "      <th>MolWt</th>\n",
              "      <th>HeavyAtomMolWt</th>\n",
              "      <th>ExactMolWt</th>\n",
              "      <th>NumValenceElectrons</th>\n",
              "      <th>NumRadicalElectrons</th>\n",
              "      <th>...</th>\n",
              "      <th>fr_sulfonamd</th>\n",
              "      <th>fr_sulfone</th>\n",
              "      <th>fr_term_acetylene</th>\n",
              "      <th>fr_tetrazole</th>\n",
              "      <th>fr_thiazole</th>\n",
              "      <th>fr_thiocyan</th>\n",
              "      <th>fr_thiophene</th>\n",
              "      <th>fr_unbrch_alkane</th>\n",
              "      <th>fr_urea</th>\n",
              "      <th>labels</th>\n",
              "    </tr>\n",
              "  </thead>\n",
              "  <tbody>\n",
              "    <tr>\n",
              "      <th>985</th>\n",
              "      <td>12.095556</td>\n",
              "      <td>-2.946217</td>\n",
              "      <td>12.095556</td>\n",
              "      <td>0.837269</td>\n",
              "      <td>0.597671</td>\n",
              "      <td>385.18</td>\n",
              "      <td>350.908</td>\n",
              "      <td>386.16316</td>\n",
              "      <td>116</td>\n",
              "      <td>0</td>\n",
              "      <td>...</td>\n",
              "      <td>0</td>\n",
              "      <td>0</td>\n",
              "      <td>0</td>\n",
              "      <td>0</td>\n",
              "      <td>0</td>\n",
              "      <td>0</td>\n",
              "      <td>0</td>\n",
              "      <td>0</td>\n",
              "      <td>0</td>\n",
              "      <td>-5.59</td>\n",
              "    </tr>\n",
              "  </tbody>\n",
              "</table>\n",
              "<p>1 rows × 209 columns</p>\n",
              "</div>\n",
              "    <div class=\"colab-df-buttons\">\n",
              "\n",
              "  <div class=\"colab-df-container\">\n",
              "    <button class=\"colab-df-convert\" onclick=\"convertToInteractive('df-9fcd7566-0745-44a1-82c5-19461f79d849')\"\n",
              "            title=\"Convert this dataframe to an interactive table.\"\n",
              "            style=\"display:none;\">\n",
              "\n",
              "  <svg xmlns=\"http://www.w3.org/2000/svg\" height=\"24px\" viewBox=\"0 -960 960 960\">\n",
              "    <path d=\"M120-120v-720h720v720H120Zm60-500h600v-160H180v160Zm220 220h160v-160H400v160Zm0 220h160v-160H400v160ZM180-400h160v-160H180v160Zm440 0h160v-160H620v160ZM180-180h160v-160H180v160Zm440 0h160v-160H620v160Z\"/>\n",
              "  </svg>\n",
              "    </button>\n",
              "\n",
              "  <style>\n",
              "    .colab-df-container {\n",
              "      display:flex;\n",
              "      gap: 12px;\n",
              "    }\n",
              "\n",
              "    .colab-df-convert {\n",
              "      background-color: #E8F0FE;\n",
              "      border: none;\n",
              "      border-radius: 50%;\n",
              "      cursor: pointer;\n",
              "      display: none;\n",
              "      fill: #1967D2;\n",
              "      height: 32px;\n",
              "      padding: 0 0 0 0;\n",
              "      width: 32px;\n",
              "    }\n",
              "\n",
              "    .colab-df-convert:hover {\n",
              "      background-color: #E2EBFA;\n",
              "      box-shadow: 0px 1px 2px rgba(60, 64, 67, 0.3), 0px 1px 3px 1px rgba(60, 64, 67, 0.15);\n",
              "      fill: #174EA6;\n",
              "    }\n",
              "\n",
              "    .colab-df-buttons div {\n",
              "      margin-bottom: 4px;\n",
              "    }\n",
              "\n",
              "    [theme=dark] .colab-df-convert {\n",
              "      background-color: #3B4455;\n",
              "      fill: #D2E3FC;\n",
              "    }\n",
              "\n",
              "    [theme=dark] .colab-df-convert:hover {\n",
              "      background-color: #434B5C;\n",
              "      box-shadow: 0px 1px 3px 1px rgba(0, 0, 0, 0.15);\n",
              "      filter: drop-shadow(0px 1px 2px rgba(0, 0, 0, 0.3));\n",
              "      fill: #FFFFFF;\n",
              "    }\n",
              "  </style>\n",
              "\n",
              "    <script>\n",
              "      const buttonEl =\n",
              "        document.querySelector('#df-9fcd7566-0745-44a1-82c5-19461f79d849 button.colab-df-convert');\n",
              "      buttonEl.style.display =\n",
              "        google.colab.kernel.accessAllowed ? 'block' : 'none';\n",
              "\n",
              "      async function convertToInteractive(key) {\n",
              "        const element = document.querySelector('#df-9fcd7566-0745-44a1-82c5-19461f79d849');\n",
              "        const dataTable =\n",
              "          await google.colab.kernel.invokeFunction('convertToInteractive',\n",
              "                                                    [key], {});\n",
              "        if (!dataTable) return;\n",
              "\n",
              "        const docLinkHtml = 'Like what you see? Visit the ' +\n",
              "          '<a target=\"_blank\" href=https://colab.research.google.com/notebooks/data_table.ipynb>data table notebook</a>'\n",
              "          + ' to learn more about interactive tables.';\n",
              "        element.innerHTML = '';\n",
              "        dataTable['output_type'] = 'display_data';\n",
              "        await google.colab.output.renderOutput(dataTable, element);\n",
              "        const docLink = document.createElement('div');\n",
              "        docLink.innerHTML = docLinkHtml;\n",
              "        element.appendChild(docLink);\n",
              "      }\n",
              "    </script>\n",
              "  </div>\n",
              "\n",
              "    </div>\n",
              "  </div>\n"
            ]
          },
          "metadata": {},
          "execution_count": 33
        }
      ]
    },
    {
      "cell_type": "code",
      "metadata": {
        "id": "GIogC40t5Tu8",
        "colab": {
          "base_uri": "https://localhost:8080/"
        },
        "outputId": "a48e693f-1e84-461f-880c-98c052680a87"
      },
      "source": [
        "df = df.dropna()\n",
        "df.shape"
      ],
      "execution_count": 34,
      "outputs": [
        {
          "output_type": "execute_result",
          "data": {
            "text/plain": [
              "(1024, 209)"
            ]
          },
          "metadata": {},
          "execution_count": 34
        }
      ]
    },
    {
      "cell_type": "markdown",
      "source": [
        "2. Apply the MinMaxScaler to the dataframe **df** to normalize the data."
      ],
      "metadata": {
        "id": "QSSJKjCu-Cy2"
      }
    },
    {
      "cell_type": "code",
      "metadata": {
        "id": "rdzWDho25bAs",
        "colab": {
          "base_uri": "https://localhost:8080/",
          "height": 255
        },
        "outputId": "08e22d7c-b422-487e-abd2-759726da5789"
      },
      "source": [
        "scaler = MinMaxScaler()\n",
        "df_scaled = scaler.fit_transform(df)\n",
        "df_scaled = pd.DataFrame(df_scaled, columns=np.concatenate((descriptors, ['labels'])))\n",
        "df_scaled.head()"
      ],
      "execution_count": 35,
      "outputs": [
        {
          "output_type": "execute_result",
          "data": {
            "text/plain": [
              "   MaxEStateIndex  MinEStateIndex  MaxAbsEStateIndex  MinAbsEStateIndex  \\\n",
              "0        0.045160        0.913346           0.045160           0.354103   \n",
              "1        0.000000        0.933978           0.000000           0.395291   \n",
              "2        0.046428        0.914831           0.046428           0.357068   \n",
              "3        0.047803        0.854507           0.047803           0.236639   \n",
              "4        0.047142        0.807435           0.047142           0.142668   \n",
              "\n",
              "        qed     MolWt  HeavyAtomMolWt  ExactMolWt  NumValenceElectrons  \\\n",
              "0  0.401233  0.042084        0.033447    0.042052             0.072581   \n",
              "1  0.323502  0.038831        0.033447    0.038797             0.064516   \n",
              "2  0.393731  0.064721        0.053504    0.064685             0.096774   \n",
              "3  0.420664  0.064721        0.053504    0.064685             0.096774   \n",
              "4  0.344239  0.064721        0.053504    0.064685             0.096774   \n",
              "\n",
              "   NumRadicalElectrons  ...  fr_sulfonamd  fr_sulfone  fr_term_acetylene  \\\n",
              "0                  0.0  ...           0.0         0.0                0.0   \n",
              "1                  0.0  ...           0.0         0.0                0.0   \n",
              "2                  0.0  ...           0.0         0.0                0.0   \n",
              "3                  0.0  ...           0.0         0.0                0.0   \n",
              "4                  0.0  ...           0.0         0.0                0.0   \n",
              "\n",
              "   fr_tetrazole  fr_thiazole  fr_thiocyan  fr_thiophene  fr_unbrch_alkane  \\\n",
              "0           0.0          0.0          0.0           0.0          0.000000   \n",
              "1           0.0          0.0          0.0           0.0          0.000000   \n",
              "2           0.0          0.0          0.0           0.0          0.076923   \n",
              "3           0.0          0.0          0.0           0.0          0.000000   \n",
              "4           0.0          0.0          0.0           0.0          0.000000   \n",
              "\n",
              "   fr_urea    labels  \n",
              "0      0.0  0.639394  \n",
              "1      0.0  0.680303  \n",
              "2      0.0  0.589394  \n",
              "3      0.0  0.596970  \n",
              "4      0.0  0.611364  \n",
              "\n",
              "[5 rows x 209 columns]"
            ],
            "text/html": [
              "\n",
              "  <div id=\"df-4235e8d8-d297-4958-af25-2127341a5b7e\" class=\"colab-df-container\">\n",
              "    <div>\n",
              "<style scoped>\n",
              "    .dataframe tbody tr th:only-of-type {\n",
              "        vertical-align: middle;\n",
              "    }\n",
              "\n",
              "    .dataframe tbody tr th {\n",
              "        vertical-align: top;\n",
              "    }\n",
              "\n",
              "    .dataframe thead th {\n",
              "        text-align: right;\n",
              "    }\n",
              "</style>\n",
              "<table border=\"1\" class=\"dataframe\">\n",
              "  <thead>\n",
              "    <tr style=\"text-align: right;\">\n",
              "      <th></th>\n",
              "      <th>MaxEStateIndex</th>\n",
              "      <th>MinEStateIndex</th>\n",
              "      <th>MaxAbsEStateIndex</th>\n",
              "      <th>MinAbsEStateIndex</th>\n",
              "      <th>qed</th>\n",
              "      <th>MolWt</th>\n",
              "      <th>HeavyAtomMolWt</th>\n",
              "      <th>ExactMolWt</th>\n",
              "      <th>NumValenceElectrons</th>\n",
              "      <th>NumRadicalElectrons</th>\n",
              "      <th>...</th>\n",
              "      <th>fr_sulfonamd</th>\n",
              "      <th>fr_sulfone</th>\n",
              "      <th>fr_term_acetylene</th>\n",
              "      <th>fr_tetrazole</th>\n",
              "      <th>fr_thiazole</th>\n",
              "      <th>fr_thiocyan</th>\n",
              "      <th>fr_thiophene</th>\n",
              "      <th>fr_unbrch_alkane</th>\n",
              "      <th>fr_urea</th>\n",
              "      <th>labels</th>\n",
              "    </tr>\n",
              "  </thead>\n",
              "  <tbody>\n",
              "    <tr>\n",
              "      <th>0</th>\n",
              "      <td>0.045160</td>\n",
              "      <td>0.913346</td>\n",
              "      <td>0.045160</td>\n",
              "      <td>0.354103</td>\n",
              "      <td>0.401233</td>\n",
              "      <td>0.042084</td>\n",
              "      <td>0.033447</td>\n",
              "      <td>0.042052</td>\n",
              "      <td>0.072581</td>\n",
              "      <td>0.0</td>\n",
              "      <td>...</td>\n",
              "      <td>0.0</td>\n",
              "      <td>0.0</td>\n",
              "      <td>0.0</td>\n",
              "      <td>0.0</td>\n",
              "      <td>0.0</td>\n",
              "      <td>0.0</td>\n",
              "      <td>0.0</td>\n",
              "      <td>0.000000</td>\n",
              "      <td>0.0</td>\n",
              "      <td>0.639394</td>\n",
              "    </tr>\n",
              "    <tr>\n",
              "      <th>1</th>\n",
              "      <td>0.000000</td>\n",
              "      <td>0.933978</td>\n",
              "      <td>0.000000</td>\n",
              "      <td>0.395291</td>\n",
              "      <td>0.323502</td>\n",
              "      <td>0.038831</td>\n",
              "      <td>0.033447</td>\n",
              "      <td>0.038797</td>\n",
              "      <td>0.064516</td>\n",
              "      <td>0.0</td>\n",
              "      <td>...</td>\n",
              "      <td>0.0</td>\n",
              "      <td>0.0</td>\n",
              "      <td>0.0</td>\n",
              "      <td>0.0</td>\n",
              "      <td>0.0</td>\n",
              "      <td>0.0</td>\n",
              "      <td>0.0</td>\n",
              "      <td>0.000000</td>\n",
              "      <td>0.0</td>\n",
              "      <td>0.680303</td>\n",
              "    </tr>\n",
              "    <tr>\n",
              "      <th>2</th>\n",
              "      <td>0.046428</td>\n",
              "      <td>0.914831</td>\n",
              "      <td>0.046428</td>\n",
              "      <td>0.357068</td>\n",
              "      <td>0.393731</td>\n",
              "      <td>0.064721</td>\n",
              "      <td>0.053504</td>\n",
              "      <td>0.064685</td>\n",
              "      <td>0.096774</td>\n",
              "      <td>0.0</td>\n",
              "      <td>...</td>\n",
              "      <td>0.0</td>\n",
              "      <td>0.0</td>\n",
              "      <td>0.0</td>\n",
              "      <td>0.0</td>\n",
              "      <td>0.0</td>\n",
              "      <td>0.0</td>\n",
              "      <td>0.0</td>\n",
              "      <td>0.076923</td>\n",
              "      <td>0.0</td>\n",
              "      <td>0.589394</td>\n",
              "    </tr>\n",
              "    <tr>\n",
              "      <th>3</th>\n",
              "      <td>0.047803</td>\n",
              "      <td>0.854507</td>\n",
              "      <td>0.047803</td>\n",
              "      <td>0.236639</td>\n",
              "      <td>0.420664</td>\n",
              "      <td>0.064721</td>\n",
              "      <td>0.053504</td>\n",
              "      <td>0.064685</td>\n",
              "      <td>0.096774</td>\n",
              "      <td>0.0</td>\n",
              "      <td>...</td>\n",
              "      <td>0.0</td>\n",
              "      <td>0.0</td>\n",
              "      <td>0.0</td>\n",
              "      <td>0.0</td>\n",
              "      <td>0.0</td>\n",
              "      <td>0.0</td>\n",
              "      <td>0.0</td>\n",
              "      <td>0.000000</td>\n",
              "      <td>0.0</td>\n",
              "      <td>0.596970</td>\n",
              "    </tr>\n",
              "    <tr>\n",
              "      <th>4</th>\n",
              "      <td>0.047142</td>\n",
              "      <td>0.807435</td>\n",
              "      <td>0.047142</td>\n",
              "      <td>0.142668</td>\n",
              "      <td>0.344239</td>\n",
              "      <td>0.064721</td>\n",
              "      <td>0.053504</td>\n",
              "      <td>0.064685</td>\n",
              "      <td>0.096774</td>\n",
              "      <td>0.0</td>\n",
              "      <td>...</td>\n",
              "      <td>0.0</td>\n",
              "      <td>0.0</td>\n",
              "      <td>0.0</td>\n",
              "      <td>0.0</td>\n",
              "      <td>0.0</td>\n",
              "      <td>0.0</td>\n",
              "      <td>0.0</td>\n",
              "      <td>0.000000</td>\n",
              "      <td>0.0</td>\n",
              "      <td>0.611364</td>\n",
              "    </tr>\n",
              "  </tbody>\n",
              "</table>\n",
              "<p>5 rows × 209 columns</p>\n",
              "</div>\n",
              "    <div class=\"colab-df-buttons\">\n",
              "\n",
              "  <div class=\"colab-df-container\">\n",
              "    <button class=\"colab-df-convert\" onclick=\"convertToInteractive('df-4235e8d8-d297-4958-af25-2127341a5b7e')\"\n",
              "            title=\"Convert this dataframe to an interactive table.\"\n",
              "            style=\"display:none;\">\n",
              "\n",
              "  <svg xmlns=\"http://www.w3.org/2000/svg\" height=\"24px\" viewBox=\"0 -960 960 960\">\n",
              "    <path d=\"M120-120v-720h720v720H120Zm60-500h600v-160H180v160Zm220 220h160v-160H400v160Zm0 220h160v-160H400v160ZM180-400h160v-160H180v160Zm440 0h160v-160H620v160ZM180-180h160v-160H180v160Zm440 0h160v-160H620v160Z\"/>\n",
              "  </svg>\n",
              "    </button>\n",
              "\n",
              "  <style>\n",
              "    .colab-df-container {\n",
              "      display:flex;\n",
              "      gap: 12px;\n",
              "    }\n",
              "\n",
              "    .colab-df-convert {\n",
              "      background-color: #E8F0FE;\n",
              "      border: none;\n",
              "      border-radius: 50%;\n",
              "      cursor: pointer;\n",
              "      display: none;\n",
              "      fill: #1967D2;\n",
              "      height: 32px;\n",
              "      padding: 0 0 0 0;\n",
              "      width: 32px;\n",
              "    }\n",
              "\n",
              "    .colab-df-convert:hover {\n",
              "      background-color: #E2EBFA;\n",
              "      box-shadow: 0px 1px 2px rgba(60, 64, 67, 0.3), 0px 1px 3px 1px rgba(60, 64, 67, 0.15);\n",
              "      fill: #174EA6;\n",
              "    }\n",
              "\n",
              "    .colab-df-buttons div {\n",
              "      margin-bottom: 4px;\n",
              "    }\n",
              "\n",
              "    [theme=dark] .colab-df-convert {\n",
              "      background-color: #3B4455;\n",
              "      fill: #D2E3FC;\n",
              "    }\n",
              "\n",
              "    [theme=dark] .colab-df-convert:hover {\n",
              "      background-color: #434B5C;\n",
              "      box-shadow: 0px 1px 3px 1px rgba(0, 0, 0, 0.15);\n",
              "      filter: drop-shadow(0px 1px 2px rgba(0, 0, 0, 0.3));\n",
              "      fill: #FFFFFF;\n",
              "    }\n",
              "  </style>\n",
              "\n",
              "    <script>\n",
              "      const buttonEl =\n",
              "        document.querySelector('#df-4235e8d8-d297-4958-af25-2127341a5b7e button.colab-df-convert');\n",
              "      buttonEl.style.display =\n",
              "        google.colab.kernel.accessAllowed ? 'block' : 'none';\n",
              "\n",
              "      async function convertToInteractive(key) {\n",
              "        const element = document.querySelector('#df-4235e8d8-d297-4958-af25-2127341a5b7e');\n",
              "        const dataTable =\n",
              "          await google.colab.kernel.invokeFunction('convertToInteractive',\n",
              "                                                    [key], {});\n",
              "        if (!dataTable) return;\n",
              "\n",
              "        const docLinkHtml = 'Like what you see? Visit the ' +\n",
              "          '<a target=\"_blank\" href=https://colab.research.google.com/notebooks/data_table.ipynb>data table notebook</a>'\n",
              "          + ' to learn more about interactive tables.';\n",
              "        element.innerHTML = '';\n",
              "        dataTable['output_type'] = 'display_data';\n",
              "        await google.colab.output.renderOutput(dataTable, element);\n",
              "        const docLink = document.createElement('div');\n",
              "        docLink.innerHTML = docLinkHtml;\n",
              "        element.appendChild(docLink);\n",
              "      }\n",
              "    </script>\n",
              "  </div>\n",
              "\n",
              "\n",
              "<div id=\"df-73650291-3ec6-408d-a29b-6a15e3210541\">\n",
              "  <button class=\"colab-df-quickchart\" onclick=\"quickchart('df-73650291-3ec6-408d-a29b-6a15e3210541')\"\n",
              "            title=\"Suggest charts.\"\n",
              "            style=\"display:none;\">\n",
              "\n",
              "<svg xmlns=\"http://www.w3.org/2000/svg\" height=\"24px\"viewBox=\"0 0 24 24\"\n",
              "     width=\"24px\">\n",
              "    <g>\n",
              "        <path d=\"M19 3H5c-1.1 0-2 .9-2 2v14c0 1.1.9 2 2 2h14c1.1 0 2-.9 2-2V5c0-1.1-.9-2-2-2zM9 17H7v-7h2v7zm4 0h-2V7h2v10zm4 0h-2v-4h2v4z\"/>\n",
              "    </g>\n",
              "</svg>\n",
              "  </button>\n",
              "\n",
              "<style>\n",
              "  .colab-df-quickchart {\n",
              "      --bg-color: #E8F0FE;\n",
              "      --fill-color: #1967D2;\n",
              "      --hover-bg-color: #E2EBFA;\n",
              "      --hover-fill-color: #174EA6;\n",
              "      --disabled-fill-color: #AAA;\n",
              "      --disabled-bg-color: #DDD;\n",
              "  }\n",
              "\n",
              "  [theme=dark] .colab-df-quickchart {\n",
              "      --bg-color: #3B4455;\n",
              "      --fill-color: #D2E3FC;\n",
              "      --hover-bg-color: #434B5C;\n",
              "      --hover-fill-color: #FFFFFF;\n",
              "      --disabled-bg-color: #3B4455;\n",
              "      --disabled-fill-color: #666;\n",
              "  }\n",
              "\n",
              "  .colab-df-quickchart {\n",
              "    background-color: var(--bg-color);\n",
              "    border: none;\n",
              "    border-radius: 50%;\n",
              "    cursor: pointer;\n",
              "    display: none;\n",
              "    fill: var(--fill-color);\n",
              "    height: 32px;\n",
              "    padding: 0;\n",
              "    width: 32px;\n",
              "  }\n",
              "\n",
              "  .colab-df-quickchart:hover {\n",
              "    background-color: var(--hover-bg-color);\n",
              "    box-shadow: 0 1px 2px rgba(60, 64, 67, 0.3), 0 1px 3px 1px rgba(60, 64, 67, 0.15);\n",
              "    fill: var(--button-hover-fill-color);\n",
              "  }\n",
              "\n",
              "  .colab-df-quickchart-complete:disabled,\n",
              "  .colab-df-quickchart-complete:disabled:hover {\n",
              "    background-color: var(--disabled-bg-color);\n",
              "    fill: var(--disabled-fill-color);\n",
              "    box-shadow: none;\n",
              "  }\n",
              "\n",
              "  .colab-df-spinner {\n",
              "    border: 2px solid var(--fill-color);\n",
              "    border-color: transparent;\n",
              "    border-bottom-color: var(--fill-color);\n",
              "    animation:\n",
              "      spin 1s steps(1) infinite;\n",
              "  }\n",
              "\n",
              "  @keyframes spin {\n",
              "    0% {\n",
              "      border-color: transparent;\n",
              "      border-bottom-color: var(--fill-color);\n",
              "      border-left-color: var(--fill-color);\n",
              "    }\n",
              "    20% {\n",
              "      border-color: transparent;\n",
              "      border-left-color: var(--fill-color);\n",
              "      border-top-color: var(--fill-color);\n",
              "    }\n",
              "    30% {\n",
              "      border-color: transparent;\n",
              "      border-left-color: var(--fill-color);\n",
              "      border-top-color: var(--fill-color);\n",
              "      border-right-color: var(--fill-color);\n",
              "    }\n",
              "    40% {\n",
              "      border-color: transparent;\n",
              "      border-right-color: var(--fill-color);\n",
              "      border-top-color: var(--fill-color);\n",
              "    }\n",
              "    60% {\n",
              "      border-color: transparent;\n",
              "      border-right-color: var(--fill-color);\n",
              "    }\n",
              "    80% {\n",
              "      border-color: transparent;\n",
              "      border-right-color: var(--fill-color);\n",
              "      border-bottom-color: var(--fill-color);\n",
              "    }\n",
              "    90% {\n",
              "      border-color: transparent;\n",
              "      border-bottom-color: var(--fill-color);\n",
              "    }\n",
              "  }\n",
              "</style>\n",
              "\n",
              "  <script>\n",
              "    async function quickchart(key) {\n",
              "      const quickchartButtonEl =\n",
              "        document.querySelector('#' + key + ' button');\n",
              "      quickchartButtonEl.disabled = true;  // To prevent multiple clicks.\n",
              "      quickchartButtonEl.classList.add('colab-df-spinner');\n",
              "      try {\n",
              "        const charts = await google.colab.kernel.invokeFunction(\n",
              "            'suggestCharts', [key], {});\n",
              "      } catch (error) {\n",
              "        console.error('Error during call to suggestCharts:', error);\n",
              "      }\n",
              "      quickchartButtonEl.classList.remove('colab-df-spinner');\n",
              "      quickchartButtonEl.classList.add('colab-df-quickchart-complete');\n",
              "    }\n",
              "    (() => {\n",
              "      let quickchartButtonEl =\n",
              "        document.querySelector('#df-73650291-3ec6-408d-a29b-6a15e3210541 button');\n",
              "      quickchartButtonEl.style.display =\n",
              "        google.colab.kernel.accessAllowed ? 'block' : 'none';\n",
              "    })();\n",
              "  </script>\n",
              "</div>\n",
              "    </div>\n",
              "  </div>\n"
            ]
          },
          "metadata": {},
          "execution_count": 35
        }
      ]
    },
    {
      "cell_type": "markdown",
      "source": [
        "3. Construct and train a regression model."
      ],
      "metadata": {
        "id": "X6rltV8f-HSy"
      }
    },
    {
      "cell_type": "markdown",
      "source": [
        "### Linear Regression"
      ],
      "metadata": {
        "id": "pwizV3JpTaGE"
      }
    },
    {
      "cell_type": "code",
      "metadata": {
        "id": "dtonURI45dvL"
      },
      "source": [
        "X = df_scaled.iloc[:, :-1]\n",
        "Y = df_scaled['labels']\n",
        "\n",
        "x_train, x_test, y_train, y_test = train_test_split(X, Y, test_size=0.25, random_state=42)"
      ],
      "execution_count": 36,
      "outputs": []
    },
    {
      "cell_type": "code",
      "source": [
        "x_train.shape"
      ],
      "metadata": {
        "colab": {
          "base_uri": "https://localhost:8080/"
        },
        "id": "LncPQY7JyFuu",
        "outputId": "7f3f7c1f-73c7-4e3c-befa-69fb38b788ae"
      },
      "execution_count": 37,
      "outputs": [
        {
          "output_type": "execute_result",
          "data": {
            "text/plain": [
              "(768, 208)"
            ]
          },
          "metadata": {},
          "execution_count": 37
        }
      ]
    },
    {
      "cell_type": "code",
      "metadata": {
        "id": "6IN4BUGK5mjK"
      },
      "source": [
        "from sklearn.linear_model import LinearRegression\n",
        "\n",
        "clf = LinearRegression().fit(x_train, y_train)\n"
      ],
      "execution_count": 38,
      "outputs": []
    },
    {
      "cell_type": "code",
      "source": [
        "#R2 score\n",
        "clf.score(x_test, y_test)"
      ],
      "metadata": {
        "colab": {
          "base_uri": "https://localhost:8080/"
        },
        "id": "2PpYnFdJ02MD",
        "outputId": "f2049d97-910e-4f85-97be-0895fbe725bb"
      },
      "execution_count": 39,
      "outputs": [
        {
          "output_type": "execute_result",
          "data": {
            "text/plain": [
              "0.8927939057264365"
            ]
          },
          "metadata": {},
          "execution_count": 39
        }
      ]
    },
    {
      "cell_type": "code",
      "metadata": {
        "id": "WJR3jwY45nZ5",
        "colab": {
          "base_uri": "https://localhost:8080/"
        },
        "outputId": "d166baab-c565-471a-fc70-0b2a243045aa"
      },
      "source": [
        "def rmse(x, y):\n",
        "  mse = mean_squared_error(x, y)\n",
        "  return np.sqrt(mse)\n",
        "\n",
        "x_predicted = clf.predict(x_test)\n",
        "rmse(x_predicted, y_test)"
      ],
      "execution_count": 40,
      "outputs": [
        {
          "output_type": "execute_result",
          "data": {
            "text/plain": [
              "0.05123719146154711"
            ]
          },
          "metadata": {},
          "execution_count": 40
        }
      ]
    },
    {
      "cell_type": "markdown",
      "source": [
        "### XGBoost\n"
      ],
      "metadata": {
        "id": "H9h3LSeFQLkc"
      }
    },
    {
      "cell_type": "code",
      "source": [
        "import xgboost as xgb\n",
        "from sklearn.model_selection import GridSearchCV"
      ],
      "metadata": {
        "id": "s4zGh-R1QLIl"
      },
      "execution_count": 41,
      "outputs": []
    },
    {
      "cell_type": "code",
      "source": [
        "xgb = xgb.XGBRegressor()\n",
        "param_grid = {\n",
        "    'n_estimators': [50, 100, 150],\n",
        "    'learning_rate': [0.01, 0.05, 0.1],\n",
        "    'max_depth': [3, 4, 5],\n",
        "}\n",
        "grid_search = GridSearchCV(xgb, param_grid, cv=3, scoring='neg_mean_squared_error', n_jobs=-1)\n",
        "grid_search.fit(x_train, y_train)"
      ],
      "metadata": {
        "colab": {
          "base_uri": "https://localhost:8080/",
          "height": 116
        },
        "id": "n9kUhd14QUGw",
        "outputId": "178ff16b-55f2-435c-ebbe-82f9e9b7bf7b"
      },
      "execution_count": 42,
      "outputs": [
        {
          "output_type": "execute_result",
          "data": {
            "text/plain": [
              "GridSearchCV(cv=3,\n",
              "             estimator=XGBRegressor(base_score=None, booster=None,\n",
              "                                    callbacks=None, colsample_bylevel=None,\n",
              "                                    colsample_bynode=None,\n",
              "                                    colsample_bytree=None,\n",
              "                                    early_stopping_rounds=None,\n",
              "                                    enable_categorical=False, eval_metric=None,\n",
              "                                    feature_types=None, gamma=None, gpu_id=None,\n",
              "                                    grow_policy=None, importance_type=None,\n",
              "                                    interaction_constraints=None,\n",
              "                                    learning_rate=None, m...\n",
              "                                    max_cat_to_onehot=None, max_delta_step=None,\n",
              "                                    max_depth=None, max_leaves=None,\n",
              "                                    min_child_weight=None, missing=nan,\n",
              "                                    monotone_constraints=None, n_estimators=100,\n",
              "                                    n_jobs=None, num_parallel_tree=None,\n",
              "                                    predictor=None, random_state=None, ...),\n",
              "             n_jobs=-1,\n",
              "             param_grid={'learning_rate': [0.01, 0.05, 0.1],\n",
              "                         'max_depth': [3, 4, 5],\n",
              "                         'n_estimators': [50, 100, 150]},\n",
              "             scoring='neg_mean_squared_error')"
            ],
            "text/html": [
              "<style>#sk-container-id-1 {color: black;background-color: white;}#sk-container-id-1 pre{padding: 0;}#sk-container-id-1 div.sk-toggleable {background-color: white;}#sk-container-id-1 label.sk-toggleable__label {cursor: pointer;display: block;width: 100%;margin-bottom: 0;padding: 0.3em;box-sizing: border-box;text-align: center;}#sk-container-id-1 label.sk-toggleable__label-arrow:before {content: \"▸\";float: left;margin-right: 0.25em;color: #696969;}#sk-container-id-1 label.sk-toggleable__label-arrow:hover:before {color: black;}#sk-container-id-1 div.sk-estimator:hover label.sk-toggleable__label-arrow:before {color: black;}#sk-container-id-1 div.sk-toggleable__content {max-height: 0;max-width: 0;overflow: hidden;text-align: left;background-color: #f0f8ff;}#sk-container-id-1 div.sk-toggleable__content pre {margin: 0.2em;color: black;border-radius: 0.25em;background-color: #f0f8ff;}#sk-container-id-1 input.sk-toggleable__control:checked~div.sk-toggleable__content {max-height: 200px;max-width: 100%;overflow: auto;}#sk-container-id-1 input.sk-toggleable__control:checked~label.sk-toggleable__label-arrow:before {content: \"▾\";}#sk-container-id-1 div.sk-estimator input.sk-toggleable__control:checked~label.sk-toggleable__label {background-color: #d4ebff;}#sk-container-id-1 div.sk-label input.sk-toggleable__control:checked~label.sk-toggleable__label {background-color: #d4ebff;}#sk-container-id-1 input.sk-hidden--visually {border: 0;clip: rect(1px 1px 1px 1px);clip: rect(1px, 1px, 1px, 1px);height: 1px;margin: -1px;overflow: hidden;padding: 0;position: absolute;width: 1px;}#sk-container-id-1 div.sk-estimator {font-family: monospace;background-color: #f0f8ff;border: 1px dotted black;border-radius: 0.25em;box-sizing: border-box;margin-bottom: 0.5em;}#sk-container-id-1 div.sk-estimator:hover {background-color: #d4ebff;}#sk-container-id-1 div.sk-parallel-item::after {content: \"\";width: 100%;border-bottom: 1px solid gray;flex-grow: 1;}#sk-container-id-1 div.sk-label:hover label.sk-toggleable__label {background-color: #d4ebff;}#sk-container-id-1 div.sk-serial::before {content: \"\";position: absolute;border-left: 1px solid gray;box-sizing: border-box;top: 0;bottom: 0;left: 50%;z-index: 0;}#sk-container-id-1 div.sk-serial {display: flex;flex-direction: column;align-items: center;background-color: white;padding-right: 0.2em;padding-left: 0.2em;position: relative;}#sk-container-id-1 div.sk-item {position: relative;z-index: 1;}#sk-container-id-1 div.sk-parallel {display: flex;align-items: stretch;justify-content: center;background-color: white;position: relative;}#sk-container-id-1 div.sk-item::before, #sk-container-id-1 div.sk-parallel-item::before {content: \"\";position: absolute;border-left: 1px solid gray;box-sizing: border-box;top: 0;bottom: 0;left: 50%;z-index: -1;}#sk-container-id-1 div.sk-parallel-item {display: flex;flex-direction: column;z-index: 1;position: relative;background-color: white;}#sk-container-id-1 div.sk-parallel-item:first-child::after {align-self: flex-end;width: 50%;}#sk-container-id-1 div.sk-parallel-item:last-child::after {align-self: flex-start;width: 50%;}#sk-container-id-1 div.sk-parallel-item:only-child::after {width: 0;}#sk-container-id-1 div.sk-dashed-wrapped {border: 1px dashed gray;margin: 0 0.4em 0.5em 0.4em;box-sizing: border-box;padding-bottom: 0.4em;background-color: white;}#sk-container-id-1 div.sk-label label {font-family: monospace;font-weight: bold;display: inline-block;line-height: 1.2em;}#sk-container-id-1 div.sk-label-container {text-align: center;}#sk-container-id-1 div.sk-container {/* jupyter's `normalize.less` sets `[hidden] { display: none; }` but bootstrap.min.css set `[hidden] { display: none !important; }` so we also need the `!important` here to be able to override the default hidden behavior on the sphinx rendered scikit-learn.org. See: https://github.com/scikit-learn/scikit-learn/issues/21755 */display: inline-block !important;position: relative;}#sk-container-id-1 div.sk-text-repr-fallback {display: none;}</style><div id=\"sk-container-id-1\" class=\"sk-top-container\"><div class=\"sk-text-repr-fallback\"><pre>GridSearchCV(cv=3,\n",
              "             estimator=XGBRegressor(base_score=None, booster=None,\n",
              "                                    callbacks=None, colsample_bylevel=None,\n",
              "                                    colsample_bynode=None,\n",
              "                                    colsample_bytree=None,\n",
              "                                    early_stopping_rounds=None,\n",
              "                                    enable_categorical=False, eval_metric=None,\n",
              "                                    feature_types=None, gamma=None, gpu_id=None,\n",
              "                                    grow_policy=None, importance_type=None,\n",
              "                                    interaction_constraints=None,\n",
              "                                    learning_rate=None, m...\n",
              "                                    max_cat_to_onehot=None, max_delta_step=None,\n",
              "                                    max_depth=None, max_leaves=None,\n",
              "                                    min_child_weight=None, missing=nan,\n",
              "                                    monotone_constraints=None, n_estimators=100,\n",
              "                                    n_jobs=None, num_parallel_tree=None,\n",
              "                                    predictor=None, random_state=None, ...),\n",
              "             n_jobs=-1,\n",
              "             param_grid={&#x27;learning_rate&#x27;: [0.01, 0.05, 0.1],\n",
              "                         &#x27;max_depth&#x27;: [3, 4, 5],\n",
              "                         &#x27;n_estimators&#x27;: [50, 100, 150]},\n",
              "             scoring=&#x27;neg_mean_squared_error&#x27;)</pre><b>In a Jupyter environment, please rerun this cell to show the HTML representation or trust the notebook. <br />On GitHub, the HTML representation is unable to render, please try loading this page with nbviewer.org.</b></div><div class=\"sk-container\" hidden><div class=\"sk-item sk-dashed-wrapped\"><div class=\"sk-label-container\"><div class=\"sk-label sk-toggleable\"><input class=\"sk-toggleable__control sk-hidden--visually\" id=\"sk-estimator-id-1\" type=\"checkbox\" ><label for=\"sk-estimator-id-1\" class=\"sk-toggleable__label sk-toggleable__label-arrow\">GridSearchCV</label><div class=\"sk-toggleable__content\"><pre>GridSearchCV(cv=3,\n",
              "             estimator=XGBRegressor(base_score=None, booster=None,\n",
              "                                    callbacks=None, colsample_bylevel=None,\n",
              "                                    colsample_bynode=None,\n",
              "                                    colsample_bytree=None,\n",
              "                                    early_stopping_rounds=None,\n",
              "                                    enable_categorical=False, eval_metric=None,\n",
              "                                    feature_types=None, gamma=None, gpu_id=None,\n",
              "                                    grow_policy=None, importance_type=None,\n",
              "                                    interaction_constraints=None,\n",
              "                                    learning_rate=None, m...\n",
              "                                    max_cat_to_onehot=None, max_delta_step=None,\n",
              "                                    max_depth=None, max_leaves=None,\n",
              "                                    min_child_weight=None, missing=nan,\n",
              "                                    monotone_constraints=None, n_estimators=100,\n",
              "                                    n_jobs=None, num_parallel_tree=None,\n",
              "                                    predictor=None, random_state=None, ...),\n",
              "             n_jobs=-1,\n",
              "             param_grid={&#x27;learning_rate&#x27;: [0.01, 0.05, 0.1],\n",
              "                         &#x27;max_depth&#x27;: [3, 4, 5],\n",
              "                         &#x27;n_estimators&#x27;: [50, 100, 150]},\n",
              "             scoring=&#x27;neg_mean_squared_error&#x27;)</pre></div></div></div><div class=\"sk-parallel\"><div class=\"sk-parallel-item\"><div class=\"sk-item\"><div class=\"sk-label-container\"><div class=\"sk-label sk-toggleable\"><input class=\"sk-toggleable__control sk-hidden--visually\" id=\"sk-estimator-id-2\" type=\"checkbox\" ><label for=\"sk-estimator-id-2\" class=\"sk-toggleable__label sk-toggleable__label-arrow\">estimator: XGBRegressor</label><div class=\"sk-toggleable__content\"><pre>XGBRegressor(base_score=None, booster=None, callbacks=None,\n",
              "             colsample_bylevel=None, colsample_bynode=None,\n",
              "             colsample_bytree=None, early_stopping_rounds=None,\n",
              "             enable_categorical=False, eval_metric=None, feature_types=None,\n",
              "             gamma=None, gpu_id=None, grow_policy=None, importance_type=None,\n",
              "             interaction_constraints=None, learning_rate=None, max_bin=None,\n",
              "             max_cat_threshold=None, max_cat_to_onehot=None,\n",
              "             max_delta_step=None, max_depth=None, max_leaves=None,\n",
              "             min_child_weight=None, missing=nan, monotone_constraints=None,\n",
              "             n_estimators=100, n_jobs=None, num_parallel_tree=None,\n",
              "             predictor=None, random_state=None, ...)</pre></div></div></div><div class=\"sk-serial\"><div class=\"sk-item\"><div class=\"sk-estimator sk-toggleable\"><input class=\"sk-toggleable__control sk-hidden--visually\" id=\"sk-estimator-id-3\" type=\"checkbox\" ><label for=\"sk-estimator-id-3\" class=\"sk-toggleable__label sk-toggleable__label-arrow\">XGBRegressor</label><div class=\"sk-toggleable__content\"><pre>XGBRegressor(base_score=None, booster=None, callbacks=None,\n",
              "             colsample_bylevel=None, colsample_bynode=None,\n",
              "             colsample_bytree=None, early_stopping_rounds=None,\n",
              "             enable_categorical=False, eval_metric=None, feature_types=None,\n",
              "             gamma=None, gpu_id=None, grow_policy=None, importance_type=None,\n",
              "             interaction_constraints=None, learning_rate=None, max_bin=None,\n",
              "             max_cat_threshold=None, max_cat_to_onehot=None,\n",
              "             max_delta_step=None, max_depth=None, max_leaves=None,\n",
              "             min_child_weight=None, missing=nan, monotone_constraints=None,\n",
              "             n_estimators=100, n_jobs=None, num_parallel_tree=None,\n",
              "             predictor=None, random_state=None, ...)</pre></div></div></div></div></div></div></div></div></div></div>"
            ]
          },
          "metadata": {},
          "execution_count": 42
        }
      ]
    },
    {
      "cell_type": "code",
      "source": [
        "print(\"Meilleurs paramètres trouvés: \", grid_search.best_params_)"
      ],
      "metadata": {
        "colab": {
          "base_uri": "https://localhost:8080/"
        },
        "id": "IA7YPWcbQz3K",
        "outputId": "a11f3837-58ec-4b68-fd33-21fc63b2b1ef"
      },
      "execution_count": 43,
      "outputs": [
        {
          "output_type": "stream",
          "name": "stdout",
          "text": [
            "Meilleurs paramètres trouvés:  {'learning_rate': 0.1, 'max_depth': 3, 'n_estimators': 150}\n"
          ]
        }
      ]
    },
    {
      "cell_type": "code",
      "source": [
        "best_model = grid_search.best_estimator_\n",
        "y_pred = best_model.predict(x_test)\n",
        "\n",
        "def compute_metrics(y_test, y_pred):\n",
        "  mse = mean_squared_error(y_test, y_pred)\n",
        "  rmse_ = rmse(y_test, y_pred)\n",
        "  r2 = r2_score(y_test, y_pred)\n",
        "\n",
        "  print(\"MSE: \", mse)\n",
        "  print(\"RMSE: \", rmse_)\n",
        "  print(\"R2: \", r2)\n",
        "  return mse, rmse_, r2\n",
        "\n",
        "compute_metrics(y_test, y_pred)"
      ],
      "metadata": {
        "colab": {
          "base_uri": "https://localhost:8080/"
        },
        "id": "I9K4PMVCRjYg",
        "outputId": "67053835-6862-4922-a922-07db7d3fa2b4"
      },
      "execution_count": 44,
      "outputs": [
        {
          "output_type": "stream",
          "name": "stdout",
          "text": [
            "MSE:  0.0021133252774719388\n",
            "RMSE:  0.0459709177358027\n",
            "R2:  0.9136991268838003\n"
          ]
        },
        {
          "output_type": "execute_result",
          "data": {
            "text/plain": [
              "(0.0021133252774719388, 0.0459709177358027, 0.9136991268838003)"
            ]
          },
          "metadata": {},
          "execution_count": 44
        }
      ]
    },
    {
      "cell_type": "markdown",
      "metadata": {
        "id": "kESW-Pem5zPX"
      },
      "source": [
        "## Ex6.III Prepare data for test  and test model\n",
        "\n",
        "\n",
        "\n",
        "\n",
        "\n",
        "\n",
        "\n",
        "\n",
        "\n",
        "\n",
        "\n",
        "\n",
        "\n",
        "\n",
        "\n",
        "\n",
        "Note: If there exists problem of reading the file solubility.test.sdf as\n",
        "\"RDKit ERROR: [09:28:36] ERROR: moving to the beginning of the next molecule\n",
        "RDKit ERROR: [09:32:48] ERROR: Counts line too short: '' on line4\"\n",
        "so, go to the url, click \"raw\" and save this file by hand. The error will be gone away\n"
      ]
    },
    {
      "cell_type": "markdown",
      "source": [
        "1. Download file from \"https://github.com/rdkit/rdkit/blob/master/Docs/Book/data/solubility.test.sdf\"."
      ],
      "metadata": {
        "id": "5pgVId4J-pXn"
      }
    },
    {
      "cell_type": "code",
      "metadata": {
        "id": "SMo-oKP-Rhv-",
        "colab": {
          "base_uri": "https://localhost:8080/"
        },
        "outputId": "b0f0d44e-df57-4f05-fec2-34237febf960"
      },
      "source": [
        "# 1. Download the file\n",
        "!wget https://github.com/rdkit/rdkit/blob/master/Docs/Book/data/solubility.test.sdf"
      ],
      "execution_count": 45,
      "outputs": [
        {
          "output_type": "stream",
          "name": "stdout",
          "text": [
            "--2023-09-23 09:52:03--  https://github.com/rdkit/rdkit/blob/master/Docs/Book/data/solubility.test.sdf\n",
            "Resolving github.com (github.com)... 140.82.112.3\n",
            "Connecting to github.com (github.com)|140.82.112.3|:443... connected.\n",
            "HTTP request sent, awaiting response... 200 OK\n",
            "Length: 327929 (320K) [text/plain]\n",
            "Saving to: ‘solubility.test.sdf.2’\n",
            "\n",
            "solubility.test.sdf 100%[===================>] 320.24K  --.-KB/s    in 0.1s    \n",
            "\n",
            "2023-09-23 09:52:04 (2.49 MB/s) - ‘solubility.test.sdf.2’ saved [327929/327929]\n",
            "\n"
          ]
        }
      ]
    },
    {
      "cell_type": "markdown",
      "source": [
        "2. Read molecules from this file and store them in a list named **list_molecule_test**."
      ],
      "metadata": {
        "id": "_SGxyDtJ-smk"
      }
    },
    {
      "cell_type": "code",
      "metadata": {
        "id": "NPY8dEJs5v1x"
      },
      "source": [
        "sdf_test_path = 'solubility.test.sdf'\n",
        "list_molecule_test = Chem.SDMolSupplier(sdf_test_path, removeHs=False)\n"
      ],
      "execution_count": 46,
      "outputs": []
    },
    {
      "cell_type": "markdown",
      "source": [
        "3. Take a molecule from the **list_molecule_test** and then calculate its descriptions thank to the **calculate_descriptors(mol)** function that you've coded above."
      ],
      "metadata": {
        "id": "h9W9nIq7-5Ao"
      }
    },
    {
      "cell_type": "code",
      "source": [
        "descriptors = [desc_name for desc_name, _ in Chem.Descriptors.descList]\n",
        "compute_descr_test = list(map(calculate_descriptors, list_molecule_test))"
      ],
      "metadata": {
        "id": "nzS4GfEAxzUQ"
      },
      "execution_count": 47,
      "outputs": []
    },
    {
      "cell_type": "code",
      "metadata": {
        "id": "Ni3z7j7G561j"
      },
      "source": [
        "df_test = pd.DataFrame(compute_descr_test, columns=descriptors)\n",
        "df_test = df_test.dropna()\n",
        "\n",
        "solubitlities_test = [mol.GetProp('SOL') for mol in list_molecule_test]\n",
        "df_test['labels'] = solubitlities_test\n",
        "df_test['labels'] = df_test['labels'].astype(float)\n"
      ],
      "execution_count": 48,
      "outputs": []
    },
    {
      "cell_type": "code",
      "source": [
        "plt.title(\"Histogram of Solubility for Test Dataset\")\n",
        "plt.xlabel(\"solubility\")\n",
        "plt.ylabel(\"freq\")\n",
        "plt.hist(df_test['labels'], bins=10, edgecolor='k', alpha=0.7)"
      ],
      "metadata": {
        "colab": {
          "base_uri": "https://localhost:8080/",
          "height": 543
        },
        "id": "2zEiJVvsC9jp",
        "outputId": "9c25efb1-4c74-48ec-d2ae-45f77a2ba503"
      },
      "execution_count": 49,
      "outputs": [
        {
          "output_type": "execute_result",
          "data": {
            "text/plain": [
              "(array([ 2., 10.,  9., 15., 30., 36., 69., 48., 24., 14.]),\n",
              " array([-9.15 , -8.122, -7.094, -6.066, -5.038, -4.01 , -2.982, -1.954,\n",
              "        -0.926,  0.102,  1.13 ]),\n",
              " <BarContainer object of 10 artists>)"
            ]
          },
          "metadata": {},
          "execution_count": 49
        },
        {
          "output_type": "display_data",
          "data": {
            "text/plain": [
              "<Figure size 640x480 with 1 Axes>"
            ],
            "image/png": "[encoded data removed]"
          },
          "metadata": {}
        }
      ]
    },
    {
      "cell_type": "markdown",
      "source": [
        "\n",
        "4. Apply **minmaxscaler** to these descriptors. Note that **minmaxscaler**  is one that you've created at Ex6.II."
      ],
      "metadata": {
        "id": "1E3uS_s9_BHv"
      }
    },
    {
      "cell_type": "code",
      "source": [
        "test_scaled = scaler.transform(df_test)\n",
        "test_scaled.shape"
      ],
      "metadata": {
        "colab": {
          "base_uri": "https://localhost:8080/"
        },
        "id": "SZQlnYeJ_al-",
        "outputId": "23a05eb3-f17f-4a83-ed3d-4853c6242dbf"
      },
      "execution_count": 50,
      "outputs": [
        {
          "output_type": "execute_result",
          "data": {
            "text/plain": [
              "(257, 209)"
            ]
          },
          "metadata": {},
          "execution_count": 50
        }
      ]
    },
    {
      "cell_type": "code",
      "source": [
        "test_scaled_x = test_scaled[:, :-1]\n",
        "test_scaled_y = test_scaled[:, -1]\n",
        "test_scaled_x.shape, test_scaled_y.shape"
      ],
      "metadata": {
        "colab": {
          "base_uri": "https://localhost:8080/"
        },
        "id": "sIlVH9WBDjGE",
        "outputId": "569a297a-11f4-4f74-8f0c-e6bbb8e028df"
      },
      "execution_count": 51,
      "outputs": [
        {
          "output_type": "execute_result",
          "data": {
            "text/plain": [
              "((257, 208), (257,))"
            ]
          },
          "metadata": {},
          "execution_count": 51
        }
      ]
    },
    {
      "cell_type": "markdown",
      "source": [
        "5. Use the model that you've trained to predict the aqueous solubility (logS) of the molecule. Compare to the real logS value of the molecule."
      ],
      "metadata": {
        "id": "yucqGTi0_LBR"
      }
    },
    {
      "cell_type": "markdown",
      "source": [
        "##### Linear Regression"
      ],
      "metadata": {
        "id": "7c8WDYKmVpL3"
      }
    },
    {
      "cell_type": "code",
      "metadata": {
        "id": "Ed3NApbv5_Yp",
        "colab": {
          "base_uri": "https://localhost:8080/"
        },
        "outputId": "931af3b3-a238-45ba-ffa7-5acca501dd35"
      },
      "source": [
        "y_predicted = clf.predict(test_scaled_x)\n",
        "real_y = test_scaled_y\n",
        "compute_metrics(real_y, y_predicted)"
      ],
      "execution_count": 52,
      "outputs": [
        {
          "output_type": "stream",
          "name": "stdout",
          "text": [
            "MSE:  478949450282892.9\n",
            "RMSE:  21884913.76000584\n",
            "R2:  -2.053926820535729e+16\n"
          ]
        },
        {
          "output_type": "stream",
          "name": "stderr",
          "text": [
            "/usr/local/lib/python3.10/dist-packages/sklearn/base.py:439: UserWarning: X does not have valid feature names, but LinearRegression was fitted with feature names\n",
            "  warnings.warn(\n"
          ]
        },
        {
          "output_type": "execute_result",
          "data": {
            "text/plain": [
              "(478949450282892.9, 21884913.76000584, -2.053926820535729e+16)"
            ]
          },
          "metadata": {},
          "execution_count": 52
        }
      ]
    },
    {
      "cell_type": "markdown",
      "source": [
        "It not generalize well"
      ],
      "metadata": {
        "id": "d-44VECJVzwS"
      }
    },
    {
      "cell_type": "markdown",
      "source": [
        "##### XGBoost"
      ],
      "metadata": {
        "id": "EBgqTL5UV5-Y"
      }
    },
    {
      "cell_type": "code",
      "source": [
        "y_pred = best_model.predict(test_scaled_x)\n",
        "compute_metrics(real_y, y_pred)"
      ],
      "metadata": {
        "colab": {
          "base_uri": "https://localhost:8080/"
        },
        "id": "-8BEg7bZSRwZ",
        "outputId": "28edbfe7-7488-4a3d-b3ae-2bd6824f0943"
      },
      "execution_count": 53,
      "outputs": [
        {
          "output_type": "stream",
          "name": "stdout",
          "text": [
            "MSE:  0.0021705559023626774\n",
            "RMSE:  0.04658922517452589\n",
            "R2:  0.9069178807763197\n"
          ]
        },
        {
          "output_type": "execute_result",
          "data": {
            "text/plain": [
              "(0.0021705559023626774, 0.04658922517452589, 0.9069178807763197)"
            ]
          },
          "metadata": {},
          "execution_count": 53
        }
      ]
    },
    {
      "cell_type": "code",
      "metadata": {
        "id": "vauBuC-R66GF",
        "colab": {
          "base_uri": "https://localhost:8080/",
          "height": 490
        },
        "outputId": "5958caf7-8eab-4315-ed0f-850d77efdff0"
      },
      "source": [
        "residuals = np.array(real_y - y_pred, dtype=\"float\")\n",
        "\n",
        "plt.hist(residuals, bins=10, edgecolor='k', alpha=0.7)\n",
        "plt.title('Histogramme of residuals')\n",
        "plt.xlabel('Residuals')\n",
        "plt.ylabel('Freq')"
      ],
      "execution_count": 54,
      "outputs": [
        {
          "output_type": "execute_result",
          "data": {
            "text/plain": [
              "Text(0, 0.5, 'Freq')"
            ]
          },
          "metadata": {},
          "execution_count": 54
        },
        {
          "output_type": "display_data",
          "data": {
            "text/plain": [
              "<Figure size 640x480 with 1 Axes>"
            ],
            "image/png": "[encoded data removed]"
          },
          "metadata": {}
        }
      ]
    },
    {
      "cell_type": "code",
      "source": [
        "plt.hist(real_y, bins=10, alpha=0.5, label='Valeurs Réelles', color='blue')\n",
        "plt.hist(y_pred, bins=10, alpha=0.5, label='Valeurs Prédites', color='red')\n",
        "\n",
        "plt.title('Histogramme of Real Values vs. Predicted')\n",
        "plt.xlabel('Value')\n",
        "plt.ylabel('Freq')\n",
        "plt.legend(loc='upper right')"
      ],
      "metadata": {
        "colab": {
          "base_uri": "https://localhost:8080/",
          "height": 490
        },
        "id": "MV5BUQ9r8oID",
        "outputId": "5a95a3a1-51d8-4d0e-e384-563adc13ab83"
      },
      "execution_count": 55,
      "outputs": [
        {
          "output_type": "execute_result",
          "data": {
            "text/plain": [
              "<matplotlib.legend.Legend at 0x799480f131f0>"
            ]
          },
          "metadata": {},
          "execution_count": 55
        },
        {
          "output_type": "display_data",
          "data": {
            "text/plain": [
              "<Figure size 640x480 with 1 Axes>"
            ],
            "image/png": "[encoded data removed]"
          },
          "metadata": {}
        }
      ]
    }
  ]
}