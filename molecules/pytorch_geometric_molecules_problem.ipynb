{
  "cells": [
    {
      "cell_type": "markdown",
      "metadata": {
        "id": "view-in-github",
        "colab_type": "text"
      },
      "source": [
        "<a href=\"https://colab.research.google.com/github/Ekliipce/Machine-Learning-for-Biomedical/blob/main/molecules/pytorch_geometric_molecules_problem.ipynb\" target=\"_parent\"><img src=\"https://colab.research.google.com/assets/colab-badge.svg\" alt=\"Open In Colab\"/></a>"
      ]
    },
    {
      "cell_type": "markdown",
      "metadata": {
        "id": "f-5bYlDLL31Y",
        "outputId": "d3ad9389-0dd7-4464-ce61-2f11bd2e915b"
      },
      "source": [
        "##  Pytorch geometric\n",
        "\n",
        "Pytorch geometric is a pytorch package to train Graph Neural Networks.\n",
        "\n",
        "One \"simple\" architecture is the Graph Convolutional Network (kipf et al)\n",
        "\n",
        "references:\n",
        "- http://tkipf.github.io/graph-convolutional-networks/\n",
        "- https://proceedings.neurips.cc/paper/2015/hash/f9be311e65d81a9ad8150a60844bb94c-Abstract.html\n",
        "- https://arxiv.org/abs/1609.02907\n"
      ]
    },
    {
      "cell_type": "markdown",
      "metadata": {
        "id": "UUMvBxxuWXG4"
      },
      "source": [
        "Install pytorch geometric : https://pytorch-geometric.readthedocs.io/en/latest/"
      ]
    },
    {
      "cell_type": "code",
      "execution_count": 11,
      "metadata": {
        "id": "sHrzuqi7Mj2O",
        "colab": {
          "base_uri": "https://localhost:8080/"
        },
        "outputId": "389a6ff0-3af1-41f1-e411-8cc7602f50c5"
      },
      "outputs": [
        {
          "output_type": "stream",
          "name": "stdout",
          "text": [
            "Requirement already satisfied: torch_geometric in /usr/local/lib/python3.10/dist-packages (2.3.1)\n",
            "Requirement already satisfied: tqdm in /usr/local/lib/python3.10/dist-packages (from torch_geometric) (4.66.1)\n",
            "Requirement already satisfied: numpy in /usr/local/lib/python3.10/dist-packages (from torch_geometric) (1.23.5)\n",
            "Requirement already satisfied: scipy in /usr/local/lib/python3.10/dist-packages (from torch_geometric) (1.11.2)\n",
            "Requirement already satisfied: jinja2 in /usr/local/lib/python3.10/dist-packages (from torch_geometric) (3.1.2)\n",
            "Requirement already satisfied: requests in /usr/local/lib/python3.10/dist-packages (from torch_geometric) (2.31.0)\n",
            "Requirement already satisfied: pyparsing in /usr/local/lib/python3.10/dist-packages (from torch_geometric) (3.1.1)\n",
            "Requirement already satisfied: scikit-learn in /usr/local/lib/python3.10/dist-packages (from torch_geometric) (1.2.2)\n",
            "Requirement already satisfied: psutil>=5.8.0 in /usr/local/lib/python3.10/dist-packages (from torch_geometric) (5.9.5)\n",
            "Requirement already satisfied: MarkupSafe>=2.0 in /usr/local/lib/python3.10/dist-packages (from jinja2->torch_geometric) (2.1.3)\n",
            "Requirement already satisfied: charset-normalizer<4,>=2 in /usr/local/lib/python3.10/dist-packages (from requests->torch_geometric) (3.2.0)\n",
            "Requirement already satisfied: idna<4,>=2.5 in /usr/local/lib/python3.10/dist-packages (from requests->torch_geometric) (3.4)\n",
            "Requirement already satisfied: urllib3<3,>=1.21.1 in /usr/local/lib/python3.10/dist-packages (from requests->torch_geometric) (2.0.4)\n",
            "Requirement already satisfied: certifi>=2017.4.17 in /usr/local/lib/python3.10/dist-packages (from requests->torch_geometric) (2023.7.22)\n",
            "Requirement already satisfied: joblib>=1.1.1 in /usr/local/lib/python3.10/dist-packages (from scikit-learn->torch_geometric) (1.3.2)\n",
            "Requirement already satisfied: threadpoolctl>=2.0.0 in /usr/local/lib/python3.10/dist-packages (from scikit-learn->torch_geometric) (3.2.0)\n",
            "Collecting rdkit\n",
            "  Downloading rdkit-2023.3.3-cp310-cp310-manylinux_2_17_x86_64.manylinux2014_x86_64.whl (29.7 MB)\n",
            "\u001b[2K     \u001b[90m━━━━━━━━━━━━━━━━━━━━━━━━━━━━━━━━━━━━━━━━\u001b[0m \u001b[32m29.7/29.7 MB\u001b[0m \u001b[31m47.7 MB/s\u001b[0m eta \u001b[36m0:00:00\u001b[0m\n",
            "\u001b[?25hRequirement already satisfied: numpy in /usr/local/lib/python3.10/dist-packages (from rdkit) (1.23.5)\n",
            "Requirement already satisfied: Pillow in /usr/local/lib/python3.10/dist-packages (from rdkit) (9.4.0)\n",
            "Installing collected packages: rdkit\n",
            "Successfully installed rdkit-2023.3.3\n"
          ]
        }
      ],
      "source": [
        "!pip install torch_geometric\n",
        "!pip install rdkit"
      ]
    },
    {
      "cell_type": "code",
      "source": [
        "import torch\n",
        "import torch_geometric\n",
        "import networkx as nx\n",
        "\n",
        "from rdkit import Chem"
      ],
      "metadata": {
        "id": "dxAW_Rkx7cEL"
      },
      "execution_count": 45,
      "outputs": []
    },
    {
      "cell_type": "markdown",
      "metadata": {
        "id": "Q6bXT9FWWXG6"
      },
      "source": [
        "Simple graphs are manipulated with the torch_geometric.data.Data class : https://pytorch-geometric.readthedocs.io/en/latest/modules/data.html#torch_geometric.data.Data\n",
        "\n",
        "The constructor takes a collection a tensor representing the nodes and a tensor representing the edges.\n",
        "\n",
        "Edges are represented by a 2D tensor (cf example here : https://pytorch-geometric.readthedocs.io/en/latest/notes/introduction.html) where each columns represents an edge.\n",
        "\n",
        "\n",
        "Create a simple undirected Graph with three nodes where node 1 is connected to node 2 and 3.\n",
        "Specify the node values to be 1, 2, 3"
      ]
    },
    {
      "cell_type": "code",
      "execution_count": 3,
      "metadata": {
        "id": "PHn3Y5SkWXG8",
        "colab": {
          "base_uri": "https://localhost:8080/"
        },
        "outputId": "95be3881-6ae3-4915-aeb3-8da4a6780944"
      },
      "outputs": [
        {
          "output_type": "execute_result",
          "data": {
            "text/plain": [
              "Data(x=[3], edge_index=[2, 4])"
            ]
          },
          "metadata": {},
          "execution_count": 3
        }
      ],
      "source": [
        "edges = torch.tensor([[1, 2], [2, 1], [1, 3], [3, 1]])\n",
        "x = [[1], [2], [3]]\n",
        "data = torch_geometric.data.Data(x=x, edge_index=edges.t().contiguous())\n",
        "data"
      ]
    },
    {
      "cell_type": "code",
      "source": [
        "graph = torch_geometric.utils.to_networkx(data)\n",
        "nx.draw_networkx(graph)"
      ],
      "metadata": {
        "colab": {
          "base_uri": "https://localhost:8080/",
          "height": 461
        },
        "id": "a_QkU4a4C9oO",
        "outputId": "4f015da6-18b1-4ac2-e7bb-a224dd5e1a33"
      },
      "execution_count": 4,
      "outputs": [
        {
          "output_type": "stream",
          "name": "stderr",
          "text": [
            "/usr/local/lib/python3.10/dist-packages/torch_geometric/data/storage.py:304: UserWarning: Unable to accurately infer 'num_nodes' from the attribute set '{'x', 'edge_index'}'. Please explicitly set 'num_nodes' as an attribute of 'data' to suppress this warning\n",
            "  warnings.warn(\n"
          ]
        },
        {
          "output_type": "display_data",
          "data": {
            "text/plain": [
              "<Figure size 640x480 with 1 Axes>"
            ],
            "image/png": "[encoded data removed]"
          },
          "metadata": {}
        }
      ]
    },
    {
      "cell_type": "markdown",
      "metadata": {
        "id": "clynGmCNNrCF"
      },
      "source": [
        "# 1. Explore dataset in Pytorch_geometric\n",
        "\n",
        "\n",
        "To better understand molecule and graph, we will load and explore one of the molecule datasets that come from the pytorch_geometric library.\n",
        "\n",
        "1. Load the HIV dataset from the torch_geometric.datasets.MoleculeNet module.\n"
      ]
    },
    {
      "cell_type": "code",
      "execution_count": 12,
      "metadata": {
        "id": "tzbY2RjgOQdo",
        "colab": {
          "base_uri": "https://localhost:8080/"
        },
        "outputId": "21730b38-367e-4ebc-feef-d64b8693994d"
      },
      "outputs": [
        {
          "output_type": "stream",
          "name": "stderr",
          "text": [
            "Processing...\n",
            "Done!\n"
          ]
        }
      ],
      "source": [
        "hiv_data = torch_geometric.datasets.molecule_net.MoleculeNet(root=\"/\", name=\"hiv\")"
      ]
    },
    {
      "cell_type": "code",
      "source": [
        "hiv_data"
      ],
      "metadata": {
        "colab": {
          "base_uri": "https://localhost:8080/"
        },
        "id": "qPTO99LPuVvO",
        "outputId": "f72b7d96-348d-4509-e61f-a987152a1929"
      },
      "execution_count": 43,
      "outputs": [
        {
          "output_type": "execute_result",
          "data": {
            "text/plain": [
              "HIV(41127)"
            ]
          },
          "metadata": {},
          "execution_count": 43
        }
      ]
    },
    {
      "cell_type": "markdown",
      "metadata": {
        "id": "PMJfbFG2WXG9"
      },
      "source": [
        "\n",
        "2. How many graphs are there in this dataset ? Print out the number of features and the number of classes for this dataset."
      ]
    },
    {
      "cell_type": "code",
      "source": [
        "print(f\"Number of graphs : {len(hiv_data)}\")\n",
        "print(f\"Number of features : {hiv_data.num_features}\")\n",
        "print(f\"Number of classes: {hiv_data.num_classes}\")"
      ],
      "metadata": {
        "colab": {
          "base_uri": "https://localhost:8080/"
        },
        "id": "oKXQPvxenM_k",
        "outputId": "55961f99-062b-484d-99f1-e8307d80b438"
      },
      "execution_count": 13,
      "outputs": [
        {
          "output_type": "stream",
          "name": "stdout",
          "text": [
            "Number of graphs : 41127\n",
            "Number of features : 9\n",
            "Number of classes: 2\n"
          ]
        }
      ]
    },
    {
      "cell_type": "markdown",
      "metadata": {
        "id": "38afm3ObWXG-"
      },
      "source": [
        "3. Get the first graph in this dataset. Print out the number of nodes, the number of edges, the number of features and  the adjency matrix of this graph. This graph is undirected or not ?"
      ]
    },
    {
      "cell_type": "code",
      "execution_count": 44,
      "metadata": {
        "id": "61YCHLYEWXG_",
        "colab": {
          "base_uri": "https://localhost:8080/"
        },
        "outputId": "59963ec1-1790-4df6-de66-f4e9efdc8882"
      },
      "outputs": [
        {
          "output_type": "stream",
          "name": "stdout",
          "text": [
            "Data(x=[19, 9], edge_index=[2, 40], edge_attr=[40, 3], smiles='CCC1=[O+][Cu-3]2([O+]=C(CC)C1)[O+]=C(CC)CC(CC)=[O+]2', y=[1, 1])\n",
            "Number of nodes : 19\n",
            "Number of edges : 40\n",
            "Number of features : 9\n"
          ]
        }
      ],
      "source": [
        "graph1 = hiv_data[0]\n",
        "print(graph1)\n",
        "print(f\"Number of nodes : {graph1.num_nodes}\")\n",
        "print(f\"Number of edges : {graph1.num_edges}\")\n",
        "print(f\"Number of features : {graph1.num_features}\")\n"
      ]
    },
    {
      "cell_type": "code",
      "source": [
        "print(f\"Adjacency Matrix :\\n{torch_geometric.utils.to_dense_adj(graph1.edge_index)}\")\n"
      ],
      "metadata": {
        "colab": {
          "base_uri": "https://localhost:8080/"
        },
        "id": "_E5Ypu69tsfS",
        "outputId": "6106755c-9d3c-4719-e673-df8e82f35a41"
      },
      "execution_count": 41,
      "outputs": [
        {
          "output_type": "stream",
          "name": "stdout",
          "text": [
            "Adjacency Matrix :\n",
            "tensor([[[0., 1., 0., 0., 0., 0., 0., 0., 0., 0., 0., 0., 0., 0., 0., 0., 0.,\n",
            "          0., 0.],\n",
            "         [1., 0., 1., 0., 0., 0., 0., 0., 0., 0., 0., 0., 0., 0., 0., 0., 0.,\n",
            "          0., 0.],\n",
            "         [0., 1., 0., 1., 0., 0., 0., 0., 0., 1., 0., 0., 0., 0., 0., 0., 0.,\n",
            "          0., 0.],\n",
            "         [0., 0., 1., 0., 1., 0., 0., 0., 0., 0., 0., 0., 0., 0., 0., 0., 0.,\n",
            "          0., 0.],\n",
            "         [0., 0., 0., 1., 0., 1., 0., 0., 0., 0., 1., 0., 0., 0., 0., 0., 0.,\n",
            "          0., 1.],\n",
            "         [0., 0., 0., 0., 1., 0., 1., 0., 0., 0., 0., 0., 0., 0., 0., 0., 0.,\n",
            "          0., 0.],\n",
            "         [0., 0., 0., 0., 0., 1., 0., 1., 0., 1., 0., 0., 0., 0., 0., 0., 0.,\n",
            "          0., 0.],\n",
            "         [0., 0., 0., 0., 0., 0., 1., 0., 1., 0., 0., 0., 0., 0., 0., 0., 0.,\n",
            "          0., 0.],\n",
            "         [0., 0., 0., 0., 0., 0., 0., 1., 0., 0., 0., 0., 0., 0., 0., 0., 0.,\n",
            "          0., 0.],\n",
            "         [0., 0., 1., 0., 0., 0., 1., 0., 0., 0., 0., 0., 0., 0., 0., 0., 0.,\n",
            "          0., 0.],\n",
            "         [0., 0., 0., 0., 1., 0., 0., 0., 0., 0., 0., 1., 0., 0., 0., 0., 0.,\n",
            "          0., 0.],\n",
            "         [0., 0., 0., 0., 0., 0., 0., 0., 0., 0., 1., 0., 1., 0., 1., 0., 0.,\n",
            "          0., 0.],\n",
            "         [0., 0., 0., 0., 0., 0., 0., 0., 0., 0., 0., 1., 0., 1., 0., 0., 0.,\n",
            "          0., 0.],\n",
            "         [0., 0., 0., 0., 0., 0., 0., 0., 0., 0., 0., 0., 1., 0., 0., 0., 0.,\n",
            "          0., 0.],\n",
            "         [0., 0., 0., 0., 0., 0., 0., 0., 0., 0., 0., 1., 0., 0., 0., 1., 0.,\n",
            "          0., 0.],\n",
            "         [0., 0., 0., 0., 0., 0., 0., 0., 0., 0., 0., 0., 0., 0., 1., 0., 1.,\n",
            "          0., 1.],\n",
            "         [0., 0., 0., 0., 0., 0., 0., 0., 0., 0., 0., 0., 0., 0., 0., 1., 0.,\n",
            "          1., 0.],\n",
            "         [0., 0., 0., 0., 0., 0., 0., 0., 0., 0., 0., 0., 0., 0., 0., 0., 1.,\n",
            "          0., 0.],\n",
            "         [0., 0., 0., 0., 1., 0., 0., 0., 0., 0., 0., 0., 0., 0., 0., 1., 0.,\n",
            "          0., 0.]]])\n"
          ]
        }
      ]
    },
    {
      "cell_type": "code",
      "source": [
        "graph1.is_directed()"
      ],
      "metadata": {
        "colab": {
          "base_uri": "https://localhost:8080/"
        },
        "id": "Xe1SbGwKuGN8",
        "outputId": "54f79b23-a1e6-402d-878a-b30745a0bcb6"
      },
      "execution_count": 42,
      "outputs": [
        {
          "output_type": "execute_result",
          "data": {
            "text/plain": [
              "False"
            ]
          },
          "metadata": {},
          "execution_count": 42
        }
      ]
    },
    {
      "cell_type": "markdown",
      "metadata": {
        "id": "NyQUnzcTWXG_"
      },
      "source": [
        "4. Draw this graph using networkx (it's already installed with pytorch_geometric) and torch_geometric.utils.to_networkx.\n"
      ]
    },
    {
      "cell_type": "code",
      "execution_count": 22,
      "metadata": {
        "id": "SuqnN7yeWXHA",
        "colab": {
          "base_uri": "https://localhost:8080/",
          "height": 406
        },
        "outputId": "dbae2711-87ba-4231-c95d-8e152696f137"
      },
      "outputs": [
        {
          "output_type": "display_data",
          "data": {
            "text/plain": [
              "<Figure size 640x480 with 1 Axes>"
            ],
            "image/png": "[encoded data removed]"
          },
          "metadata": {}
        }
      ],
      "source": [
        "graph1_nx = torch_geometric.utils.to_networkx(graph1)\n",
        "nx.draw_networkx(graph1_nx)"
      ]
    },
    {
      "cell_type": "markdown",
      "metadata": {
        "id": "W0dbGDEOWXHA"
      },
      "source": [
        "5. (Optional) Get the SMILES string of this molecule and draw its structure with Rdkit. The structure of this molecule looks like the graph that you've drawn in 4. ?"
      ]
    },
    {
      "cell_type": "code",
      "execution_count": 47,
      "metadata": {
        "id": "BZ_Ij6KKWXHA",
        "colab": {
          "base_uri": "https://localhost:8080/",
          "height": 317
        },
        "outputId": "43d49d2b-cf00-4a8e-bb81-d721a03ad2a2"
      },
      "outputs": [
        {
          "output_type": "execute_result",
          "data": {
            "text/plain": [
              "<PIL.PngImagePlugin.PngImageFile image mode=RGB size=300x300>"
            ],
            "image/png": "[encoded data removed]"
          },
          "metadata": {},
          "execution_count": 47
        }
      ],
      "source": [
        "smiles_graph1 = graph1.smiles\n",
        "Chem.Draw.MolToImage(Chem.rdmolfiles.MolFromSmiles(smiles_graph1))"
      ]
    },
    {
      "cell_type": "markdown",
      "source": [
        "The schema of the molcule is the same in term of struture"
      ],
      "metadata": {
        "id": "9Kgitx7uwFQS"
      }
    },
    {
      "cell_type": "markdown",
      "metadata": {
        "id": "a5QV7llwgk6v"
      },
      "source": [
        "# EX 2. Convert a molecule to graph\n",
        "\n",
        "A single graph in PyTorch Geometric is described by an instance of the torch_geometric.data.Data class. So, in order to use graph neural network in pytorch_geometric,  we need convert molecules to torch_geometric.data.Data object.\n",
        "\n",
        "\n",
        "The **mol2graph(mol, y, smiles)** function below allows us to convert a molecule (rdkit format) to graph (a torch_geometric.data.Data object).\n",
        "\n",
        "\n",
        "Just load the tab"
      ]
    },
    {
      "cell_type": "code",
      "execution_count": null,
      "metadata": {
        "id": "Qd4weA8-fn3X"
      },
      "outputs": [],
      "source": [
        "x_map = {\n",
        "    'atomic_num':\n",
        "    list(range(0, 119)),\n",
        "    'chirality': [\n",
        "        'CHI_UNSPECIFIED',\n",
        "        'CHI_TETRAHEDRAL_CW',\n",
        "        'CHI_TETRAHEDRAL_CCW',\n",
        "        'CHI_OTHER',\n",
        "    ],\n",
        "    'degree':\n",
        "    list(range(0, 11)),\n",
        "    'formal_charge':\n",
        "    list(range(-5, 7)),\n",
        "    'num_hs':\n",
        "    list(range(0, 9)),\n",
        "    'num_radical_electrons':\n",
        "    list(range(0, 5)),\n",
        "    'hybridization': [\n",
        "        'UNSPECIFIED',\n",
        "        'S',\n",
        "        'SP',\n",
        "        'SP2',\n",
        "        'SP3',\n",
        "        'SP3D',\n",
        "        'SP3D2',\n",
        "        'OTHER',\n",
        "    ],\n",
        "    'is_aromatic': [False, True],\n",
        "    'is_in_ring': [False, True],\n",
        "}\n",
        "\n",
        "\n",
        "\n",
        "\n",
        "e_map = {\n",
        "    'bond_type': [\n",
        "        'misc',\n",
        "        'SINGLE',\n",
        "        'DOUBLE',\n",
        "        'TRIPLE',\n",
        "        'AROMATIC',\n",
        "    ],\n",
        "    'stereo': [\n",
        "        'STEREONONE',\n",
        "        'STEREOZ',\n",
        "        'STEREOE',\n",
        "        'STEREOCIS',\n",
        "        'STEREOTRANS',\n",
        "        'STEREOANY',\n",
        "    ],\n",
        "    'is_conjugated': [False, True],\n",
        "}\n",
        "\n",
        "\n",
        "def mol2graph(mol, y, smiles):\n",
        "\n",
        "    from torch_geometric.data import Data\n",
        "    import torch\n",
        "    import torch_geometric\n",
        "\n",
        "\n",
        "    xs = []\n",
        "\n",
        "    for atom in mol.GetAtoms():\n",
        "\n",
        "        x = []\n",
        "\n",
        "        x.append(x_map['atomic_num'].index(atom.GetAtomicNum()))\n",
        "        # The atomic number is the number of protons in the nucleus of an atom\n",
        "\n",
        "        x.append(x_map['chirality'].index(str(atom.GetChiralTag())))\n",
        "\n",
        "        x.append(x_map['degree'].index(atom.GetTotalDegree()))\n",
        "        # the number of carbon atoms that this atom is attached to\n",
        "\n",
        "        x.append(x_map['formal_charge'].index(atom.GetFormalCharge()))\n",
        "        x.append(x_map['num_hs'].index(atom.GetTotalNumHs()))\n",
        "        x.append(x_map['num_radical_electrons'].index(\n",
        "            atom.GetNumRadicalElectrons()))\n",
        "        x.append(x_map['hybridization'].index(str(atom.GetHybridization())))\n",
        "        x.append(x_map['is_aromatic'].index(atom.GetIsAromatic()))\n",
        "        x.append(x_map['is_in_ring'].index(atom.IsInRing()))\n",
        "\n",
        "        xs.append(x)\n",
        "\n",
        "\n",
        "\n",
        "    x = torch.tensor(xs, dtype=torch.float).view(-1, 9)\n",
        "\n",
        "    #print(\"x\", x)\n",
        "\n",
        "    edge_indices, edge_attrs = [], []\n",
        "    for bond in mol.GetBonds():\n",
        "        i = bond.GetBeginAtomIdx()\n",
        "        j = bond.GetEndAtomIdx()\n",
        "\n",
        "        e = []\n",
        "        e.append(e_map['bond_type'].index(str(bond.GetBondType())))\n",
        "        e.append(e_map['stereo'].index(str(bond.GetStereo())))\n",
        "        e.append(e_map['is_conjugated'].index(bond.GetIsConjugated()))\n",
        "\n",
        "        edge_indices += [[i, j], [j, i]]\n",
        "        edge_attrs += [e, e]\n",
        "\n",
        "    edge_index = torch.tensor(edge_indices)\n",
        "    edge_index = edge_index.t().to(torch.long).view(2, -1)\n",
        "    edge_attr = torch.tensor(edge_attrs, dtype=torch.long).view(-1, 3)\n",
        "\n",
        "    # Sort indices.\n",
        "    y = torch.tensor(y, dtype=torch.long)\n",
        "\n",
        "    if edge_index.numel() > 0:\n",
        "        perm = (edge_index[0] * x.size(0) + edge_index[1]).argsort()\n",
        "        edge_index, edge_attr = edge_index[:, perm], edge_attr[perm]\n",
        "\n",
        "    data = Data(x=x, edge_index=edge_index, edge_attr=edge_attr, y = y, smiles=smiles)\n",
        "\n",
        "    return data\n"
      ]
    },
    {
      "cell_type": "markdown",
      "metadata": {
        "id": "gvPjMDsXWXHC"
      },
      "source": [
        "1. Use this function to convert a acetic acid molecule to graph. This function takes three parametes as inputs: rdkit molecule (mol), label of graph (here molecule is active or not) (y) and SMILES string of molecule.  Known that the SMILES string of acetic acid is \"CC(O)=O\" and you can choose in this case the label y = 1.\n",
        "\n",
        "\n",
        "2. How many features are there in the nodes ? What are they ? Print out the \"edge_index\" of the acetic acide graph.\n"
      ]
    },
    {
      "cell_type": "code",
      "execution_count": null,
      "metadata": {
        "id": "jWDK8zIzmUtE"
      },
      "outputs": [],
      "source": [
        "smiles_acetic_acid = \"CC(O)=O\"\n",
        "mol = rdkit.Chem.MolFromSmiles(smiles_acetic_acid)\n",
        "\n",
        "#convert the mol to a graph"
      ]
    },
    {
      "cell_type": "markdown",
      "metadata": {
        "id": "i58VGkbqxdgk"
      },
      "source": [
        "# Buid a Graph Neural Network (GNN)\n",
        "\n",
        " In the next exercises of this notebook, we will try to build a graph network to predict the ability of molecules to inhibit a protein known as ERK2. For this purpose, we will use compounds that are derived from the DUD-E database."
      ]
    },
    {
      "cell_type": "markdown",
      "metadata": {
        "id": "uWlmiF0yn1oV"
      },
      "source": [
        "#Ex 3: Create dataset\n",
        "\n",
        "The file named \"active_data.csv\" consists of more than 300 active and decoy molecules. The dataset is made of two components:\n",
        "\n",
        "-  Chemical structural data on compounds: each chemical compound is described under the SMILES format.\n",
        "\n",
        "-  ERK2-activity : it corresponds to the screening result evaluating the activity (1) or the inactivity (0) of the chemical compound.\n",
        "\n",
        "\n",
        "1. Read the \"active_data.csv\" file into a pandas dataframe. Are there how many active molecules and how many decoy molecules?\n",
        "\n",
        "\n",
        "2. From this dataframe, create a list of RDKit molecules.\n",
        "\n",
        "\n",
        "3. Using the mol2graph(mol, y, smiles) function to convert the list of Rdkit molecules to a list of torch_geometric.data.Data objects. You should call this list as \"list_data\".\n",
        "\n",
        "\n",
        "4. Plot the histogram to see the ratio between the  compounds active and inactive."
      ]
    },
    {
      "cell_type": "code",
      "execution_count": null,
      "metadata": {
        "id": "9uDVldMnmp4X"
      },
      "outputs": [],
      "source": []
    },
    {
      "cell_type": "markdown",
      "metadata": {
        "id": "WAyN3trZ5kum"
      },
      "source": [
        "# EX 4. Create training set and test set\n",
        "In this exercise, we will prepare a training set and a test set.\n",
        "\n",
        "1. Shuffle the \"list_data\" list that you've created above.\n",
        "\n",
        "2. Take the first 300 molecules for \"train_dataset\" and the rest for \"test_dataset\".\n"
      ]
    },
    {
      "cell_type": "code",
      "execution_count": null,
      "metadata": {
        "id": "N5BbkGyk5yBA"
      },
      "outputs": [],
      "source": [
        "import random\n",
        "\n",
        "random.seed(123)\n",
        "random.shuffle(list_data)\n",
        "\n",
        "train_dataset = list_data[:300]\n",
        "test_dataset = list_data[300:]"
      ]
    },
    {
      "cell_type": "markdown",
      "metadata": {
        "id": "lRfuRXtiIHvo"
      },
      "source": [
        "# Ex5: Create DataLoader\n",
        "\n",
        "Usually a graph classification task trains on a lot of graphs, and it will be very inefficient to use only one graph at a time when training the model.\n",
        "\n",
        "Pytorch Geometric opts for building a single giant graph from a list of graphs by stacking adjacency matrices in a diagonal fashion and node that target features are simply concatenated in the note dimension.\n",
        "\n",
        "A single giant graph is automatically built from a list of graphs with DataLoader.\n",
        "\n",
        "1. Create **train_loader** and **test_loader** from **train_dataset** and **test_dataset** by using the torch_geometric.data.DataLoader class.\n",
        "\n",
        "\n",
        "2. Get a batch from **train_loader**. Print out the number of graphs and data of this batch."
      ]
    },
    {
      "cell_type": "code",
      "execution_count": null,
      "metadata": {
        "id": "EHiIeHZ761f_"
      },
      "outputs": [],
      "source": [
        "from torch_geometric.data import DataLoader\n",
        "\n",
        "train_loader = DataLoader(train_dataset, batch_size=64, shuffle=True)\n",
        "\n",
        "\n",
        "### TODO ###\n",
        "test_loader ="
      ]
    },
    {
      "cell_type": "markdown",
      "metadata": {
        "id": "hWtYDyqY3SQx"
      },
      "source": [
        "# Ex 6: Graph Neural Network Layer\n",
        "\n",
        " Let's try to test a graph neural network layer. This kind of layer is available on the pytorch_geometric.nn module. This layer's similar to Linear Layer (Multi-layer Perception Network) in deep learning.\n",
        "\n",
        "\n",
        " 1. Create an instance of the torch_geometric.nn. GCNConv class. You need choose two parameters: number of features and number of hidden layers.\n",
        "\n",
        "2. Apply it to the graph of acetic acid.\n",
        "\n",
        "\n",
        "3. What is the output ? its size ?\n"
      ]
    },
    {
      "cell_type": "code",
      "execution_count": null,
      "metadata": {
        "id": "uwKtqlYI3Qw7"
      },
      "outputs": [],
      "source": [
        "smiles_acetic_acid = \"CC(O)=O\"\n",
        "mol_acetic_acid = rdkit.Chem.MolFromSmiles(smiles_acetic_acid)\n",
        "graph_acetic_acid = mol2graph(mol, y = 1, smiles = smiles_acetic_acid)"
      ]
    },
    {
      "cell_type": "code",
      "execution_count": null,
      "metadata": {
        "id": "9XoXr9LaOGzf"
      },
      "outputs": [],
      "source": [
        "# TODO\n",
        "from torch_geometric.nn import GCNConv\n"
      ]
    },
    {
      "cell_type": "markdown",
      "metadata": {
        "id": "gjTreX5M65sC"
      },
      "source": [
        "# EX 7: global_mean_pool Layer\n",
        "\n",
        "As we've seen in the ex 6, the output of a GNN layer is a tensor with size (35, 16). However, for the graph classification task, the label of graph is just a scaler number. So, we need to aggregate node embeddings into a unified graph embedding (known as readout layer) before training a final classifier. Let's try it to see what the output of a global_mean_pool layer is.\n",
        "\n",
        "\n",
        "1. Pass the **out_GCN_layer** variable to the global_mean_pool function. Store the result in a variable named **out_GMP_layer**\n",
        "\n",
        "2. Print out the shape of **out_GMP_layer**.\n",
        "\n"
      ]
    },
    {
      "cell_type": "code",
      "execution_count": null,
      "metadata": {
        "id": "m0-2aMh483Rc"
      },
      "outputs": [],
      "source": [
        "from torch_geometric.nn import GCNConv\n",
        "from torch_geometric.nn import global_mean_pool\n",
        "\n",
        "# GMP mean Global mean pool\n",
        "data_for_test_GMP_layer = DataLoader([graph_acetic_acid], batch_size=1 )\n",
        "conv_test = GCNConv(9, 16)\n",
        "\n",
        "\n",
        "data = iter(data_for_test_GMP_layer).next()\n",
        "out_GCN_layer = conv_test(data.x, data.edge_index)\n",
        "\n",
        "#### TO DO #####\n",
        "out_GMP_layer = ???????\n",
        "\n",
        "print(out_GMP_layer)\n",
        "print(\"shape of output_GMP_layer \", ????????? )\n",
        "\n"
      ]
    },
    {
      "cell_type": "markdown",
      "metadata": {
        "id": "gVYBeplH7QEu"
      },
      "source": [
        "# EX 8: Building a graph network for graph classification task with Pytorch geometric\n",
        "\n",
        "\n",
        "In this exercise, we will create a network to classify if a molecule is active. This network consists of 4 layers:\n",
        "\n",
        "1. A graph convolution network layer conv1\n",
        "\n",
        "2. Another GCN layer conv2\n",
        "\n",
        "3. Another GCN layer conv3\n",
        "\n",
        "4. A torch_geometric.nn.global_mean_pool layer\n",
        "\n",
        "5. A linear layer\n",
        "\n",
        "Relu activation function is used after the two first layers.\n",
        "\n",
        "Complete the lines below (after #TODO) to finish the definition of this network.\n"
      ]
    },
    {
      "cell_type": "code",
      "execution_count": null,
      "metadata": {
        "id": "wkU-LtEm43SI"
      },
      "outputs": [],
      "source": [
        "from torch_geometric.nn import GCNConv\n",
        "from torch_geometric.nn import global_mean_pool\n",
        "\n",
        "import torch\n",
        "import torch.nn.functional as F\n",
        "from torch.nn import Linear\n",
        "\n",
        "#### TODO\n",
        "n_features = ????\n",
        "\n",
        "\n",
        "\n",
        "class Net(torch.nn.Module):\n",
        "    def __init__(self):\n",
        "        super(Net, self).__init__()\n",
        "        torch.manual_seed(12)\n",
        "        self.conv1 = GCNConv(n_features, 8)\n",
        "        self.conv2 = GCNConv(8, 16)\n",
        "        self.conv3 = GCNConv(16, 32)\n",
        "\n",
        "        # TO DO\n",
        "        self.linear = Linear(??, ??)\n",
        "\n",
        "\n",
        "    def forward(self, x, edge_index, batch):\n",
        "\n",
        "\n",
        "        # 1. Obtain node embeddings\n",
        "        # First GCN layer\n",
        "        x = self.conv1(x, edge_index)\n",
        "        x = F.relu(x)\n",
        "\n",
        "        ## TODO\n",
        "        # Second GCN layer\n",
        "        x =  ????\n",
        "        x =  ????\n",
        "\n",
        "\n",
        "        # Third GCN layer\n",
        "        x = self.conv3(x, edge_index)\n",
        "\n",
        "\n",
        "        ### TODO#####\n",
        "        #2. REadout layer\n",
        "        x = ???????\n",
        "\n",
        "\n",
        "        # 3. Linear Layer\n",
        "        ## TO DO\n",
        "        x = ????\n",
        "\n",
        "        return x\n"
      ]
    },
    {
      "cell_type": "markdown",
      "metadata": {
        "id": "PucPIEd5UTWn"
      },
      "source": [
        "# Ex 9: Create network\n",
        "\n",
        "\n",
        "1. Create the network then print out the model and look at it's text representation\n",
        "\n",
        "2. Define an optimizer. You should use the torch.optim.Adam class.\n",
        "\n",
        "3. Define a loss function. You should use the CrossEntropyLoss class.\n",
        "\n"
      ]
    },
    {
      "cell_type": "code",
      "execution_count": null,
      "metadata": {
        "id": "ll1q9TLdUagf"
      },
      "outputs": [],
      "source": [
        "\n"
      ]
    },
    {
      "cell_type": "code",
      "execution_count": null,
      "metadata": {
        "id": "KX1DzW1ErYJO"
      },
      "outputs": [],
      "source": [
        "print( model)"
      ]
    },
    {
      "cell_type": "markdown",
      "metadata": {
        "id": "ZhsGNksI7zVa"
      },
      "source": [
        "# Ex 10: Train model for an epoch\n",
        "\n",
        "Write a function named **train()** that allows us to train a model for an epoch.\n",
        "\n",
        "The tasks that the function should execute:\n",
        "\n",
        "\n",
        "0. Iterate in batches over the train_loader\n",
        "\n",
        "1. Perform a single forward pass\n",
        "\n",
        "2. Compute the loss\n",
        "\n",
        "3. Derive the gradient\n",
        "\n",
        "4. Update parameters\n",
        "\n",
        "5. Clearn gradients\n",
        "\n",
        "\n",
        "\n",
        "Complete the lines (with ?????) below to finish the function."
      ]
    },
    {
      "cell_type": "code",
      "execution_count": null,
      "metadata": {
        "id": "xpjXAr8T7qFd"
      },
      "outputs": [],
      "source": [
        "def train():\n",
        "    model.train()\n",
        "\n",
        "    for data in train_loader:\n",
        "        # TODO ( )\n",
        "        #1.Forward pass\n",
        "         out = ????????\n",
        "         # 2. Compute the loss\n",
        "         loss =  ???????\n",
        "         # 3. Calculate the gradient\n",
        "         ?????????????\n",
        "         #4. Update the parameters (weights)\n",
        "         ????????????\n",
        "         #5. Clean gradients\n",
        "         ??????????????\n"
      ]
    },
    {
      "cell_type": "markdown",
      "metadata": {
        "id": "9k4VvLPX8sCA"
      },
      "source": [
        "# Ex 11: Test\n",
        "\n",
        "Similar to Ex9, write a function named **tes(loader)** that allows to compute the accuracy of the model on dataset \"loader\".\n",
        "\n",
        "The steps to calculate the accuracy of a classification model:\n",
        "\n",
        "1. Iterate in batches over the train_loader.\n",
        "\n",
        "2. Compute the output of the model\n",
        "\n",
        "3. Find the class with highest probability\n",
        "\n",
        "4. Count ground-truth labels\n",
        "\n",
        "5. Compute the accuracy\n",
        "\n",
        "\n",
        "Complete the lines (with ?????)  to finish the definition of this network."
      ]
    },
    {
      "cell_type": "code",
      "execution_count": null,
      "metadata": {
        "id": "Hqf4QsUg8VUE"
      },
      "outputs": [],
      "source": [
        "def test(loader):\n",
        "     model.eval()\n",
        "\n",
        "     correct = 0\n",
        "     for data in loader:\n",
        "         ########### TODO ####\n",
        "         # output of the model\n",
        "         out =  \"??????????????\"\n",
        "         # Use the class with highest probability\n",
        "         pred = \"?????????\"\n",
        "\n",
        "         # Check against ground-truth labels\n",
        "         correct += int((pred == data.y).sum())\n",
        "     return correct / len(loader.dataset)\n",
        "\n"
      ]
    },
    {
      "cell_type": "markdown",
      "metadata": {
        "id": "-4gcODV_8vTs"
      },
      "source": [
        "# Ex 12: Training model\n",
        "\n",
        "Training model for 100 epoches.\n",
        "\n",
        "Calculate training accuracy for train_loader and test_loader by using the **train()** function and the **test(loader)** function\n"
      ]
    },
    {
      "cell_type": "code",
      "execution_count": null,
      "metadata": {
        "id": "Si4ay8qM8Zl5"
      },
      "outputs": [],
      "source": []
    },
    {
      "cell_type": "code",
      "execution_count": null,
      "metadata": {
        "id": "TizuAt8s1hIV"
      },
      "outputs": [],
      "source": []
    }
  ],
  "metadata": {
    "colab": {
      "provenance": [],
      "include_colab_link": true
    },
    "kernelspec": {
      "display_name": "Python 3 (ipykernel)",
      "language": "python",
      "name": "python3"
    },
    "language_info": {
      "codemirror_mode": {
        "name": "ipython",
        "version": 3
      },
      "file_extension": ".py",
      "mimetype": "text/x-python",
      "name": "python",
      "nbconvert_exporter": "python",
      "pygments_lexer": "ipython3",
      "version": "3.9.9"
    }
  },
  "nbformat": 4,
  "nbformat_minor": 0
}