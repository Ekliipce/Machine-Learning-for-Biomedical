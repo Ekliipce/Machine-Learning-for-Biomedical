{
  "cells": [
    {
      "cell_type": "markdown",
      "metadata": {
        "id": "view-in-github",
        "colab_type": "text"
      },
      "source": [
        "<a href=\"https://colab.research.google.com/github/Ekliipce/Machine-Learning-for-Biomedical/blob/main/molecules/pytorch_geometric_molecules_problem.ipynb\" target=\"_parent\"><img src=\"https://colab.research.google.com/assets/colab-badge.svg\" alt=\"Open In Colab\"/></a>"
      ]
    },
    {
      "cell_type": "markdown",
      "metadata": {
        "id": "f-5bYlDLL31Y",
        "outputId": "d3ad9389-0dd7-4464-ce61-2f11bd2e915b"
      },
      "source": [
        "##  Pytorch geometric\n",
        "\n",
        "Pytorch geometric is a pytorch package to train Graph Neural Networks.\n",
        "\n",
        "One \"simple\" architecture is the Graph Convolutional Network (kipf et al)\n",
        "\n",
        "references:\n",
        "- http://tkipf.github.io/graph-convolutional-networks/\n",
        "- https://proceedings.neurips.cc/paper/2015/hash/f9be311e65d81a9ad8150a60844bb94c-Abstract.html\n",
        "- https://arxiv.org/abs/1609.02907\n"
      ]
    },
    {
      "cell_type": "markdown",
      "metadata": {
        "id": "UUMvBxxuWXG4"
      },
      "source": [
        "Install pytorch geometric : https://pytorch-geometric.readthedocs.io/en/latest/"
      ]
    },
    {
      "cell_type": "code",
      "execution_count": 1,
      "metadata": {
        "id": "sHrzuqi7Mj2O",
        "colab": {
          "base_uri": "https://localhost:8080/"
        },
        "outputId": "dafa77e8-0bf3-45db-cce0-74e6e83b8770"
      },
      "outputs": [
        {
          "output_type": "stream",
          "name": "stdout",
          "text": [
            "Requirement already satisfied: torch_geometric in /usr/local/lib/python3.10/dist-packages (2.3.1)\n",
            "Requirement already satisfied: tqdm in /usr/local/lib/python3.10/dist-packages (from torch_geometric) (4.66.1)\n",
            "Requirement already satisfied: numpy in /usr/local/lib/python3.10/dist-packages (from torch_geometric) (1.23.5)\n",
            "Requirement already satisfied: scipy in /usr/local/lib/python3.10/dist-packages (from torch_geometric) (1.11.2)\n",
            "Requirement already satisfied: jinja2 in /usr/local/lib/python3.10/dist-packages (from torch_geometric) (3.1.2)\n",
            "Requirement already satisfied: requests in /usr/local/lib/python3.10/dist-packages (from torch_geometric) (2.31.0)\n",
            "Requirement already satisfied: pyparsing in /usr/local/lib/python3.10/dist-packages (from torch_geometric) (3.1.1)\n",
            "Requirement already satisfied: scikit-learn in /usr/local/lib/python3.10/dist-packages (from torch_geometric) (1.2.2)\n",
            "Requirement already satisfied: psutil>=5.8.0 in /usr/local/lib/python3.10/dist-packages (from torch_geometric) (5.9.5)\n",
            "Requirement already satisfied: MarkupSafe>=2.0 in /usr/local/lib/python3.10/dist-packages (from jinja2->torch_geometric) (2.1.3)\n",
            "Requirement already satisfied: charset-normalizer<4,>=2 in /usr/local/lib/python3.10/dist-packages (from requests->torch_geometric) (3.2.0)\n",
            "Requirement already satisfied: idna<4,>=2.5 in /usr/local/lib/python3.10/dist-packages (from requests->torch_geometric) (3.4)\n",
            "Requirement already satisfied: urllib3<3,>=1.21.1 in /usr/local/lib/python3.10/dist-packages (from requests->torch_geometric) (2.0.4)\n",
            "Requirement already satisfied: certifi>=2017.4.17 in /usr/local/lib/python3.10/dist-packages (from requests->torch_geometric) (2023.7.22)\n",
            "Requirement already satisfied: joblib>=1.1.1 in /usr/local/lib/python3.10/dist-packages (from scikit-learn->torch_geometric) (1.3.2)\n",
            "Requirement already satisfied: threadpoolctl>=2.0.0 in /usr/local/lib/python3.10/dist-packages (from scikit-learn->torch_geometric) (3.2.0)\n",
            "Requirement already satisfied: rdkit in /usr/local/lib/python3.10/dist-packages (2023.3.3)\n",
            "Requirement already satisfied: numpy in /usr/local/lib/python3.10/dist-packages (from rdkit) (1.23.5)\n",
            "Requirement already satisfied: Pillow in /usr/local/lib/python3.10/dist-packages (from rdkit) (9.4.0)\n"
          ]
        }
      ],
      "source": [
        "!pip install torch_geometric\n",
        "!pip install rdkit"
      ]
    },
    {
      "cell_type": "code",
      "source": [
        "import numpy as np\n",
        "import matplotlib.pyplot as plt\n",
        "import pandas as pd\n",
        "import torch\n",
        "import torch_geometric\n",
        "import networkx as nx\n",
        "\n",
        "\n",
        "from rdkit import Chem"
      ],
      "metadata": {
        "id": "dxAW_Rkx7cEL"
      },
      "execution_count": 2,
      "outputs": []
    },
    {
      "cell_type": "markdown",
      "metadata": {
        "id": "Q6bXT9FWWXG6"
      },
      "source": [
        "Simple graphs are manipulated with the torch_geometric.data.Data class : https://pytorch-geometric.readthedocs.io/en/latest/modules/data.html#torch_geometric.data.Data\n",
        "\n",
        "The constructor takes a collection a tensor representing the nodes and a tensor representing the edges.\n",
        "\n",
        "Edges are represented by a 2D tensor (cf example here : https://pytorch-geometric.readthedocs.io/en/latest/notes/introduction.html) where each columns represents an edge.\n",
        "\n",
        "\n",
        "Create a simple undirected Graph with three nodes where node 1 is connected to node 2 and 3.\n",
        "Specify the node values to be 1, 2, 3"
      ]
    },
    {
      "cell_type": "code",
      "execution_count": 3,
      "metadata": {
        "id": "PHn3Y5SkWXG8",
        "colab": {
          "base_uri": "https://localhost:8080/"
        },
        "outputId": "b5f55e71-695f-4544-da64-53d3a13e1f41"
      },
      "outputs": [
        {
          "output_type": "execute_result",
          "data": {
            "text/plain": [
              "Data(x=[3], edge_index=[2, 4])"
            ]
          },
          "metadata": {},
          "execution_count": 3
        }
      ],
      "source": [
        "edges = torch.tensor([[1, 2], [2, 1], [1, 3], [3, 1]])\n",
        "x = [[1], [2], [3]]\n",
        "data = torch_geometric.data.Data(x=x, edge_index=edges.t().contiguous())\n",
        "data"
      ]
    },
    {
      "cell_type": "code",
      "source": [
        "graph = torch_geometric.utils.to_networkx(data)\n",
        "nx.draw_networkx(graph)"
      ],
      "metadata": {
        "colab": {
          "base_uri": "https://localhost:8080/",
          "height": 461
        },
        "id": "a_QkU4a4C9oO",
        "outputId": "3d5cb22a-1366-43a4-81a6-8e3c8d8604cf"
      },
      "execution_count": 4,
      "outputs": [
        {
          "output_type": "stream",
          "name": "stderr",
          "text": [
            "/usr/local/lib/python3.10/dist-packages/torch_geometric/data/storage.py:304: UserWarning: Unable to accurately infer 'num_nodes' from the attribute set '{'edge_index', 'x'}'. Please explicitly set 'num_nodes' as an attribute of 'data' to suppress this warning\n",
            "  warnings.warn(\n"
          ]
        },
        {
          "output_type": "display_data",
          "data": {
            "text/plain": [
              "<Figure size 640x480 with 1 Axes>"
            ],
            "image/png": "[encoded data removed]"
          },
          "metadata": {}
        }
      ]
    },
    {
      "cell_type": "markdown",
      "metadata": {
        "id": "clynGmCNNrCF"
      },
      "source": [
        "# 1. Explore dataset in Pytorch_geometric\n",
        "\n",
        "\n",
        "To better understand molecule and graph, we will load and explore one of the molecule datasets that come from the pytorch_geometric library.\n",
        "\n",
        "1. Load the HIV dataset from the torch_geometric.datasets.MoleculeNet module.\n"
      ]
    },
    {
      "cell_type": "code",
      "execution_count": 5,
      "metadata": {
        "id": "tzbY2RjgOQdo"
      },
      "outputs": [],
      "source": [
        "hiv_data = torch_geometric.datasets.molecule_net.MoleculeNet(root=\"/\", name=\"hiv\")"
      ]
    },
    {
      "cell_type": "code",
      "source": [
        "hiv_data"
      ],
      "metadata": {
        "colab": {
          "base_uri": "https://localhost:8080/"
        },
        "id": "qPTO99LPuVvO",
        "outputId": "f44d4b04-1159-4780-92b6-1c485d67dc2f"
      },
      "execution_count": 6,
      "outputs": [
        {
          "output_type": "execute_result",
          "data": {
            "text/plain": [
              "HIV(41127)"
            ]
          },
          "metadata": {},
          "execution_count": 6
        }
      ]
    },
    {
      "cell_type": "markdown",
      "metadata": {
        "id": "PMJfbFG2WXG9"
      },
      "source": [
        "\n",
        "2. How many graphs are there in this dataset ? Print out the number of features and the number of classes for this dataset."
      ]
    },
    {
      "cell_type": "code",
      "source": [
        "print(f\"Number of graphs : {len(hiv_data)}\")\n",
        "print(f\"Number of features : {hiv_data.num_features}\")\n",
        "print(f\"Number of classes: {hiv_data.num_classes}\")"
      ],
      "metadata": {
        "colab": {
          "base_uri": "https://localhost:8080/"
        },
        "id": "oKXQPvxenM_k",
        "outputId": "d4385791-8cd3-456d-e4d6-dea9f5ef8c8f"
      },
      "execution_count": 7,
      "outputs": [
        {
          "output_type": "stream",
          "name": "stdout",
          "text": [
            "Number of graphs : 41127\n",
            "Number of features : 9\n",
            "Number of classes: 2\n"
          ]
        }
      ]
    },
    {
      "cell_type": "markdown",
      "metadata": {
        "id": "38afm3ObWXG-"
      },
      "source": [
        "3. Get the first graph in this dataset. Print out the number of nodes, the number of edges, the number of features and  the adjency matrix of this graph. This graph is undirected or not ?"
      ]
    },
    {
      "cell_type": "code",
      "execution_count": 8,
      "metadata": {
        "id": "61YCHLYEWXG_",
        "colab": {
          "base_uri": "https://localhost:8080/"
        },
        "outputId": "c7dc5aa4-795b-4f83-96a3-1b647168f493"
      },
      "outputs": [
        {
          "output_type": "stream",
          "name": "stdout",
          "text": [
            "Data(x=[19, 9], edge_index=[2, 40], edge_attr=[40, 3], smiles='CCC1=[O+][Cu-3]2([O+]=C(CC)C1)[O+]=C(CC)CC(CC)=[O+]2', y=[1, 1])\n",
            "Number of nodes : 19\n",
            "Number of edges : 40\n",
            "Number of features : 9\n"
          ]
        }
      ],
      "source": [
        "graph1 = hiv_data[0]\n",
        "print(graph1)\n",
        "print(f\"Number of nodes : {graph1.num_nodes}\")\n",
        "print(f\"Number of edges : {graph1.num_edges}\")\n",
        "print(f\"Number of features : {graph1.num_features}\")\n"
      ]
    },
    {
      "cell_type": "code",
      "source": [
        "print(f\"Adjacency Matrix :\\n{torch_geometric.utils.to_dense_adj(graph1.edge_index)}\")\n"
      ],
      "metadata": {
        "colab": {
          "base_uri": "https://localhost:8080/"
        },
        "id": "_E5Ypu69tsfS",
        "outputId": "4f903f99-ec3d-47cb-d9a5-13dfd7c4544e"
      },
      "execution_count": 9,
      "outputs": [
        {
          "output_type": "stream",
          "name": "stdout",
          "text": [
            "Adjacency Matrix :\n",
            "tensor([[[0., 1., 0., 0., 0., 0., 0., 0., 0., 0., 0., 0., 0., 0., 0., 0., 0.,\n",
            "          0., 0.],\n",
            "         [1., 0., 1., 0., 0., 0., 0., 0., 0., 0., 0., 0., 0., 0., 0., 0., 0.,\n",
            "          0., 0.],\n",
            "         [0., 1., 0., 1., 0., 0., 0., 0., 0., 1., 0., 0., 0., 0., 0., 0., 0.,\n",
            "          0., 0.],\n",
            "         [0., 0., 1., 0., 1., 0., 0., 0., 0., 0., 0., 0., 0., 0., 0., 0., 0.,\n",
            "          0., 0.],\n",
            "         [0., 0., 0., 1., 0., 1., 0., 0., 0., 0., 1., 0., 0., 0., 0., 0., 0.,\n",
            "          0., 1.],\n",
            "         [0., 0., 0., 0., 1., 0., 1., 0., 0., 0., 0., 0., 0., 0., 0., 0., 0.,\n",
            "          0., 0.],\n",
            "         [0., 0., 0., 0., 0., 1., 0., 1., 0., 1., 0., 0., 0., 0., 0., 0., 0.,\n",
            "          0., 0.],\n",
            "         [0., 0., 0., 0., 0., 0., 1., 0., 1., 0., 0., 0., 0., 0., 0., 0., 0.,\n",
            "          0., 0.],\n",
            "         [0., 0., 0., 0., 0., 0., 0., 1., 0., 0., 0., 0., 0., 0., 0., 0., 0.,\n",
            "          0., 0.],\n",
            "         [0., 0., 1., 0., 0., 0., 1., 0., 0., 0., 0., 0., 0., 0., 0., 0., 0.,\n",
            "          0., 0.],\n",
            "         [0., 0., 0., 0., 1., 0., 0., 0., 0., 0., 0., 1., 0., 0., 0., 0., 0.,\n",
            "          0., 0.],\n",
            "         [0., 0., 0., 0., 0., 0., 0., 0., 0., 0., 1., 0., 1., 0., 1., 0., 0.,\n",
            "          0., 0.],\n",
            "         [0., 0., 0., 0., 0., 0., 0., 0., 0., 0., 0., 1., 0., 1., 0., 0., 0.,\n",
            "          0., 0.],\n",
            "         [0., 0., 0., 0., 0., 0., 0., 0., 0., 0., 0., 0., 1., 0., 0., 0., 0.,\n",
            "          0., 0.],\n",
            "         [0., 0., 0., 0., 0., 0., 0., 0., 0., 0., 0., 1., 0., 0., 0., 1., 0.,\n",
            "          0., 0.],\n",
            "         [0., 0., 0., 0., 0., 0., 0., 0., 0., 0., 0., 0., 0., 0., 1., 0., 1.,\n",
            "          0., 1.],\n",
            "         [0., 0., 0., 0., 0., 0., 0., 0., 0., 0., 0., 0., 0., 0., 0., 1., 0.,\n",
            "          1., 0.],\n",
            "         [0., 0., 0., 0., 0., 0., 0., 0., 0., 0., 0., 0., 0., 0., 0., 0., 1.,\n",
            "          0., 0.],\n",
            "         [0., 0., 0., 0., 1., 0., 0., 0., 0., 0., 0., 0., 0., 0., 0., 1., 0.,\n",
            "          0., 0.]]])\n"
          ]
        }
      ]
    },
    {
      "cell_type": "code",
      "source": [
        "graph1.is_directed()"
      ],
      "metadata": {
        "colab": {
          "base_uri": "https://localhost:8080/"
        },
        "id": "Xe1SbGwKuGN8",
        "outputId": "d0894445-3161-4b09-dc7f-4eac7c9dea66"
      },
      "execution_count": 10,
      "outputs": [
        {
          "output_type": "execute_result",
          "data": {
            "text/plain": [
              "False"
            ]
          },
          "metadata": {},
          "execution_count": 10
        }
      ]
    },
    {
      "cell_type": "markdown",
      "metadata": {
        "id": "NyQUnzcTWXG_"
      },
      "source": [
        "4. Draw this graph using networkx (it's already installed with pytorch_geometric) and torch_geometric.utils.to_networkx.\n"
      ]
    },
    {
      "cell_type": "code",
      "execution_count": 11,
      "metadata": {
        "id": "SuqnN7yeWXHA",
        "colab": {
          "base_uri": "https://localhost:8080/",
          "height": 406
        },
        "outputId": "f27391d6-df8a-4929-9f41-dbebcfc5f1db"
      },
      "outputs": [
        {
          "output_type": "display_data",
          "data": {
            "text/plain": [
              "<Figure size 640x480 with 1 Axes>"
            ],
            "image/png": "[encoded data removed]"
          },
          "metadata": {}
        }
      ],
      "source": [
        "graph1_nx = torch_geometric.utils.to_networkx(graph1)\n",
        "nx.draw_networkx(graph1_nx)"
      ]
    },
    {
      "cell_type": "markdown",
      "metadata": {
        "id": "W0dbGDEOWXHA"
      },
      "source": [
        "5. (Optional) Get the SMILES string of this molecule and draw its structure with Rdkit. The structure of this molecule looks like the graph that you've drawn in 4. ?"
      ]
    },
    {
      "cell_type": "code",
      "execution_count": 12,
      "metadata": {
        "id": "BZ_Ij6KKWXHA",
        "colab": {
          "base_uri": "https://localhost:8080/",
          "height": 317
        },
        "outputId": "76f51729-4ff5-4522-d1ec-9da9d1d43b48"
      },
      "outputs": [
        {
          "output_type": "execute_result",
          "data": {
            "text/plain": [
              "<PIL.PngImagePlugin.PngImageFile image mode=RGB size=300x300>"
            ],
            "image/png": "[encoded data removed]"
          },
          "metadata": {},
          "execution_count": 12
        }
      ],
      "source": [
        "smiles_graph1 = graph1.smiles\n",
        "Chem.Draw.MolToImage(Chem.MolFromSmiles(smiles_graph1))"
      ]
    },
    {
      "cell_type": "markdown",
      "source": [
        "The schema of the molcule is the same in term of struture"
      ],
      "metadata": {
        "id": "9Kgitx7uwFQS"
      }
    },
    {
      "cell_type": "markdown",
      "metadata": {
        "id": "a5QV7llwgk6v"
      },
      "source": [
        "# EX 2. Convert a molecule to graph\n",
        "\n",
        "A single graph in PyTorch Geometric is described by an instance of the torch_geometric.data.Data class. So, in order to use graph neural network in pytorch_geometric,  we need convert molecules to torch_geometric.data.Data object.\n",
        "\n",
        "\n",
        "The **mol2graph(mol, y, smiles)** function below allows us to convert a molecule (rdkit format) to graph (a torch_geometric.data.Data object).\n",
        "\n",
        "\n",
        "Just load the tab"
      ]
    },
    {
      "cell_type": "code",
      "execution_count": 13,
      "metadata": {
        "id": "Qd4weA8-fn3X"
      },
      "outputs": [],
      "source": [
        "x_map = {\n",
        "    'atomic_num':\n",
        "    list(range(0, 119)),\n",
        "    'chirality': [\n",
        "        'CHI_UNSPECIFIED',\n",
        "        'CHI_TETRAHEDRAL_CW',\n",
        "        'CHI_TETRAHEDRAL_CCW',\n",
        "        'CHI_OTHER',\n",
        "    ],\n",
        "    'degree':\n",
        "    list(range(0, 11)),\n",
        "    'formal_charge':\n",
        "    list(range(-5, 7)),\n",
        "    'num_hs':\n",
        "    list(range(0, 9)),\n",
        "    'num_radical_electrons':\n",
        "    list(range(0, 5)),\n",
        "    'hybridization': [\n",
        "        'UNSPECIFIED',\n",
        "        'S',\n",
        "        'SP',\n",
        "        'SP2',\n",
        "        'SP3',\n",
        "        'SP3D',\n",
        "        'SP3D2',\n",
        "        'OTHER',\n",
        "    ],\n",
        "    'is_aromatic': [False, True],\n",
        "    'is_in_ring': [False, True],\n",
        "}\n",
        "\n",
        "\n",
        "\n",
        "\n",
        "e_map = {\n",
        "    'bond_type': [\n",
        "        'misc',\n",
        "        'SINGLE',\n",
        "        'DOUBLE',\n",
        "        'TRIPLE',\n",
        "        'AROMATIC',\n",
        "    ],\n",
        "    'stereo': [\n",
        "        'STEREONONE',\n",
        "        'STEREOZ',\n",
        "        'STEREOE',\n",
        "        'STEREOCIS',\n",
        "        'STEREOTRANS',\n",
        "        'STEREOANY',\n",
        "    ],\n",
        "    'is_conjugated': [False, True],\n",
        "}\n",
        "\n",
        "\n",
        "def mol2graph(mol, y, smiles):\n",
        "\n",
        "    from torch_geometric.data import Data\n",
        "    import torch\n",
        "    import torch_geometric\n",
        "\n",
        "\n",
        "    xs = []\n",
        "\n",
        "    for atom in mol.GetAtoms():\n",
        "\n",
        "        x = []\n",
        "\n",
        "        x.append(x_map['atomic_num'].index(atom.GetAtomicNum()))\n",
        "        # The atomic number is the number of protons in the nucleus of an atom\n",
        "\n",
        "        x.append(x_map['chirality'].index(str(atom.GetChiralTag())))\n",
        "\n",
        "        x.append(x_map['degree'].index(atom.GetTotalDegree()))\n",
        "        # the number of carbon atoms that this atom is attached to\n",
        "\n",
        "        x.append(x_map['formal_charge'].index(atom.GetFormalCharge()))\n",
        "        x.append(x_map['num_hs'].index(atom.GetTotalNumHs()))\n",
        "        x.append(x_map['num_radical_electrons'].index(\n",
        "            atom.GetNumRadicalElectrons()))\n",
        "        x.append(x_map['hybridization'].index(str(atom.GetHybridization())))\n",
        "        x.append(x_map['is_aromatic'].index(atom.GetIsAromatic()))\n",
        "        x.append(x_map['is_in_ring'].index(atom.IsInRing()))\n",
        "\n",
        "        xs.append(x)\n",
        "\n",
        "\n",
        "\n",
        "    x = torch.tensor(xs, dtype=torch.float).view(-1, 9)\n",
        "\n",
        "    #print(\"x\", x)\n",
        "\n",
        "    edge_indices, edge_attrs = [], []\n",
        "    for bond in mol.GetBonds():\n",
        "        i = bond.GetBeginAtomIdx()\n",
        "        j = bond.GetEndAtomIdx()\n",
        "\n",
        "        e = []\n",
        "        e.append(e_map['bond_type'].index(str(bond.GetBondType())))\n",
        "        e.append(e_map['stereo'].index(str(bond.GetStereo())))\n",
        "        e.append(e_map['is_conjugated'].index(bond.GetIsConjugated()))\n",
        "\n",
        "        edge_indices += [[i, j], [j, i]]\n",
        "        edge_attrs += [e, e]\n",
        "\n",
        "    edge_index = torch.tensor(edge_indices)\n",
        "    edge_index = edge_index.t().to(torch.long).view(2, -1)\n",
        "    edge_attr = torch.tensor(edge_attrs, dtype=torch.long).view(-1, 3)\n",
        "\n",
        "    # Sort indices.\n",
        "    y = torch.tensor(y, dtype=torch.long)\n",
        "\n",
        "    if edge_index.numel() > 0:\n",
        "        perm = (edge_index[0] * x.size(0) + edge_index[1]).argsort()\n",
        "        edge_index, edge_attr = edge_index[:, perm], edge_attr[perm]\n",
        "\n",
        "    data = Data(x=x, edge_index=edge_index, edge_attr=edge_attr, y = y, smiles=smiles)\n",
        "\n",
        "    return data\n"
      ]
    },
    {
      "cell_type": "markdown",
      "metadata": {
        "id": "gvPjMDsXWXHC"
      },
      "source": [
        "1. Use this function to convert a acetic acid molecule to graph. This function takes three parametes as inputs: rdkit molecule (mol), label of graph (here molecule is active or not) (y) and SMILES string of molecule.  Known that the SMILES string of acetic acid is \"CC(O)=O\" and you can choose in this case the label y = 1.\n",
        "\n",
        "\n"
      ]
    },
    {
      "cell_type": "code",
      "execution_count": 14,
      "metadata": {
        "id": "jWDK8zIzmUtE",
        "colab": {
          "base_uri": "https://localhost:8080/"
        },
        "outputId": "c3c8ffa8-dfac-427c-938f-a5b11328357e"
      },
      "outputs": [
        {
          "output_type": "execute_result",
          "data": {
            "text/plain": [
              "Data(x=[4, 9], edge_index=[2, 6], edge_attr=[6, 3], y=1, smiles='CC(O)=O')"
            ]
          },
          "metadata": {},
          "execution_count": 14
        }
      ],
      "source": [
        "smiles_acetic_acid = \"CC(O)=O\"\n",
        "mol = Chem.MolFromSmiles(smiles_acetic_acid)\n",
        "graph_mol = mol2graph(mol, 1, smiles_acetic_acid)\n",
        "graph_mol"
      ]
    },
    {
      "cell_type": "markdown",
      "source": [
        "\n",
        "2. How many features are there in the nodes ? What are they ? Print out the \"edge_index\" of the acetic acide graph. <br>\n",
        "There are 9 features in the node :\n",
        "  1. Atomic num\n",
        "  2. Chirality\n",
        "  3. Degree\n",
        "  4. Formal Charge\n",
        "  5. Number of Hydrogen atoms\n",
        "  6. Number of Radical electron   \n",
        "  7. Hybridization\n",
        "  8. Is Aromatic Boolean\n",
        "  9. Is in Ring Boolean\n"
      ],
      "metadata": {
        "id": "lTFgBzhGyPCe"
      }
    },
    {
      "cell_type": "code",
      "source": [
        "graph_mol.edge_index"
      ],
      "metadata": {
        "id": "JuMTfVAwyRXt",
        "colab": {
          "base_uri": "https://localhost:8080/"
        },
        "outputId": "f986cdbc-0466-47cf-f85b-8988272cc0f5"
      },
      "execution_count": 15,
      "outputs": [
        {
          "output_type": "execute_result",
          "data": {
            "text/plain": [
              "tensor([[0, 1, 1, 1, 2, 3],\n",
              "        [1, 0, 2, 3, 1, 1]])"
            ]
          },
          "metadata": {},
          "execution_count": 15
        }
      ]
    },
    {
      "cell_type": "markdown",
      "metadata": {
        "id": "i58VGkbqxdgk"
      },
      "source": [
        "# Buid a Graph Neural Network (GNN)\n",
        "\n",
        " In the next exercises of this notebook, we will try to build a graph network to predict the ability of molecules to inhibit a protein known as ERK2. For this purpose, we will use compounds that are derived from the DUD-E database."
      ]
    },
    {
      "cell_type": "markdown",
      "metadata": {
        "id": "uWlmiF0yn1oV"
      },
      "source": [
        "#Ex 3: Create dataset\n",
        "\n",
        "The file named \"active_data.csv\" consists of more than 300 active and decoy molecules. The dataset is made of two components:\n",
        "\n",
        "-  Chemical structural data on compounds: each chemical compound is described under the SMILES format.\n",
        "\n",
        "-  ERK2-activity : it corresponds to the screening result evaluating the activity (1) or the inactivity (0) of the chemical compound.\n",
        "\n",
        "\n",
        "1. Read the \"active_data.csv\" file into a pandas dataframe. Are there how many active molecules and how many decoy molecules?\n",
        "\n",
        "\n"
      ]
    },
    {
      "cell_type": "code",
      "execution_count": 16,
      "metadata": {
        "id": "9uDVldMnmp4X",
        "colab": {
          "base_uri": "https://localhost:8080/",
          "height": 224
        },
        "outputId": "d6d5a1ca-4ae2-4fc2-8752-6ba2e7789f4c"
      },
      "outputs": [
        {
          "output_type": "stream",
          "name": "stdout",
          "text": [
            "(379, 3)\n"
          ]
        },
        {
          "output_type": "execute_result",
          "data": {
            "text/plain": [
              "                                              SMILES      ID  is_active\n",
              "0  Cn1ccnc1Sc2ccc(cc2Cl)Nc3c4cc(c(cc4ncc3C#N)OCCC...  168691          1\n",
              "1  C[C@@]12[C@@H]([C@@H](CC(O1)n3c4ccccc4c5c3c6n2...   86358          1\n",
              "2  Cc1cnc(nc1c2cc([nH]c2)C(=O)N[C@H](CO)c3cccc(c3...  575087          1\n",
              "3  Cc1cnc(nc1c2cc([nH]c2)C(=O)N[C@H](CO)c3cccc(c3...  575065          1\n",
              "4  Cc1cnc(nc1c2cc([nH]c2)C(=O)N[C@H](CO)c3cccc(c3...  575047          1"
            ],
            "text/html": [
              "\n",
              "  <div id=\"df-dd36acc8-deee-4001-bc13-8b4357cc19da\" class=\"colab-df-container\">\n",
              "    <div>\n",
              "<style scoped>\n",
              "    .dataframe tbody tr th:only-of-type {\n",
              "        vertical-align: middle;\n",
              "    }\n",
              "\n",
              "    .dataframe tbody tr th {\n",
              "        vertical-align: top;\n",
              "    }\n",
              "\n",
              "    .dataframe thead th {\n",
              "        text-align: right;\n",
              "    }\n",
              "</style>\n",
              "<table border=\"1\" class=\"dataframe\">\n",
              "  <thead>\n",
              "    <tr style=\"text-align: right;\">\n",
              "      <th></th>\n",
              "      <th>SMILES</th>\n",
              "      <th>ID</th>\n",
              "      <th>is_active</th>\n",
              "    </tr>\n",
              "  </thead>\n",
              "  <tbody>\n",
              "    <tr>\n",
              "      <th>0</th>\n",
              "      <td>Cn1ccnc1Sc2ccc(cc2Cl)Nc3c4cc(c(cc4ncc3C#N)OCCC...</td>\n",
              "      <td>168691</td>\n",
              "      <td>1</td>\n",
              "    </tr>\n",
              "    <tr>\n",
              "      <th>1</th>\n",
              "      <td>C[C@@]12[C@@H]([C@@H](CC(O1)n3c4ccccc4c5c3c6n2...</td>\n",
              "      <td>86358</td>\n",
              "      <td>1</td>\n",
              "    </tr>\n",
              "    <tr>\n",
              "      <th>2</th>\n",
              "      <td>Cc1cnc(nc1c2cc([nH]c2)C(=O)N[C@H](CO)c3cccc(c3...</td>\n",
              "      <td>575087</td>\n",
              "      <td>1</td>\n",
              "    </tr>\n",
              "    <tr>\n",
              "      <th>3</th>\n",
              "      <td>Cc1cnc(nc1c2cc([nH]c2)C(=O)N[C@H](CO)c3cccc(c3...</td>\n",
              "      <td>575065</td>\n",
              "      <td>1</td>\n",
              "    </tr>\n",
              "    <tr>\n",
              "      <th>4</th>\n",
              "      <td>Cc1cnc(nc1c2cc([nH]c2)C(=O)N[C@H](CO)c3cccc(c3...</td>\n",
              "      <td>575047</td>\n",
              "      <td>1</td>\n",
              "    </tr>\n",
              "  </tbody>\n",
              "</table>\n",
              "</div>\n",
              "    <div class=\"colab-df-buttons\">\n",
              "\n",
              "  <div class=\"colab-df-container\">\n",
              "    <button class=\"colab-df-convert\" onclick=\"convertToInteractive('df-dd36acc8-deee-4001-bc13-8b4357cc19da')\"\n",
              "            title=\"Convert this dataframe to an interactive table.\"\n",
              "            style=\"display:none;\">\n",
              "\n",
              "  <svg xmlns=\"http://www.w3.org/2000/svg\" height=\"24px\" viewBox=\"0 -960 960 960\">\n",
              "    <path d=\"M120-120v-720h720v720H120Zm60-500h600v-160H180v160Zm220 220h160v-160H400v160Zm0 220h160v-160H400v160ZM180-400h160v-160H180v160Zm440 0h160v-160H620v160ZM180-180h160v-160H180v160Zm440 0h160v-160H620v160Z\"/>\n",
              "  </svg>\n",
              "    </button>\n",
              "\n",
              "  <style>\n",
              "    .colab-df-container {\n",
              "      display:flex;\n",
              "      gap: 12px;\n",
              "    }\n",
              "\n",
              "    .colab-df-convert {\n",
              "      background-color: #E8F0FE;\n",
              "      border: none;\n",
              "      border-radius: 50%;\n",
              "      cursor: pointer;\n",
              "      display: none;\n",
              "      fill: #1967D2;\n",
              "      height: 32px;\n",
              "      padding: 0 0 0 0;\n",
              "      width: 32px;\n",
              "    }\n",
              "\n",
              "    .colab-df-convert:hover {\n",
              "      background-color: #E2EBFA;\n",
              "      box-shadow: 0px 1px 2px rgba(60, 64, 67, 0.3), 0px 1px 3px 1px rgba(60, 64, 67, 0.15);\n",
              "      fill: #174EA6;\n",
              "    }\n",
              "\n",
              "    .colab-df-buttons div {\n",
              "      margin-bottom: 4px;\n",
              "    }\n",
              "\n",
              "    [theme=dark] .colab-df-convert {\n",
              "      background-color: #3B4455;\n",
              "      fill: #D2E3FC;\n",
              "    }\n",
              "\n",
              "    [theme=dark] .colab-df-convert:hover {\n",
              "      background-color: #434B5C;\n",
              "      box-shadow: 0px 1px 3px 1px rgba(0, 0, 0, 0.15);\n",
              "      filter: drop-shadow(0px 1px 2px rgba(0, 0, 0, 0.3));\n",
              "      fill: #FFFFFF;\n",
              "    }\n",
              "  </style>\n",
              "\n",
              "    <script>\n",
              "      const buttonEl =\n",
              "        document.querySelector('#df-dd36acc8-deee-4001-bc13-8b4357cc19da button.colab-df-convert');\n",
              "      buttonEl.style.display =\n",
              "        google.colab.kernel.accessAllowed ? 'block' : 'none';\n",
              "\n",
              "      async function convertToInteractive(key) {\n",
              "        const element = document.querySelector('#df-dd36acc8-deee-4001-bc13-8b4357cc19da');\n",
              "        const dataTable =\n",
              "          await google.colab.kernel.invokeFunction('convertToInteractive',\n",
              "                                                    [key], {});\n",
              "        if (!dataTable) return;\n",
              "\n",
              "        const docLinkHtml = 'Like what you see? Visit the ' +\n",
              "          '<a target=\"_blank\" href=https://colab.research.google.com/notebooks/data_table.ipynb>data table notebook</a>'\n",
              "          + ' to learn more about interactive tables.';\n",
              "        element.innerHTML = '';\n",
              "        dataTable['output_type'] = 'display_data';\n",
              "        await google.colab.output.renderOutput(dataTable, element);\n",
              "        const docLink = document.createElement('div');\n",
              "        docLink.innerHTML = docLinkHtml;\n",
              "        element.appendChild(docLink);\n",
              "      }\n",
              "    </script>\n",
              "  </div>\n",
              "\n",
              "\n",
              "<div id=\"df-218c6979-5282-46f0-89e2-426b12b45154\">\n",
              "  <button class=\"colab-df-quickchart\" onclick=\"quickchart('df-218c6979-5282-46f0-89e2-426b12b45154')\"\n",
              "            title=\"Suggest charts.\"\n",
              "            style=\"display:none;\">\n",
              "\n",
              "<svg xmlns=\"http://www.w3.org/2000/svg\" height=\"24px\"viewBox=\"0 0 24 24\"\n",
              "     width=\"24px\">\n",
              "    <g>\n",
              "        <path d=\"M19 3H5c-1.1 0-2 .9-2 2v14c0 1.1.9 2 2 2h14c1.1 0 2-.9 2-2V5c0-1.1-.9-2-2-2zM9 17H7v-7h2v7zm4 0h-2V7h2v10zm4 0h-2v-4h2v4z\"/>\n",
              "    </g>\n",
              "</svg>\n",
              "  </button>\n",
              "\n",
              "<style>\n",
              "  .colab-df-quickchart {\n",
              "      --bg-color: #E8F0FE;\n",
              "      --fill-color: #1967D2;\n",
              "      --hover-bg-color: #E2EBFA;\n",
              "      --hover-fill-color: #174EA6;\n",
              "      --disabled-fill-color: #AAA;\n",
              "      --disabled-bg-color: #DDD;\n",
              "  }\n",
              "\n",
              "  [theme=dark] .colab-df-quickchart {\n",
              "      --bg-color: #3B4455;\n",
              "      --fill-color: #D2E3FC;\n",
              "      --hover-bg-color: #434B5C;\n",
              "      --hover-fill-color: #FFFFFF;\n",
              "      --disabled-bg-color: #3B4455;\n",
              "      --disabled-fill-color: #666;\n",
              "  }\n",
              "\n",
              "  .colab-df-quickchart {\n",
              "    background-color: var(--bg-color);\n",
              "    border: none;\n",
              "    border-radius: 50%;\n",
              "    cursor: pointer;\n",
              "    display: none;\n",
              "    fill: var(--fill-color);\n",
              "    height: 32px;\n",
              "    padding: 0;\n",
              "    width: 32px;\n",
              "  }\n",
              "\n",
              "  .colab-df-quickchart:hover {\n",
              "    background-color: var(--hover-bg-color);\n",
              "    box-shadow: 0 1px 2px rgba(60, 64, 67, 0.3), 0 1px 3px 1px rgba(60, 64, 67, 0.15);\n",
              "    fill: var(--button-hover-fill-color);\n",
              "  }\n",
              "\n",
              "  .colab-df-quickchart-complete:disabled,\n",
              "  .colab-df-quickchart-complete:disabled:hover {\n",
              "    background-color: var(--disabled-bg-color);\n",
              "    fill: var(--disabled-fill-color);\n",
              "    box-shadow: none;\n",
              "  }\n",
              "\n",
              "  .colab-df-spinner {\n",
              "    border: 2px solid var(--fill-color);\n",
              "    border-color: transparent;\n",
              "    border-bottom-color: var(--fill-color);\n",
              "    animation:\n",
              "      spin 1s steps(1) infinite;\n",
              "  }\n",
              "\n",
              "  @keyframes spin {\n",
              "    0% {\n",
              "      border-color: transparent;\n",
              "      border-bottom-color: var(--fill-color);\n",
              "      border-left-color: var(--fill-color);\n",
              "    }\n",
              "    20% {\n",
              "      border-color: transparent;\n",
              "      border-left-color: var(--fill-color);\n",
              "      border-top-color: var(--fill-color);\n",
              "    }\n",
              "    30% {\n",
              "      border-color: transparent;\n",
              "      border-left-color: var(--fill-color);\n",
              "      border-top-color: var(--fill-color);\n",
              "      border-right-color: var(--fill-color);\n",
              "    }\n",
              "    40% {\n",
              "      border-color: transparent;\n",
              "      border-right-color: var(--fill-color);\n",
              "      border-top-color: var(--fill-color);\n",
              "    }\n",
              "    60% {\n",
              "      border-color: transparent;\n",
              "      border-right-color: var(--fill-color);\n",
              "    }\n",
              "    80% {\n",
              "      border-color: transparent;\n",
              "      border-right-color: var(--fill-color);\n",
              "      border-bottom-color: var(--fill-color);\n",
              "    }\n",
              "    90% {\n",
              "      border-color: transparent;\n",
              "      border-bottom-color: var(--fill-color);\n",
              "    }\n",
              "  }\n",
              "</style>\n",
              "\n",
              "  <script>\n",
              "    async function quickchart(key) {\n",
              "      const quickchartButtonEl =\n",
              "        document.querySelector('#' + key + ' button');\n",
              "      quickchartButtonEl.disabled = true;  // To prevent multiple clicks.\n",
              "      quickchartButtonEl.classList.add('colab-df-spinner');\n",
              "      try {\n",
              "        const charts = await google.colab.kernel.invokeFunction(\n",
              "            'suggestCharts', [key], {});\n",
              "      } catch (error) {\n",
              "        console.error('Error during call to suggestCharts:', error);\n",
              "      }\n",
              "      quickchartButtonEl.classList.remove('colab-df-spinner');\n",
              "      quickchartButtonEl.classList.add('colab-df-quickchart-complete');\n",
              "    }\n",
              "    (() => {\n",
              "      let quickchartButtonEl =\n",
              "        document.querySelector('#df-218c6979-5282-46f0-89e2-426b12b45154 button');\n",
              "      quickchartButtonEl.style.display =\n",
              "        google.colab.kernel.accessAllowed ? 'block' : 'none';\n",
              "    })();\n",
              "  </script>\n",
              "</div>\n",
              "    </div>\n",
              "  </div>\n"
            ]
          },
          "metadata": {},
          "execution_count": 16
        }
      ],
      "source": [
        "df = pd.read_csv(\"active_data.csv\")\n",
        "print(df.shape)\n",
        "df.head()"
      ]
    },
    {
      "cell_type": "code",
      "source": [
        "print(f\"Number of active molecules : {df[df['is_active'] == 1].shape[0]}\")\n",
        "print(f\"Number of decoy molecules : {df[df['is_active'] == 0].shape[0]}\")"
      ],
      "metadata": {
        "colab": {
          "base_uri": "https://localhost:8080/"
        },
        "id": "f_B8bgTHy7-4",
        "outputId": "3810c40a-8bb4-4847-9285-436013600c7b"
      },
      "execution_count": 17,
      "outputs": [
        {
          "output_type": "stream",
          "name": "stdout",
          "text": [
            "Number of active molecules : 79\n",
            "Number of decoy molecules : 300\n"
          ]
        }
      ]
    },
    {
      "cell_type": "markdown",
      "source": [
        "2. From this dataframe, create a list of RDKit molecules.\n",
        "\n",
        "\n"
      ],
      "metadata": {
        "id": "1d5ZbqtmyLr4"
      }
    },
    {
      "cell_type": "code",
      "source": [
        "rdkit_molecules = [Chem.MolFromSmiles(mol) for mol in df[\"SMILES\"]]\n",
        "rdkit_molecules[0]"
      ],
      "metadata": {
        "colab": {
          "base_uri": "https://localhost:8080/",
          "height": 167
        },
        "id": "1cKDo0cOz_oC",
        "outputId": "4dceb74b-74f2-4a08-9c10-b9c84c878b48"
      },
      "execution_count": 18,
      "outputs": [
        {
          "output_type": "execute_result",
          "data": {
            "text/plain": [
              "<rdkit.Chem.rdchem.Mol at 0x7bd6d7aa0580>"
            ],
            "image/png": "[encoded data removed]"
          },
          "metadata": {},
          "execution_count": 18
        }
      ]
    },
    {
      "cell_type": "markdown",
      "source": [
        "3. Using the mol2graph(mol, y, smiles) function to convert the list of Rdkit molecules to a list of torch_geometric.data.Data objects. You should call this list as \"list_data\".\n",
        "\n"
      ],
      "metadata": {
        "id": "FK9vpfWMz8S-"
      }
    },
    {
      "cell_type": "code",
      "source": [
        "list_data = [mol2graph(mol, y, smiles) for mol, y, smiles in zip(rdkit_molecules,\n",
        "                                                                 df[\"is_active\"],\n",
        "                                                                 df[\"SMILES\"])]\n",
        "list_data[:5]"
      ],
      "metadata": {
        "colab": {
          "base_uri": "https://localhost:8080/"
        },
        "id": "Lz-f7r7e1EE8",
        "outputId": "49fa0edf-be54-4628-ffcb-1b06c08aca69"
      },
      "execution_count": 19,
      "outputs": [
        {
          "output_type": "execute_result",
          "data": {
            "text/plain": [
              "[Data(x=[39, 9], edge_index=[2, 86], edge_attr=[86, 3], y=1, smiles='Cn1ccnc1Sc2ccc(cc2Cl)Nc3c4cc(c(cc4ncc3C#N)OCCCN5CCOCC5)OC'),\n",
              " Data(x=[35, 9], edge_index=[2, 84], edge_attr=[84, 3], y=1, smiles='C[C@@]12[C@@H]([C@@H](CC(O1)n3c4ccccc4c5c3c6n2c7ccccc7c6c8c5C(=O)NC8)NC)OC'),\n",
              " Data(x=[37, 9], edge_index=[2, 82], edge_attr=[82, 3], y=1, smiles='Cc1cnc(nc1c2cc([nH]c2)C(=O)N[C@H](CO)c3cccc(c3)Cl)Nc4cccc5c4OC(O5)(F)F'),\n",
              " Data(x=[35, 9], edge_index=[2, 78], edge_attr=[78, 3], y=1, smiles='Cc1cnc(nc1c2cc([nH]c2)C(=O)N[C@H](CO)c3cccc(c3)Cl)Nc4cccc5c4OCO5'),\n",
              " Data(x=[35, 9], edge_index=[2, 78], edge_attr=[78, 3], y=1, smiles='Cc1cnc(nc1c2cc([nH]c2)C(=O)N[C@H](CO)c3cccc(c3)Cl)Nc4cccc5c4CCC5')]"
            ]
          },
          "metadata": {},
          "execution_count": 19
        }
      ]
    },
    {
      "cell_type": "markdown",
      "source": [
        "\n",
        "4. Plot the histogram to see the ratio between the  compounds active and inactive."
      ],
      "metadata": {
        "id": "PMcHpgQzz-SO"
      }
    },
    {
      "cell_type": "code",
      "source": [
        "plt.title(\"Ratio of Active vs Inactive\")\n",
        "plt.hist(df[\"is_active\"], edgecolor='k', alpha=0.7)\n",
        "plt.ylabel(\"Count\")\n",
        "plt.xticks([0, 1], [\"Inactive\", \"Active\"])\n",
        "\n",
        "plt.show()"
      ],
      "metadata": {
        "colab": {
          "base_uri": "https://localhost:8080/",
          "height": 452
        },
        "id": "5AEzS6C52kFP",
        "outputId": "78881f5f-a280-469b-f8d6-56394016dc50"
      },
      "execution_count": 20,
      "outputs": [
        {
          "output_type": "display_data",
          "data": {
            "text/plain": [
              "<Figure size 640x480 with 1 Axes>"
            ],
            "image/png": "[encoded data removed]"
          },
          "metadata": {}
        }
      ]
    },
    {
      "cell_type": "markdown",
      "metadata": {
        "id": "WAyN3trZ5kum"
      },
      "source": [
        "# EX 4. Create training set and test set\n",
        "In this exercise, we will prepare a training set and a test set.\n",
        "\n",
        "1. Shuffle the \"list_data\" list that you've created above.\n",
        "\n",
        "2. Take the first 300 molecules for \"train_dataset\" and the rest for \"test_dataset\".\n"
      ]
    },
    {
      "cell_type": "code",
      "execution_count": 21,
      "metadata": {
        "id": "N5BbkGyk5yBA"
      },
      "outputs": [],
      "source": [
        "import random\n",
        "\n",
        "random.seed(123)\n",
        "random.shuffle(list_data)\n",
        "\n",
        "train_dataset = list_data[:300]\n",
        "test_dataset = list_data[300:]"
      ]
    },
    {
      "cell_type": "markdown",
      "metadata": {
        "id": "lRfuRXtiIHvo"
      },
      "source": [
        "# Ex5: Create DataLoader\n",
        "\n",
        "Usually a graph classification task trains on a lot of graphs, and it will be very inefficient to use only one graph at a time when training the model.\n",
        "\n",
        "Pytorch Geometric opts for building a single giant graph from a list of graphs by stacking adjacency matrices in a diagonal fashion and node that target features are simply concatenated in the note dimension.\n",
        "\n",
        "A single giant graph is automatically built from a list of graphs with DataLoader.\n",
        "\n",
        "1. Create **train_loader** and **test_loader** from **train_dataset** and **test_dataset** by using the torch_geometric.data.DataLoader class.\n",
        "\n",
        "\n",
        "2. Get a batch from **train_loader**. Print out the number of graphs and data of this batch."
      ]
    },
    {
      "cell_type": "code",
      "execution_count": 22,
      "metadata": {
        "id": "EHiIeHZ761f_"
      },
      "outputs": [],
      "source": [
        "from torch_geometric.loader import DataLoader\n",
        "\n",
        "train_loader = DataLoader(train_dataset, batch_size=64, shuffle=True)\n",
        "test_loader = DataLoader(test_dataset, batch_size=64, shuffle= True)"
      ]
    },
    {
      "cell_type": "markdown",
      "metadata": {
        "id": "hWtYDyqY3SQx"
      },
      "source": [
        "# Ex 6: Graph Neural Network Layer\n",
        "\n",
        " Let's try to test a graph neural network layer. This kind of layer is available on the pytorch_geometric.nn module. This layer's similar to Linear Layer (Multi-layer Perception Network) in deep learning.\n",
        "\n",
        "\n",
        " 1. Create an instance of the torch_geometric.nn. GCNConv class. You need choose two parameters: number of features and number of out_channels.\n",
        "\n",
        "2. Apply it to the graph of acetic acid.\n"
      ]
    },
    {
      "cell_type": "code",
      "execution_count": 23,
      "metadata": {
        "id": "uwKtqlYI3Qw7"
      },
      "outputs": [],
      "source": [
        "smiles_acetic_acid = \"CC(O)=O\"\n",
        "mol_acetic_acid = Chem.MolFromSmiles(smiles_acetic_acid)\n",
        "graph_acetic_acid = mol2graph(mol, y = 1, smiles = smiles_acetic_acid)"
      ]
    },
    {
      "cell_type": "markdown",
      "source": [
        "3. What is the output ? its size ?"
      ],
      "metadata": {
        "id": "IT_e-Q0VX_PE"
      }
    },
    {
      "cell_type": "code",
      "execution_count": 24,
      "metadata": {
        "id": "9XoXr9LaOGzf",
        "colab": {
          "base_uri": "https://localhost:8080/"
        },
        "outputId": "f6747c7b-ecf9-4459-d25b-0c25a6ea372a"
      },
      "outputs": [
        {
          "output_type": "execute_result",
          "data": {
            "text/plain": [
              "torch.Size([4, 16])"
            ]
          },
          "metadata": {},
          "execution_count": 24
        }
      ],
      "source": [
        "from torch_geometric.nn import GCNConv\n",
        "\n",
        "gcn_conv1 = GCNConv(graph_acetic_acid.num_features, 16)\n",
        "out = gcn_conv1(graph_acetic_acid.x, graph_acetic_acid.edge_index)\n",
        "out.shape"
      ]
    },
    {
      "cell_type": "code",
      "source": [
        "out"
      ],
      "metadata": {
        "colab": {
          "base_uri": "https://localhost:8080/"
        },
        "id": "_l1L5zu6X5XM",
        "outputId": "8d6341fa-ee80-4eac-9c54-1eafed58b8ae"
      },
      "execution_count": 25,
      "outputs": [
        {
          "output_type": "execute_result",
          "data": {
            "text/plain": [
              "tensor([[-2.1242,  2.9393, -2.6614,  2.9859,  2.2915, -3.0532,  3.4834, -1.6642,\n",
              "          0.4606, -1.7105,  0.1410,  3.1241,  0.7580, -2.5192, -1.0400, -6.2286],\n",
              "        [-2.4629,  4.3648, -3.5715,  4.1528,  4.4067, -5.2199,  6.1683, -3.6393,\n",
              "          0.5308, -1.4666, -0.6468,  4.6589,  1.6100, -3.4432, -1.3574, -9.6882],\n",
              "        [-1.5694,  2.7817, -2.3182,  2.5537,  3.1149, -3.5508,  4.2748, -2.4556,\n",
              "          0.2939, -0.6574, -0.6122,  3.0913,  1.2472, -2.0964, -0.8760, -6.2433],\n",
              "        [-1.5691,  2.6225, -2.0710,  2.1756,  3.3290, -3.4872,  4.3982, -2.7012,\n",
              "          0.3243, -0.2995, -0.7980,  3.0415,  1.1683, -1.7433, -0.5448, -6.1267]],\n",
              "       grad_fn=<AddBackward0>)"
            ]
          },
          "metadata": {},
          "execution_count": 25
        }
      ]
    },
    {
      "cell_type": "markdown",
      "metadata": {
        "id": "gjTreX5M65sC"
      },
      "source": [
        "# EX 7: global_mean_pool Layer\n",
        "\n",
        "As we've seen in the ex 6, the output of a GNN layer is a tensor with size (35, 16). However, for the graph classification task, the label of graph is just a scaler number. So, we need to aggregate node embeddings into a unified graph embedding (known as readout layer) before training a final classifier. Let's try it to see what the output of a global_mean_pool layer is.\n",
        "\n",
        "\n",
        "1. Pass the **out_GCN_layer** variable to the global_mean_pool function. Store the result in a variable named **out_GMP_layer**\n",
        "\n",
        "2. Print out the shape of **out_GMP_layer**.\n",
        "\n"
      ]
    },
    {
      "cell_type": "code",
      "execution_count": 26,
      "metadata": {
        "id": "m0-2aMh483Rc",
        "colab": {
          "base_uri": "https://localhost:8080/"
        },
        "outputId": "6cdcc1a4-9a4f-4a1f-b549-20155f475aba"
      },
      "outputs": [
        {
          "output_type": "stream",
          "name": "stdout",
          "text": [
            "tensor([[ 0.0000,  0.0000,  0.0000,  0.0000,  0.0000,  0.0000,  0.0000,  0.0000,\n",
            "          0.0000,  0.0000,  0.0000,  0.0000,  0.0000,  0.0000,  0.0000,  0.0000],\n",
            "        [10.3701, 13.7040,  4.5140, -3.5947, -0.8151,  4.1309, -6.2299, -5.5064,\n",
            "          6.3332, -4.5744,  0.1037,  7.7591,  2.3911, 18.6590, -3.6980, -3.5208]],\n",
            "       grad_fn=<DivBackward0>)\n",
            "shape of output_GMP_layer  torch.Size([2, 16])\n"
          ]
        }
      ],
      "source": [
        "from torch_geometric.nn import GCNConv\n",
        "from torch_geometric.nn import global_mean_pool\n",
        "\n",
        "# GMP mean Global mean pool\n",
        "data_for_test_GMP_layer = DataLoader([graph_acetic_acid], batch_size=1 )\n",
        "conv_test = GCNConv(9, 16)\n",
        "\n",
        "\n",
        "for data in data_for_test_GMP_layer:\n",
        "  out_GCN_layer = conv_test(data.x, data.edge_index)\n",
        "  out_GMP_layer = global_mean_pool(out_GCN_layer, batch=torch.tensor([1]))\n",
        "\n",
        "print(out_GMP_layer)\n",
        "print(\"shape of output_GMP_layer \",  out_GMP_layer.shape)\n",
        "\n"
      ]
    },
    {
      "cell_type": "markdown",
      "metadata": {
        "id": "gVYBeplH7QEu"
      },
      "source": [
        "# EX 8: Building a graph network for graph classification task with Pytorch geometric\n",
        "\n",
        "\n",
        "In this exercise, we will create a network to classify if a molecule is active. This network consists of 4 layers:\n",
        "\n",
        "1. A graph convolution network layer conv1\n",
        "\n",
        "2. Another GCN layer conv2\n",
        "\n",
        "3. Another GCN layer conv3\n",
        "\n",
        "4. A torch_geometric.nn.global_mean_pool layer\n",
        "\n",
        "5. A linear layer\n",
        "\n",
        "Relu activation function is used after the two first layers.\n",
        "\n",
        "Complete the lines below (after #TODO) to finish the definition of this network.\n"
      ]
    },
    {
      "cell_type": "code",
      "execution_count": 27,
      "metadata": {
        "id": "wkU-LtEm43SI"
      },
      "outputs": [],
      "source": [
        "from torch_geometric.nn import GCNConv\n",
        "from torch_geometric.nn import global_mean_pool\n",
        "\n",
        "import torch\n",
        "import torch.nn.functional as F\n",
        "from torch.nn import Linear\n",
        "\n",
        "n_features = 9\n",
        "\n",
        "class Net(torch.nn.Module):\n",
        "    def __init__(self):\n",
        "        super(Net, self).__init__()\n",
        "        torch.manual_seed(12)\n",
        "        self.conv1 = GCNConv(n_features, 8)\n",
        "        self.conv2 = GCNConv(8, 16)\n",
        "        self.conv3 = GCNConv(16, 32)\n",
        "        self.pooling = global_mean_pool\n",
        "        self.linear = Linear(32, 2)\n",
        "\n",
        "\n",
        "    def forward(self, x, edge_index, batch):\n",
        "        # 1. Obtain node embeddings\n",
        "        # First GCN layer\n",
        "        x = self.conv1(x, edge_index)\n",
        "        x = F.relu(x)\n",
        "\n",
        "        # Second GCN layer\n",
        "        x = self.conv2(x, edge_index)\n",
        "        x = F.relu(x)\n",
        "\n",
        "        # Third GCN layer\n",
        "        x = self.conv3(x, edge_index)\n",
        "\n",
        "        #2. Readout layer\n",
        "        x = self.pooling(x, batch=batch)\n",
        "\n",
        "        # 3. Linear Layer\n",
        "        x = self.linear(x)\n",
        "\n",
        "        return x\n"
      ]
    },
    {
      "cell_type": "markdown",
      "metadata": {
        "id": "PucPIEd5UTWn"
      },
      "source": [
        "# Ex 9: Create network\n",
        "\n",
        "\n",
        "1. Create the network then print out the model and look at it's text representation\n",
        "\n",
        "2. Define an optimizer. You should use the torch.optim.Adam class.\n",
        "\n",
        "3. Define a loss function. You should use the CrossEntropyLoss class.\n",
        "\n"
      ]
    },
    {
      "cell_type": "code",
      "execution_count": 28,
      "metadata": {
        "id": "ll1q9TLdUagf"
      },
      "outputs": [],
      "source": [
        "from torch.nn import CrossEntropyLoss\n",
        "from torch.optim import Adam\n",
        "\n",
        "model = Net()\n",
        "criterion = CrossEntropyLoss()\n",
        "optimizer = Adam(model.parameters(), lr=0.001)"
      ]
    },
    {
      "cell_type": "code",
      "execution_count": 29,
      "metadata": {
        "id": "KX1DzW1ErYJO",
        "colab": {
          "base_uri": "https://localhost:8080/"
        },
        "outputId": "bf63438d-38d1-4d8e-cd1c-ba4ec58df4c8"
      },
      "outputs": [
        {
          "output_type": "stream",
          "name": "stdout",
          "text": [
            "Net(\n",
            "  (conv1): GCNConv(9, 8)\n",
            "  (conv2): GCNConv(8, 16)\n",
            "  (conv3): GCNConv(16, 32)\n",
            "  (linear): Linear(in_features=32, out_features=2, bias=True)\n",
            ")\n"
          ]
        }
      ],
      "source": [
        "print( model)"
      ]
    },
    {
      "cell_type": "markdown",
      "metadata": {
        "id": "ZhsGNksI7zVa"
      },
      "source": [
        "# Ex 10: Train model for an epoch\n",
        "\n",
        "Write a function named **train()** that allows us to train a model for an epoch.\n",
        "\n",
        "The tasks that the function should execute:\n",
        "\n",
        "\n",
        "0. Iterate in batches over the train_loader\n",
        "\n",
        "1. Perform a single forward pass\n",
        "\n",
        "2. Compute the loss\n",
        "\n",
        "3. Derive the gradient\n",
        "\n",
        "4. Update parameters\n",
        "\n",
        "5. Clean gradients\n"
      ]
    },
    {
      "cell_type": "code",
      "execution_count": 30,
      "metadata": {
        "id": "xpjXAr8T7qFd"
      },
      "outputs": [],
      "source": [
        "def train(train_loader):\n",
        "    model.train()\n",
        "\n",
        "    total_loss = 0\n",
        "    for data in train_loader:\n",
        "         #1.Forward pass\n",
        "         out = model.forward(data.x, data.edge_index, batch=data.batch)\n",
        "         # 2. Compute the loss\n",
        "         loss = criterion(out, data.y.long())\n",
        "         # 3. Calculate the gradient\n",
        "         grad = optimizer.zero_grad()\n",
        "         #4. Update the parameters (weights)\n",
        "         loss.backward()\n",
        "         #5. Clean gradients\n",
        "         optimizer.step()\n",
        "         total_loss += loss.item()\n",
        "\n",
        "    return total_loss / len(train_loader)\n"
      ]
    },
    {
      "cell_type": "markdown",
      "metadata": {
        "id": "9k4VvLPX8sCA"
      },
      "source": [
        "# Ex 11: Test\n",
        "\n",
        "Similar to Ex9, write a function named **tes(loader)** that allows to compute the accuracy of the model on dataset \"loader\".\n",
        "\n",
        "The steps to calculate the accuracy of a classification model:\n",
        "\n",
        "1. Iterate in batches over the train_loader.\n",
        "\n",
        "2. Compute the output of the model\n",
        "\n",
        "3. Find the class with highest probability\n",
        "\n",
        "4. Count ground-truth labels\n",
        "\n",
        "5. Compute the accuracy\n",
        "\n",
        "\n",
        "Complete the lines (with ?????)  to finish the definition of this network."
      ]
    },
    {
      "cell_type": "code",
      "execution_count": 31,
      "metadata": {
        "id": "Hqf4QsUg8VUE"
      },
      "outputs": [],
      "source": [
        "def test(loader):\n",
        "     model.eval()\n",
        "\n",
        "     correct = 0\n",
        "     for data in loader:\n",
        "         # output of the model\n",
        "         out =  model.forward(data.x, data.edge_index, batch=data.batch)\n",
        "         loss = criterion(out, data.y.long())\n",
        "         # Use the class with highest probability\n",
        "         pred = out.argmax(dim=1)\n",
        "\n",
        "         # Check against ground-truth labels\n",
        "         correct += int((pred == data.y).sum())\n",
        "     correct /= len(loader.dataset)\n",
        "     return correct\n",
        "\n"
      ]
    },
    {
      "cell_type": "markdown",
      "metadata": {
        "id": "-4gcODV_8vTs"
      },
      "source": [
        "# Ex 12: Training model\n",
        "\n",
        "Training model for 100 epoches.\n",
        "\n",
        "Calculate training accuracy for train_loader and test_loader by using the **train()** function and the **test(loader)** function\n"
      ]
    },
    {
      "cell_type": "code",
      "execution_count": 32,
      "metadata": {
        "id": "Si4ay8qM8Zl5",
        "colab": {
          "base_uri": "https://localhost:8080/"
        },
        "outputId": "d4bc636e-cbbd-4993-9c3e-2083df3a2d0b"
      },
      "outputs": [
        {
          "output_type": "stream",
          "name": "stdout",
          "text": [
            "Epoch 0, Train Loss: 1.0952509045600891 Test Accuracy: 0.24050632911392406\n",
            "\n",
            "Epoch 10, Train Loss: 0.4947666943073273 Test Accuracy: 0.759493670886076\n",
            "\n",
            "Epoch 20, Train Loss: 0.4867910325527191 Test Accuracy: 0.759493670886076\n",
            "\n",
            "Epoch 30, Train Loss: 0.4833655595779419 Test Accuracy: 0.759493670886076\n",
            "\n",
            "Epoch 40, Train Loss: 0.49213971495628356 Test Accuracy: 0.759493670886076\n",
            "\n",
            "Epoch 50, Train Loss: 0.48317691683769226 Test Accuracy: 0.759493670886076\n",
            "\n",
            "Epoch 60, Train Loss: 0.4775910198688507 Test Accuracy: 0.759493670886076\n",
            "\n",
            "Epoch 70, Train Loss: 0.48318772315979003 Test Accuracy: 0.759493670886076\n",
            "\n",
            "Epoch 80, Train Loss: 0.47663965821266174 Test Accuracy: 0.759493670886076\n",
            "\n",
            "Epoch 90, Train Loss: 0.4787526249885559 Test Accuracy: 0.759493670886076\n",
            "\n",
            "Epoch 100, Train Loss: 0.47254533767700196 Test Accuracy: 0.759493670886076\n",
            "\n",
            "Epoch 110, Train Loss: 0.466055303812027 Test Accuracy: 0.759493670886076\n",
            "\n",
            "Epoch 120, Train Loss: 0.4372756004333496 Test Accuracy: 0.759493670886076\n",
            "\n",
            "Epoch 130, Train Loss: 0.3865078568458557 Test Accuracy: 0.759493670886076\n",
            "\n",
            "Epoch 140, Train Loss: 0.34690778255462645 Test Accuracy: 0.7721518987341772\n",
            "\n",
            "Epoch 150, Train Loss: 0.3171237349510193 Test Accuracy: 0.810126582278481\n",
            "\n",
            "Epoch 160, Train Loss: 0.2956268012523651 Test Accuracy: 0.8607594936708861\n",
            "\n",
            "Epoch 170, Train Loss: 0.2925026625394821 Test Accuracy: 0.8607594936708861\n",
            "\n",
            "Epoch 180, Train Loss: 0.29834223091602324 Test Accuracy: 0.8607594936708861\n",
            "\n",
            "Epoch 190, Train Loss: 0.2961246520280838 Test Accuracy: 0.8607594936708861\n",
            "\n",
            "Epoch 200, Train Loss: 0.27645541429519654 Test Accuracy: 0.8860759493670886\n",
            "\n",
            "Epoch 210, Train Loss: 0.2835441082715988 Test Accuracy: 0.8734177215189873\n",
            "\n",
            "Epoch 220, Train Loss: 0.28387301564216616 Test Accuracy: 0.8607594936708861\n",
            "\n",
            "Epoch 230, Train Loss: 0.2739557087421417 Test Accuracy: 0.8734177215189873\n",
            "\n",
            "Epoch 240, Train Loss: 0.2782402575016022 Test Accuracy: 0.8734177215189873\n",
            "\n",
            "Epoch 250, Train Loss: 0.28092149198055266 Test Accuracy: 0.8734177215189873\n",
            "\n",
            "Epoch 260, Train Loss: 0.2912449538707733 Test Accuracy: 0.8734177215189873\n",
            "\n",
            "Epoch 270, Train Loss: 0.28265767097473143 Test Accuracy: 0.8734177215189873\n",
            "\n",
            "Epoch 280, Train Loss: 0.2804012507200241 Test Accuracy: 0.8734177215189873\n",
            "\n",
            "Epoch 290, Train Loss: 0.27088636457920073 Test Accuracy: 0.8734177215189873\n",
            "\n"
          ]
        }
      ],
      "source": [
        "EPOCHS = 300\n",
        "\n",
        "train_loss_list = []\n",
        "\n",
        "for epoch in range(EPOCHS):\n",
        "    train_loss = train(train_loader)\n",
        "\n",
        "    #Idealy we should create a validation dataset\n",
        "    test_accuracy= test(test_loader)\n",
        "\n",
        "    train_loss_list.append(train_loss)\n",
        "\n",
        "    if (epoch % 10 == 0):\n",
        "      print(f'Epoch {epoch}, Train Loss: {train_loss} Test Accuracy: {test_accuracy}\\n')"
      ]
    },
    {
      "cell_type": "code",
      "execution_count": 33,
      "metadata": {
        "id": "TizuAt8s1hIV",
        "colab": {
          "base_uri": "https://localhost:8080/",
          "height": 490
        },
        "outputId": "a4961624-7bc5-4379-f1f0-ffa9e1203602"
      },
      "outputs": [
        {
          "output_type": "execute_result",
          "data": {
            "text/plain": [
              "Text(0, 0.5, 'loss')"
            ]
          },
          "metadata": {},
          "execution_count": 33
        },
        {
          "output_type": "display_data",
          "data": {
            "text/plain": [
              "<Figure size 640x480 with 1 Axes>"
            ],
            "image/png": "[encoded data removed]"
          },
          "metadata": {}
        }
      ],
      "source": [
        "plt.title(\"Historique\")\n",
        "plt.plot(train_loss_list)\n",
        "plt.xlabel(\"epochs\")\n",
        "plt.ylabel(\"loss\")"
      ]
    }
  ],
  "metadata": {
    "colab": {
      "provenance": [],
      "include_colab_link": true
    },
    "kernelspec": {
      "display_name": "Python 3 (ipykernel)",
      "language": "python",
      "name": "python3"
    },
    "language_info": {
      "codemirror_mode": {
        "name": "ipython",
        "version": 3
      },
      "file_extension": ".py",
      "mimetype": "text/x-python",
      "name": "python",
      "nbconvert_exporter": "python",
      "pygments_lexer": "ipython3",
      "version": "3.9.9"
    }
  },
  "nbformat": 4,
  "nbformat_minor": 0
}